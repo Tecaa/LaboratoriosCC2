{
 "cells": [
  {
   "cell_type": "markdown",
   "metadata": {},
   "source": [
    "<center>\n",
    "    <h1> ILI-286 - Laboratorio #5 </h1>\n",
    "    <h2> Sistemas de reacción-difusión </h2>\n",
    "</center>\n",
    "\n",
    "\n",
    "| Nombre | Rol | Email |\n",
    "| :----- | :-- | :---- |\n",
    "| Marco Rojas | 201073005-0 | marco.rojaso@alumnos.usm.cl |\n",
    "| Hernán Vargas | 201073009-3 | hernan.vargas@alumnos.usm.cl |"
   ]
  },
  {
   "cell_type": "markdown",
   "metadata": {},
   "source": [
    "## Tabla de contenidos\n",
    "* [Introducción](#intro)\n",
    "* [Desarrollo y analisís de resultados:](#desarrollo)\n",
    "  1. [Reacción-Difusión y formación de patrones de Turing](#se1)\n",
    "  2. [Diferencias Finitas en 2D](#se2)\n",
    "  3. [Método de las líneas](#se3)\n",
    "  4. [Simulaciones](#se4)\n",
    "* [Conclusiones](#Conclusiones)\n",
    "* [Referencias](#Referencias)\n",
    "* [Anexos](#Anexos) $\\leftarrow$ Comenzar ejecución aquí\n",
    "  * [Métodos implementados](#an1)\n",
    "  * [Utilidades](#an5)"
   ]
  },
  {
   "cell_type": "markdown",
   "metadata": {},
   "source": [
    "<div id='intro' />\n",
    "## Introducción\n",
    "En este laboratorio se analizará el sistema de reacción-difusión de Alan Turing que propone un modelo\n",
    "para la formación de pigmentación en animales, particularmente se trabajará con el modelo propuesto por \n",
    "FitzHugh-Nagumo donde interactuan dos ecuaciones diferenciales tanto espacialmente como en el tiempo.\n",
    "Se resolverá el problema por medio de diferencias finitas (tanto con discretizaciones backward como forward)\n",
    "y por el método de lineas, con estos resultados se estimará la incidencia de los parametros que afectan al\n",
    "sistema y los límites propios de los algoritmos."
   ]
  },
  {
   "cell_type": "markdown",
   "metadata": {},
   "source": [
    "<div id='desarrollo'/>\n",
    "## Desarrollo y analisís de resultados"
   ]
  },
  {
   "cell_type": "markdown",
   "metadata": {},
   "source": [
    "<div id='se1'/>\n",
    "## 1.- Reacción-Difusión y formación de patrones de Turing"
   ]
  },
  {
   "cell_type": "markdown",
   "metadata": {},
   "source": [
    "El sistema queda definido por:\n",
    "\\begin{align}\n",
    "    \\frac{\\partial u}{\\partial t} &= \n",
    "            D_u \\, (\\frac{\\partial^2 u}{\\partial x^2} + \\frac{\\partial^2 u}{\\partial y^2}) +\n",
    "            \\lambda \\, u - u^3 - \\kappa - \\sigma v \\\\\n",
    "    \\tau \\, \\frac{\\partial v}{\\partial t} &= \n",
    "            D_v \\, (\\frac{\\partial^2 v}{\\partial x^2} + \n",
    "            \\frac{\\partial^2 v}{\\partial y^2}) + u - v\n",
    "\\end{align}\n",
    "Se trabajará con condiciones de borde periodicas."
   ]
  },
  {
   "cell_type": "markdown",
   "metadata": {
    "collapsed": false
   },
   "source": [
    "<div id='se2'/>\n",
    "## 2.- Diferencias finitas en 2D"
   ]
  },
  {
   "cell_type": "markdown",
   "metadata": {},
   "source": [
    "### a) Propuesta de discretización \"Forward\"\n",
    "Utilizando las siguientes aproximaciones:\n",
    "\\begin{align}\n",
    "    \\frac{\\partial^2 u}{\\partial x^2} &= \\frac{u(x+\\Delta x, y, t)-2u(x,y,t)+u(x-\\Delta x,y,t)}{\\Delta x^2}\\\\\n",
    "    \\frac{\\partial^2 u}{\\partial y^2} &= \\frac{u(x, y+\\Delta y, t)-2u(x,y,t)+u(x,y-\\Delta y,t)}{\\Delta y^2}\\\\\n",
    "    \\frac{\\partial u}{\\partial t} &= \\frac{u(x,y,t+\\Delta t) - u(x,y,t)}{\\Delta t}\n",
    "\\end{align}\n",
    "\n",
    "Análogo para $v(x,y,t)$."
   ]
  },
  {
   "cell_type": "markdown",
   "metadata": {},
   "source": [
    "Las ecuaciones quedan como:\n",
    "\\begin{align}\n",
    "    \\frac{u(x,y,t+\\Delta t) - u(x,y,t)}{\\Delta t} =& \\,\n",
    "        D_u \\, \\left(\n",
    "            \\frac{u(x+\\Delta x, y, t)-2u(x,y,t)+u(x-\\Delta x,y,t)}{\\Delta x^2} + \n",
    "            \\frac{u(x, y+\\Delta y, t)-2u(x,y,t)+u(x,y-\\Delta y,t)}{\\Delta y^2} \n",
    "        \\right)\\\\\n",
    "        &+ \\lambda \\, u(x,y,t) - u(x,y,t)^3 - \\kappa - \\sigma v(x,y,t)\\\\\n",
    "    &\\\\\n",
    "    \\tau \\, \\frac{v(x,y,t+\\Delta t) - v(x,y,t)}{\\Delta t} =&\\,\n",
    "        D_v \\, \\left(\n",
    "            \\frac{v(x+\\Delta x,y,t)-2v(x,y,t)+v(x-\\Delta x,y,t)}{\\Delta x^2} + \n",
    "            \\frac{v(x,y+\\Delta y,t)-2v(x,y,t)+v(x,y-\\Delta y,t)}{\\Delta y^2} \n",
    "        \\right)\\\\\n",
    "        &+ u(x,y,t) - v(x,y,t)\n",
    "\\end{align}"
   ]
  },
  {
   "cell_type": "markdown",
   "metadata": {},
   "source": [
    "Ahora si reemplazamos $w_{i,j,k} = u(x,y,t)$ y $ b_{i,j,k} = v(x,y,t) $, donde:\n",
    "\\begin{matrix}\n",
    "    x= x_0+i \\,\\Delta x &\\Longrightarrow &i= \\frac{x-x_0}{\\Delta x}\\\\\n",
    "    y= y_0+j \\,\\Delta y &\\Longrightarrow &j= \\frac{y-y_0}{\\Delta y}\\\\\n",
    "    t= t_0+k \\,\\Delta t &\\Longrightarrow &k= \\frac{t-t_0}{\\Delta t}\n",
    "\\end{matrix}"
   ]
  },
  {
   "cell_type": "markdown",
   "metadata": {},
   "source": [
    "Finalmente, obtenemos:\n",
    "\n",
    "\\begin{align}\n",
    "    \\frac{w_{i,j,k+1} - w_{i,j,k}}{\\Delta t} &=\n",
    "        D_u  \\, \\left(\n",
    "            \\frac{w_{i+1, j, k}-2w_{i,j,k}+w_{i-1,j,k}}{\\Delta x^2} +\n",
    "            \\frac{w_{i, j+1, k}-2w_{i,j,k}+w_{i,j-1,k}}{\\Delta y^2} \\right)\n",
    "        + \\lambda \\, w_{i,j,k} - w_{i,j,k}^3 - \\kappa - \\sigma b_{i,j,k} \\\\\n",
    "    \\tau \\, \\frac{b_{i,j,k+1} - b_{i,j,k}}{\\Delta t} &=\n",
    "        D_v \\, \\left(\n",
    "            \\frac{b_{i+1,j,k}-2b_{i,j,k}+b_{i-1,j,k}}{\\Delta x^2} + \n",
    "            \\frac{b_{i,j+1,k}-2b_{i,j,k}+b_{i,j-1,k}}{\\Delta y^2} \\right)\n",
    "        + w_{i,j,k} - b_{i,j,k}\n",
    "\\end{align}"
   ]
  },
  {
   "cell_type": "markdown",
   "metadata": {},
   "source": [
    "Despejando para el tiempo $k+1$ nos queda:\n",
    "\\begin{align}\n",
    "    w_{i,j,k+1} &=\n",
    "        \\Delta t \\left(D_u  \\, \\left(\n",
    "            \\frac{w_{i+1, j, k}-2w_{i,j,k}+w_{i-1,j,k}}{\\Delta x^2} + \n",
    "            \\frac{w_{i, j+1, k}-2w_{i,j,k}+w_{i,j-1,k}}{\\Delta y^2} \\right)\n",
    "        + \\lambda \\, w_{i,j,k} - w_{i,j,k}^3 - \\kappa - \\sigma b_{i,j,k} \\right ) + w_{i,j,k} \\\\\n",
    "    b_{i,j,k+1} &= \n",
    "        \\frac{\\Delta t}{\\tau} \\left(D_v \\, \\left(\n",
    "            \\frac{b_{i+1,j,k}-2b_{i,j,k}+b_{i-1,j,k}}{\\Delta x^2} +\n",
    "            \\frac{b_{i,j+1,k}-2b_{i,j,k}+b_{i,j-1,k}}{\\Delta y^2} \\right)\n",
    "        + w_{i,j,k} - b_{i,j,k} \\right ) + b_{i,j,k}\n",
    "\\end{align}\n",
    "\n",
    "El error de aproximación es de: $O(\\Delta t) + O(\\Delta x^2) + O(\\Delta y^2)$"
   ]
  },
  {
   "cell_type": "markdown",
   "metadata": {},
   "source": [
    "### b) Implementación de esquema explícito \"Forward\""
   ]
  },
  {
   "cell_type": "code",
   "execution_count": null,
   "metadata": {
    "collapsed": false,
    "scrolled": true
   },
   "outputs": [],
   "source": [
    "def solve_forward(u0, v0, dx, dy, dt, Tf, Du, Dv, lamb, tau, sigma, kappa):\n",
    "    Ny = u0.shape[0];\n",
    "    Nx = u0.shape[1];\n",
    "    Nt = (int)(np.ceil(Tf/dt))+1;\n",
    "    w = np.zeros([Nt, Nx, Ny])\n",
    "    b = np.zeros([Nt, Nx, Ny])\n",
    "    w[0,:,:] = u0;\n",
    "    b[0,:,:] = v0;\n",
    "    for k in range (Nt-1):\n",
    "        u_xx = (np.roll(w[k,:,:], 1, axis=1) - 2 * w[k,:,:] + np.roll(w[k,:,:], -1, axis=1))/dx**2;\n",
    "        u_yy = (np.roll(w[k,:,:], 1, axis=0) - 2 * w[k,:,:] + np.roll(w[k,:,:], -1, axis=0))/dy**2;\n",
    "        u_laplaciano = u_xx + u_yy;\n",
    "        \n",
    "        v_xx = (np.roll(b[k, :, :], 1, axis=1) - 2 * b[k,:,:] + np.roll(b[k,:,:], -1, axis=1))/dx**2;\n",
    "        v_yy = (np.roll(b[k, :, :], 1, axis=0) - 2 * b[k,:,:] + np.roll(b[k,:,:], -1, axis=0))/dy**2;\n",
    "        v_laplaciano = v_xx + v_yy\n",
    "        \n",
    "        w[k+1,:,:] = dt * (Du * u_laplaciano + lamb * w[k,:,:] - np.power(w[k,:,:],3) - kappa - sigma * b[k,:,:]) + w[k,:,:];\n",
    "        \n",
    "        b[k+1,:,:] = (dt/tau) * (Dv * v_laplaciano + w[k,:,:] - b[k,:,:]) + b[k,:,:];\n",
    "    return w;"
   ]
  },
  {
   "cell_type": "markdown",
   "metadata": {},
   "source": [
    "### c) Propuesta de discretización \"Backward\"\n",
    "Aproximaciones:\n",
    "\\begin{align}\n",
    "    \\frac{\\partial^2 u}{\\partial x^2} &= \\frac{u(x+\\Delta x, y, t)-2u(x,y,t)+u(x-\\Delta x,y,t)}{\\Delta x^2}\\\\\n",
    "    \\frac{\\partial^2 u}{\\partial y^2} &= \\frac{u(x, y+\\Delta y, t)-2u(x,y,t)+u(x,y-\\Delta y,t)}{\\Delta y^2}\\\\\n",
    "    \\frac{\\partial u}{\\partial t} &= \\frac{u(x,y,t) - u(x,y,t-\\Delta t)}{\\Delta t}\n",
    "\\end{align}\n",
    "\n",
    "Análogo para $v(x,y,t)$."
   ]
  },
  {
   "cell_type": "markdown",
   "metadata": {},
   "source": [
    "Las ecuaciones quedan como:\n",
    "\\begin{align}\n",
    "    \\frac{u(x,y,t) - u(x,y,t - \\Delta t)}{\\Delta t} =&\\,\n",
    "        D_u \\, \\left(\n",
    "            \\frac{u(x+\\Delta x, y, t)-2u(x,y,t)+u(x-\\Delta x,y,t)}{\\Delta x^2} + \n",
    "            \\frac{u(x, y+\\Delta y, t)-2u(x,y,t)+u(x,y-\\Delta y,t)}{\\Delta y^2} \\right)\\\\\n",
    "        &+ \\lambda \\, u(x,y,t) - u(x,y,t)^3 - \\kappa - \\sigma v(x,y,t)\\\\\n",
    "        &\\\\\n",
    "    \\tau \\, \\frac{v(x,y,t) - v(x,y,t-\\Delta t)}{\\Delta t} =&\\,\n",
    "        D_v \\, \\left(\n",
    "            \\frac{v(x+\\Delta x,y,t)-2v(x,y,t)+v(x-\\Delta x,y,t)}{\\Delta x^2} +\n",
    "            \\frac{v(x,y+\\Delta y,t)-2v(x,y,t)+v(x,y-\\Delta y,t)}{\\Delta y^2} \\right)\\\\\n",
    "        &+ u(x,y,t) - v(x,y,t)\n",
    "\\end{align}"
   ]
  },
  {
   "cell_type": "markdown",
   "metadata": {},
   "source": [
    "Ahora si reemplazamos $w_{i,j,k} = u(x,y,t)$ y $ b_{i,j,k} = v(x,y,t) $, donde:\n",
    "\\begin{matrix}\n",
    "    x= x_0+i \\,\\Delta x &\\Longrightarrow &i= \\frac{x-x_0}{\\Delta x}\\\\\n",
    "    y= y_0+j \\,\\Delta y &\\Longrightarrow &j= \\frac{y-y_0}{\\Delta y}\\\\\n",
    "    t= t_0+k \\,\\Delta t &\\Longrightarrow &k= \\frac{t-t_0}{\\Delta t}\n",
    "\\end{matrix}"
   ]
  },
  {
   "cell_type": "markdown",
   "metadata": {},
   "source": [
    "Finalmente, obtenemos:\n",
    "\\begin{align}\n",
    "    \\frac{w_{i,j,k} - w_{i,j,k-1}}{\\Delta t} &=\n",
    "        D_u  \\, \\left(\n",
    "            \\frac{w_{i+1, j, k}-2w_{i,j,k}+w_{i-1,j,k}}{\\Delta x^2} +\n",
    "            \\frac{w_{i, j+1, k}-2w_{i,j,k}+w_{i,j-1,k}}{\\Delta y^2} \\right)\n",
    "        + \\lambda \\, w_{i,j,k} - w_{i,j,k}^3 - \\kappa - \\sigma b_{i,j,k}\\\\\n",
    "    \\tau \\, \\frac{b_{i,j,k} - b_{i,j,k-1}}{\\Delta t} &=\n",
    "        D_v \\, \\left(\n",
    "            \\frac{b_{i+1,j,k}-2b_{i,j,k}+b_{i-1,j,k}}{\\Delta x^2} + \n",
    "            \\frac{b_{i,j+1,k}-2b_{i,j,k}+b_{i,j-1,k}}{\\Delta y^2} \\right)\n",
    "        + w_{i,j,k} - b_{i,j,k}\n",
    "\\end{align}"
   ]
  },
  {
   "cell_type": "markdown",
   "metadata": {},
   "source": [
    "Cambiando $k$ por $k+1$:\n",
    "\\begin{align}\n",
    "    \\frac{w_{i,j,k+1} - w_{i,j,k}}{\\Delta t} &=\n",
    "        D_u  \\, \\left(\n",
    "            \\frac{w_{i+1, j, k+1}-2w_{i,j,k+1}+w_{i-1,j,k+1}}{\\Delta x^2} +\n",
    "            \\frac{w_{i, j+1, k+1}-2w_{i,j,k+1}+w_{i,j-1,k+1}}{\\Delta y^2} \\right)\n",
    "        + \\lambda \\, w_{i,j,k+1} - w_{i,j,k+1}^3 - \\kappa - \\sigma b_{i,j,k+1}\\\\\n",
    "    \\tau \\, \\frac{b_{i,j,k+1} - b_{i,j,k}}{\\Delta t} &=\n",
    "        D_v \\, \\left(\n",
    "            \\frac{b_{i+1,j,k+1}-2b_{i,j,k+1}+b_{i-1,j,k+1}}{\\Delta x^2} +\n",
    "            \\frac{b_{i,j+1,k+1}-2b_{i,j,k+1}+b_{i,j-1,k+1}}{\\Delta y^2} \\right)\n",
    "        + w_{i,j,k+1} - b_{i,j,k+1}\n",
    "\\end{align}        "
   ]
  },
  {
   "cell_type": "markdown",
   "metadata": {},
   "source": [
    "Despejando para el tiempo $k+1$:\n",
    "\n",
    "\\begin{align}\n",
    "    w_{i,j,k} &= \n",
    "        w_{i,j,k+1} - \\Delta t \\left ( D_u  \\, \\left(\n",
    "            \\frac{w_{i+1, j, k+1}-2w_{i,j,k+1}+w_{i-1,j,k+1}}{\\Delta x^2} +\n",
    "            \\frac{w_{i, j+1, k+1}-2w_{i,j,k+1}+w_{i,j-1,k+1}}{\\Delta y^2} \\right)\n",
    "        + \\lambda \\, w_{i,j,k+1} - w_{i,j,k+1}^3 - \\kappa - \\sigma b_{i,j,k+1} \\right )\\\\\n",
    "    b_{i,j,k} &= \n",
    "        b_{i,j,k+1} - \\frac{\\Delta t}{\\tau} \\left( D_v \\, \\left(\n",
    "            \\frac{b_{i+1,j,k+1}-2b_{i,j,k+1}+b_{i-1,j,k+1}}{\\Delta x^2} +\n",
    "            \\frac{b_{i,j+1,k+1}-2b_{i,j,k+1}+b_{i,j-1,k+1}}{\\Delta y^2} \\right)\n",
    "        + w_{i,j,k+1} - b_{i,j,k+1} \\right )\n",
    "\\end{align}"
   ]
  },
  {
   "cell_type": "markdown",
   "metadata": {},
   "source": [
    "Agrupando incógnitas en la primera ecuación\n",
    "\\begin{align}\n",
    "    w_{i,j,k} =&\\,\n",
    "        w_{i,j,k+1} - \\frac{\\Delta t \\, D_u \\, w_{i+1, j, k+1}}{\\Delta x^2} + \n",
    "        2\\frac{\\Delta t \\, D_u \\, w_{i,j,k+1}}{\\Delta x^2} - \n",
    "        \\frac{\\Delta t \\, D_u \\, w_{i-1,j,k+1}}{\\Delta x^2} - \n",
    "        \\frac{\\Delta t \\, D_u \\, w_{i, j+1, k+1}}{\\Delta y^2} +\n",
    "        2 \\frac{\\Delta t \\, D_u \\, w_{i,j,k+1}}{\\Delta y^2} -\n",
    "        \\frac{\\Delta t \\, D_u \\, w_{i,j-1,k+1}}{\\Delta y^2}\\\\\n",
    "        &- \\Delta t \\, \\lambda \\, w_{i,j,k+1} + \\Delta t \\, w_{i,j,k+1}^3 + \n",
    "        \\Delta t \\, \\kappa + \\Delta t \\, \\sigma b_{i,j,k+1}\\\\\n",
    "    &\\\\\n",
    "     w_{i,j,k} - \\Delta t \\, \\kappa =&\\,\n",
    "         (1+ 2\\frac{\\Delta t \\, D_u}{\\Delta x^2} + \n",
    "         2 \\frac{\\Delta t \\, D_u}{\\Delta y^2 } - \n",
    "         \\Delta t \\, \\lambda + \\Delta t \\, w_{i,j,k+1}^2) \\, w_{i,j,k+1} -\n",
    "         \\frac{\\Delta t \\, D_u \\, w_{i+1, j, k+1}}{\\Delta x^2} -\n",
    "         \\frac{\\Delta t \\, D_u \\, w_{i-1,j,k+1}}{\\Delta x^2} -\n",
    "         \\frac{\\Delta t \\, D_u \\, w_{i, j+1, k+1}}{\\Delta y^2}\n",
    "         - \\frac{\\Delta t \\, D_u \\, w_{i,j-1,k+1}}{\\Delta y^2} \\\\\n",
    "         &+ \\Delta t \\, \\sigma b_{i,j,k+1}\\\\\n",
    "\\end{align}"
   ]
  },
  {
   "cell_type": "markdown",
   "metadata": {},
   "source": [
    "Cambiando $ \\delta_u = \\Delta t \\, D_u $:\n",
    "\n",
    "$$ (1+ 2\\frac{\\delta_u}{\\Delta x^2} + 2 \\frac{\\delta_u}{\\Delta y^2 } - \\frac{\\delta_u}{D_u}  \\, \\lambda + \\frac{\\delta_u}{D_u} \\, w_{i,j,k+1}^2) \\, w_{i,j,k+1} - \\frac{\\delta_u \\, w_{i+1, j, k+1}}{\\Delta x^2} - \\frac{\\delta_u \\, w_{i-1,j,k+1}}{\\Delta x^2} - \\frac{\\delta_u \\, w_{i, j+1, k+1}}{\\Delta y^2} - \\frac{\\delta_u \\, w_{i,j-1,k+1}}{\\Delta y^2} + \\frac{\\delta_u}{D_u} \\, \\sigma b_{i,j,k+1} = w_{i,j,k} - \\frac{\\delta_u}{D_u} \\, \\kappa $$\n"
   ]
  },
  {
   "cell_type": "markdown",
   "metadata": {},
   "source": [
    "Agrupando incógnitas en la segunda ecuación\n",
    "\\begin{align}\n",
    "     b_{i,j,k} &=\n",
    "         b_{i,j,k+1} - \\frac{\\Delta t \\, D_v \\, b_{i+1,j,k+1}}{\\Delta x^2 \\, \\tau} +\n",
    "         2 \\frac{\\Delta t \\, D_v \\, b_{i,j,k+1}}{\\Delta x^2 \\, \\tau} -\n",
    "         \\frac{\\Delta t \\, D_v \\, b_{i-1,j,k+1}}{\\Delta x^2 \\, \\tau} -\n",
    "         \\frac{\\Delta t \\, D_v \\, b_{i,j+1,k+1}}{\\Delta y^2 \\, \\tau} +\n",
    "         2 \\frac{\\Delta t \\, D_v \\, b_{i,j,k+1}}{\\Delta y^2 \\, \\tau} -\n",
    "         \\frac{\\Delta t \\, D_v \\, b_{i,j-1,k+1}}{\\Delta y^2 \\, \\tau} -\n",
    "         \\frac{\\Delta t}{\\tau} \\, w_{i,j,k+1} + \\frac{\\Delta t \\, b_{i,j,k+1}}{\\tau}\\\\\n",
    "     b_{i,j,k} &=\n",
    "         (1+ 2 \\frac{\\Delta t \\, D_v}{\\Delta x^2 \\, \\tau} +\n",
    "         2 \\frac{\\Delta t \\, D_v}{\\Delta y^2 \\, \\tau} +\n",
    "         \\frac{\\Delta t}{\\tau}) \\, b_{i,j,k+1} -\n",
    "         \\frac{\\Delta t \\, D_v}{\\Delta x^2 \\, \\tau} \\, b_{i+1,j,k+1} -\n",
    "         \\frac{\\Delta t \\, D_v}{\\Delta x^2 \\, \\tau} \\, b_{i-1,j,k+1} -\n",
    "         \\frac{\\Delta t \\, D_v}{\\Delta y^2 \\, \\tau} \\, b_{i,j+1,k+1} -\n",
    "         \\frac{\\Delta t \\, D_v}{\\Delta y^2 \\, \\tau} \\, b_{i,j-1,k+1} -\n",
    "         \\frac{\\Delta t}{\\tau} \\, w_{i,j,k+1}\n",
    "\\end{align}"
   ]
  },
  {
   "cell_type": "markdown",
   "metadata": {},
   "source": [
    "Cambiando $ \\delta_v = \\displaystyle \\frac{\\Delta t \\, D_v}{\\tau} $\n",
    "\n",
    "$$ (1+ 2 \\frac{\\delta_v}{\\Delta x^2} + 2 \\frac{\\delta_v}{\\Delta y^2} + \\frac{\\delta_v}{D_v}) \\, b_{i,j,k+1} - \\frac{\\delta_v}{\\Delta x^2} \\, b_{i+1,j,k+1}   - \\frac{\\delta_v}{\\Delta x^2} \\, b_{i-1,j,k+1} - \\frac{\\delta_v}{\\Delta y^2} \\, b_{i,j+1,k+1}  - \\frac{\\delta_v}{\\Delta y^2} \\, b_{i,j-1,k+1} - \\frac{\\delta_v}{D_v} \\, w_{i,j,k+1} = b_{i,j,k} $$\n",
    "\n",
    "El error de aproximación es de: $O(\\Delta t) + O(\\Delta x^2) + O(\\Delta y^2)$"
   ]
  },
  {
   "cell_type": "markdown",
   "metadata": {},
   "source": [
    "En resumen, usando $ \\delta_u = \\displaystyle \\Delta t \\, D_u $ y $ \\delta_v = \\displaystyle \\frac{\\Delta t \\, D_v}{\\tau} $ nos queda finalmente el siguiente sistema de ecuaciones no-lineales:\n",
    "\n",
    "\\begin{align}\n",
    "    (1+ 2\\frac{\\delta_u}{\\Delta x^2} + 2 \\frac{\\delta_u}{\\Delta y^2 } -\n",
    "    \\frac{\\delta_u}{D_u}  \\, \\lambda + \\frac{\\delta_u}{D_u} \\, w_{i,j,k+1}^2) \\, w_{i,j,k+1} -\n",
    "    \\frac{\\delta_u \\, w_{i+1, j, k+1}}{\\Delta x^2} - \\frac{\\delta_u \\, w_{i-1,j,k+1}}{\\Delta x^2} -\n",
    "    \\frac{\\delta_u \\, w_{i, j+1, k+1}}{\\Delta y^2} - \\frac{\\delta_u \\, w_{i,j-1,k+1}}{\\Delta y^2} +\n",
    "    \\frac{\\delta_u}{D_u} \\, \\sigma b_{i,j,k+1} &= w_{i,j,k} - \\frac{\\delta_u}{D_u} \\, \\kappa \\\\\n",
    "    (1+ 2 \\frac{\\delta_v}{\\Delta x^2} + 2 \\frac{\\delta_v}{\\Delta y^2} +\n",
    "    \\frac{\\delta_v}{D_v}) \\, b_{i,j,k+1} - \\frac{\\delta_v}{\\Delta x^2} \\, b_{i+1,j,k+1} -\n",
    "    \\frac{\\delta_v}{\\Delta x^2} \\, b_{i-1,j,k+1} - \\frac{\\delta_v}{\\Delta y^2} \\, b_{i,j+1,k+1} -\n",
    "    \\frac{\\delta_v}{\\Delta y^2} \\, b_{i,j-1,k+1} - \\frac{\\delta_v}{D_v} \\, w_{i,j,k+1} &= b_{i,j,k}\n",
    "\\end{align}"
   ]
  },
  {
   "cell_type": "markdown",
   "metadata": {},
   "source": [
    "### d) Implementación de esquema implícito \"Backward\""
   ]
  },
  {
   "cell_type": "code",
   "execution_count": null,
   "metadata": {
    "collapsed": false,
    "scrolled": false
   },
   "outputs": [],
   "source": [
    "def solve_backward(u0, v0, dx, dy, dt, Tf, Du, Dv, lamb, tau, sigma, kappa):\n",
    "    Ny = u0.shape[0];\n",
    "    Nx = u0.shape[1];\n",
    "    Nt = (int)(np.ceil(Tf/dt));\n",
    "    w = np.zeros([Nt, Nx, Ny])\n",
    "    b = np.zeros([Nt, Nx, Ny])\n",
    "    w[0,:,:] = u0;\n",
    "    b[0,:,:] = v0;\n",
    "    \n",
    "    delta_u = dt*Du;\n",
    "    delta_v = dt*Dv/tau;\n",
    "    cons1 = 1+2*delta_u / dx**2 +2 * delta_u/dy**2-delta_u*lamb/Du;\n",
    "    cons2 = 1+2*delta_v/dx**2+2*delta_v/dy**2+delta_v/Dv;\n",
    "    for k in range (Nt-1):\n",
    "        print(\"Tiempo k=\")\n",
    "        print(k)\n",
    "        def func(wbk):\n",
    "            wbk = wbk.reshape(2*Nx, Ny);\n",
    "            wk = wbk[0:Nx,:];\n",
    "            bk = wbk[Nx:2*Nx,:];\n",
    "            return np.array([np.multiply( cons1 + (delta_u*np.power(wk[:,:],2))/Du, wk[:,:])\n",
    "                    -delta_u*np.roll(wk[:,:], -1, axis=1)/dx**2-delta_u*np.roll(wk[:,:], 1, axis=1)\n",
    "                         /dx**2-delta_u*np.roll(wk[:,:], -1, axis=0)/dy**2-delta_u*np.roll(wk[:,:], 1, axis=0)/dy**2\n",
    "                    +delta_u*sigma*bk[:,:]/Du + delta_u*kappa/Du - w[k,:,:]\n",
    "                     ,\n",
    "                     cons2*bk[:,:]-delta_v*np.roll(bk[:,:], -1, axis=1)/dx**2\n",
    "                     -delta_v*np.roll(bk[:,:], 1, axis=1)/dx**2-delta_v*np.roll(bk[:,:], -1, axis=0)\n",
    "                         /dy**2-delta_v*np.roll(bk[:,:], 1, axis=0)/dy**2-delta_v*wk[:,:]/Dv\n",
    "                     -b[k,:,:]\n",
    "                    ]).ravel();\n",
    "        wk0 = np.ones([Nx, Ny]);\n",
    "        bk0 = wk0;\n",
    "        temp = sp.optimize.fsolve(func, np.array([wk0, bk0]).ravel()).reshape(2,Nx,Ny);\n",
    "        w[k+1,:,:] = temp[0,:,:];\n",
    "        b[k+1,:,:] = temp[1,:,:];\n",
    "    return w;"
   ]
  },
  {
   "cell_type": "markdown",
   "metadata": {},
   "source": [
    "<div id='se3'/>\n",
    "## 3.- Método de las líneas"
   ]
  },
  {
   "cell_type": "markdown",
   "metadata": {},
   "source": [
    "### a) Discretización y formulación del sistema\n",
    "\n",
    "Tenemos:\n",
    "\\begin{align}\n",
    "    \\frac{\\partial u}{\\partial t} &= \n",
    "            D_u \\, (\\frac{\\partial^2 u}{\\partial x^2} + \\frac{\\partial^2 u}{\\partial y^2}) +\n",
    "            \\lambda \\, u - u^3 - \\kappa - \\sigma v \\\\\n",
    "    \\tau \\, \\frac{\\partial v}{\\partial t} &= \n",
    "            D_v \\, (\\frac{\\partial^2 v}{\\partial x^2} + \n",
    "            \\frac{\\partial^2 v}{\\partial y^2}) + u - v\n",
    "\\end{align}"
   ]
  },
  {
   "cell_type": "markdown",
   "metadata": {},
   "source": [
    "utilizando diferencias centradas para discretizar el dominio espacial nos queda:\n",
    "\n",
    "\\begin{align}\n",
    "    \\frac{\\partial u(x_i,y_j,t)}{\\partial t} =&\\,\n",
    "            D_u \\left(\n",
    "                \\frac{u(x_{i+1},y_j,t) - 2 u(x_i,y_j,t) + u(x_{i-1},y_j,t)}{\\Delta x^2} + \n",
    "                \\frac{u(x_i,y_{j+1},t) - 2 u(x_i,y_j,t) + u(x_i,y_{j-1},t)}{\\Delta y^2}\n",
    "            \\right)\\\\\n",
    "            & + \\lambda u(x_i,y_j,t) - (u(x_i,y_j,t))^3 - \\kappa - \\sigma v(x_i,y_j,t) \\\\\n",
    "    &\\\\\n",
    "    \\tau \\, \\frac{\\partial v(x_i,y_j,t)}{\\partial t} =&\\,\n",
    "            D_v \\left(\n",
    "                \\frac{v(x_{i+1},y_j,t) - 2 v(x_i,y_j,t) + v(x_{i-1},y_j,t)}{\\Delta x^2} + \n",
    "                \\frac{v(x_i,y_{j+1},t) - 2 v(x_i,y_j,t) + v(x_i,y_{j-1},t)}{\\Delta y^2}\n",
    "            \\right)\\\\\n",
    "            & + u(x_i,y_j,t) - v(x_i,y_j,t)\n",
    "\\end{align}"
   ]
  },
  {
   "cell_type": "markdown",
   "metadata": {
    "collapsed": false
   },
   "source": [
    "como podemos notar que ahora el problema diferencial es solo dependiente del tiempo. Hacemos el cambio de variable $u(x_i, y_j, y) = w_{i,j}(t)$ y $v(x_i, y_j, y) = b_{i,j}(t)$.\n",
    "Así, el sistema dinámico acoplado resultante queda determinado por las siguientes ecuaciones:\n",
    "\n",
    "\\begin{align}\n",
    "    \\dot{w_{ij}}&=\n",
    "        D_u \\left( \n",
    "            \\frac{w_{i+1,j} - 2 w_{i,j} + w_{i-1,j}}{\\Delta x^2} + \n",
    "            \\frac{w_{i,j+1} - 2 w_{i,j} + w_{i,j-1}}{\\Delta y^2} \\right) \n",
    "        + \\lambda w_{i,j} - w^3_{i,j} - \\kappa - \\sigma b_{i,j} \\\\\n",
    "    \\dot{b_{i,j}}&= \n",
    "        \\frac{D_v}{\\tau} \\left(\n",
    "            \\frac{b_{i+1,j} - 2 b_{i,j} + b_{i-1,j}}{\\Delta x^2} + \n",
    "            \\frac{b_{i,j+1} - 2 b_{i,j} + b_{i,j-1}}{\\Delta y^2} \\right) \n",
    "        + \\frac{w_{i,j} - b_{i,j}}{\\tau}\n",
    "\\end{align}"
   ]
  },
  {
   "cell_type": "markdown",
   "metadata": {},
   "source": [
    "Ordenando convenientemente tenemos:\n",
    "\\begin{align}\n",
    "    \\dot{w_{i,j}} &=\n",
    "        \\frac{D_u}{\\Delta x^2}(w_{i-1,j}+w_{i+1,j}) + \n",
    "        \\frac{D_u}{\\Delta y^2}(w_{i,j-1}+w_{i,j+1}) +\n",
    "        (\\lambda - \\frac{2D_u(\\Delta x^2 +\\Delta y^2)}{\\Delta x^2 \\Delta y^2})w_{i,j} - w_{i,j}^3\n",
    "        -\\kappa -\\sigma b_{i,j} \\\\\n",
    "    \\dot{b_{i,j}} &=\n",
    "        \\frac{D_v}{\\tau \\Delta x^2}(b_{i-1,j}+b_{i+1,j}) +\n",
    "        \\frac{D_v}{\\tau \\Delta y^2}(b_{i,j-1}+b_{i,j+1}) -\n",
    "        \\left(\\frac{2D_v(\\Delta x^2 +\\Delta y^2)}{\\tau\\Delta x^2 \\Delta y^2} + \n",
    "        \\frac{1}{\\tau}\\right)b_{i,j} + \\frac{w_{i,j}}{\\tau}\n",
    "\\end{align}"
   ]
  },
  {
   "cell_type": "markdown",
   "metadata": {},
   "source": [
    "### b) Implementación"
   ]
  },
  {
   "cell_type": "code",
   "execution_count": null,
   "metadata": {
    "collapsed": false
   },
   "outputs": [],
   "source": [
    "def solve_mol(u0, v0, dx, dy, dt, Tf, Du, Dv, lamb, tau, sigma, kappa, method='RK4'):\n",
    "    if method not in ['RK4', 'RK2']:\n",
    "        print(\"El método debe ser 'RK2' o 'RK4'\")\n",
    "        return None\n",
    "    Ny, Nx, Nt = u0.shape[0], u0.shape[1], int(np.ceil(Tf/dt))\n",
    "    w = np.zeros([Nt, Nx, Ny])\n",
    "    b = np.zeros([Nt, Nx, Ny])\n",
    "    w[0,:,:] = u0;\n",
    "    b[0,:,:] = v0;\n",
    "    #Algunos calculos que no varian con el tiempo:\n",
    "    h2  = dt/2\n",
    "    dx2, dy2 = dx**2, dy**2\n",
    "    Dux, Duy = Du/dx2, Du/dy2\n",
    "    ct1 = lamb - (2*Du*(dx2 + dy2))/(dx2*dy2)\n",
    "    Dvx, Dvy = Dv/(tau*dx2), Dv/(tau*dy2)\n",
    "    ct2 = (2*Dv*(dx2 + dy2))/(dx2*dy2) + 1/tau\n",
    "        \n",
    "    #Como las ecuaciones son autonomas se utilizará t como subindice:\n",
    "    def U(t, xy): #t:subindice del tiempo, xy:matriz de 2 dimenciones con los valores en x e y.\n",
    "        return Dux*(np.roll(xy, -1, axis=1) + np.roll(xy, 1, axis=1)) +\\\n",
    "               Duy*(np.roll(xy, -1, axis=0) + np.roll(xy, 1, axis=0)) +\\\n",
    "               ct1*xy - np.power(xy,3) - sigma*b[t,:,:] - kappa\n",
    "    def V(t, xy): #igual que la anterior pero para V\n",
    "        return Dvx*(np.roll(xy, -1, axis=1) + np.roll(xy, 1, axis=1)) +\\\n",
    "               Dvy*(np.roll(xy, -1, axis=0) + np.roll(xy, 1, axis=0)) -\\\n",
    "               ct2*xy + w[t,:,:]/tau\n",
    "    #Ignorando los cambios en t a proposito (no cambia nada por que la ec es autonoma).\n",
    "    if method=='RK2':\n",
    "        for k in range(Nt-1):\n",
    "            ku1 = w[k,:,:] + h2*U(k, w[k,:,:])\n",
    "            w[k+1,:,:] = w[k,:,:] + dt*U(k, ku1)\n",
    "            kv1 = b[k,:,:] + h2*V(k, b[k,:,:])\n",
    "            b[k+1,:,:] = b[k,:,:] + dt*V(k, kv1)\n",
    "    else:\n",
    "        for k in range(Nt-1):\n",
    "            ku1 = U(k, w[k,:,:])\n",
    "            ku2 = U(k, w[k,:,:] + h2*ku1)\n",
    "            ku3 = U(k, w[k,:,:] + h2*ku2)\n",
    "            ku4 = U(k, w[k,:,:] + dt*ku3)\n",
    "            w[k+1,:,:] = w[k,:,:] + (dt/6)*(ku1 + 2*(ku2+ku3) + ku4)\n",
    "            kv1 = V(k, b[k,:,:])\n",
    "            kv2 = V(k, b[k,:,:] + h2*kv1)\n",
    "            kv3 = V(k, b[k,:,:] + h2*kv2)\n",
    "            kv4 = V(k, b[k,:,:] + dt*kv3)\n",
    "            b[k+1,:,:] = b[k,:,:] + (dt/6)*(kv1 + 2*(kv2+kv3) + kv4)\n",
    "    return w"
   ]
  },
  {
   "cell_type": "markdown",
   "metadata": {},
   "source": [
    "<div id='se4'\\>\n",
    "## 4.- Simulaciones\n",
    "Se establecen las variables a usar:"
   ]
  },
  {
   "cell_type": "code",
   "execution_count": null,
   "metadata": {
    "collapsed": false
   },
   "outputs": [],
   "source": [
    "#Generando puntos de la malla aleatoria\n",
    "Nx, Ny = 50, 50\n",
    "u0 = np.random.rand(Nx,Ny)\n",
    "v0 = np.random.rand(Nx,Ny)\n",
    "dx, dy = 1/(Nx-1), 1/(Ny-1)\n",
    "tf   = 10"
   ]
  },
  {
   "cell_type": "markdown",
   "metadata": {},
   "source": [
    "### a) Significado de los parametros\n",
    "Para determinar el significado se harán las siguientes pruebas:"
   ]
  },
  {
   "cell_type": "code",
   "execution_count": null,
   "metadata": {
    "collapsed": false
   },
   "outputs": [],
   "source": [
    "#test de parametros para un tiempo tf=3, son varias pruebas asi que la ejecución es lenta!!\n",
    "params = [\n",
    "    (u0, v0, dx, dy, dx**2, 3, 1e-2, 1e-3, 1, 0.2, 1, -4e-3),\n",
    "    (u0, v0, dx, dy, dx**2, 3, 1e-4, 1e-3, 1, 0.2, 1, -4e-3),\n",
    "    (u0, v0, dx, dy, dx**2, 3, 1e-8, 1e-3, 1, 0.2, 1, -4e-3),\n",
    "    (u0, v0, dx, dy, dx**2, 3, 1e-3, 1e-2, 1, 0.2, 1, -4e-3),\n",
    "    (u0, v0, dx, dy, dx**2, 3, 1e-3, 1e-8, 1, 0.2, 1, -4e-3),\n",
    "    (u0, v0, dx, dy, dx**2, 3, 1e-3, 1e-14, 1, 0.2, 1, -4e-3),\n",
    "    (u0, v0, dx, dy, dx**2, 3, 1e-3, 1e-3, 0.5, 0.2, 1, -4e-3),\n",
    "    (u0, v0, dx, dy, dx**2, 3, 1e-3, 1e-3, 0.2, 0.2, 1, -4e-3),\n",
    "    (u0, v0, dx, dy, dx**2, 3, 1e-3, 1e-3, 1.5, 0.2, 1, -4e-3),\n",
    "    (u0, v0, dx, dy, dx**2, 3, 1e-3, 1e-3, 3, 0.2, 1, -4e-3),\n",
    "    (u0, v0, dx, dy, dx**2, 3, 1e-3, 1e-3, 1, 0.002, 1, -4e-3),\n",
    "    (u0, v0, dx, dy, dx**2, 3, 1e-3, 1e-3, 1, 0.8, 1, -4e-3),\n",
    "    (u0, v0, dx, dy, dx**2, 3, 1e-3, 1e-3, 1, 0.2, 0.3, -4e-3),\n",
    "    (u0, v0, dx, dy, dx**2, 3, 1e-3, 1e-3, 1, 0.2, 0.01, -4e-3),\n",
    "    (u0, v0, dx, dy, dx**2, 3, 1e-3, 1e-3, 1, 0.2, 1.5, -4e-3),\n",
    "    (u0, v0, dx, dy, dx**2, 3, 1e-3, 1e-3, 1, 0.2, 4, -4e-3),\n",
    "    (u0, v0, dx, dy, dx**2, 3, 1e-3, 1e-3, 1, 0.2, 10, -4e-3),\n",
    "    (u0, v0, dx, dy, dx**2, 3, 1e-3, 1e-3, 1, 0.2, 1, +4e-3),\n",
    "    (u0, v0, dx, dy, dx**2, 3, 1e-3, 1e-3, 1, 0.2, 1, 0),\n",
    "    (u0, v0, dx, dy, dx**2, 3, 1e-3, 1e-3, 1, 0.2, 1, 3),\n",
    "    (u0, v0, dx, dy, dx**2, 3, 1e-3, 1e-3, 1, 0.2, 1, -5)\n",
    "]\n",
    "rs = [None]*len(params)\n",
    "#for i in range(len(params)):\n",
    "#    rs[i] = solve_forward(*params[i])"
   ]
  },
  {
   "cell_type": "code",
   "execution_count": null,
   "metadata": {
    "collapsed": true
   },
   "outputs": [],
   "source": [
    "#animate_pattern(rs[0])"
   ]
  },
  {
   "cell_type": "markdown",
   "metadata": {},
   "source": [
    "Por lo que se puede ver tenemos:\n",
    "* $D_u$: mientras más cercano a $0$ el patrón es menos difuso, con $1e-2$ se forman pocas manchas, mientras el número disminuye se ven más manchas y más marcadas, se llegó a $1e-8$ donde se diferencia claramente las secciones azules de las verdes.\n",
    "* $D_v$: (Con $D_u$ constante) El color azul queda más concentrado cuando el valor es alto (en $1e-2$) mientras que con valores cercanos a $0$ ($1e-14$) se expande más.\n",
    "* $\\lambda$: No se ven cambios cuando el valor es menor a $1$, pero cuando es mayor los colores cambian rapidamente, la imagen se vuelve difusa y mientras avanza el tiempo puede pasar de un color a otro rapidamente.\n",
    "* $\\tau$: Determina cuanto cambia la imagen. Con un valor cercano a $0$ la imagen casi no cambia, cuando se aumenta la imagen tiende a hacerse borrosa.\n",
    "* $\\sigma$: Cuando el valor es menor a $1$ no hay muchos cambios, cuando aumenta los colores empiezan a cambiar mientras pasa el tiempo, con un valor de $10$, la muestra cambia de colores varias veces.\n",
    "* $\\kappa$: Al igual que el anterior, con valores cercanos a $0$ no hay mucho cambio, cuando la magnitud del valor aumenta ocurren cambios bruscos en el tiempo. La imagen termina con solo un par de puntos de cada color bien difuminados."
   ]
  },
  {
   "cell_type": "markdown",
   "metadata": {},
   "source": [
    "### b) Ejecución de las implementaciones"
   ]
  },
  {
   "cell_type": "code",
   "execution_count": null,
   "metadata": {
    "collapsed": false
   },
   "outputs": [],
   "source": [
    "#Parametros suministrados.\n",
    "Du = 3e-4\n",
    "Dv = 4e-3\n",
    "lamb = 1.0\n",
    "tau  = 0.2\n",
    "sigm = 1.0\n",
    "kapp = -0.004"
   ]
  },
  {
   "cell_type": "code",
   "execution_count": null,
   "metadata": {
    "collapsed": false
   },
   "outputs": [],
   "source": [
    "A = solve_forward(u0, v0, dx, dy, dx**2, tf, Du, Dv, lamb, tau, sigm, kapp)"
   ]
  },
  {
   "cell_type": "code",
   "execution_count": null,
   "metadata": {
    "collapsed": false
   },
   "outputs": [],
   "source": [
    "B = solve_backward(u0, v0, dx, dy, 2, tf, Du, Dv, lamb, tau, sigm, kapp) #Cuidado: Con dt = 2 tardá 24 min aprox."
   ]
  },
  {
   "cell_type": "code",
   "execution_count": null,
   "metadata": {
    "collapsed": false
   },
   "outputs": [],
   "source": [
    "C = solve_mol(u0, v0, dx, dy, dx**2, tf, Du, Dv, lamb, tau, sigm, kapp,'RK2')"
   ]
  },
  {
   "cell_type": "code",
   "execution_count": null,
   "metadata": {
    "collapsed": false
   },
   "outputs": [],
   "source": [
    "D = solve_mol(u0, v0, dx, dy, 0.5, tf, Du, Dv, lamb, tau, sigm, kapp,'RK4')"
   ]
  },
  {
   "cell_type": "code",
   "execution_count": null,
   "metadata": {
    "collapsed": false
   },
   "outputs": [],
   "source": [
    "animate_pattern(A)"
   ]
  },
  {
   "cell_type": "code",
   "execution_count": null,
   "metadata": {
    "collapsed": true
   },
   "outputs": [],
   "source": [
    "animate_pattern(B)"
   ]
  },
  {
   "cell_type": "markdown",
   "metadata": {},
   "source": [
    "### c) Simulaciones con diferentes parametros\n",
    "Se hicieron las simulaciones con `solve_forward` igual que en a). Se harán 3 simulaciones como siguen:"
   ]
  },
  {
   "cell_type": "code",
   "execution_count": null,
   "metadata": {
    "collapsed": false
   },
   "outputs": [],
   "source": [
    "#test de parametros para un tiempo tf=10\n",
    "params = [\n",
    "    (u0, v0, dx, dy, dx**2, tf, 3e-2, 4e-3, 1, 0.2, 1, -4e-3),  #Se espera que la imagen final sea completamente difusa\n",
    "    (u0, v0, dx, dy, dx**2, tf, 3e-4, 4e-3, 1, 0.2, 4, -10),    #Se espera que cambie en el tiempo varias veces\n",
    "    (u0, v0, dx, dy, dx**2, tf, 3e-15, 4e-3, 1, 0.2, 1, -4e-3)  #Se espera que termine con colores bien definidos\n",
    "]\n",
    "rs = [None]*len(params)\n",
    "\n",
    "for i in range(len(params)):\n",
    "    rs[i] = solve_forward(*params[i])"
   ]
  },
  {
   "cell_type": "code",
   "execution_count": null,
   "metadata": {
    "collapsed": true
   },
   "outputs": [],
   "source": [
    "animate_pattern(rs[2])"
   ]
  },
  {
   "cell_type": "markdown",
   "metadata": {},
   "source": [
    "Como podemos notar los resultados apoyan lo escrito en a)"
   ]
  },
  {
   "cell_type": "markdown",
   "metadata": {},
   "source": [
    "## Conclusiones\n",
    "En este trabajo podemos notar que para la resolución de sistemas de ecuaciones parciales se pueden plantear diferentes\n",
    "modelos adaptandonos a la situación, cada uno con ventajas y desventajas. No hay una formula fija para solucionar \n",
    "los problemas y siempre se pueden aprobechar las caracteristicas del mismo en los esquemas a realizar.\n",
    "\n",
    "A veces complicar las matematicas nos brinda mejores resultados computacionales. Perder precisión para ganar velocidad\n",
    "es una buena alternativa, particularmente si evitamos tener que resolver sistemas de ecuaciones ya que es un proceso\n",
    "lento para matrices grandes y sin propiedades que nos ayuden, como en este laboratorio."
   ]
  },
  {
   "cell_type": "markdown",
   "metadata": {},
   "source": [
    "## Referencias\n",
    "<div id='ref1'\\> [1] [IPython Notebook Documentation](http://ipython.readthedocs.org/en/stable/) IPython Documentation. *desc*. Revisado 16/12/2015\n",
    "<div id='ref1'\\> [2] [Python Documentation](https://docs.python.org/3/) Python Documentation. *desc*. Revisado 16/12/2015"
   ]
  },
  {
   "cell_type": "markdown",
   "metadata": {
    "collapsed": false
   },
   "source": [
    "## Anexos\n",
    "Comenzamos cargando los módulos necesarios:"
   ]
  },
  {
   "cell_type": "code",
   "execution_count": null,
   "metadata": {
    "collapsed": false
   },
   "outputs": [],
   "source": [
    "import numpy as np\n",
    "import scipy as sp\n",
    "from scipy.optimize import fsolve\n",
    "from matplotlib import pyplot as plt\n",
    "#from mpl_toolkits.mplot3d import Axes3D\n",
    "#from matplotlib.colors import cnames\n",
    "from matplotlib import animation\n",
    "\n",
    "#%matplotlib notebook\n",
    "#%load_ext memory_profiler"
   ]
  },
  {
   "cell_type": "markdown",
   "metadata": {},
   "source": [
    "<div id='an5'\\> \n",
    "### Utilidades"
   ]
  },
  {
   "cell_type": "code",
   "execution_count": null,
   "metadata": {
    "collapsed": true
   },
   "outputs": [],
   "source": [
    "\"\"\"\n",
    "> sol must be a 3D numpy array, with dimensions (Nt,Nx,Ny)\n",
    "> time_step:  miliseconds to update canvas\n",
    "> frame_step: Jump step for frames to show\n",
    "\"\"\"\n",
    "def animate_pattern(sol, time_step=10, frame_step=20):\n",
    "    #time index\n",
    "    t_ind = 0\n",
    "    fig = plt.figure()\n",
    "    im = plt.imshow(sol[t_ind], cmap=plt.cm.winter)\n",
    "    plt.xticks([]); plt.yticks([])\n",
    "\n",
    "    #setting the number of frames\n",
    "    frames = int(sol.shape[0]/frame_step)\n",
    "    \n",
    "    #update function\n",
    "    def updatefig(t_ind):\n",
    "        im = plt.imshow(sol[t_ind*frame_step], cmap=plt.cm.winter)\n",
    "        return im,\n",
    "    \n",
    "    #animate it!\n",
    "    ani = animation.FuncAnimation(fig, updatefig, frames=frames, \n",
    "                    interval=time_step, blit=True, repeat=False)\n",
    "    plt.show()"
   ]
  }
 ],
 "metadata": {
  "git": {
   "suppress_outputs": true
  },
  "kernelspec": {
   "display_name": "Python 3",
   "language": "python",
   "name": "python3"
  },
  "language_info": {
   "codemirror_mode": {
    "name": "ipython",
    "version": 3
   },
   "file_extension": ".py",
   "mimetype": "text/x-python",
   "name": "python",
   "nbconvert_exporter": "python",
   "pygments_lexer": "ipython3",
   "version": "3.4.3"
  }
 },
 "nbformat": 4,
 "nbformat_minor": 0
}
