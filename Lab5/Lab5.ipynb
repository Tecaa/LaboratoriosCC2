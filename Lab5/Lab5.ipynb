{
 "cells": [
  {
   "cell_type": "markdown",
   "metadata": {},
   "source": [
    "<center>\n",
    "    <h1> ILI-286 - Laboratorio #5 </h1>\n",
    "    <h2> Sistemas de reacción-difusión </h2>\n",
    "</center>\n",
    "\n",
    "\n",
    "| Nombre | Rol | Email |\n",
    "| :----- | :-- | :---- |\n",
    "| Marco Rojas | 201073005-0 | marco.rojaso@alumnos.usm.cl |\n",
    "| Hernán Vargas | 201073009-3 | hernan.vargas@alumnos.usm.cl |"
   ]
  },
  {
   "cell_type": "markdown",
   "metadata": {},
   "source": [
    "## Tabla de contenidos\n",
    "* [Introducción](#intro)\n",
    "* [Desarrollo y analisís de resultados:](#desarrollo)\n",
    "  1. [Simulando Sistemas Caóticos](#se1)\n",
    "  2. [BVP de orden superior](#se2)\n",
    "* [Conclusiones](#Conclusiones)\n",
    "* [Referencias](#Referencias)\n",
    "* [Anexos](#Anexos) $\\leftarrow$ Comenzar ejecución aquí\n",
    "  * [Métodos implementados](#an1)\n",
    "  * [Métodos paralelos](#an2)\n",
    "  * [Visualización de resultados](#an3)\n",
    "  * [Implementación de diferencias finitas](#an4)\n",
    "  * [Utilidades](#an5)"
   ]
  },
  {
   "cell_type": "markdown",
   "metadata": {},
   "source": [
    "<div id='intro' />\n",
    "## Introducción\n",
    "#ToDo"
   ]
  },
  {
   "cell_type": "markdown",
   "metadata": {},
   "source": [
    "<div id='desarrollo'/>\n",
    "## Desarrollo y analisís de resultados"
   ]
  },
  {
   "cell_type": "markdown",
   "metadata": {},
   "source": [
    "<div id='se1'/>\n",
    "## 1.- Reacción-Difusión y formación de patrones de Turing\n",
    "\n",
    "$$ \\frac{\\partial u}{\\partial t} = D_u \\, (\\frac{\\partial^2 u}{\\partial x^2} + \\frac{\\partial^2 u}{\\partial y^2}) + \\lambda \\, u - u^3 - \\kappa - \\sigma v $$\n",
    "$$ \\tau \\, \\frac{\\partial v}{\\partial t} = D_v \\, (\\frac{\\partial^2 v}{\\partial x^2} + \\frac{\\partial^2 v}{\\partial y^2}) + u - v $$"
   ]
  },
  {
   "cell_type": "markdown",
   "metadata": {
    "collapsed": false
   },
   "source": [
    "## 2.- Diferencias finitas en 2D"
   ]
  },
  {
   "cell_type": "markdown",
   "metadata": {},
   "source": [
    "### a) Propuesta de discretización \"Forward\"\n",
    "Aproximaciones:\n",
    "$$ \\frac{\\partial^2 u}{\\partial x^2} = \\frac{u(x+\\Delta x, y, t)-2u(x,y,t)+u(x-\\Delta x,y,t)}{\\Delta x^2} $$\n",
    "\n",
    "$$ \\frac{\\partial^2 u}{\\partial y^2} = \\frac{u(x, y+\\Delta y, t)-2u(x,y,t)+u(x,y-\\Delta y,t)}{\\Delta y^2} $$\n",
    "\n",
    "$$ \\frac{\\partial u}{\\partial t} = \\frac{u(x,y,t+\\Delta t) - u(x,y,t)}{\\Delta t} $$\n",
    "\n",
    "Análogo para $v(x,y,t)$.\n",
    "\n",
    "Las ecuaciones quedan como:\n",
    "\n",
    "$$ \\frac{u(x,y,t+\\Delta t) - u(x,y,t)}{\\Delta t} = D_u \\, \\left (\\frac{u(x+\\Delta x, y, t)-2u(x,y,t)+u(x-\\Delta x,y,t)}{\\Delta x^2} + \\frac{u(x, y+\\Delta y, t)-2u(x,y,t)+u(x,y-\\Delta y,t)}{\\Delta y^2} \\right ) + \\lambda \\, u(x,y,t) - u(x,y,t)^3 - \\kappa - \\sigma v(x,y,t) $$\n",
    "\n",
    "$$ \\tau \\, \\frac{v(x,y,t+\\Delta t) - v(x,y,t)}{\\Delta t} = D_v \\, \\left ( \\frac{v(x+\\Delta x,y,t)-2v(x,y,t)+v(x-\\Delta x,y,t)}{\\Delta x^2} + \\frac{v(x,y+\\Delta y,t)-2v(x,y,t)+v(x,y-\\Delta y,t)}{\\Delta y^2} \\right ) + u(x,y,t) - v(x,y,t) $$\n",
    "\n",
    "Ahora si reemplazamos $w_{i,j,k} = u(x,y,t)$ y $ b_{i,j,k} = v(x,y,t) $, donde \n",
    "$$x= x_0+i \\,\\Delta x \\Rightarrow i= \\frac{x-x_0}{\\Delta x}$$\n",
    "$$y= y_0+j \\,\\Delta y \\Rightarrow j= \\frac{y-y_0}{\\Delta y}$$\n",
    "$$t= t_0+k \\,\\Delta t \\Rightarrow k= \\frac{t-t_0}{\\Delta t}$$\n",
    "\n",
    "Finalmente, obtenemos\n",
    "\n",
    "$$ \\frac{w_{i,j,k+1} - w_{i,j,k}}{\\Delta t} = D_u  \\, \\left (\\frac{w_{i+1, j, k}-2w_{i,j,k}+w_{i-1,j,k}}{\\Delta x^2} + \\frac{w_{i, j+1, k}-2w_{i,j,k}+w_{i,j-1,k}}{\\Delta y^2} \\right ) + \\lambda \\, w_{i,j,k} - w_{i,j,k}^3 - \\kappa - \\sigma b_{i,j,k} $$\n",
    "\n",
    "$$ \\tau \\, \\frac{b_{i,j,k+1} - b_{i,j,k}}{\\Delta t} = D_v \\, \\left ( \\frac{b_{i+1,j,k}-2b_{i,j,k}+b_{i-1,j,k}}{\\Delta x^2} + \\frac{b_{i,j+1,k}-2b_{i,j,k}+b_{i,j-1,k}}{\\Delta y^2} \\right ) + w_{i,j,k} - b_{i,j,k} $$\n",
    "\n",
    "Despejando para el tiempo $k+1$\n",
    "\n",
    "\n",
    "$$ w_{i,j,k+1} = \\Delta t \\left ( D_u  \\, \\left (\\frac{w_{i+1, j, k}-2w_{i,j,k}+w_{i-1,j,k}}{\\Delta x^2} + \\frac{w_{i, j+1, k}-2w_{i,j,k}+w_{i,j-1,k}}{\\Delta y^2} \\right ) + \\lambda \\, w_{i,j,k} - w_{i,j,k}^3 - \\kappa - \\sigma b_{i,j,k} \\right ) + w_{i,j,k} $$\n",
    "\n",
    "$$ b_{i,j,k+1} = \\frac{\\Delta t}{\\tau} \\left ( D_v \\, \\left ( \\frac{b_{i+1,j,k}-2b_{i,j,k}+b_{i-1,j,k}}{\\Delta x^2} + \\frac{b_{i,j+1,k}-2b_{i,j,k}+b_{i,j-1,k}}{\\Delta y^2} \\right ) + w_{i,j,k} - b_{i,j,k} \\right ) + b_{i,j,k}$$\n",
    "\n",
    "\n",
    "El error de aproximación es de: $O(\\Delta t) + O(\\Delta x^2) + O(\\Delta y^2)$"
   ]
  },
  {
   "cell_type": "markdown",
   "metadata": {},
   "source": [
    "### b) Implementación de esquema explícito"
   ]
  },
  {
   "cell_type": "code",
   "execution_count": null,
   "metadata": {
    "collapsed": false,
    "scrolled": true
   },
   "outputs": [],
   "source": [
    "def solve_forward(u0, v0, dx, dy, dt, Tf, Du, Dv, lamb, tau, sigma, kappa):\n",
    "    Ny = u0.shape[0];\n",
    "    Nx = u0.shape[1];\n",
    "    Nt = (int)(np.ceil(Tf/dt));\n",
    "    w = np.zeros([Nt, Nx, Ny])\n",
    "    b = np.zeros([Nt, Nx, Ny])\n",
    "    w[0,:,:] = u0;\n",
    "    b[0,:,:] = v0;\n",
    "    for k in range (Nt-1):\n",
    "        u_xx = (np.roll(w[k,:,:], 1, axis=1) - 2 * w[k,:,:] + np.roll(w[k,:,:], -1, axis=1))/dx**2;\n",
    "        u_yy = (np.roll(w[k,:,:], 1, axis=0) - 2 * w[k,:,:] + np.roll(w[k,:,:], -1, axis=0))/dy**2;\n",
    "        u_laplaciano = u_xx + u_yy;\n",
    "        \n",
    "        v_xx = (np.roll(b[k, :, :], 1, axis=1) - 2 * b[k,:,:] + np.roll(b[k,:,:], -1, axis=1))/dx**2;\n",
    "        v_yy = (np.roll(b[k, :, :], 1, axis=0) - 2 * b[k,:,:] + np.roll(b[k,:,:], -1, axis=0))/dy**2;\n",
    "        v_laplaciano = v_xx + v_yy\n",
    "        \n",
    "        w[k+1,:,:] = dt * (Du * u_laplaciano + lamb * w[k,:,:] - np.power(w[k,:,:],3) - kappa - sigma * b[k,:,:]) + w[k,:,:];\n",
    "        b[k+1,:,:] = dt/tau * (Dv * v_laplaciano + w[k,:,:] - b[k,:,:]) + b[k,:,:];\n",
    "        \n",
    "    return w;\n",
    "u0 = np.matrix([[2,3,5,1],[1,2,3,3],[2,3,4,1],[4,3,2,3]]);\n",
    "v0 = np.matrix([[1,3,1,4],[2,2,1,2],[2,3,1,4],[3,1,2,3]]);\n",
    "Du = 2;\n",
    "Dv = 2;\n",
    "print(u0);\n",
    "print(solve_forward(u0, v0, 1, 1, 1, 4, Du, Dv, 8, 2, 3, 3));"
   ]
  },
  {
   "cell_type": "markdown",
   "metadata": {},
   "source": [
    "### c) Propuesta de discretización \"Backward\"\n",
    "Aproximaciones:\n",
    "$$ \\frac{\\partial^2 u}{\\partial x^2} = \\frac{u(x+\\Delta x, y, t)-2u(x,y,t)+u(x-\\Delta x,y,t)}{\\Delta x^2} $$\n",
    "\n",
    "$$ \\frac{\\partial^2 u}{\\partial y^2} = \\frac{u(x, y+\\Delta y, t)-2u(x,y,t)+u(x,y-\\Delta y,t)}{\\Delta y^2} $$\n",
    "\n",
    "$$ \\frac{\\partial u}{\\partial t} = \\frac{u(x,y,t) - u(x,y,t-\\Delta t)}{\\Delta t} $$\n",
    "\n",
    "Análogo para $v(x,y,t)$.\n",
    "\n",
    "Las ecuaciones quedan como:\n",
    "\n",
    "$$ \\frac{u(x,y,t) - u(x,y,t - \\Delta t)}{\\Delta t} = D_u \\, \\left (\\frac{u(x+\\Delta x, y, t)-2u(x,y,t)+u(x-\\Delta x,y,t)}{\\Delta x^2} + \\frac{u(x, y+\\Delta y, t)-2u(x,y,t)+u(x,y-\\Delta y,t)}{\\Delta y^2} \\right ) + \\lambda \\, u(x,y,t) - u(x,y,t)^3 - \\kappa - \\sigma v(x,y,t) $$\n",
    "\n",
    "$$ \\tau \\, \\frac{v(x,y,t) - v(x,y,t-\\Delta t)}{\\Delta t} = D_v \\, \\left ( \\frac{v(x+\\Delta x,y,t)-2v(x,y,t)+v(x-\\Delta x,y,t)}{\\Delta x^2} + \\frac{v(x,y+\\Delta y,t)-2v(x,y,t)+v(x,y-\\Delta y,t)}{\\Delta y^2} \\right ) + u(x,y,t) - v(x,y,t) $$\n",
    "\n",
    "Ahora si reemplazamos $w_{i,j,k} = u(x,y,t)$ y $ b_{i,j,k} = v(x,y,t) $, donde \n",
    "$$x= x_0+i \\,\\Delta x \\Rightarrow i= \\frac{x-x_0}{\\Delta x}$$\n",
    "$$y= y_0+j \\,\\Delta y \\Rightarrow j= \\frac{y-y_0}{\\Delta y}$$\n",
    "$$t= t_0+k \\,\\Delta t \\Rightarrow k= \\frac{t-t_0}{\\Delta t}$$\n",
    "\n",
    "Finalmente, obtenemos\n",
    "\n",
    "$$ \\frac{w_{i,j,k} - w_{i,j,k-1}}{\\Delta t} = D_u  \\, \\left (\\frac{w_{i+1, j, k}-2w_{i,j,k}+w_{i-1,j,k}}{\\Delta x^2} + \\frac{w_{i, j+1, k}-2w_{i,j,k}+w_{i,j-1,k}}{\\Delta y^2} \\right ) + \\lambda \\, w_{i,j,k} - w_{i,j,k}^3 - \\kappa - \\sigma b_{i,j,k} $$\n",
    "\n",
    "$$ \\tau \\, \\frac{b_{i,j,k} - b_{i,j,k-1}}{\\Delta t} = D_v \\, \\left ( \\frac{b_{i+1,j,k}-2b_{i,j,k}+b_{i-1,j,k}}{\\Delta x^2} + \\frac{b_{i,j+1,k}-2b_{i,j,k}+b_{i,j-1,k}}{\\Delta y^2} \\right ) + w_{i,j,k} - b_{i,j,k} $$\n",
    "\n",
    "Cambiando $k$ por $k+1$\n",
    "\n",
    "$$ \\frac{w_{i,j,k+1} - w_{i,j,k}}{\\Delta t} = D_u  \\, \\left (\\frac{w_{i+1, j, k+1}-2w_{i,j,k+1}+w_{i-1,j,k+1}}{\\Delta x^2} + \\frac{w_{i, j+1, k+1}-2w_{i,j,k+1}+w_{i,j-1,k+1}}{\\Delta y^2} \\right ) + \\lambda \\, w_{i,j,k+1} - w_{i,j,k+1}^3 - \\kappa - \\sigma b_{i,j,k+1} $$\n",
    "\n",
    "$$ \\tau \\, \\frac{b_{i,j,k+1} - b_{i,j,k}}{\\Delta t} = D_v \\, \\left ( \\frac{b_{i+1,j,k+1}-2b_{i,j,k+1}+b_{i-1,j,k+1}}{\\Delta x^2} + \\frac{b_{i,j+1,k+1}-2b_{i,j,k+1}+b_{i,j-1,k+1}}{\\Delta y^2} \\right ) + w_{i,j,k+1} - b_{i,j,k+1} $$\n",
    "\n",
    "Despejando para el tiempo $k+1$\n",
    "\n",
    "\n",
    "$$ w_{i,j,k+1} - \\Delta t \\left ( D_u  \\, \\left (\\frac{w_{i+1, j, k+1}-2w_{i,j,k+1}+w_{i-1,j,k+1}}{\\Delta x^2} + \\frac{w_{i, j+1, k+1}-2w_{i,j,k+1}+w_{i,j-1,k+1}}{\\Delta y^2} \\right ) + \\lambda \\, w_{i,j,k+1} - w_{i,j,k+1}^3 - \\kappa - \\sigma b_{i,j,k+1} \\right ) = w_{i,j,k} $$\n",
    "\n",
    "$$ b_{i,j,k+1} - \\frac{\\Delta t}{\\tau} \\left ( D_v \\, \\left ( \\frac{b_{i+1,j,k+1}-2b_{i,j,k+1}+b_{i-1,j,k+1}}{\\Delta x^2} + \\frac{b_{i,j+1,k+1}-2b_{i,j,k+1}+b_{i,j-1,k+1}}{\\Delta y^2} \\right ) + w_{i,j,k+1} - b_{i,j,k+1} \\right )= b_{i,j,k}$$\n",
    "\n",
    "Agrupando incógnitas en la primera ecuación\n",
    "\n",
    "$$ w_{i,j,k+1} - \\frac{\\Delta t \\, D_u \\, w_{i+1, j, k+1}}{\\Delta x^2} + 2\\frac{\\Delta t \\, D_u \\, w_{i,j,k+1}}{\\Delta x^2} - \\frac{\\Delta t \\, D_u \\, w_{i-1,j,k+1}}{\\Delta x^2} - \\frac{\\Delta t \\, D_u \\, w_{i, j+1, k+1}}{\\Delta y^2}+2 \\frac{\\Delta t \\, D_u \\, w_{i,j,k+1}}{\\Delta y^2} - \\frac{\\Delta t \\, D_u \\, w_{i,j-1,k+1}}{\\Delta y^2} - \\Delta t \\, \\lambda \\, w_{i,j,k+1} + \\Delta t \\, w_{i,j,k+1}^3 + \\Delta t \\, \\kappa + \\Delta t \\, \\sigma b_{i,j,k+1}  = w_{i,j,k} $$\n",
    "\n",
    "\n",
    "$$ (1+ 2\\frac{\\Delta t \\, D_u}{\\Delta x^2} + 2 \\frac{\\Delta t \\, D_u}{\\Delta y^2 } - \\Delta t \\, \\lambda + \\Delta t \\, w_{i,j,k+1}^2) \\, w_{i,j,k+1} - \\frac{\\Delta t \\, D_u \\, w_{i+1, j, k+1}}{\\Delta x^2} - \\frac{\\Delta t \\, D_u \\, w_{i-1,j,k+1}}{\\Delta x^2} - \\frac{\\Delta t \\, D_u \\, w_{i, j+1, k+1}}{\\Delta y^2} - \\frac{\\Delta t \\, D_u \\, w_{i,j-1,k+1}}{\\Delta y^2} + \\Delta t \\, \\sigma b_{i,j,k+1} = w_{i,j,k} - \\Delta t \\, \\kappa $$\n",
    "\n",
    "Cambiando $ \\delta_u = \\displaystyle \\Delta t \\, D_u $\n",
    "\n",
    "$$ (1+ 2\\frac{\\delta_u}{\\Delta x^2} + 2 \\frac{\\delta_u}{\\Delta y^2 } - \\frac{\\delta_u}{D_u}  \\, \\lambda + \\frac{\\delta_u}{D_u} \\, w_{i,j,k+1}^2) \\, w_{i,j,k+1} - \\frac{\\delta_u \\, w_{i+1, j, k+1}}{\\Delta x^2} - \\frac{\\delta_u \\, w_{i-1,j,k+1}}{\\Delta x^2} - \\frac{\\delta_u \\, w_{i, j+1, k+1}}{\\Delta y^2} - \\frac{\\delta_u \\, w_{i,j-1,k+1}}{\\Delta y^2} + \\frac{\\delta_u}{D_u} \\, \\sigma b_{i,j,k+1} = w_{i,j,k} - \\frac{\\delta_u}{D_u} \\, \\kappa $$\n",
    "\n",
    "Agrupando incógnitas en la segunda ecuación\n",
    "\n",
    "$$ b_{i,j,k+1} - \\frac{\\Delta t \\, D_v \\, b_{i+1,j,k+1}}{\\Delta x^2 \\, \\tau}  + 2 \\frac{\\Delta t \\, D_v \\, b_{i,j,k+1}}{\\Delta x^2 \\, \\tau}  - \\frac{\\Delta t \\, D_v \\, b_{i-1,j,k+1}}{\\Delta x^2 \\, \\tau}  - \\frac{\\Delta t \\, D_v \\, b_{i,j+1,k+1}}{\\Delta y^2 \\, \\tau}  + 2 \\frac{\\Delta t \\, D_v \\, b_{i,j,k+1}}{\\Delta y^2 \\, \\tau} - \\frac{\\Delta t \\, D_v \\, b_{i,j-1,k+1}}{\\Delta y^2 \\, \\tau} - \\frac{\\Delta t}{\\tau} \\, w_{i,j,k+1} + \\frac{\\Delta t \\, b_{i,j,k+1}}{\\tau} = b_{i,j,k} $$\n",
    "\n",
    "$$ (1+ 2 \\frac{\\Delta t \\, D_v}{\\Delta x^2 \\, \\tau} + 2 \\frac{\\Delta t \\, D_v}{\\Delta y^2 \\, \\tau} + \\frac{\\Delta t}{\\tau}) \\, b_{i,j,k+1} - \\frac{\\Delta t \\, D_v}{\\Delta x^2 \\, \\tau} \\, b_{i+1,j,k+1}   - \\frac{\\Delta t \\, D_v}{\\Delta x^2 \\, \\tau} \\, b_{i-1,j,k+1} - \\frac{\\Delta t \\, D_v}{\\Delta y^2 \\, \\tau} \\, b_{i,j+1,k+1}  - \\frac{\\Delta t \\, D_v}{\\Delta y^2 \\, \\tau} \\, b_{i,j-1,k+1} - \\frac{\\Delta t}{\\tau} \\, w_{i,j,k+1} = b_{i,j,k} $$\n",
    "\n",
    "Cambiando $ \\delta_v = \\displaystyle \\frac{\\Delta t \\, D_v}{\\tau} $\n",
    "\n",
    "$$ (1+ 2 \\frac{\\delta_v}{\\Delta x^2} + 2 \\frac{\\delta_v}{\\Delta y^2} + \\frac{\\delta_v}{D_v}) \\, b_{i,j,k+1} - \\frac{\\delta_v}{\\Delta x^2} \\, b_{i+1,j,k+1}   - \\frac{\\delta_v}{\\Delta x^2} \\, b_{i-1,j,k+1} - \\frac{\\delta_v}{\\Delta y^2} \\, b_{i,j+1,k+1}  - \\frac{\\delta_v}{\\Delta y^2} \\, b_{i,j-1,k+1} - \\frac{\\delta_v}{D_v} \\, w_{i,j,k+1} = b_{i,j,k} $$\n",
    "\n",
    "El error de aproximación es de: $O(\\Delta t) + O(\\Delta x^2) + O(\\Delta y^2)$"
   ]
  },
  {
   "cell_type": "markdown",
   "metadata": {},
   "source": [
    "En resumen, usando $ \\delta_u = \\displaystyle \\Delta t \\, D_u $ y $ \\delta_v = \\displaystyle \\frac{\\Delta t \\, D_v}{\\tau} $ nos quedan finalmente el sistema de ecuaciones no-lineales\n",
    "\n",
    "$$ (1+ 2\\frac{\\delta_u}{\\Delta x^2} + 2 \\frac{\\delta_u}{\\Delta y^2 } - \\frac{\\delta_u}{D_u}  \\, \\lambda + \\frac{\\delta_u}{D_u} \\, w_{i,j,k+1}^2) \\, w_{i,j,k+1} - \\frac{\\delta_u \\, w_{i+1, j, k+1}}{\\Delta x^2} - \\frac{\\delta_u \\, w_{i-1,j,k+1}}{\\Delta x^2} - \\frac{\\delta_u \\, w_{i, j+1, k+1}}{\\Delta y^2} - \\frac{\\delta_u \\, w_{i,j-1,k+1}}{\\Delta y^2} + \\frac{\\delta_u}{D_u} \\, \\sigma b_{i,j,k+1} = w_{i,j,k} - \\frac{\\delta_u}{D_u} \\, \\kappa $$\n",
    "\n",
    "$$ (1+ 2 \\frac{\\delta_v}{\\Delta x^2} + 2 \\frac{\\delta_v}{\\Delta y^2} + \\frac{\\delta_v}{D_v}) \\, b_{i,j,k+1} - \\frac{\\delta_v}{\\Delta x^2} \\, b_{i+1,j,k+1}   - \\frac{\\delta_v}{\\Delta x^2} \\, b_{i-1,j,k+1} - \\frac{\\delta_v}{\\Delta y^2} \\, b_{i,j+1,k+1}  - \\frac{\\delta_v}{\\Delta y^2} \\, b_{i,j-1,k+1} - \\frac{\\delta_v}{D_v} \\, w_{i,j,k+1} = b_{i,j,k} $$"
   ]
  },
  {
   "cell_type": "code",
   "execution_count": null,
   "metadata": {
    "collapsed": true
   },
   "outputs": [],
   "source": []
  },
  {
   "cell_type": "markdown",
   "metadata": {},
   "source": [
    "### b) Implementación de esquema implícito"
   ]
  },
  {
   "cell_type": "code",
   "execution_count": null,
   "metadata": {
    "collapsed": false,
    "scrolled": false
   },
   "outputs": [],
   "source": [
    "def solve_backward(u0, v0, dx, dy, dt, Tf, Du, Dv, lamb, tau, sigma, kappa):\n",
    "    Ny = u0.shape[0];\n",
    "    Nx = u0.shape[1];\n",
    "    Nt = (int)(np.ceil(Tf/dt));\n",
    "    w = np.zeros([Nt, Nx, Ny])\n",
    "    b = np.zeros([Nt, Nx, Ny])\n",
    "    w[0,:,:] = u0;\n",
    "    b[0,:,:] = v0;\n",
    "    \n",
    "    delta_u = dt*Du;\n",
    "    delta_v = dt*Dv/tau;\n",
    "    cons1 = 1+2*delta_u / dx**2 +2 * delta_u/dy**2-delta_u*lamb/Du;\n",
    "    cons2 = 1+2*delta_v/dx**2+2*delta_v/dy**2+delta_v/Dv;\n",
    "    print(\"constantes\");\n",
    "    print(cons1);\n",
    "    print(cons2);\n",
    "    for k in range (Nt-1):\n",
    "        def func(wbk):\n",
    "            wbk = wbk.reshape(2*Nx, Ny);\n",
    "            wk = wbk[0:Nx,:];\n",
    "            bk = wbk[Nx:2*Nx,:];\n",
    "            # b[0], w[0] => i  , j-1\n",
    "            # b[1], w[1] => i-1, j\n",
    "            # b[2], w[2] => i  , j\n",
    "            # b[3], w[3] => i+1, j\n",
    "            # b[4], w[4] => i  , j+1\n",
    "    #        return np.array([(1+2*delta_u / dx**2 +2 * delta_u/dy**2-delta_u*lamb/Du + (delta_u*w[2]**2)/Du)*w[2]\n",
    "    #                    -delta_u*w[3]/dx**2-delta_u*w[1]/dx**2-delta_u*w[4]/dy**2-delta_u*w[0]/dy**2\n",
    "    #                    +delta_u*sigma*b[2]/Du + delta_u*kappa/Du - w_ijk\n",
    "    #                     ,\n",
    "    #                     (1+2*delta_v/dx**2+2*delta_v/dy**2+delta_v/Dv)*b[2]-delta_v*b[3]/dx**2\n",
    "    #                     -delta_v*b[1]/dx**2-delta_v*b[4]/dy**2-delta_v*b[0]/dy**2-delta_v*w[2]/Dv\n",
    "    #                     -b_ijk\n",
    "    #                    ]);\n",
    "            return np.array([np.multiply( cons1 + (delta_u*np.power(wk[:,:],2))/Du, wk[:,:])\n",
    "                    -delta_u*np.roll(wk[:,:], -1, axis=1)/dx**2-delta_u*np.roll(wk[:,:], 1, axis=1)\n",
    "                         /dx**2-delta_u*np.roll(wk[:,:], -1, axis=0)/dy**2-delta_u*np.roll(wk[:,:], 1, axis=0)/dy**2\n",
    "                    +delta_u*sigma*bk[:,:]/Du + delta_u*kappa/Du - w[k,:,:]\n",
    "                     ,\n",
    "                     cons2*bk[:,:]-delta_v*np.roll(bk[:,:], -1, axis=1)/dx**2\n",
    "                     -delta_v*np.roll(bk[:,:], 1, axis=1)/dx**2-delta_v*np.roll(bk[:,:], -1, axis=0)\n",
    "                         /dy**2-delta_v*np.roll(bk[:,:], 1, axis=0)/dy**2-delta_v*wk[:,:]/Dv\n",
    "                     -b[k,:,:]\n",
    "                    ]).ravel();\n",
    "        wk0 = np.ones([Nx, Ny]);\n",
    "        #wk0 = np.matrix ([[1,2,3,4],[5,6,7,8],[9,10,11,12],[13,14,15,16]]);\n",
    "        bk0 = wk0;\n",
    "        #[w[k+1,:,:], b[k+1,:,:]] = sp.optimize.fsolve(func, [wk0, bk0]);\n",
    "        #print(\"fsolve\")\n",
    "        temp = sp.optimize.fsolve(func, np.array([wk0, bk0]).ravel()).reshape(2,Nx,Ny);\n",
    "        #print(temp)\n",
    "        w[k+1,:,:] = temp[0,:,:];\n",
    "        b[k+1,:,:] = temp[1,:,:];\n",
    "    return w;\n",
    "        \n",
    "u0 = np.matrix([[2,3,5,1],[1,2,3,3],[2,3,4,1],[4,3,2,3]]);\n",
    "v0 = np.matrix([[1,3,1,4],[2,2,1,2],[2,3,1,4],[3,1,2,3]]);\n",
    "Du = 2;\n",
    "Dv = 2;\n",
    "print(u0);\n",
    "print(solve_backward(u0, v0, 1, 1, 1, 4, Du, Dv, 8, 2, 3, 3));"
   ]
  },
  {
   "cell_type": "markdown",
   "metadata": {},
   "source": [
    "## 3.- Método de las líneas"
   ]
  },
  {
   "cell_type": "markdown",
   "metadata": {
    "collapsed": false,
    "scrolled": true
   },
   "source": [
    "### a) Discretización y formulación del sistema"
   ]
  },
  {
   "cell_type": "markdown",
   "metadata": {},
   "source": [
    "Las ecuaciones originales eran\n",
    "\n",
    "$$ \\frac{\\partial u}{\\partial t} = D_u \\, (\\frac{\\partial^2 u}{\\partial x^2} + \\frac{\\partial^2 u}{\\partial y^2}) + \\lambda \\, u - u^3 - \\kappa - \\sigma v $$\n",
    "$$ \\tau \\, \\frac{\\partial v}{\\partial t} = D_v \\, (\\frac{\\partial^2 v}{\\partial x^2} + \\frac{\\partial^2 v}{\\partial y^2}) + u - v $$\n",
    "\n",
    "al discretizar quedan como\n",
    "\n",
    "$$ \\frac{\\partial u_{i,j}}{\\partial t} = D_u \\, \\left (\\frac{u_{i+1,j} - 2 \\, u_{i,j} + u_{i-1,j}}{\\Delta x^2} + \\frac{u_{i,j+1} - 2 \\, u_{i,j} + u_{i,j-1}}{\\Delta y^2} \\right ) + \\lambda \\, u_{i,j} - u^3_{i,j} - \\kappa - \\sigma v_{i,j} $$\n",
    "$$ \\frac{\\partial v_{i,j}}{\\partial t} = \\frac{1}{\\tau} \\, \\left ( D_v \\, \\left (\\frac{v_{i+1,j}- 2 \\, v_{i,j} + v_{i-1,j}}{\\Delta x^2} + \\frac{v_{i,j+1}- 2 \\, v_{i,j} + v_{i,j-1}}{\\Delta y^2} \\right ) + u_{i,j} - v_{i,j} \\right ) $$"
   ]
  },
  {
   "cell_type": "code",
   "execution_count": null,
   "metadata": {
    "collapsed": false
   },
   "outputs": [],
   "source": []
  },
  {
   "cell_type": "code",
   "execution_count": null,
   "metadata": {
    "collapsed": false
   },
   "outputs": [],
   "source": []
  },
  {
   "cell_type": "markdown",
   "metadata": {},
   "source": []
  },
  {
   "cell_type": "markdown",
   "metadata": {},
   "source": [
    "## Conclusiones\n",
    "\n",
    "###TODO"
   ]
  },
  {
   "cell_type": "markdown",
   "metadata": {},
   "source": [
    "## Referencias\n",
    "<div id='ref1'\\> [1] [IPython Notebook Documentation](http://ipython.readthedocs.org/en/stable/) IPython Documentation. *desc*. Revisado 16/12/2015\n",
    "<div id='ref1'\\> [2] [Python Documentation](https://docs.python.org/3/) Python Documentation. *desc*. Revisado 16/12/2015"
   ]
  },
  {
   "cell_type": "markdown",
   "metadata": {
    "collapsed": false
   },
   "source": [
    "## Anexos\n",
    "Comenzamos cargando los módulos necesarios:"
   ]
  },
  {
   "cell_type": "code",
   "execution_count": null,
   "metadata": {
    "collapsed": false
   },
   "outputs": [],
   "source": [
    "import numpy as np\n",
    "from scipy.optimize import fsolve\n",
    "from matplotlib import pyplot as plt\n",
    "from mpl_toolkits.mplot3d import Axes3D\n",
    "from matplotlib.colors import cnames\n",
    "from matplotlib import animation\n",
    "\n",
    "%matplotlib notebook\n",
    "#%load_ext memory_profiler"
   ]
  },
  {
   "cell_type": "markdown",
   "metadata": {},
   "source": [
    "<div id='an1'\\> \n",
    "### Métodos implementados:"
   ]
  },
  {
   "cell_type": "code",
   "execution_count": null,
   "metadata": {
    "collapsed": false
   },
   "outputs": [],
   "source": [
    "def euler_int(func, y0, t, h):\n",
    "    ys = np.zeros([t.shape[0],y0.shape[0]])\n",
    "    ys = np.float64(ys)\n",
    "    ys[0,:] = y0\n",
    "    for i in range(t.shape[0]-1):\n",
    "        ys[i+1,:] = ys[i,:] + h*func(t[i], ys[i,:])\n",
    "    return ys"
   ]
  },
  {
   "cell_type": "code",
   "execution_count": null,
   "metadata": {
    "collapsed": false
   },
   "outputs": [],
   "source": [
    "def mp_int(func, y0, t, h):\n",
    "    h2 = h/2\n",
    "    ys = np.zeros([t.shape[0],y0.shape[0]])\n",
    "    ys = np.float64(ys)\n",
    "    ys[0,:] = y0\n",
    "    for i in range(t.shape[0]-1):\n",
    "        k1 = ys[i,:] + h2*func(t[i], ys[i,:])\n",
    "        ys[i+1,:] = ys[i,:] + h*func(t[i] + h2 , k1)\n",
    "    return ys"
   ]
  },
  {
   "cell_type": "code",
   "execution_count": null,
   "metadata": {
    "collapsed": true
   },
   "outputs": [],
   "source": [
    "def RK4_int(func, y0, t, h):\n",
    "    h2 = h/2\n",
    "    ys = np.zeros([t.shape[0],y0.shape[0]])\n",
    "    ys = np.float64(ys)\n",
    "    ys[0,:] = y0\n",
    "    for i in range(t.shape[0]-1):\n",
    "        k1 = func(t[i], ys[i,:])\n",
    "        k2 = func(t[i] + h2, ys[i,:] + h2*k1)\n",
    "        k3 = func(t[i] + h2, ys[i,:] + h2*k2)\n",
    "        k4 = func(t[i] + h,  ys[i,:] + h*k3)\n",
    "        ys[i+1,:] = ys[i,:] + (h/6)*(k1 + 2*(k2 + k3) + k4)\n",
    "    return ys"
   ]
  },
  {
   "cell_type": "code",
   "execution_count": null,
   "metadata": {
    "collapsed": true
   },
   "outputs": [],
   "source": [
    "methods = {\"Euler\": euler_int, \"MidPoint\": mp_int, \"RK4\": RK4_int}"
   ]
  },
  {
   "cell_type": "markdown",
   "metadata": {},
   "source": [
    "<div id='an2'\\> \n",
    "### Métodos paralelos:"
   ]
  },
  {
   "cell_type": "code",
   "execution_count": null,
   "metadata": {
    "collapsed": true
   },
   "outputs": [],
   "source": [
    "#Retorna una función que ejecuta la función original en una matriz\n",
    "def mk_parallel_func(func):\n",
    "    def new_func(t, f, r): #r es un array ya creado, con las dimensiones correctas.\n",
    "        for i in range(r.shape[1]):\n",
    "            r[:,i] = func(t, f[:,i])\n",
    "        return r\n",
    "    return new_func"
   ]
  },
  {
   "cell_type": "code",
   "execution_count": null,
   "metadata": {
    "collapsed": false
   },
   "outputs": [],
   "source": [
    "def parallel_euler_int(func, y0, t, h):\n",
    "    ys = np.float64(np.zeros([t.shape[0], y0.shape[1], y0.shape[0]]))\n",
    "    rf = np.float64(np.zeros([y0.shape[1], y0.shape[0]]))\n",
    "    ys[0,:,:] = y0.T\n",
    "    vf = mk_parallel_func(func)\n",
    "    for i in range(t.shape[0]-1):\n",
    "        ys[i+1,:,:] = ys[i,:,:] + h * vf(t[0], ys[i,:,:], rf)#rf\n",
    "    return ys"
   ]
  },
  {
   "cell_type": "code",
   "execution_count": null,
   "metadata": {
    "collapsed": false
   },
   "outputs": [],
   "source": [
    "def parallel_mp_int(func, y0, t, h):\n",
    "    h2 = h/2\n",
    "    ys = np.float64(np.zeros([t.shape[0], y0.shape[1], y0.shape[0]]))\n",
    "    rf = np.float64(np.zeros([y0.shape[1], y0.shape[0]]))\n",
    "    ys[0,:,:] = y0.T\n",
    "    vf = mk_parallel_func(func)\n",
    "    for i in range(t.shape[0]-1):\n",
    "        k1 = ys[i,:,:] + h2*vf(t[i], ys[i,:,:], rf)\n",
    "        ys[i+1,:,:] = ys[i,:,:] + h*vf(t[i] + h2 , k1, rf)\n",
    "    return ys"
   ]
  },
  {
   "cell_type": "code",
   "execution_count": null,
   "metadata": {
    "collapsed": true
   },
   "outputs": [],
   "source": [
    "def parallel_RK4_int(func, y0, t, h):\n",
    "    h2 = h/2\n",
    "    ys = np.float64(np.zeros([t.shape[0], y0.shape[1], y0.shape[0]]))\n",
    "    rf = np.float64(np.zeros([y0.shape[1], y0.shape[0]]))\n",
    "    ys[0,:,:] = y0.T\n",
    "    vf = mk_parallel_func(func)\n",
    "    for i in range(t.shape[0]-1):\n",
    "        k1 = np.copy( vf(t[i], ys[i,:,:], rf) )\n",
    "        k2 = np.copy( vf(t[i] + h2, ys[i,:,:] + h2*k1, rf) )\n",
    "        k3 = np.copy( vf(t[i] + h2, ys[i,:,:] + h2*k2, rf) )\n",
    "        k4 = np.copy( vf(t[i] + h,  ys[i,:,:] + h*k3,  rf) )\n",
    "        ys[i+1,:,:] = ys[i,:,:] + (h/6)*(k1 + 2*(k2 + k3) + k4)\n",
    "    return ys"
   ]
  },
  {
   "cell_type": "markdown",
   "metadata": {},
   "source": [
    "<div id='an3'\\> \n",
    "### Visualización de resultados"
   ]
  },
  {
   "cell_type": "code",
   "execution_count": null,
   "metadata": {
    "collapsed": false
   },
   "outputs": [],
   "source": [
    "\"\"\"\n",
    "-> x_t\n",
    "   arreglo con las posiciones (x,y,z) de las trayectorias. Este puede ser\n",
    "   de dos dimensiones (len(t), 3) para una sola trayectoria, o puede ser \n",
    "   de tres dimensiones (len(t), 3, N_trajectories) para mas de una trayectoria\n",
    "-> N_trajectories\n",
    "   numero de trayectorias a visualizar\n",
    "-> xlim,ylim,zlim\n",
    "   limites en los ejes x,y,z de la animacion\n",
    "-> rotate\n",
    "   rotar mientras anima para mejores perspectivas\n",
    "\"\"\"\n",
    "def animate_lorenz(x_t, N_trajectories, xlim=(-20,70), ylim=(-35,35), zlim=(-35,35), rotate=False):\n",
    "    #setting it to correct format\n",
    "    if x_t.ndim==2:\n",
    "        x_t = np.array([x_t])\n",
    "    elif x_t.ndim==3: \n",
    "        x_t = np.rot90(x_t).T\n",
    "    else:\n",
    "        return -1\n",
    "    #setting the number of frames\n",
    "    frames = max(x_t.shape)\n",
    "    frames /= 2\n",
    "    frames = int(frames)\n",
    "    #set up figure & 3D axis for animation\n",
    "    fig = plt.figure()\n",
    "    ax = fig.add_axes([0, 0, 1, 1], projection='3d')\n",
    "    #ax.axis('off')\n",
    "\n",
    "    #choose a different color for each trajectory\n",
    "    colors = plt.cm.jet(np.linspace(0, 1, N_trajectories))\n",
    "\n",
    "    #set up lines and points\n",
    "    lines = sum([ax.plot([], [], [], '-', c=c)\n",
    "                 for c in colors], [])\n",
    "    pts = sum([ax.plot([], [], [], 'o', c=c)\n",
    "               for c in colors], [])\n",
    "\n",
    "    #prepare the axes limits\n",
    "    ax.set_xlim(xlim)\n",
    "    ax.set_ylim(ylim)\n",
    "    ax.set_zlim(zlim)\n",
    "\n",
    "    #set point-of-view: specified by (altitude degrees, azimuth degrees)\n",
    "    ax.view_init(30, 0)\n",
    "\n",
    "    #initialization function: plot the background of each frame\n",
    "    def init():\n",
    "        for line, pt in zip(lines, pts):\n",
    "            line.set_data([], [])\n",
    "            line.set_3d_properties([])\n",
    "\n",
    "            pt.set_data([], [])\n",
    "            pt.set_3d_properties([])\n",
    "        return lines + pts\n",
    "\n",
    "    #animation function.  This will be called sequentially with the frame number\n",
    "    def animate(i):\n",
    "        # we'll step two time-steps per frame.  This leads to nice results.\n",
    "        i = (2 * i) % x_t.shape[1]\n",
    "\n",
    "        for line, pt, xi in zip(lines, pts, x_t):\n",
    "            x, y, z = xi[:i].T\n",
    "            line.set_data(x, y)\n",
    "            line.set_3d_properties(z)\n",
    "\n",
    "            pt.set_data(x[-1:], y[-1:])\n",
    "            pt.set_3d_properties(z[-1:])\n",
    "\n",
    "        if rotate: ax.view_init(30, 0.3 * i)\n",
    "        fig.canvas.draw()\n",
    "        return lines + pts\n",
    "\n",
    "    #instantiate the animator.\n",
    "    anim = animation.FuncAnimation(fig, animate, init_func=init,\n",
    "                                   frames=frames, interval=30, blit=True, repeat=False)\n",
    "    #show it\n",
    "    ax.set_title('Lorenz Simulation')\n",
    "    ax.set_xlabel('x(t)')\n",
    "    ax.set_ylabel('y(t)')\n",
    "    ax.set_zlabel('z(t)')\n",
    "    plt.show()"
   ]
  },
  {
   "cell_type": "markdown",
   "metadata": {},
   "source": [
    "<div id='an4'\\> \n",
    "### Implementación de diferencias finitas"
   ]
  },
  {
   "cell_type": "code",
   "execution_count": null,
   "metadata": {
    "collapsed": false,
    "scrolled": true
   },
   "outputs": [],
   "source": [
    "def fin_dif(N, x0, xN, y0, yN, ydN, yddN):\n",
    "    if (N<4):\n",
    "        print('Error: Se necesita al menos 4 intervalos (5 puntos).');\n",
    "        return;\n",
    "    #inicializando vector de y con ceros.\n",
    "    y = np.zeros([N+1,1])\n",
    "    #tamaño del intervalo\n",
    "    h = (xN-x0)/N;\n",
    "    x = np.linspace(x0, xN, N+1);\n",
    "    \n",
    "    #estableciendo valores conocidos\n",
    "    y[0] = y0;\n",
    "    y[N] = yN;\n",
    "    y[N-1] = y[N]-ydN*h\n",
    "    y[N-2] = yddN*h**4+yN-2*ydN*h;\n",
    "    \n",
    "    M = (N+1)-4;\n",
    "    A = np.zeros([M, M]);\n",
    "    b = np.zeros([M, 1]);\n",
    "    \n",
    "    #creando matriz A\n",
    "    for i in range(M):\n",
    "        if (i >= 1):\n",
    "            A[i,i-1] = -1;\n",
    "        A[i,i] = 4;\n",
    "        if (i <= M-2):\n",
    "            A[i,i+1] = -2*h**4-6;\n",
    "        if (i <= M-3):\n",
    "            A[i,i+2] = 4;\n",
    "        if (i <= M-4):\n",
    "            A[i,i+3] = -1;\n",
    "            \n",
    "    #creando vector b\n",
    "    b[0] = y[0];\n",
    "    if (M >= 3):\n",
    "        b[M-3] = b[M-3] + y[N-2];\n",
    "    if (M >= 2):\n",
    "        b[M-2] = b[M-2] + y[N-1] - 4*y[N-2];\n",
    "    b[M-1] = b[M-1] + y[N] - 4*y[N-1] - (-2*h**4-6)*y[N-2];\n",
    "    \n",
    "    #convirtiendo la matriz A en triangular superior\n",
    "    for i in range(M-1):\n",
    "        A[i+1, :] = A[i+1, :]+A[i, :]/A[i,i];\n",
    "        b[i+1] = b[i+1]+b[i]/A[i,i];\n",
    "    \n",
    "    # Resolviendo el sistema de ecuaciones lineales con backward substitution\n",
    "    for i in range(M-1,-1,-1):\n",
    "        j = i+1;\n",
    "        if (i== M-1):\n",
    "            y[j] = b[i]/A[i,i]\n",
    "        elif (i== M-2):\n",
    "            y[j] = (b[i]-A[i,i+1]*y[j+1])/A[i,i];\n",
    "        elif (i== M-3):\n",
    "            y[j] = (b[i]-A[i,i+1]*y[j+1]-A[i,i+2]*y[j+2])/A[i,i];\n",
    "        else:\n",
    "            y[j] = (b[i]-A[i,i+1]*y[j+1]-A[i,i+2]*y[j+2]-A[i,i+3]*y[j+3])/A[i,i];\n",
    "            \n",
    "    #formateando output\n",
    "    f = np.zeros([N+1, 2]);\n",
    "    f[:,0] = x;\n",
    "    f[:,1] = y[:,0];\n",
    "    return f;"
   ]
  },
  {
   "cell_type": "markdown",
   "metadata": {},
   "source": [
    "<div id='an5'\\> \n",
    "### Utilidades\n",
    "Método que permite dibujar gráficos para la [respuesta 2.d](#se2d)"
   ]
  },
  {
   "cell_type": "code",
   "execution_count": null,
   "metadata": {
    "collapsed": false
   },
   "outputs": [],
   "source": [
    "def plot_2_D(f):\n",
    "    #Tamaño de los graficos\n",
    "    FIGSIZE = (12, 6)\n",
    "    plt.figure(figsize=FIGSIZE)\n",
    "    plt.plot(f[:,0], f[:,1])\n",
    "    plt.title('Gráfico de y(x) ')\n",
    "    plt.xlabel(\"x\")\n",
    "    plt.ylabel(\"y\")\n",
    "    plt.show()"
   ]
  },
  {
   "cell_type": "markdown",
   "metadata": {},
   "source": [
    "Calculo de valores propios del [Atractor de Lorenz](#se1.1):"
   ]
  },
  {
   "cell_type": "code",
   "execution_count": null,
   "metadata": {
    "collapsed": false
   },
   "outputs": [],
   "source": [
    "def get_eigvals_lorenz(Y_0):\n",
    "    A = np.array([\n",
    "            [-10, 10, 0],\n",
    "            [28-Y_0[2], -1, -Y_0[0]],\n",
    "            [Y_0[1], Y_0[0], -8/3]\n",
    "        ])\n",
    "    return np.linalg.eigvals(A)"
   ]
  },
  {
   "cell_type": "markdown",
   "metadata": {},
   "source": [
    "<div id='an5.3'\\> \n",
    "Código extraido de `U3W2_AdvancedApplications.ipynb` para el análisis de las regiones de estabilidad.\n",
    "Utilizado en la [respuesta 1.d](#se1d)"
   ]
  },
  {
   "cell_type": "code",
   "execution_count": null,
   "metadata": {
    "collapsed": false
   },
   "outputs": [],
   "source": [
    "def zplot2(z, ax=plt.gca(), lw=1.5, line_color='k'):\n",
    "  ax.plot(np.real(z), np.imag(z), line_color, lw=lw)\n",
    "def runge_kutta_stability_regions():\n",
    "  z = np.exp(1j * np.pi * np.arange(201)/100.)\n",
    "  r = z-1\n",
    "  d = 1-1./z;\n",
    "  # Order 1\n",
    "  W1, W2, W4 = [0], [0], [0]\n",
    "  for zi in z[1:]:\n",
    "    W1.append( W1[-1]-(1.+W1[-1]-zi) )\n",
    "  for zi in z[1:]:\n",
    "    W2.append( W2[-1]-(1+W2[-1]+.5*W2[-1]**2-zi**2)/(1+W2[-1]) )\n",
    "  for zi in z[1:]:\n",
    "    num = (1+W4[-1]+.5*W4[-1]**2+W4[-1]**3/6+W4[-1]**4/24-zi**4)\n",
    "    den = (1+W4[-1]+W4[-1]**2/2+W4[-1]**3/6.)\n",
    "    W4.append( W4[-1] - num/den )\n",
    "  return W1, W2, W4\n",
    "W1,W2,W4=runge_kutta_stability_regions()"
   ]
  },
  {
   "cell_type": "code",
   "execution_count": null,
   "metadata": {
    "collapsed": false
   },
   "outputs": [],
   "source": [
    "def plt_stability_region(colors, real, imag, h):\n",
    "    fig = plt.figure()\n",
    "    ax=fig.gca()\n",
    "    zplot2(W1,ax,line_color='r')\n",
    "    zplot2(W2,ax,line_color='g')\n",
    "    zplot2(W4,ax,line_color='b')\n",
    "    #Cambio de orden para una mejor visualizacion\n",
    "    for i, name in enumerate([\"Euler\", \"MidPoint\", \"RK4\"]):\n",
    "        plt.plot(real[name][h], imag[name][h], colors[i], ms=10, alpha=.4, label=name)\n",
    "    ax.axis(\"equal\")\n",
    "    ax.axis([-5, 2, -3.5, 3.5])\n",
    "    ax.grid(\"on\")\n",
    "    ax.set_title(\"Region de estabilidad para h=\"+str(h))\n",
    "    plt.legend(loc=3, borderaxespad=0.)\n",
    "    plt.show()"
   ]
  }
 ],
 "metadata": {
  "git": {
   "suppress_outputs": true
  },
  "kernelspec": {
   "display_name": "Python 3",
   "language": "python",
   "name": "python3"
  },
  "language_info": {
   "codemirror_mode": {
    "name": "ipython",
    "version": 3
   },
   "file_extension": ".py",
   "mimetype": "text/x-python",
   "name": "python",
   "nbconvert_exporter": "python",
   "pygments_lexer": "ipython3",
   "version": "3.4.3"
  }
 },
 "nbformat": 4,
 "nbformat_minor": 0
}
