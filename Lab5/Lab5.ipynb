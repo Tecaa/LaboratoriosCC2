{
 "cells": [
  {
   "cell_type": "markdown",
   "metadata": {},
   "source": [
    "<center>\n",
    "    <h1> ILI-286 - Laboratorio #5 </h1>\n",
    "    <h2> Sistemas de reacción-difusión </h2>\n",
    "</center>\n",
    "\n",
    "\n",
    "| Nombre | Rol | Email |\n",
    "| :----- | :-- | :---- |\n",
    "| Marco Rojas | 201073005-0 | marco.rojaso@alumnos.usm.cl |\n",
    "| Hernán Vargas | 201073009-3 | hernan.vargas@alumnos.usm.cl |"
   ]
  },
  {
   "cell_type": "markdown",
   "metadata": {},
   "source": [
    "## Tabla de contenidos\n",
    "* [Introducción](#intro)\n",
    "* [Desarrollo y analisís de resultados:](#desarrollo)\n",
    "  1. [Simulando Sistemas Caóticos](#se1)\n",
    "  2. [BVP de orden superior](#se2)\n",
    "* [Conclusiones](#Conclusiones)\n",
    "* [Referencias](#Referencias)\n",
    "* [Anexos](#Anexos) $\\leftarrow$ Comenzar ejecución aquí\n",
    "  * [Métodos implementados](#an1)\n",
    "  * [Métodos paralelos](#an2)\n",
    "  * [Visualización de resultados](#an3)\n",
    "  * [Implementación de diferencias finitas](#an4)\n",
    "  * [Utilidades](#an5)"
   ]
  },
  {
   "cell_type": "markdown",
   "metadata": {},
   "source": [
    "<div id='intro' />\n",
    "## Introducción\n",
    "#ToDo"
   ]
  },
  {
   "cell_type": "markdown",
   "metadata": {},
   "source": [
    "<div id='desarrollo'/>\n",
    "## Desarrollo y analisís de resultados"
   ]
  },
  {
   "cell_type": "markdown",
   "metadata": {},
   "source": [
    "<div id='se1'/>\n",
    "## 1.- Diferencias finitas en 2D\n",
    "\n",
    "$$ \\frac{\\partial u}{\\partial t} = D_u \\, (\\frac{\\partial^2 u}{\\partial x^2} + \\frac{\\partial^2 u}{\\partial y^2}) + \\lambda \\, u - u^3 - \\kappa - \\sigma v $$\n",
    "$$ \\tau \\, \\frac{\\partial v}{\\partial t} = D_v \\, (\\frac{\\partial^2 v}{\\partial x^2} + \\frac{\\partial^2 v}{\\partial y^2}) + u - v $$"
   ]
  },
  {
   "cell_type": "code",
   "execution_count": null,
   "metadata": {
    "collapsed": false
   },
   "outputs": [],
   "source": []
  },
  {
   "cell_type": "markdown",
   "metadata": {},
   "source": [
    "### a) Propuesta de discretización \"Forward\"\n",
    "Aproximaciones:\n",
    "$$ \\frac{\\partial^2 u}{\\partial x^2} = \\frac{u(x+\\Delta x, y, t)-2u(x,y,t)+u(x-\\Delta x,y,t)}{\\Delta x^2} $$\n",
    "\n",
    "$$ \\frac{\\partial^2 u}{\\partial y^2} = \\frac{u(x, y+\\Delta y, t)-2u(x,y,t)+u(x,y-\\Delta y,t)}{\\Delta y^2} $$\n",
    "\n",
    "$$ \\frac{\\partial u}{\\partial t} = \\frac{u(x,y,t+\\Delta t) - u(x,y,t)}{\\Delta t} $$\n",
    "\n",
    "Análogo para $v(x,y,t)$.\n",
    "\n",
    "Las ecuaciones quedan como:\n",
    "\n",
    "$$ \\frac{u(x,y,t+\\Delta t) - u(x,y,t)}{\\Delta t} = D_u \\, \\left (\\frac{u(x+\\Delta x, y, t)-2u(x,y,t)+u(x-\\Delta x,y,t)}{\\Delta x^2} + \\frac{u(x, y+\\Delta y, t)-2u(x,y,t)+u(x,y-\\Delta y,t)}{\\Delta y^2} \\right ) + \\lambda \\, u(x,y,t) - u(x,y,t)^3 - \\kappa - \\sigma v(x,y,t) $$\n",
    "\n",
    "$$ \\tau \\, \\frac{v(x,y,t+\\Delta t) - v(x,y,t)}{\\Delta t} = D_v \\, \\left ( \\frac{v(x+\\Delta x,y,t)-2v(x,y,t)+v(x-\\Delta x,y,t)}{\\Delta x^2} + \\frac{v(x,y+\\Delta y,t)-2v(x,y,t)+v(x,y-\\Delta y,t)}{\\Delta y^2} \\right ) + u(x,y,t) - v(x,y,t) $$\n",
    "\n",
    "Ahora si reemplazamos $w_{i,j,k} = u(x,y,t)$ y $ b_{i,j,k} = v(x,y,t) $, donde \n",
    "$$x= x_0+i \\,\\Delta x \\Rightarrow i= \\frac{x-x_0}{\\Delta x}$$\n",
    "$$y= y_0+j \\,\\Delta y \\Rightarrow j= \\frac{y-y_0}{\\Delta y}$$\n",
    "$$t= t_0+k \\,\\Delta t \\Rightarrow k= \\frac{t-t_0}{\\Delta t}$$\n",
    "\n",
    "Finalmente, obtenemos\n",
    "\n",
    "$$ \\frac{w_{i,j,k+1} - w_{i,j,k}}{\\Delta t} = D_u  \\, \\left (\\frac{w_{i+1, j, k}-2w_{i,j,k}+w_{i-1,j,k}}{\\Delta x^2} + \\frac{w_{i, j+1, k}-2w_{i,j,k}+w_{i,j-1,k}}{\\Delta y^2} \\right ) + \\lambda \\, w_{i,j,k} - w_{i,j,k}^3 - \\kappa - \\sigma b_{i,j,k} $$\n",
    "\n",
    "$$ \\tau \\, \\frac{b_{i,j,k+1} - b_{i,j,k}}{\\Delta t} = D_v \\, \\left ( \\frac{b_{i+1,j,k}-2b_{i,j,k}+b_{i-1,j,k}}{\\Delta x^2} + \\frac{b_{i,j+1,k}-2b_{i,j,k}+b_{i,j-1,k}}{\\Delta y^2} \\right ) + w_{i,j,k} - b_{i,j,k} $$\n",
    "\n",
    "Despejando para el tiempo $k+1$\n",
    "\n",
    "\n",
    "$$ w_{i,j,k+1} = \\Delta t \\left ( D_u  \\, \\left (\\frac{w_{i+1, j, k}-2w_{i,j,k}+w_{i-1,j,k}}{\\Delta x^2} + \\frac{w_{i, j+1, k}-2w_{i,j,k}+w_{i,j-1,k}}{\\Delta y^2} \\right ) + \\lambda \\, w_{i,j,k} - w_{i,j,k}^3 - \\kappa - \\sigma b_{i,j,k} \\right ) + w_{i,j,k} $$\n",
    "\n",
    "$$ b_{i,j,k+1} = \\frac{\\Delta t}{\\tau} \\left ( D_v \\, \\left ( \\frac{b_{i+1,j,k}-2b_{i,j,k}+b_{i-1,j,k}}{\\Delta x^2} + \\frac{b_{i,j+1,k}-2b_{i,j,k}+b_{i,j-1,k}}{\\Delta y^2} \\right ) + w_{i,j,k} - b_{i,j,k} \\right ) + b_{i,j,k}$$\n",
    "\n",
    "\n",
    "El error de aproximación es de: $O(\\Delta t) + O(\\Delta x^2) + O(\\Delta y^2)$"
   ]
  },
  {
   "cell_type": "markdown",
   "metadata": {},
   "source": [
    "### b) Implementación de esquema explícito"
   ]
  },
  {
   "cell_type": "code",
   "execution_count": null,
   "metadata": {
    "collapsed": false,
    "scrolled": true
   },
   "outputs": [],
   "source": [
    "def solve_forward(u0, v0, dx, dy, dt, Tf, Du, Dv, lamb, tau, sigma, kappa):\n",
    "    Ny = u0.shape[0];\n",
    "    Nx = u0.shape[1];\n",
    "    Nt = (int)(np.ceil(Tf/dt));\n",
    "    w = np.zeros([Nt, Nx, Ny])\n",
    "    b = np.zeros([Nt, Nx, Ny])\n",
    "    w[0,:,:] = u0;\n",
    "    b[0,:,:] = v0;\n",
    "    for k in range (Nt-1):\n",
    "        u_xx = (np.roll(w[k,:,:], 1, axis=1) - 2 * w[k,:,:] + np.roll(w[k,:,:], -1, axis=1))/dx**2;\n",
    "        u_yy = (np.roll(w[k,:,:], 1, axis=0) - 2 * w[k,:,:] + np.roll(w[k,:,:], -1, axis=0))/dy**2;\n",
    "        u_laplaciano = u_xx + u_yy;\n",
    "        \n",
    "        v_xx = (np.roll(b[k, :, :], 1, axis=1) - 2 * b[k,:,:] + np.roll(b[k,:,:], -1, axis=1))/dx**2;\n",
    "        v_yy = (np.roll(b[k, :, :], 1, axis=0) - 2 * b[k,:,:] + np.roll(b[k,:,:], -1, axis=0))/dy**2;\n",
    "        v_laplaciano = v_xx + v_yy\n",
    "        \n",
    "        w[k+1,:,:] = dt * (Du * u_laplaciano + lamb * w[k,:,:] - np.power(w[k,:,:],3) - kappa - sigma * b[k,:,:]) + w[k,:,:];\n",
    "        b[k+1,:,:] = dt/tau * (Dv * v_laplaciano + w[k,:,:] - b[k,:,:]) + b[k,:,:];\n",
    "        \n",
    "    return w;\n",
    "u0 = np.matrix([[2,3,5],[1,2,3],[2,3,4]]);\n",
    "v0 = np.matrix([[1,3,1],[2,2,1],[2,3,1]]);\n",
    "Du = np.matrix([[4,0,0],[0,7,0],[0,0,9]]);\n",
    "Dv = np.matrix([[2,0,0],[0,3,0],[0,0,2]]);\n",
    "print(u0);\n",
    "print(solve_forward(u0, v0, 1, 1, 1, 4, Du, Dv, 8, 5, 3, 3));"
   ]
  },
  {
   "cell_type": "markdown",
   "metadata": {},
   "source": [
    "### c) Propuesta de discretización \"Backward\"\n",
    "Aproximaciones:\n",
    "$$ \\frac{\\partial^2 u}{\\partial x^2} = \\frac{u(x+\\Delta x, y, t)-2u(x,y,t)+u(x-\\Delta x,y,t)}{\\Delta x^2} $$\n",
    "\n",
    "$$ \\frac{\\partial^2 u}{\\partial y^2} = \\frac{u(x, y+\\Delta y, t)-2u(x,y,t)+u(x,y-\\Delta y,t)}{\\Delta y^2} $$\n",
    "\n",
    "$$ \\frac{\\partial u}{\\partial t} = \\frac{u(x,y,t) - u(x,y,t-\\Delta t)}{\\Delta t} $$\n",
    "\n",
    "Análogo para $v(x,y,t)$.\n",
    "\n",
    "Las ecuaciones quedan como:\n",
    "\n",
    "$$ \\frac{u(x,y,t) - u(x,y,t - \\Delta t)}{\\Delta t} = D_u \\, \\left (\\frac{u(x+\\Delta x, y, t)-2u(x,y,t)+u(x-\\Delta x,y,t)}{\\Delta x^2} + \\frac{u(x, y+\\Delta y, t)-2u(x,y,t)+u(x,y-\\Delta y,t)}{\\Delta y^2} \\right ) + \\lambda \\, u(x,y,t) - u(x,y,t)^3 - \\kappa - \\sigma v(x,y,t) $$\n",
    "\n",
    "$$ \\tau \\, \\frac{v(x,y,t) - v(x,y,t-\\Delta t)}{\\Delta t} = D_v \\, \\left ( \\frac{v(x+\\Delta x,y,t)-2v(x,y,t)+v(x-\\Delta x,y,t)}{\\Delta x^2} + \\frac{v(x,y+\\Delta y,t)-2v(x,y,t)+v(x,y-\\Delta y,t)}{\\Delta y^2} \\right ) + u(x,y,t) - v(x,y,t) $$\n",
    "\n",
    "Ahora si reemplazamos $w_{i,j,k} = u(x,y,t)$ y $ b_{i,j,k} = v(x,y,t) $, donde \n",
    "$$x= x_0+i \\,\\Delta x \\Rightarrow i= \\frac{x-x_0}{\\Delta x}$$\n",
    "$$y= y_0+j \\,\\Delta y \\Rightarrow j= \\frac{y-y_0}{\\Delta y}$$\n",
    "$$t= t_0+k \\,\\Delta t \\Rightarrow k= \\frac{t-t_0}{\\Delta t}$$\n",
    "\n",
    "Finalmente, obtenemos\n",
    "\n",
    "$$ \\frac{w_{i,j,k} - w_{i,j,k-1}}{\\Delta t} = D_u  \\, \\left (\\frac{w_{i+1, j, k}-2w_{i,j,k}+w_{i-1,j,k}}{\\Delta x^2} + \\frac{w_{i, j+1, k}-2w_{i,j,k}+w_{i,j-1,k}}{\\Delta y^2} \\right ) + \\lambda \\, w_{i,j,k} - w_{i,j,k}^3 - \\kappa - \\sigma b_{i,j,k} $$\n",
    "\n",
    "$$ \\tau \\, \\frac{b_{i,j,k} - b_{i,j,k-1}}{\\Delta t} = D_v \\, \\left ( \\frac{b_{i+1,j,k}-2b_{i,j,k}+b_{i-1,j,k}}{\\Delta x^2} + \\frac{b_{i,j+1,k}-2b_{i,j,k}+b_{i,j-1,k}}{\\Delta y^2} \\right ) + w_{i,j,k} - b_{i,j,k} $$\n",
    "\n",
    "Cambiando $k$ por $k+1$\n",
    "\n",
    "$$ \\frac{w_{i,j,k+1} - w_{i,j,k}}{\\Delta t} = D_u  \\, \\left (\\frac{w_{i+1, j, k+1}-2w_{i,j,k+1}+w_{i-1,j,k+1}}{\\Delta x^2} + \\frac{w_{i, j+1, k+1}-2w_{i,j,k+1}+w_{i,j-1,k+1}}{\\Delta y^2} \\right ) + \\lambda \\, w_{i,j,k+1} - w_{i,j,k+1}^3 - \\kappa - \\sigma b_{i,j,k+1} $$\n",
    "\n",
    "$$ \\tau \\, \\frac{b_{i,j,k+1} - b_{i,j,k}}{\\Delta t} = D_v \\, \\left ( \\frac{b_{i+1,j,k+1}-2b_{i,j,k+1}+b_{i-1,j,k+1}}{\\Delta x^2} + \\frac{b_{i,j+1,k+1}-2b_{i,j,k+1}+b_{i,j-1,k+1}}{\\Delta y^2} \\right ) + w_{i,j,k+1} - b_{i,j,k+1} $$\n",
    "\n",
    "Despejando para el tiempo $k+1$\n",
    "\n",
    "\n",
    "$$ w_{i,j,k+1} - \\Delta t \\left ( D_u  \\, \\left (\\frac{w_{i+1, j, k+1}-2w_{i,j,k+1}+w_{i-1,j,k+1}}{\\Delta x^2} + \\frac{w_{i, j+1, k+1}-2w_{i,j,k+1}+w_{i,j-1,k+1}}{\\Delta y^2} \\right ) + \\lambda \\, w_{i,j,k+1} - w_{i,j,k+1}^3 - \\kappa - \\sigma b_{i,j,k+1} \\right ) = w_{i,j,k} $$\n",
    "\n",
    "$$ b_{i,j,k+1} - \\frac{\\Delta t}{\\tau} \\left ( D_v \\, \\left ( \\frac{b_{i+1,j,k+1}-2b_{i,j,k+1}+b_{i-1,j,k+1}}{\\Delta x^2} + \\frac{b_{i,j+1,k+1}-2b_{i,j,k+1}+b_{i,j-1,k+1}}{\\Delta y^2} \\right ) + w_{i,j,k+1} - b_{i,j,k+1} \\right )= b_{i,j,k}$$\n",
    "\n",
    "Agrupando incógnitas en la primera ecuación\n",
    "\n",
    "$$ w_{i,j,k+1} - \\frac{\\Delta t \\, D_u \\, w_{i+1, j, k+1}}{\\Delta x^2} + 2\\frac{\\Delta t \\, D_u \\, w_{i,j,k+1}}{\\Delta x^2} - \\frac{\\Delta t \\, D_u \\, w_{i-1,j,k+1}}{\\Delta x^2} - \\frac{\\Delta t \\, D_u \\, w_{i, j+1, k+1}}{\\Delta y^2}+2 \\frac{\\Delta t \\, D_u \\, w_{i,j,k+1}}{\\Delta y^2} - \\frac{\\Delta t \\, D_u \\, w_{i,j-1,k+1}}{\\Delta y^2} - \\Delta t \\, \\lambda \\, w_{i,j,k+1} + \\Delta t \\, w_{i,j,k+1}^3 + \\Delta t \\, \\kappa + \\Delta t \\, \\sigma b_{i,j,k+1}  = w_{i,j,k} $$\n",
    "\n",
    "\n",
    "$$ (1+ 2\\frac{\\Delta t \\, D_u}{\\Delta x^2} + 2 \\frac{\\Delta t \\, D_u}{\\Delta y^2 } - \\Delta t \\, \\lambda + \\Delta t \\, w_{i,j,k+1}^2) \\, w_{i,j,k+1} - \\frac{\\Delta t \\, D_u \\, w_{i+1, j, k+1}}{\\Delta x^2} - \\frac{\\Delta t \\, D_u \\, w_{i-1,j,k+1}}{\\Delta x^2} - \\frac{\\Delta t \\, D_u \\, w_{i, j+1, k+1}}{\\Delta y^2} - \\frac{\\Delta t \\, D_u \\, w_{i,j-1,k+1}}{\\Delta y^2} + \\Delta t \\, \\sigma b_{i,j,k+1} = w_{i,j,k} - \\Delta t \\, \\kappa $$\n",
    "\n",
    "Cambiando $ \\delta_u = \\displaystyle \\Delta t \\, D_u $\n",
    "\n",
    "$$ (1+ 2\\frac{\\delta_u}{\\Delta x^2} + 2 \\frac{\\delta_u}{\\Delta y^2 } - \\frac{\\delta_u}{D_u}  \\, \\lambda + \\frac{\\delta_u}{D_u} \\, w_{i,j,k+1}^2) \\, w_{i,j,k+1} - \\frac{\\delta_u \\, w_{i+1, j, k+1}}{\\Delta x^2} - \\frac{\\delta_u \\, w_{i-1,j,k+1}}{\\Delta x^2} - \\frac{\\delta_u \\, w_{i, j+1, k+1}}{\\Delta y^2} - \\frac{\\delta_u \\, w_{i,j-1,k+1}}{\\Delta y^2} + \\frac{\\delta_u}{D_u} \\, \\sigma b_{i,j,k+1} = w_{i,j,k} - \\frac{\\delta_u}{D_u} \\, \\kappa $$\n",
    "\n",
    "Agrupando incógnitas en la segunda ecuación\n",
    "\n",
    "$$ b_{i,j,k+1} - \\frac{\\Delta t \\, D_v \\, b_{i+1,j,k+1}}{\\Delta x^2 \\, \\tau}  + 2 \\frac{\\Delta t \\, D_v \\, b_{i,j,k+1}}{\\Delta x^2 \\, \\tau}  - \\frac{\\Delta t \\, D_v \\, b_{i-1,j,k+1}}{\\Delta x^2 \\, \\tau}  - \\frac{\\Delta t \\, D_v \\, b_{i,j+1,k+1}}{\\Delta y^2 \\, \\tau}  + 2 \\frac{\\Delta t \\, D_v \\, b_{i,j,k+1}}{\\Delta y^2 \\, \\tau} - \\frac{\\Delta t \\, D_v \\, b_{i,j-1,k+1}}{\\Delta y^2 \\, \\tau} - \\frac{\\Delta t}{\\tau} \\, w_{i,j,k+1} + \\frac{\\Delta t \\, b_{i,j,k+1}}{\\tau} = b_{i,j,k} $$\n",
    "\n",
    "$$ (1+ 2 \\frac{\\Delta t \\, D_v}{\\Delta x^2 \\, \\tau} + 2 \\frac{\\Delta t \\, D_v}{\\Delta y^2 \\, \\tau} + \\frac{\\Delta t}{\\tau}) \\, b_{i,j,k+1} - \\frac{\\Delta t \\, D_v}{\\Delta x^2 \\, \\tau} \\, b_{i+1,j,k+1}   - \\frac{\\Delta t \\, D_v}{\\Delta x^2 \\, \\tau} \\, b_{i-1,j,k+1} - \\frac{\\Delta t \\, D_v}{\\Delta y^2 \\, \\tau} \\, b_{i,j+1,k+1}  - \\frac{\\Delta t \\, D_v}{\\Delta y^2 \\, \\tau} \\, b_{i,j-1,k+1} - \\frac{\\Delta t}{\\tau} \\, w_{i,j,k+1} = b_{i,j,k} $$\n",
    "\n",
    "Cambiando $ \\delta_v = \\displaystyle \\frac{\\Delta t \\, D_v}{\\tau} $\n",
    "\n",
    "$$ (1+ 2 \\frac{\\delta_v}{\\Delta x^2} + 2 \\frac{\\delta_v}{\\Delta y^2} + \\frac{\\delta_v}{D_v}) \\, b_{i,j,k+1} - \\frac{\\delta_v}{\\Delta x^2} \\, b_{i+1,j,k+1}   - \\frac{\\delta_v}{\\Delta x^2} \\, b_{i-1,j,k+1} - \\frac{\\delta_v}{\\Delta y^2} \\, b_{i,j+1,k+1}  - \\frac{\\delta_v}{\\Delta y^2} \\, b_{i,j-1,k+1} - \\frac{\\delta_v}{D_v} \\, w_{i,j,k+1} = b_{i,j,k} $$\n",
    "\n",
    "El error de aproximación es de: $O(\\Delta t) + O(\\Delta x^2) + O(\\Delta y^2)$"
   ]
  },
  {
   "cell_type": "markdown",
   "metadata": {},
   "source": [
    "En resumen, usando $ \\delta_u = \\displaystyle \\Delta t \\, D_u $ y $ \\delta_v = \\displaystyle \\frac{\\Delta t \\, D_v}{\\tau} $ nos quedan finalmente el sistema de ecuaciones no-lineales\n",
    "\n",
    "$$ (1+ 2\\frac{\\delta_u}{\\Delta x^2} + 2 \\frac{\\delta_u}{\\Delta y^2 } - \\frac{\\delta_u}{D_u}  \\, \\lambda + \\frac{\\delta_u}{D_u} \\, w_{i,j,k+1}^2) \\, w_{i,j,k+1} - \\frac{\\delta_u \\, w_{i+1, j, k+1}}{\\Delta x^2} - \\frac{\\delta_u \\, w_{i-1,j,k+1}}{\\Delta x^2} - \\frac{\\delta_u \\, w_{i, j+1, k+1}}{\\Delta y^2} - \\frac{\\delta_u \\, w_{i,j-1,k+1}}{\\Delta y^2} + \\frac{\\delta_u}{D_u} \\, \\sigma b_{i,j,k+1} = w_{i,j,k} - \\frac{\\delta_u}{D_u} \\, \\kappa $$\n",
    "\n",
    "$$ (1+ 2 \\frac{\\delta_v}{\\Delta x^2} + 2 \\frac{\\delta_v}{\\Delta y^2} + \\frac{\\delta_v}{D_v}) \\, b_{i,j,k+1} - \\frac{\\delta_v}{\\Delta x^2} \\, b_{i+1,j,k+1}   - \\frac{\\delta_v}{\\Delta x^2} \\, b_{i-1,j,k+1} - \\frac{\\delta_v}{\\Delta y^2} \\, b_{i,j+1,k+1}  - \\frac{\\delta_v}{\\Delta y^2} \\, b_{i,j-1,k+1} - \\frac{\\delta_v}{D_v} \\, w_{i,j,k+1} = b_{i,j,k} $$"
   ]
  },
  {
   "cell_type": "code",
   "execution_count": null,
   "metadata": {
    "collapsed": true
   },
   "outputs": [],
   "source": []
  },
  {
   "cell_type": "markdown",
   "metadata": {},
   "source": [
    "### b) Implementación de esquema implícito"
   ]
  },
  {
   "cell_type": "code",
   "execution_count": null,
   "metadata": {
    "collapsed": false,
    "scrolled": false
   },
   "outputs": [],
   "source": [
    "def solve_backward(u0, v0, dx, dy, dt, Tf, Du, Dv, lamb, tau, sigma, kappa):\n",
    "    Nx = 10;\n",
    "    Ny = 10;\n",
    "    Nt = Tf/dt;\n",
    "    w = np.zeros([Nt, Nx, Ny])\n",
    "    v = np.zeros([Nt, Nx, Ny])\n",
    "    u[0,:,:] = u0;\n",
    "    v[0,:,:] = v0;\n",
    "def func(w,b):\n",
    "    # b[0], w[0] => i  , j-1\n",
    "    # b[1], w[1] => i-1, j\n",
    "    # b[2], w[2] => i  , j\n",
    "    # b[3], w[3] => i+1, j\n",
    "    # b[4], w[4] => i  , j+1\n",
    "    return np.array([(1+2*delta_u / delta_x**2 +2 * delta_u/delta_y**2-delta_u*lamb/Du + (delta_u*w[2]**2)/Du)*w[2]\n",
    "                    -delta_u*w[3]/delta_x**2-delta_u*w[1]/delta_x**2-delta_u*w[4]/delta_y**2-delta_u*w[0]/delta_y**2\n",
    "                    +delta_u*sigma*b[2]/Du + delta_u*kappa/Du - w_ijk\n",
    "                     ,\n",
    "                     (1+2*delta_v/delta_x**2+2*delta_v/delta_y**2+delta_v/Dv)*b[2]-delta_v*b[3]/delta_x**2\n",
    "                     -delta_v*b[1]/delta_x**2-delta_v*b[4]/delta_y**2-delta_v*b[0]/delta_y**2-delta_v*w[2]/Dv\n",
    "                     -b_ijk\n",
    "                    ]);\n",
    "sol = fsolve(func)"
   ]
  },
  {
   "cell_type": "code",
   "execution_count": null,
   "metadata": {
    "collapsed": false,
    "scrolled": true
   },
   "outputs": [],
   "source": []
  },
  {
   "cell_type": "markdown",
   "metadata": {},
   "source": [
    "### c) Profiling"
   ]
  },
  {
   "cell_type": "code",
   "execution_count": null,
   "metadata": {
    "collapsed": false
   },
   "outputs": [],
   "source": [
    "t_f = 1000\n",
    "h   = 0.02\n",
    "t   = np.linspace(0, t_f, (t_f/h)+1)\n",
    "#timeit\n",
    "for name in methods:\n",
    "    print(name + \":\")\n",
    "    %timeit methods[name](lorenz, Y_0, t, h)"
   ]
  },
  {
   "cell_type": "code",
   "execution_count": null,
   "metadata": {
    "collapsed": false
   },
   "outputs": [],
   "source": [
    "for name in methods:\n",
    "    print(name + \":\")\n",
    "    %memit methods[name](lorenz, Y_0, t, h)"
   ]
  },
  {
   "cell_type": "markdown",
   "metadata": {},
   "source": [
    "Del analisis de estos resultados podemos notar que la mejora en la simulación se paga con\n",
    "con tiempo computacional pues el método más lento es Runge Kutta de cuarto orden seguido\n",
    "por punto medio y por último el método de Euler que solo demora unos milisegundos.\n",
    "Aún así, combiene usar `RK4` o `Mid Point` pues sus resultados son mucho mejores como notamos \n",
    "en la sección anterior.\n",
    "\n",
    "Con respecto al uso de memoria no hay mucho que decir pues los tres métodos presentan un \n",
    "incremento de 0.00 MiB, lo que significa que gastan muy poca memoria como para detectar el \n",
    "cambio. "
   ]
  },
  {
   "cell_type": "markdown",
   "metadata": {},
   "source": [
    "<div id=\"se1d\">\n",
    "### d) Análisis de estabilidad\n",
    "Los códigos utilzados en esta sección pueden ser vistos en el [anexo](#an5.3). Primero calculamos la data a utilizar:"
   ]
  },
  {
   "cell_type": "code",
   "execution_count": null,
   "metadata": {
    "collapsed": false,
    "scrolled": true
   },
   "outputs": [],
   "source": [
    "Y_0 = np.array([1,1,1])\n",
    "t_f = 50\n",
    "hs = [0.1, 0.05, 0.03, 0.02, 0.01]\n",
    "ts = np.array([np.linspace(0, t_f, (t_f/h)+1) for h in hs])\n",
    "\n",
    "stability_data = {\"Euler\": {},\n",
    "                  \"MidPoint\": {},\n",
    "                  \"RK4\": {} }\n",
    "\n",
    "for i, h in enumerate(hs):\n",
    "    for name in methods:\n",
    "        stability_data[name][h] = methods[name](lorenz, Y_0, ts[i], h)"
   ]
  },
  {
   "cell_type": "markdown",
   "metadata": {},
   "source": [
    "Obtenemos los valores propios multiplicados por h:"
   ]
  },
  {
   "cell_type": "code",
   "execution_count": null,
   "metadata": {
    "collapsed": false
   },
   "outputs": [],
   "source": [
    "h_eig_valsR = {\"Euler\": {}, \"MidPoint\": {}, \"RK4\": {} }\n",
    "h_eig_valsI = {\"Euler\": {}, \"MidPoint\": {}, \"RK4\": {} }\n",
    "\n",
    "for i, h in enumerate(hs):\n",
    "    for name in methods:\n",
    "        h_eig_valsR[name][h] = np.float64(np.ones( stability_data[name][h].shape[0]*stability_data[name][h].shape[1] ))\n",
    "        h_eig_valsI[name][h] = np.float64(np.zeros( stability_data[name][h].shape[0]*stability_data[name][h].shape[1] ))\n",
    "        for j, v in enumerate(stability_data[name][h]):\n",
    "            if not(True in np.isnan(v) or True in np.isinf(v)): #Si el valor es inf o nan pasará a ser 1.\n",
    "                arr = h * get_eigvals_lorenz(v)  # Multiplicamos por h\n",
    "                for k in range(3):\n",
    "                    h_eig_valsR[name][h][3*j+k] = np.real(arr[k])  #Parte real.\n",
    "                    h_eig_valsR[name][h][3*j+k] = np.imag(arr[k])  #Parte imaginaria."
   ]
  },
  {
   "cell_type": "code",
   "execution_count": null,
   "metadata": {
    "collapsed": false
   },
   "outputs": [],
   "source": [
    "colors = ['.r', '.g', '.b']\n",
    "for h in hs:\n",
    "    plt_stability_region(colors, h_eig_valsR, h_eig_valsI, h)"
   ]
  },
  {
   "cell_type": "markdown",
   "metadata": {},
   "source": [
    "Tengamos en cuenta que por la implementación, cuando la matriz tiene un valor `Non a Number` (`NaN`) o infinito,\n",
    "se graficará un punto en $1 + 0i$, por lo que ese será otro indicador de error.\n",
    "\n",
    "Por los gráficos notamos como claramente mientras el valor de $h$ disminuye los puntos tienden a\n",
    "quedar dentro de las regiones de estabilidad.\n",
    "\n",
    "Para `RK4` vemos como desde $h<0.1$ el método debería dar resultados correctos (Puntos rojos dentro del area roja).\n",
    "\n",
    "Para `MidPoint` la gráfica queda dentro de la región de estabilidad desde $h<0.05$\n",
    "(Puntos verdes dentro del area verde).\n",
    "\n",
    "El peor caso sin duda es para el método de Euler pues no entra en la región de estabilidad hasta \n",
    "que $h < 0.02$ (Puntos azules dentro del area azúl)."
   ]
  },
  {
   "cell_type": "markdown",
   "metadata": {},
   "source": [
    "### e) Implementación paralela\n",
    "Ver [anexo 2](#an2)"
   ]
  },
  {
   "cell_type": "markdown",
   "metadata": {},
   "source": [
    "### f) Simulación de dos trayetorias"
   ]
  },
  {
   "cell_type": "code",
   "execution_count": null,
   "metadata": {
    "collapsed": true
   },
   "outputs": [],
   "source": [
    "d  = 0.00001\n",
    "tf = 50\n",
    "h  = 0.02\n",
    "t   =  np.linspace(0, tf, (tf/h)+1)\n",
    "\n",
    "#Condicion inicial a eleccion:\n",
    "Y0 = np.array([[1, 1, 1],\n",
    "               [1+d, 1+d, 1+d]])\n",
    "\n",
    "parallel_dataRK4   = parallel_RK4_int(lorenz, Y0, t, h)\n",
    "parallel_dataMP    = parallel_mp_int(lorenz, Y0, t, h)\n",
    "parallel_dataEuler = parallel_euler_int(lorenz, Y0, t, h)"
   ]
  },
  {
   "cell_type": "code",
   "execution_count": null,
   "metadata": {
    "collapsed": true
   },
   "outputs": [],
   "source": [
    "animate_lorenz(parallel_dataEuler, 2)\n",
    "animate_lorenz(parallel_dataMP, 2)\n",
    "animate_lorenz(parallel_dataRK4, 2)"
   ]
  },
  {
   "cell_type": "markdown",
   "metadata": {},
   "source": [
    "En este caso, a pesar de que las condiciones iniciales son muy cercanas, las gráficas se comportan\n",
    "de manera diferente despues de un tiempo. Esto demuestra que el atractor de Lorenz con los parametros \n",
    "seleccionados es caótico, soluciones diferentes se obtienen por una variación pequeña.\n",
    "\n",
    "Cada uno de los metodos presenta este comportamiento, a pesar que el metodo de euler es menos preciso\n",
    "las graficas comienzan a diverger más o menos en el mismo momento que en los otros dos."
   ]
  },
  {
   "cell_type": "markdown",
   "metadata": {},
   "source": [
    "### g) Simulación de veinte trayetorias con RK4"
   ]
  },
  {
   "cell_type": "code",
   "execution_count": null,
   "metadata": {
    "collapsed": false
   },
   "outputs": [],
   "source": [
    "#20 trayectorias entre 0.99999 y 1.00001:\n",
    "Y0 = np.array([[ (1-d)+(d*i/10)  for _ in range(3)] for i in range(20)])\n",
    "\n",
    "big_parallel_dataRK4 = parallel_RK4_int(lorenz, Y0, t, h)"
   ]
  },
  {
   "cell_type": "code",
   "execution_count": null,
   "metadata": {
    "collapsed": true
   },
   "outputs": [],
   "source": [
    "animate_lorenz(big_parallel_dataRK4, 20)"
   ]
  },
  {
   "cell_type": "markdown",
   "metadata": {},
   "source": [
    "Igual que en el caso anterior podemos ver como el comportamiento del atractor es diferente para cada\n",
    "valor a pesar de que están muy cercanos entre ellos. \n",
    "\n",
    "Despues de cierto tiempo todas las trayectorias comienzan a moverse de manera diferente. Aunque en \n",
    "un principio todas seguían el mismo camino, cuando se separan comienzan a tener una pequeña distancia\n",
    "entre ellas que mientras pasa el tiempo se incrementa mostrando las diferencias en su comportamiento."
   ]
  },
  {
   "cell_type": "markdown",
   "metadata": {},
   "source": [
    "<div id='se2'/>\n",
    "## 2.- BVP de orden superior"
   ]
  },
  {
   "cell_type": "markdown",
   "metadata": {},
   "source": [
    "### a) Transformación a IVP acoplado\n",
    "$$ y^{(4)}(x) = -y(x) $$\n",
    "$$ BC: \\{ y(0)= 0, y(2) =1, y'(2)=-1, y''(2)=1 \\} $$\n",
    "\n",
    "Se hace un cambio de variable:\n",
    "$$\n",
    "\\begin{matrix}\n",
    "y_1 & = & y \\\\\n",
    "y_2 & = & y' \\\\\n",
    "y_3 & = & y''\\\\\n",
    "y_4 & = & y^{(3)}\n",
    "\\end{matrix} \\quad \\Longrightarrow \\quad\n",
    "\\begin{matrix}\n",
    "y_1' & = & y' \\\\\n",
    "y_2' & = & y'' \\\\\n",
    "y_3' & = & y^{(3)}\\\\\n",
    "y_4' & = & y^{(4)}\n",
    "\\end{matrix} \\quad \\Longrightarrow \\quad\n",
    "\\begin{matrix}\n",
    "y_1' & = & y_2 \\\\\n",
    "y_2' & = & y_3 \\\\\n",
    "y_3' & = & y_4 \\\\\n",
    "y_4' & = & -y_1\n",
    "\\end{matrix}\n",
    "$$\n",
    "\n",
    "Luego: $ y_1(0)=0, y_2(0) = \\alpha , y_3(0) = \\beta, y_4(0) = \\gamma $\n",
    "\n",
    "Donde $\\alpha$, $\\beta$ y $\\gamma$ son valores tales que permiten que $y_1(2) = 1$, $y_2(2)=-1$ y $y_3(2)=1$ con algún algoritmo."
   ]
  },
  {
   "cell_type": "markdown",
   "metadata": {},
   "source": [
    "### b) Propuesta de cuarta derivada y discretización\n",
    "Para discretizar la ecuación anterior se debe recurrir a Backward Difference (BD), Forward Difference (FD) y Central Difference (CD). Para aproximar la cuarta derivada se van a necesitar 5 puntos como mínimo para la discretización. \n",
    "\n",
    "Lo primero es aproximar las primeras derivadas en los 5 puntos con BD y FD. Luego se aproximarán las segundas derivadas en los puntos intermedios de los 5 puntos (los 3 puntos intermedios). \n",
    "\n",
    "Para calcular las segundas derivadas se hará un CD entre la primera derivada del punto anterior calculada con BD y la primera derivada del punto siguiente calculada con FD, así logramos tener las segundas derivadas para los 3 puntos centrales. Tomando como punto central $x$ y intervalos $h$ las derivadas quedan como sigue:\n",
    "\n",
    "$$ \n",
    "\\begin{align}\n",
    "f''(x-h) &= \\displaystyle \\frac{f(x-2h) - 2f(x-h) + f(x)}{h^2} \\\\\n",
    "f''(x)   &= \\displaystyle \\frac{f(x-h) - 2f(x) + f(x+h)}{h^2} \\\\\n",
    "f''(x+h) &= \\displaystyle \\frac{f(x) - 2f(x+h) + f(x+2h)}{h^2}\n",
    "\\end{align}\n",
    "$$"
   ]
  },
  {
   "cell_type": "markdown",
   "metadata": {},
   "source": [
    "Una vez aproximadas las segundas derivadas, aproximaremos las terceras derivadas. Para ello se utilizará un FD y BW.\n",
    "\n",
    "$$ f^{(3)}(x-h) = \\displaystyle \\frac{f''(x) - f''(x-h)}{h} = \\displaystyle \\frac{f(x+h)-3f(x)+3f(x-h)-f(x-2h)}{h^3} $$\n",
    "$$ f^{(3)}(x+h) = \\displaystyle \\frac{f''(x+h) - f''(x)}{h} = \\displaystyle \\frac{f(x+2h)-3f(x+h)+3f(x)-f(x-h)}{h^3} $$"
   ]
  },
  {
   "cell_type": "markdown",
   "metadata": {},
   "source": [
    "Finalmente, aproximamos la cuarta derivada en $x$ con CD sobre estas dos derivadas.\n",
    "\n",
    "$$ f^{(4)}(x) = \\displaystyle \\frac{f^{(3)}(x+h) - f^{(3)}(x-h)}{2h} = \\displaystyle \\frac{f(x+2h)-4f(x+h)+6f(x)-4f(x-h)+f(x-2h)}{2h^4} $$"
   ]
  },
  {
   "cell_type": "markdown",
   "metadata": {},
   "source": [
    "Además, debemos aproximar la segunda derivada en el punto final. Para ello tendremos problemas si usamos CD ya que no tendremos los puntos que vienen más a la derecha, para ellos tendremos que usar 2 veces BD para sacar 2 primeras derivadas y aplicar BD sobre ellas, considerando $N$ intervalos obtendremos:\n",
    "\n",
    "$$ f''(x_{N}) = \\displaystyle \\frac{y_N-2y_{N-1}+y_{N-2}}{h^2} $$"
   ]
  },
  {
   "cell_type": "markdown",
   "metadata": {},
   "source": [
    "Ahora, discretizando nuestro problema con la aproximación conseguida y tomando $N+1$ puntos $(x_0,y_0),(x_1,y_1),\\cdots ,(x_{N-1},y_{N-1}),(x_{N},y_{N})$ con $h$ como intervalo obtenemos las siguientes ecuaciones:\n",
    "\n",
    "\\begin{align}\n",
    "y_0   &= 0 \\\\\n",
    "y_{i} &= \\displaystyle -\\frac{6y_{i}-4y_{i+1}+y_{i+2}-4y_{i-1}+y_{i-2}}{2h^4} \\\\\n",
    "y_{N} &= 1\n",
    "\\end{align}\n",
    "Además:\n",
    "$$ \\displaystyle \\frac{y_{N}-y_{N-1}}{h} = -1 $$\n",
    "$$ \\displaystyle \\frac{y_{N}-2y_{N-1}+y_{N-2}}{h^2} = 1 $$"
   ]
  },
  {
   "cell_type": "markdown",
   "metadata": {},
   "source": [
    "Reemplazando lo conocido y utilizando $ N + 1$ puntos y $N$ intervalos:\n",
    "\n",
    "$$ y_i = \\displaystyle -\\frac{6y_i-4y_{i+1}+1-4y_{i-1}}{2h^4} $$\n",
    "$$ \\displaystyle \\frac{1-y_{N-1}}{h} = -1 $$\n",
    "$$ \\displaystyle \\frac{1-2y_{N-1}+y_{N-2}}{h^2} = 1 $$\n",
    "\n",
    "Finalmente tenemos 3 ecuaciones y 3 incógnitas resolvibles con algún algoritmo de resolución de sistemas de ecuaciones lineales."
   ]
  },
  {
   "cell_type": "markdown",
   "metadata": {},
   "source": [
    "### c) Implementación de diferencias finitas\n",
    "Ver [Anexo 4](#an4)"
   ]
  },
  {
   "cell_type": "markdown",
   "metadata": {},
   "source": [
    "Lo primero que se hace para calcular la discretización por medio de diferencias finitas es obtener los valores de $y$ que son fácilmente calculables $y_0, y_N, y_{N-1}, y_{N-2}$ estos valores se obtienen con 4 de las  5 ecuaciones indicadas. En las demás ecuaciones se reemplazan estos valores obtenidos para que dejen de ser incógnitas y pasen a ser valores conocidos y se forma la matriz con las incógnitas restantes. \n",
    "\n",
    "Considerando todas las incógnitas y las condiciones $ y(0)=\\alpha_1, y'(2)=\\alpha_2, y''(2)=\\alpha_3, y(2)=\\alpha_4 $ la matriz queda así:\n",
    "\n",
    "$$\n",
    "\\begin{bmatrix} \n",
    "    1 & 0 & 0 & 0 & 0 & 0 & 0 & 0 & \\cdots & 0 \\\\\n",
    "    -1 & 4 & -2h^4-6 & 4 & -1 & 0 & 0 & 0 &  & 0 \\\\\n",
    "    0 & -1 & 4 & -2h^4-6 & 4 & -1 & 0 & 0 &  & 0 \\\\\n",
    "    0 & 0 & -1 & 4 & -2h^4-6 & 4 & -1 & 0 &  & 0 \\\\\n",
    "    \\vdots & & & & & \\vdots & & & & \\vdots \\\\\n",
    "    0 & \\cdots & 0 & 0 & 0 &  -1 & 4 & -2h^4-6 & 4 & -1 \\\\\n",
    "    0 & \\cdots & 0 & 0 & 0 & 0 & 0 & 0 & -1 & 1 \\\\\n",
    "    0 & \\cdots & 0 & 0 & 0 & 0 & 0 & 1 & -2 & 1 \\\\\n",
    "    0 & \\cdots & 0 & 0 & 0 & 0 & 0 & 0 & 0 & 1\n",
    "\\end{bmatrix}\n",
    "\\left[ \n",
    "\\begin{array}{c} \n",
    "y_0 \\\\ \n",
    "y_1 \\\\\n",
    "y_2 \\\\\n",
    "y_3 \\\\\n",
    "\\vdots \\\\\n",
    "y_{N-3} \\\\\n",
    "y_{N-2} \\\\\n",
    "y_{N-1} \\\\\n",
    "y_N \\\\\n",
    "\\end{array} \\right] \n",
    "=\n",
    "\\left[ \\begin{array}{c}\n",
    "\\alpha_1 \\\\ \n",
    "0 \\\\\n",
    "0 \\\\\n",
    "0 \\\\\n",
    "\\vdots \\\\\n",
    "0 \\\\\n",
    "\\alpha_2 \\, h \\\\\n",
    "\\alpha_3 \\, h^2 \\\\\n",
    "\\alpha_4 \\\\\n",
    "\\end{array} \\right]\n",
    "$$"
   ]
  },
  {
   "cell_type": "markdown",
   "metadata": {},
   "source": [
    "Luego se calculan los valores de 4 incógnitas como:\n",
    "\\begin{align}\n",
    "y_0     &= \\alpha_1 \\\\\n",
    "y_{N-2} &= \\alpha_3 \\, h^4 + \\alpha_4 -2\\alpha_2 \\, h \\\\\n",
    "y_{N-1} &= \\alpha_4 - \\alpha_2 \\, h \\\\\n",
    "y_N     &= \\alpha_4\n",
    "\\end{align}"
   ]
  },
  {
   "cell_type": "markdown",
   "metadata": {},
   "source": [
    "La matriz eliminando las 4 incógnitas fácilmente calculables queda así:\n",
    "$$\n",
    "\\begin{bmatrix} \n",
    "    4 & -2h^4-6 & 4 & -1 & 0 & 0 & 0 & 0 & \\cdots & 0 \\\\\n",
    "    -1 & 4 & -2h^4-6 & 4 & -1 & 0 & 0 & 0 &  & 0 \\\\\n",
    "    0 & -1 & 4 & -2h^4-6 & 4 & -1 & 0 & 0 &  & 0 \\\\\n",
    "    0 & 0 & -1 & 4 & -2h^4-6 & 4 & -1 & 0 &  & 0 \\\\\n",
    "    \\vdots & & & & & \\vdots & & & & \\vdots \\\\\n",
    "    0 & \\cdots & 0 & 0 & 0 &  -1 & 4 & -2h^4-6 & 4 & -1 \\\\\n",
    "    0 & \\cdots & 0 & 0 & 0 & 0 & -1 & 4 & -2h^4-6 & 4 \\\\\n",
    "    0 & \\cdots & 0 & 0 & 0 & 0 & 0 & -1 & 4 & -2h^4-6 \\\\\n",
    "    0 & \\cdots & 0 & 0 & 0 & 0 & 0 & 0 & -1 & 4\n",
    "\\end{bmatrix}\n",
    "\\left[ \n",
    "\\begin{array}{c} \n",
    "y_1 \\\\\n",
    "y_2 \\\\\n",
    "y_3 \\\\\n",
    "y_4 \\\\\n",
    "\\vdots \\\\\n",
    "y_{N-6} \\\\\n",
    "y_{N-5} \\\\\n",
    "y_{N-4} \\\\\n",
    "y_{N-3} \\\\\n",
    "\\end{array} \\right] \n",
    "=\n",
    "\\left[ \\begin{array}{c}\n",
    "\\alpha_1 \\\\ \n",
    "0 \\\\\n",
    "0 \\\\\n",
    "0 \\\\\n",
    "\\vdots \\\\\n",
    "0 \\\\\n",
    "y_{N-2}\\\\\n",
    "y_{N-1}-4y_{N-2}\\\\\n",
    "y_N-4y_{N-1}+(2h^4+6)y_{N-2}\\\\\n",
    "\\end{array} \\right]\n",
    "$$"
   ]
  },
  {
   "cell_type": "markdown",
   "metadata": {},
   "source": [
    "Al observar la matriz se puede notar que es casi una matriz triangular superior por lo que es fácilmente convertible en una. Entonces, con el fin de aprovechar las ventajas de una matriz triangular superior convertimos la matriz $A$ en una de ellas por operaciones filas, el vector $b$ obviamente también se ve afectado.\n",
    "\n",
    "Una vez tenemos nuestro sistema de ecuaciones lineales con una matriz triangular superior lo resolvemos con Backward Substitution obteniendo la solución final."
   ]
  },
  {
   "cell_type": "markdown",
   "metadata": {},
   "source": [
    "<div id=\"se2d\">\n",
    "### d) Ejecución del algoritmo"
   ]
  },
  {
   "cell_type": "code",
   "execution_count": null,
   "metadata": {
    "collapsed": false
   },
   "outputs": [],
   "source": [
    "#Límite izquierdo de x\n",
    "x0 = 0\n",
    "#Límite derecho de x\n",
    "xN = 2\n",
    "#Valor de y en el límite izquierdo\n",
    "y0 = 0\n",
    "#Valor de y en el límite derecho\n",
    "yN = 1\n",
    "#Valor de la derivada en el límite derecho\n",
    "ydN = -1\n",
    "#Valor de la segunda derivada en el límite derecho\n",
    "yddN = 1\n",
    "\n",
    "for N in [4, 8, 15, 100, 10000]:\n",
    "    f = fin_dif(N, x0, xN, y0, yN, ydN, yddN)\n",
    "    plot_2_D(f)"
   ]
  },
  {
   "cell_type": "markdown",
   "metadata": {},
   "source": [
    "Se puede apreciar claramente como al aumentar la cantidad de intervalos $N$ la precisión de la función a aproximar aumenta.\n",
    "\n",
    "En la primera figura ($N=4$) se puede ver una gráfica muy discretizada donde las líneas no se ven suaves.\n",
    "\n",
    "En la segunda figura ($N=8$) ya se puede observar mejor la forma de la función, quizás esta discretización ya baste para algunas aplicaciones obteniendo un valor de $y$ bastante cercano al real a pesar de que en la gráfica aún se pueden observar los límites de cada intervalo.\n",
    "\n",
    "En la tercera figura ($N=15$) con mucho detalle se pueden observar aún los intervalos de discretización pero ya tenemos una función que se puede apreciar correctamente.\n",
    "\n",
    "En la cuarta ($N=100$) y quinta ($N=10000$) figura ya no se pueden apreciar a simple vista donde comienza y termina un intervalo de discretización, la precisión de las aproximación es bastante alta en estos gráficos."
   ]
  },
  {
   "cell_type": "markdown",
   "metadata": {},
   "source": [
    "## Conclusiones\n",
    "\n",
    "En este informe se resolvieron ecuaciones diferenciales por métodos computacionales y se pudo determinar \n",
    "las carácteristicas que influyen en el desempeño de cada uno de los métodos utilizados y las condiciones\n",
    "que deben cumplir los problemas para obtener buenos resultados.\n",
    "\n",
    "Particularmente en el atractor de Lorenz notamos que para determinadas condiciones iniciales es muy difícil\n",
    "predecir el comportamiento de un fenómeno (caótico) y por ello las concluciones que podemos sacar sin una \n",
    "simulación son poco acertadas. Despues de graficar logramos una mejor comprensión del fenomenó en sí y \n",
    "concluimos que, a pesar de que el error del método utilizado para hacer la estimación debe ser tomado en\n",
    "cuenta, el comportamiento de las ecuaciones no cambia.\n",
    "\n",
    "Por otro lado, se ha aproximado una derivada de cuarto orden con una combinación de Backward, Central y Forward Difference y luego se ha aproximádo una solución numérica a una ecuación que incluía una cuarta derivada.\n",
    " Se generó un sistema de ecuaciones lineales y se expresó matricialmente. Aprovechando las cualidades de este sistema se resolvió con Backward Substitution. Finalmente, se analizó y graficó los resultados para distintos valores de precisión."
   ]
  },
  {
   "cell_type": "markdown",
   "metadata": {},
   "source": [
    "## Referencias\n",
    "<div id='ref1'\\> [1] [IPython Notebook Documentation](http://ipython.readthedocs.org/en/stable/) IPython Documentation. *desc*. Revisado 16/12/2015\n",
    "<div id='ref1'\\> [2] [Python Documentation](https://docs.python.org/3/) Python Documentation. *desc*. Revisado 16/12/2015"
   ]
  },
  {
   "cell_type": "markdown",
   "metadata": {
    "collapsed": false
   },
   "source": [
    "## Anexos\n",
    "Comenzamos cargando los módulos necesarios:"
   ]
  },
  {
   "cell_type": "code",
   "execution_count": null,
   "metadata": {
    "collapsed": false
   },
   "outputs": [],
   "source": [
    "import numpy as np\n",
    "from scipy import integrate\n",
    "from matplotlib import pyplot as plt\n",
    "from mpl_toolkits.mplot3d import Axes3D\n",
    "from matplotlib.colors import cnames\n",
    "from matplotlib import animation\n",
    "\n",
    "%matplotlib notebook\n",
    "#%load_ext memory_profiler"
   ]
  },
  {
   "cell_type": "markdown",
   "metadata": {},
   "source": [
    "<div id='an1'\\> \n",
    "### Métodos implementados:"
   ]
  },
  {
   "cell_type": "code",
   "execution_count": null,
   "metadata": {
    "collapsed": false
   },
   "outputs": [],
   "source": [
    "def euler_int(func, y0, t, h):\n",
    "    ys = np.zeros([t.shape[0],y0.shape[0]])\n",
    "    ys = np.float64(ys)\n",
    "    ys[0,:] = y0\n",
    "    for i in range(t.shape[0]-1):\n",
    "        ys[i+1,:] = ys[i,:] + h*func(t[i], ys[i,:])\n",
    "    return ys"
   ]
  },
  {
   "cell_type": "code",
   "execution_count": null,
   "metadata": {
    "collapsed": false
   },
   "outputs": [],
   "source": [
    "def mp_int(func, y0, t, h):\n",
    "    h2 = h/2\n",
    "    ys = np.zeros([t.shape[0],y0.shape[0]])\n",
    "    ys = np.float64(ys)\n",
    "    ys[0,:] = y0\n",
    "    for i in range(t.shape[0]-1):\n",
    "        k1 = ys[i,:] + h2*func(t[i], ys[i,:])\n",
    "        ys[i+1,:] = ys[i,:] + h*func(t[i] + h2 , k1)\n",
    "    return ys"
   ]
  },
  {
   "cell_type": "code",
   "execution_count": null,
   "metadata": {
    "collapsed": true
   },
   "outputs": [],
   "source": [
    "def RK4_int(func, y0, t, h):\n",
    "    h2 = h/2\n",
    "    ys = np.zeros([t.shape[0],y0.shape[0]])\n",
    "    ys = np.float64(ys)\n",
    "    ys[0,:] = y0\n",
    "    for i in range(t.shape[0]-1):\n",
    "        k1 = func(t[i], ys[i,:])\n",
    "        k2 = func(t[i] + h2, ys[i,:] + h2*k1)\n",
    "        k3 = func(t[i] + h2, ys[i,:] + h2*k2)\n",
    "        k4 = func(t[i] + h,  ys[i,:] + h*k3)\n",
    "        ys[i+1,:] = ys[i,:] + (h/6)*(k1 + 2*(k2 + k3) + k4)\n",
    "    return ys"
   ]
  },
  {
   "cell_type": "code",
   "execution_count": null,
   "metadata": {
    "collapsed": true
   },
   "outputs": [],
   "source": [
    "methods = {\"Euler\": euler_int, \"MidPoint\": mp_int, \"RK4\": RK4_int}"
   ]
  },
  {
   "cell_type": "markdown",
   "metadata": {},
   "source": [
    "<div id='an2'\\> \n",
    "### Métodos paralelos:"
   ]
  },
  {
   "cell_type": "code",
   "execution_count": null,
   "metadata": {
    "collapsed": true
   },
   "outputs": [],
   "source": [
    "#Retorna una función que ejecuta la función original en una matriz\n",
    "def mk_parallel_func(func):\n",
    "    def new_func(t, f, r): #r es un array ya creado, con las dimensiones correctas.\n",
    "        for i in range(r.shape[1]):\n",
    "            r[:,i] = func(t, f[:,i])\n",
    "        return r\n",
    "    return new_func"
   ]
  },
  {
   "cell_type": "code",
   "execution_count": null,
   "metadata": {
    "collapsed": false
   },
   "outputs": [],
   "source": [
    "def parallel_euler_int(func, y0, t, h):\n",
    "    ys = np.float64(np.zeros([t.shape[0], y0.shape[1], y0.shape[0]]))\n",
    "    rf = np.float64(np.zeros([y0.shape[1], y0.shape[0]]))\n",
    "    ys[0,:,:] = y0.T\n",
    "    vf = mk_parallel_func(func)\n",
    "    for i in range(t.shape[0]-1):\n",
    "        ys[i+1,:,:] = ys[i,:,:] + h * vf(t[0], ys[i,:,:], rf)#rf\n",
    "    return ys"
   ]
  },
  {
   "cell_type": "code",
   "execution_count": null,
   "metadata": {
    "collapsed": false
   },
   "outputs": [],
   "source": [
    "def parallel_mp_int(func, y0, t, h):\n",
    "    h2 = h/2\n",
    "    ys = np.float64(np.zeros([t.shape[0], y0.shape[1], y0.shape[0]]))\n",
    "    rf = np.float64(np.zeros([y0.shape[1], y0.shape[0]]))\n",
    "    ys[0,:,:] = y0.T\n",
    "    vf = mk_parallel_func(func)\n",
    "    for i in range(t.shape[0]-1):\n",
    "        k1 = ys[i,:,:] + h2*vf(t[i], ys[i,:,:], rf)\n",
    "        ys[i+1,:,:] = ys[i,:,:] + h*vf(t[i] + h2 , k1, rf)\n",
    "    return ys"
   ]
  },
  {
   "cell_type": "code",
   "execution_count": null,
   "metadata": {
    "collapsed": true
   },
   "outputs": [],
   "source": [
    "def parallel_RK4_int(func, y0, t, h):\n",
    "    h2 = h/2\n",
    "    ys = np.float64(np.zeros([t.shape[0], y0.shape[1], y0.shape[0]]))\n",
    "    rf = np.float64(np.zeros([y0.shape[1], y0.shape[0]]))\n",
    "    ys[0,:,:] = y0.T\n",
    "    vf = mk_parallel_func(func)\n",
    "    for i in range(t.shape[0]-1):\n",
    "        k1 = np.copy( vf(t[i], ys[i,:,:], rf) )\n",
    "        k2 = np.copy( vf(t[i] + h2, ys[i,:,:] + h2*k1, rf) )\n",
    "        k3 = np.copy( vf(t[i] + h2, ys[i,:,:] + h2*k2, rf) )\n",
    "        k4 = np.copy( vf(t[i] + h,  ys[i,:,:] + h*k3,  rf) )\n",
    "        ys[i+1,:,:] = ys[i,:,:] + (h/6)*(k1 + 2*(k2 + k3) + k4)\n",
    "    return ys"
   ]
  },
  {
   "cell_type": "markdown",
   "metadata": {},
   "source": [
    "<div id='an3'\\> \n",
    "### Visualización de resultados"
   ]
  },
  {
   "cell_type": "code",
   "execution_count": null,
   "metadata": {
    "collapsed": false
   },
   "outputs": [],
   "source": [
    "\"\"\"\n",
    "-> x_t\n",
    "   arreglo con las posiciones (x,y,z) de las trayectorias. Este puede ser\n",
    "   de dos dimensiones (len(t), 3) para una sola trayectoria, o puede ser \n",
    "   de tres dimensiones (len(t), 3, N_trajectories) para mas de una trayectoria\n",
    "-> N_trajectories\n",
    "   numero de trayectorias a visualizar\n",
    "-> xlim,ylim,zlim\n",
    "   limites en los ejes x,y,z de la animacion\n",
    "-> rotate\n",
    "   rotar mientras anima para mejores perspectivas\n",
    "\"\"\"\n",
    "def animate_lorenz(x_t, N_trajectories, xlim=(-20,70), ylim=(-35,35), zlim=(-35,35), rotate=False):\n",
    "    #setting it to correct format\n",
    "    if x_t.ndim==2:\n",
    "        x_t = np.array([x_t])\n",
    "    elif x_t.ndim==3: \n",
    "        x_t = np.rot90(x_t).T\n",
    "    else:\n",
    "        return -1\n",
    "    #setting the number of frames\n",
    "    frames = max(x_t.shape)\n",
    "    frames /= 2\n",
    "    frames = int(frames)\n",
    "    #set up figure & 3D axis for animation\n",
    "    fig = plt.figure()\n",
    "    ax = fig.add_axes([0, 0, 1, 1], projection='3d')\n",
    "    #ax.axis('off')\n",
    "\n",
    "    #choose a different color for each trajectory\n",
    "    colors = plt.cm.jet(np.linspace(0, 1, N_trajectories))\n",
    "\n",
    "    #set up lines and points\n",
    "    lines = sum([ax.plot([], [], [], '-', c=c)\n",
    "                 for c in colors], [])\n",
    "    pts = sum([ax.plot([], [], [], 'o', c=c)\n",
    "               for c in colors], [])\n",
    "\n",
    "    #prepare the axes limits\n",
    "    ax.set_xlim(xlim)\n",
    "    ax.set_ylim(ylim)\n",
    "    ax.set_zlim(zlim)\n",
    "\n",
    "    #set point-of-view: specified by (altitude degrees, azimuth degrees)\n",
    "    ax.view_init(30, 0)\n",
    "\n",
    "    #initialization function: plot the background of each frame\n",
    "    def init():\n",
    "        for line, pt in zip(lines, pts):\n",
    "            line.set_data([], [])\n",
    "            line.set_3d_properties([])\n",
    "\n",
    "            pt.set_data([], [])\n",
    "            pt.set_3d_properties([])\n",
    "        return lines + pts\n",
    "\n",
    "    #animation function.  This will be called sequentially with the frame number\n",
    "    def animate(i):\n",
    "        # we'll step two time-steps per frame.  This leads to nice results.\n",
    "        i = (2 * i) % x_t.shape[1]\n",
    "\n",
    "        for line, pt, xi in zip(lines, pts, x_t):\n",
    "            x, y, z = xi[:i].T\n",
    "            line.set_data(x, y)\n",
    "            line.set_3d_properties(z)\n",
    "\n",
    "            pt.set_data(x[-1:], y[-1:])\n",
    "            pt.set_3d_properties(z[-1:])\n",
    "\n",
    "        if rotate: ax.view_init(30, 0.3 * i)\n",
    "        fig.canvas.draw()\n",
    "        return lines + pts\n",
    "\n",
    "    #instantiate the animator.\n",
    "    anim = animation.FuncAnimation(fig, animate, init_func=init,\n",
    "                                   frames=frames, interval=30, blit=True, repeat=False)\n",
    "    #show it\n",
    "    ax.set_title('Lorenz Simulation')\n",
    "    ax.set_xlabel('x(t)')\n",
    "    ax.set_ylabel('y(t)')\n",
    "    ax.set_zlabel('z(t)')\n",
    "    plt.show()"
   ]
  },
  {
   "cell_type": "markdown",
   "metadata": {},
   "source": [
    "<div id='an4'\\> \n",
    "### Implementación de diferencias finitas"
   ]
  },
  {
   "cell_type": "code",
   "execution_count": null,
   "metadata": {
    "collapsed": false,
    "scrolled": true
   },
   "outputs": [],
   "source": [
    "def fin_dif(N, x0, xN, y0, yN, ydN, yddN):\n",
    "    if (N<4):\n",
    "        print('Error: Se necesita al menos 4 intervalos (5 puntos).');\n",
    "        return;\n",
    "    #inicializando vector de y con ceros.\n",
    "    y = np.zeros([N+1,1])\n",
    "    #tamaño del intervalo\n",
    "    h = (xN-x0)/N;\n",
    "    x = np.linspace(x0, xN, N+1);\n",
    "    \n",
    "    #estableciendo valores conocidos\n",
    "    y[0] = y0;\n",
    "    y[N] = yN;\n",
    "    y[N-1] = y[N]-ydN*h\n",
    "    y[N-2] = yddN*h**4+yN-2*ydN*h;\n",
    "    \n",
    "    M = (N+1)-4;\n",
    "    A = np.zeros([M, M]);\n",
    "    b = np.zeros([M, 1]);\n",
    "    \n",
    "    #creando matriz A\n",
    "    for i in range(M):\n",
    "        if (i >= 1):\n",
    "            A[i,i-1] = -1;\n",
    "        A[i,i] = 4;\n",
    "        if (i <= M-2):\n",
    "            A[i,i+1] = -2*h**4-6;\n",
    "        if (i <= M-3):\n",
    "            A[i,i+2] = 4;\n",
    "        if (i <= M-4):\n",
    "            A[i,i+3] = -1;\n",
    "            \n",
    "    #creando vector b\n",
    "    b[0] = y[0];\n",
    "    if (M >= 3):\n",
    "        b[M-3] = b[M-3] + y[N-2];\n",
    "    if (M >= 2):\n",
    "        b[M-2] = b[M-2] + y[N-1] - 4*y[N-2];\n",
    "    b[M-1] = b[M-1] + y[N] - 4*y[N-1] - (-2*h**4-6)*y[N-2];\n",
    "    \n",
    "    #convirtiendo la matriz A en triangular superior\n",
    "    for i in range(M-1):\n",
    "        A[i+1, :] = A[i+1, :]+A[i, :]/A[i,i];\n",
    "        b[i+1] = b[i+1]+b[i]/A[i,i];\n",
    "    \n",
    "    # Resolviendo el sistema de ecuaciones lineales con backward substitution\n",
    "    for i in range(M-1,-1,-1):\n",
    "        j = i+1;\n",
    "        if (i== M-1):\n",
    "            y[j] = b[i]/A[i,i]\n",
    "        elif (i== M-2):\n",
    "            y[j] = (b[i]-A[i,i+1]*y[j+1])/A[i,i];\n",
    "        elif (i== M-3):\n",
    "            y[j] = (b[i]-A[i,i+1]*y[j+1]-A[i,i+2]*y[j+2])/A[i,i];\n",
    "        else:\n",
    "            y[j] = (b[i]-A[i,i+1]*y[j+1]-A[i,i+2]*y[j+2]-A[i,i+3]*y[j+3])/A[i,i];\n",
    "            \n",
    "    #formateando output\n",
    "    f = np.zeros([N+1, 2]);\n",
    "    f[:,0] = x;\n",
    "    f[:,1] = y[:,0];\n",
    "    return f;"
   ]
  },
  {
   "cell_type": "markdown",
   "metadata": {},
   "source": [
    "<div id='an5'\\> \n",
    "### Utilidades\n",
    "Método que permite dibujar gráficos para la [respuesta 2.d](#se2d)"
   ]
  },
  {
   "cell_type": "code",
   "execution_count": null,
   "metadata": {
    "collapsed": false
   },
   "outputs": [],
   "source": [
    "def plot_2_D(f):\n",
    "    #Tamaño de los graficos\n",
    "    FIGSIZE = (12, 6)\n",
    "    plt.figure(figsize=FIGSIZE)\n",
    "    plt.plot(f[:,0], f[:,1])\n",
    "    plt.title('Gráfico de y(x) ')\n",
    "    plt.xlabel(\"x\")\n",
    "    plt.ylabel(\"y\")\n",
    "    plt.show()"
   ]
  },
  {
   "cell_type": "markdown",
   "metadata": {},
   "source": [
    "Calculo de valores propios del [Atractor de Lorenz](#se1.1):"
   ]
  },
  {
   "cell_type": "code",
   "execution_count": null,
   "metadata": {
    "collapsed": false
   },
   "outputs": [],
   "source": [
    "def get_eigvals_lorenz(Y_0):\n",
    "    A = np.array([\n",
    "            [-10, 10, 0],\n",
    "            [28-Y_0[2], -1, -Y_0[0]],\n",
    "            [Y_0[1], Y_0[0], -8/3]\n",
    "        ])\n",
    "    return np.linalg.eigvals(A)"
   ]
  },
  {
   "cell_type": "markdown",
   "metadata": {},
   "source": [
    "<div id='an5.3'\\> \n",
    "Código extraido de `U3W2_AdvancedApplications.ipynb` para el análisis de las regiones de estabilidad.\n",
    "Utilizado en la [respuesta 1.d](#se1d)"
   ]
  },
  {
   "cell_type": "code",
   "execution_count": null,
   "metadata": {
    "collapsed": false
   },
   "outputs": [],
   "source": [
    "def zplot2(z, ax=plt.gca(), lw=1.5, line_color='k'):\n",
    "  ax.plot(np.real(z), np.imag(z), line_color, lw=lw)\n",
    "def runge_kutta_stability_regions():\n",
    "  z = np.exp(1j * np.pi * np.arange(201)/100.)\n",
    "  r = z-1\n",
    "  d = 1-1./z;\n",
    "  # Order 1\n",
    "  W1, W2, W4 = [0], [0], [0]\n",
    "  for zi in z[1:]:\n",
    "    W1.append( W1[-1]-(1.+W1[-1]-zi) )\n",
    "  for zi in z[1:]:\n",
    "    W2.append( W2[-1]-(1+W2[-1]+.5*W2[-1]**2-zi**2)/(1+W2[-1]) )\n",
    "  for zi in z[1:]:\n",
    "    num = (1+W4[-1]+.5*W4[-1]**2+W4[-1]**3/6+W4[-1]**4/24-zi**4)\n",
    "    den = (1+W4[-1]+W4[-1]**2/2+W4[-1]**3/6.)\n",
    "    W4.append( W4[-1] - num/den )\n",
    "  return W1, W2, W4\n",
    "W1,W2,W4=runge_kutta_stability_regions()"
   ]
  },
  {
   "cell_type": "code",
   "execution_count": null,
   "metadata": {
    "collapsed": false
   },
   "outputs": [],
   "source": [
    "def plt_stability_region(colors, real, imag, h):\n",
    "    fig = plt.figure()\n",
    "    ax=fig.gca()\n",
    "    zplot2(W1,ax,line_color='r')\n",
    "    zplot2(W2,ax,line_color='g')\n",
    "    zplot2(W4,ax,line_color='b')\n",
    "    #Cambio de orden para una mejor visualizacion\n",
    "    for i, name in enumerate([\"Euler\", \"MidPoint\", \"RK4\"]):\n",
    "        plt.plot(real[name][h], imag[name][h], colors[i], ms=10, alpha=.4, label=name)\n",
    "    ax.axis(\"equal\")\n",
    "    ax.axis([-5, 2, -3.5, 3.5])\n",
    "    ax.grid(\"on\")\n",
    "    ax.set_title(\"Region de estabilidad para h=\"+str(h))\n",
    "    plt.legend(loc=3, borderaxespad=0.)\n",
    "    plt.show()"
   ]
  }
 ],
 "metadata": {
  "git": {
   "suppress_outputs": true
  },
  "kernelspec": {
   "display_name": "Python 3",
   "language": "python",
   "name": "python3"
  },
  "language_info": {
   "codemirror_mode": {
    "name": "ipython",
    "version": 3
   },
   "file_extension": ".py",
   "mimetype": "text/x-python",
   "name": "python",
   "nbconvert_exporter": "python",
   "pygments_lexer": "ipython3",
   "version": "3.4.3"
  }
 },
 "nbformat": 4,
 "nbformat_minor": 0
}
