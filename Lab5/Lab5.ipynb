{
 "cells": [
  {
   "cell_type": "markdown",
   "metadata": {},
   "source": [
    "<center>\n",
    "    <h1> ILI-286 - Laboratorio #5 </h1>\n",
    "    <h2> Sistemas de reacción-difusión </h2>\n",
    "</center>\n",
    "\n",
    "\n",
    "| Nombre | Rol | Email |\n",
    "| :----- | :-- | :---- |\n",
    "| Marco Rojas | 201073005-0 | marco.rojaso@alumnos.usm.cl |\n",
    "| Hernán Vargas | 201073009-3 | hernan.vargas@alumnos.usm.cl |"
   ]
  },
  {
   "cell_type": "markdown",
   "metadata": {},
   "source": [
    "## Tabla de contenidos\n",
    "* [Introducción](#intro)\n",
    "* [Desarrollo y analisís de resultados:](#desarrollo)\n",
    "  1. [Reacción-Difusión y formación de patrones de Turing](#se1)\n",
    "  2. [Diferencias Finitas en 2D](#se2)\n",
    "  3. [Método de las líneas](#se3)\n",
    "  4. [Simulaciones](#se4)\n",
    "* [Conclusiones](#Conclusiones)\n",
    "* [Referencias](#Referencias)\n",
    "* [Anexos](#Anexos) $\\leftarrow$ Comenzar ejecución aquí\n",
    "  * [Métodos implementados](#an1)\n",
    "  * [Utilidades](#an5)"
   ]
  },
  {
   "cell_type": "markdown",
   "metadata": {},
   "source": [
    "<div id='intro' />\n",
    "## Introducción\n",
    "En este laboratorio se analizará el sistema de reacción-difusión de Alan Turing que propone un modelo\n",
    "para la formación de pigmentación en animales, particularmente se trabajará con el modelo propuesto por \n",
    "FitzHugh-Nagumo donde interactuan dos ecuaciones diferenciales tanto espacialmente como en el tiempo.\n",
    "Se resolverá el problema por medio de diferencias finitas (tanto con discretizaciones backward como forward)\n",
    "y por el método de lineas, con estos resultados se estimará la incidencia de los parametros que afectan al\n",
    "sistema y los límites propios de los algoritmos."
   ]
  },
  {
   "cell_type": "markdown",
   "metadata": {},
   "source": [
    "<div id='desarrollo'/>\n",
    "## Desarrollo y analisís de resultados"
   ]
  },
  {
   "cell_type": "markdown",
   "metadata": {},
   "source": [
    "<div id='se1'/>\n",
    "## 1.- Reacción-Difusión y formación de patrones de Turing"
   ]
  },
  {
   "cell_type": "markdown",
   "metadata": {},
   "source": [
    "El sistema queda definido por:\n",
    "\\begin{align}\n",
    "    \\frac{\\partial u}{\\partial t} &= \n",
    "            D_u \\, (\\frac{\\partial^2 u}{\\partial x^2} + \\frac{\\partial^2 u}{\\partial y^2}) +\n",
    "            \\lambda \\, u - u^3 - \\kappa - \\sigma v \\\\\n",
    "    \\tau \\, \\frac{\\partial v}{\\partial t} &= \n",
    "            D_v \\, (\\frac{\\partial^2 v}{\\partial x^2} + \n",
    "            \\frac{\\partial^2 v}{\\partial y^2}) + u - v\n",
    "\\end{align}\n",
    "Se trabajará con condiciones de borde periodicas."
   ]
  },
  {
   "cell_type": "markdown",
   "metadata": {
    "collapsed": false
   },
   "source": [
    "<div id='se2'/>\n",
    "## 2.- Diferencias finitas en 2D"
   ]
  },
  {
   "cell_type": "markdown",
   "metadata": {},
   "source": [
    "### a) Propuesta de discretización \"Forward\"\n",
    "Utilizando las siguientes aproximaciones:\n",
    "\\begin{align}\n",
    "    \\frac{\\partial^2 u}{\\partial x^2} &= \\frac{u(x+\\Delta x, y, t)-2u(x,y,t)+u(x-\\Delta x,y,t)}{\\Delta x^2}\\\\\n",
    "    \\frac{\\partial^2 u}{\\partial y^2} &= \\frac{u(x, y+\\Delta y, t)-2u(x,y,t)+u(x,y-\\Delta y,t)}{\\Delta y^2}\\\\\n",
    "    \\frac{\\partial u}{\\partial t} &= \\frac{u(x,y,t+\\Delta t) - u(x,y,t)}{\\Delta t}\n",
    "\\end{align}\n",
    "\n",
    "Análogo para $v(x,y,t)$."
   ]
  },
  {
   "cell_type": "markdown",
   "metadata": {},
   "source": [
    "Las ecuaciones quedan como:\n",
    "\\begin{align}\n",
    "    \\frac{u(x,y,t+\\Delta t) - u(x,y,t)}{\\Delta t} =&, \n",
    "        D_u \\, \\left(\n",
    "            \\frac{u(x+\\Delta x, y, t)-2u(x,y,t)+u(x-\\Delta x,y,t)}{\\Delta x^2} + \n",
    "            \\frac{u(x, y+\\Delta y, t)-2u(x,y,t)+u(x,y-\\Delta y,t)}{\\Delta y^2} \n",
    "        \\right)\\\\\n",
    "        &+ \\lambda \\, u(x,y,t) - u(x,y,t)^3 - \\kappa - \\sigma v(x,y,t)\\\\\n",
    "    &\\\\\n",
    "    \\tau \\, \\frac{v(x,y,t+\\Delta t) - v(x,y,t)}{\\Delta t} =&\\,\n",
    "        D_v \\, \\left(\n",
    "            \\frac{v(x+\\Delta x,y,t)-2v(x,y,t)+v(x-\\Delta x,y,t)}{\\Delta x^2} + \n",
    "            \\frac{v(x,y+\\Delta y,t)-2v(x,y,t)+v(x,y-\\Delta y,t)}{\\Delta y^2} \n",
    "        \\right)\\\\\n",
    "        &+ u(x,y,t) - v(x,y,t)\n",
    "\\end{align}"
   ]
  },
  {
   "cell_type": "markdown",
   "metadata": {},
   "source": [
    "Ahora si reemplazamos $w_{i,j,k} = u(x,y,t)$ y $ b_{i,j,k} = v(x,y,t) $, donde:\n",
    "\\begin{matrix}\n",
    "    x= x_0+i \\,\\Delta x &\\Longrightarrow &i= \\frac{x-x_0}{\\Delta x}\\\\\n",
    "    y= y_0+j \\,\\Delta y &\\Longrightarrow &j= \\frac{y-y_0}{\\Delta y}\\\\\n",
    "    t= t_0+k \\,\\Delta t &\\Longrightarrow &k= \\frac{t-t_0}{\\Delta t}\n",
    "\\end{matrix}"
   ]
  },
  {
   "cell_type": "markdown",
   "metadata": {},
   "source": [
    "Finalmente, obtenemos:\n",
    "\n",
    "\\begin{align}\n",
    "    \\frac{w_{i,j,k+1} - w_{i,j,k}}{\\Delta t} &=\n",
    "        D_u  \\, \\left(\n",
    "            \\frac{w_{i+1, j, k}-2w_{i,j,k}+w_{i-1,j,k}}{\\Delta x^2} +\n",
    "            \\frac{w_{i, j+1, k}-2w_{i,j,k}+w_{i,j-1,k}}{\\Delta y^2} \\right)\n",
    "        + \\lambda \\, w_{i,j,k} - w_{i,j,k}^3 - \\kappa - \\sigma b_{i,j,k} \\\\\n",
    "    \\tau \\, \\frac{b_{i,j,k+1} - b_{i,j,k}}{\\Delta t} &=\n",
    "        D_v \\, \\left(\n",
    "            \\frac{b_{i+1,j,k}-2b_{i,j,k}+b_{i-1,j,k}}{\\Delta x^2} + \n",
    "            \\frac{b_{i,j+1,k}-2b_{i,j,k}+b_{i,j-1,k}}{\\Delta y^2} \\right)\n",
    "        + w_{i,j,k} - b_{i,j,k}\n",
    "\\end{align}"
   ]
  },
  {
   "cell_type": "markdown",
   "metadata": {},
   "source": [
    "Despejando para el tiempo $k+1$ nos queda:\n",
    "\\begin{align}\n",
    "    w_{i,j,k+1} &=\n",
    "        \\Delta t \\left(D_u  \\, \\left(\n",
    "            \\frac{w_{i+1, j, k}-2w_{i,j,k}+w_{i-1,j,k}}{\\Delta x^2} + \n",
    "            \\frac{w_{i, j+1, k}-2w_{i,j,k}+w_{i,j-1,k}}{\\Delta y^2} \\right)\n",
    "        + \\lambda \\, w_{i,j,k} - w_{i,j,k}^3 - \\kappa - \\sigma b_{i,j,k} \\right ) + w_{i,j,k} \\\\\n",
    "    b_{i,j,k+1} &= \n",
    "        \\frac{\\Delta t}{\\tau} \\left(D_v \\, \\left(\n",
    "            \\frac{b_{i+1,j,k}-2b_{i,j,k}+b_{i-1,j,k}}{\\Delta x^2} +\n",
    "            \\frac{b_{i,j+1,k}-2b_{i,j,k}+b_{i,j-1,k}}{\\Delta y^2} \\right)\n",
    "        + w_{i,j,k} - b_{i,j,k} \\right ) + b_{i,j,k}\n",
    "\\end{align}\n",
    "\n",
    "El error de aproximación es de: $O(\\Delta t) + O(\\Delta x^2) + O(\\Delta y^2)$"
   ]
  },
  {
   "cell_type": "markdown",
   "metadata": {},
   "source": [
    "### b) Implementación de esquema explícito \"Forward\""
   ]
  },
  {
   "cell_type": "code",
   "execution_count": null,
   "metadata": {
    "collapsed": false,
    "scrolled": true
   },
   "outputs": [],
   "source": [
    "def solve_forward(u0, v0, dx, dy, dt, Tf, Du, Dv, lamb, tau, sigma, kappa):\n",
    "    Ny = u0.shape[0];\n",
    "    Nx = u0.shape[1];\n",
    "    Nt = (int)(np.ceil(Tf/dt));\n",
    "    w = np.zeros([Nt, Nx, Ny])\n",
    "    b = np.zeros([Nt, Nx, Ny])\n",
    "    w[0,:,:] = u0;\n",
    "    b[0,:,:] = v0;\n",
    "    for k in range (Nt-1):\n",
    "        u_xx = (np.roll(w[k,:,:], 1, axis=1) - 2 * w[k,:,:] + np.roll(w[k,:,:], -1, axis=1))/dx**2;\n",
    "        u_yy = (np.roll(w[k,:,:], 1, axis=0) - 2 * w[k,:,:] + np.roll(w[k,:,:], -1, axis=0))/dy**2;\n",
    "        u_laplaciano = u_xx + u_yy;\n",
    "        \n",
    "        v_xx = (np.roll(b[k, :, :], 1, axis=1) - 2 * b[k,:,:] + np.roll(b[k,:,:], -1, axis=1))/dx**2;\n",
    "        v_yy = (np.roll(b[k, :, :], 1, axis=0) - 2 * b[k,:,:] + np.roll(b[k,:,:], -1, axis=0))/dy**2;\n",
    "        v_laplaciano = v_xx + v_yy\n",
    "        \n",
    "        w[k+1,:,:] = dt * (Du * u_laplaciano + lamb * w[k,:,:] - np.power(w[k,:,:],3) - kappa - sigma * b[k,:,:]) + w[k,:,:];\n",
    "        b[k+1,:,:] = dt/tau * (Dv * v_laplaciano + w[k,:,:] - b[k,:,:]) + b[k,:,:];\n",
    "        \n",
    "    return w;"
   ]
  },
  {
   "cell_type": "markdown",
   "metadata": {},
   "source": [
    "### c) Propuesta de discretización \"Backward\"\n",
    "Aproximaciones:\n",
    "\\begin{align}\n",
    "    \\frac{\\partial^2 u}{\\partial x^2} &= \\frac{u(x+\\Delta x, y, t)-2u(x,y,t)+u(x-\\Delta x,y,t)}{\\Delta x^2}\\\\\n",
    "    \\frac{\\partial^2 u}{\\partial y^2} &= \\frac{u(x, y+\\Delta y, t)-2u(x,y,t)+u(x,y-\\Delta y,t)}{\\Delta y^2}\\\\\n",
    "    \\frac{\\partial u}{\\partial t} &= \\frac{u(x,y,t) - u(x,y,t-\\Delta t)}{\\Delta t}\n",
    "\\end{align}\n",
    "\n",
    "Análogo para $v(x,y,t)$."
   ]
  },
  {
   "cell_type": "markdown",
   "metadata": {},
   "source": [
    "Las ecuaciones quedan como:\n",
    "\\begin{align}\n",
    "    \\frac{u(x,y,t) - u(x,y,t - \\Delta t)}{\\Delta t} =&\\,\n",
    "        D_u \\, \\left(\n",
    "            \\frac{u(x+\\Delta x, y, t)-2u(x,y,t)+u(x-\\Delta x,y,t)}{\\Delta x^2} + \n",
    "            \\frac{u(x, y+\\Delta y, t)-2u(x,y,t)+u(x,y-\\Delta y,t)}{\\Delta y^2} \\right)\\\\\n",
    "        &+ \\lambda \\, u(x,y,t) - u(x,y,t)^3 - \\kappa - \\sigma v(x,y,t)\\\\\n",
    "        &\\\\\n",
    "    \\tau \\, \\frac{v(x,y,t) - v(x,y,t-\\Delta t)}{\\Delta t} =&\\,\n",
    "        D_v \\, \\left(\n",
    "            \\frac{v(x+\\Delta x,y,t)-2v(x,y,t)+v(x-\\Delta x,y,t)}{\\Delta x^2} +\n",
    "            \\frac{v(x,y+\\Delta y,t)-2v(x,y,t)+v(x,y-\\Delta y,t)}{\\Delta y^2} \\right)\\\\\n",
    "        &+ u(x,y,t) - v(x,y,t)\n",
    "\\end{align}"
   ]
  },
  {
   "cell_type": "markdown",
   "metadata": {},
   "source": [
    "Ahora si reemplazamos $w_{i,j,k} = u(x,y,t)$ y $ b_{i,j,k} = v(x,y,t) $, donde:\n",
    "\\begin{matrix}\n",
    "    x= x_0+i \\,\\Delta x &\\Longrightarrow &i= \\frac{x-x_0}{\\Delta x}\\\\\n",
    "    y= y_0+j \\,\\Delta y &\\Longrightarrow &j= \\frac{y-y_0}{\\Delta y}\\\\\n",
    "    t= t_0+k \\,\\Delta t &\\Longrightarrow &k= \\frac{t-t_0}{\\Delta t}\n",
    "\\end{matrix}"
   ]
  },
  {
   "cell_type": "markdown",
   "metadata": {},
   "source": [
    "Finalmente, obtenemos:\n",
    "\\begin{align}\n",
    "    \\frac{w_{i,j,k} - w_{i,j,k-1}}{\\Delta t} &=\n",
    "        D_u  \\, \\left(\n",
    "            \\frac{w_{i+1, j, k}-2w_{i,j,k}+w_{i-1,j,k}}{\\Delta x^2} +\n",
    "            \\frac{w_{i, j+1, k}-2w_{i,j,k}+w_{i,j-1,k}}{\\Delta y^2} \\right)\n",
    "        + \\lambda \\, w_{i,j,k} - w_{i,j,k}^3 - \\kappa - \\sigma b_{i,j,k}\\\\\n",
    "    \\tau \\, \\frac{b_{i,j,k} - b_{i,j,k-1}}{\\Delta t} &=\n",
    "        D_v \\, \\left(\n",
    "            \\frac{b_{i+1,j,k}-2b_{i,j,k}+b_{i-1,j,k}}{\\Delta x^2} + \n",
    "            \\frac{b_{i,j+1,k}-2b_{i,j,k}+b_{i,j-1,k}}{\\Delta y^2} \\right)\n",
    "        + w_{i,j,k} - b_{i,j,k}\n",
    "\\end{align}"
   ]
  },
  {
   "cell_type": "markdown",
   "metadata": {},
   "source": [
    "Cambiando $k$ por $k+1$:\n",
    "\\begin{align}\n",
    "    \\frac{w_{i,j,k+1} - w_{i,j,k}}{\\Delta t} &=\n",
    "        D_u  \\, \\left(\n",
    "            \\frac{w_{i+1, j, k+1}-2w_{i,j,k+1}+w_{i-1,j,k+1}}{\\Delta x^2} +\n",
    "            \\frac{w_{i, j+1, k+1}-2w_{i,j,k+1}+w_{i,j-1,k+1}}{\\Delta y^2} \\right)\n",
    "        + \\lambda \\, w_{i,j,k+1} - w_{i,j,k+1}^3 - \\kappa - \\sigma b_{i,j,k+1}\\\\\n",
    "    \\tau \\, \\frac{b_{i,j,k+1} - b_{i,j,k}}{\\Delta t} &=\n",
    "        D_v \\, \\left(\n",
    "            \\frac{b_{i+1,j,k+1}-2b_{i,j,k+1}+b_{i-1,j,k+1}}{\\Delta x^2} +\n",
    "            \\frac{b_{i,j+1,k+1}-2b_{i,j,k+1}+b_{i,j-1,k+1}}{\\Delta y^2} \\right)\n",
    "        + w_{i,j,k+1} - b_{i,j,k+1}\n",
    "\\end{align}        "
   ]
  },
  {
   "cell_type": "markdown",
   "metadata": {},
   "source": [
    "Despejando para el tiempo $k+1$:\n",
    "\n",
    "\\begin{align}\n",
    "    w_{i,j,k} &= \n",
    "        w_{i,j,k+1} - \\Delta t \\left ( D_u  \\, \\left(\n",
    "            \\frac{w_{i+1, j, k+1}-2w_{i,j,k+1}+w_{i-1,j,k+1}}{\\Delta x^2} +\n",
    "            \\frac{w_{i, j+1, k+1}-2w_{i,j,k+1}+w_{i,j-1,k+1}}{\\Delta y^2} \\right)\n",
    "        + \\lambda \\, w_{i,j,k+1} - w_{i,j,k+1}^3 - \\kappa - \\sigma b_{i,j,k+1} \\right )\\\\\n",
    "    b_{i,j,k} &= \n",
    "        b_{i,j,k+1} - \\frac{\\Delta t}{\\tau} \\left( D_v \\, \\left(\n",
    "            \\frac{b_{i+1,j,k+1}-2b_{i,j,k+1}+b_{i-1,j,k+1}}{\\Delta x^2} +\n",
    "            \\frac{b_{i,j+1,k+1}-2b_{i,j,k+1}+b_{i,j-1,k+1}}{\\Delta y^2} \\right)\n",
    "        + w_{i,j,k+1} - b_{i,j,k+1} \\right )\n",
    "\\end{align}"
   ]
  },
  {
   "cell_type": "markdown",
   "metadata": {},
   "source": [
    "Agrupando incógnitas en la primera ecuación\n",
    "\\begin{align}\n",
    "    w_{i,j,k} =&\\,\n",
    "        w_{i,j,k+1} - \\frac{\\Delta t \\, D_u \\, w_{i+1, j, k+1}}{\\Delta x^2} + \n",
    "        2\\frac{\\Delta t \\, D_u \\, w_{i,j,k+1}}{\\Delta x^2} - \n",
    "        \\frac{\\Delta t \\, D_u \\, w_{i-1,j,k+1}}{\\Delta x^2} - \n",
    "        \\frac{\\Delta t \\, D_u \\, w_{i, j+1, k+1}}{\\Delta y^2} +\n",
    "        2 \\frac{\\Delta t \\, D_u \\, w_{i,j,k+1}}{\\Delta y^2} -\n",
    "        \\frac{\\Delta t \\, D_u \\, w_{i,j-1,k+1}}{\\Delta y^2}\\\\\n",
    "        &- \\Delta t \\, \\lambda \\, w_{i,j,k+1} + \\Delta t \\, w_{i,j,k+1}^3 + \n",
    "        \\Delta t \\, \\kappa + \\Delta t \\, \\sigma b_{i,j,k+1}\\\\\n",
    "    &\\\\\n",
    "     w_{i,j,k} - \\Delta t \\, \\kappa =&\\,\n",
    "         (1+ 2\\frac{\\Delta t \\, D_u}{\\Delta x^2} + \n",
    "         2 \\frac{\\Delta t \\, D_u}{\\Delta y^2 } - \n",
    "         \\Delta t \\, \\lambda + \\Delta t \\, w_{i,j,k+1}^2) \\, w_{i,j,k+1} -\n",
    "         \\frac{\\Delta t \\, D_u \\, w_{i+1, j, k+1}}{\\Delta x^2} -\n",
    "         \\frac{\\Delta t \\, D_u \\, w_{i-1,j,k+1}}{\\Delta x^2} -\n",
    "         \\frac{\\Delta t \\, D_u \\, w_{i, j+1, k+1}}{\\Delta y^2}\n",
    "         - \\frac{\\Delta t \\, D_u \\, w_{i,j-1,k+1}}{\\Delta y^2} \\\\\n",
    "         &+ \\Delta t \\, \\sigma b_{i,j,k+1}\\\\\n",
    "\\end{align}"
   ]
  },
  {
   "cell_type": "markdown",
   "metadata": {},
   "source": [
    "Cambiando $ \\delta_u = \\Delta t \\, D_u $:\n",
    "\n",
    "$$ (1+ 2\\frac{\\delta_u}{\\Delta x^2} + 2 \\frac{\\delta_u}{\\Delta y^2 } - \\frac{\\delta_u}{D_u}  \\, \\lambda + \\frac{\\delta_u}{D_u} \\, w_{i,j,k+1}^2) \\, w_{i,j,k+1} - \\frac{\\delta_u \\, w_{i+1, j, k+1}}{\\Delta x^2} - \\frac{\\delta_u \\, w_{i-1,j,k+1}}{\\Delta x^2} - \\frac{\\delta_u \\, w_{i, j+1, k+1}}{\\Delta y^2} - \\frac{\\delta_u \\, w_{i,j-1,k+1}}{\\Delta y^2} + \\frac{\\delta_u}{D_u} \\, \\sigma b_{i,j,k+1} = w_{i,j,k} - \\frac{\\delta_u}{D_u} \\, \\kappa $$\n"
   ]
  },
  {
   "cell_type": "markdown",
   "metadata": {},
   "source": [
    "Agrupando incógnitas en la segunda ecuación\n",
    "\\begin{align}\n",
    "     b_{i,j,k} &=\n",
    "         b_{i,j,k+1} - \\frac{\\Delta t \\, D_v \\, b_{i+1,j,k+1}}{\\Delta x^2 \\, \\tau} +\n",
    "         2 \\frac{\\Delta t \\, D_v \\, b_{i,j,k+1}}{\\Delta x^2 \\, \\tau} -\n",
    "         \\frac{\\Delta t \\, D_v \\, b_{i-1,j,k+1}}{\\Delta x^2 \\, \\tau} -\n",
    "         \\frac{\\Delta t \\, D_v \\, b_{i,j+1,k+1}}{\\Delta y^2 \\, \\tau} +\n",
    "         2 \\frac{\\Delta t \\, D_v \\, b_{i,j,k+1}}{\\Delta y^2 \\, \\tau} -\n",
    "         \\frac{\\Delta t \\, D_v \\, b_{i,j-1,k+1}}{\\Delta y^2 \\, \\tau} -\n",
    "         \\frac{\\Delta t}{\\tau} \\, w_{i,j,k+1} + \\frac{\\Delta t \\, b_{i,j,k+1}}{\\tau}\\\\\n",
    "     b_{i,j,k} &=\n",
    "         (1+ 2 \\frac{\\Delta t \\, D_v}{\\Delta x^2 \\, \\tau} +\n",
    "         2 \\frac{\\Delta t \\, D_v}{\\Delta y^2 \\, \\tau} +\n",
    "         \\frac{\\Delta t}{\\tau}) \\, b_{i,j,k+1} -\n",
    "         \\frac{\\Delta t \\, D_v}{\\Delta x^2 \\, \\tau} \\, b_{i+1,j,k+1} -\n",
    "         \\frac{\\Delta t \\, D_v}{\\Delta x^2 \\, \\tau} \\, b_{i-1,j,k+1} -\n",
    "         \\frac{\\Delta t \\, D_v}{\\Delta y^2 \\, \\tau} \\, b_{i,j+1,k+1} -\n",
    "         \\frac{\\Delta t \\, D_v}{\\Delta y^2 \\, \\tau} \\, b_{i,j-1,k+1} -\n",
    "         \\frac{\\Delta t}{\\tau} \\, w_{i,j,k+1}\n",
    "\\end{align}"
   ]
  },
  {
   "cell_type": "markdown",
   "metadata": {},
   "source": [
    "Cambiando $ \\delta_v = \\displaystyle \\frac{\\Delta t \\, D_v}{\\tau} $\n",
    "\n",
    "$$ (1+ 2 \\frac{\\delta_v}{\\Delta x^2} + 2 \\frac{\\delta_v}{\\Delta y^2} + \\frac{\\delta_v}{D_v}) \\, b_{i,j,k+1} - \\frac{\\delta_v}{\\Delta x^2} \\, b_{i+1,j,k+1}   - \\frac{\\delta_v}{\\Delta x^2} \\, b_{i-1,j,k+1} - \\frac{\\delta_v}{\\Delta y^2} \\, b_{i,j+1,k+1}  - \\frac{\\delta_v}{\\Delta y^2} \\, b_{i,j-1,k+1} - \\frac{\\delta_v}{D_v} \\, w_{i,j,k+1} = b_{i,j,k} $$\n",
    "\n",
    "El error de aproximación es de: $O(\\Delta t) + O(\\Delta x^2) + O(\\Delta y^2)$"
   ]
  },
  {
   "cell_type": "markdown",
   "metadata": {},
   "source": [
    "En resumen, usando $ \\delta_u = \\displaystyle \\Delta t \\, D_u $ y $ \\delta_v = \\displaystyle \\frac{\\Delta t \\, D_v}{\\tau} $ nos queda finalmente el siguiente sistema de ecuaciones no-lineales:\n",
    "\n",
    "\\begin{align}\n",
    "    (1+ 2\\frac{\\delta_u}{\\Delta x^2} + 2 \\frac{\\delta_u}{\\Delta y^2 } -\n",
    "    \\frac{\\delta_u}{D_u}  \\, \\lambda + \\frac{\\delta_u}{D_u} \\, w_{i,j,k+1}^2) \\, w_{i,j,k+1} -\n",
    "    \\frac{\\delta_u \\, w_{i+1, j, k+1}}{\\Delta x^2} - \\frac{\\delta_u \\, w_{i-1,j,k+1}}{\\Delta x^2} -\n",
    "    \\frac{\\delta_u \\, w_{i, j+1, k+1}}{\\Delta y^2} - \\frac{\\delta_u \\, w_{i,j-1,k+1}}{\\Delta y^2} +\n",
    "    \\frac{\\delta_u}{D_u} \\, \\sigma b_{i,j,k+1} &= w_{i,j,k} - \\frac{\\delta_u}{D_u} \\, \\kappa \\\\\n",
    "    (1+ 2 \\frac{\\delta_v}{\\Delta x^2} + 2 \\frac{\\delta_v}{\\Delta y^2} +\n",
    "    \\frac{\\delta_v}{D_v}) \\, b_{i,j,k+1} - \\frac{\\delta_v}{\\Delta x^2} \\, b_{i+1,j,k+1} -\n",
    "    \\frac{\\delta_v}{\\Delta x^2} \\, b_{i-1,j,k+1} - \\frac{\\delta_v}{\\Delta y^2} \\, b_{i,j+1,k+1} -\n",
    "    \\frac{\\delta_v}{\\Delta y^2} \\, b_{i,j-1,k+1} - \\frac{\\delta_v}{D_v} \\, w_{i,j,k+1} &= b_{i,j,k}\n",
    "\\end{align}"
   ]
  },
  {
   "cell_type": "markdown",
   "metadata": {},
   "source": [
    "### d) Implementación de esquema implícito \"Backward\""
   ]
  },
  {
   "cell_type": "code",
   "execution_count": null,
   "metadata": {
    "collapsed": false,
    "scrolled": false
   },
   "outputs": [],
   "source": [
    "def solve_backward(u0, v0, dx, dy, dt, Tf, Du, Dv, lamb, tau, sigma, kappa):\n",
    "    Ny = u0.shape[0];\n",
    "    Nx = u0.shape[1];\n",
    "    Nt = (int)(np.ceil(Tf/dt));\n",
    "    w = np.zeros([Nt, Nx, Ny])\n",
    "    b = np.zeros([Nt, Nx, Ny])\n",
    "    w[0,:,:] = u0;\n",
    "    b[0,:,:] = v0;\n",
    "    \n",
    "    delta_u = dt*Du;\n",
    "    delta_v = dt*Dv/tau;\n",
    "    cons1 = 1+2*delta_u / dx**2 +2 * delta_u/dy**2-delta_u*lamb/Du;\n",
    "    cons2 = 1+2*delta_v/dx**2+2*delta_v/dy**2+delta_v/Dv;\n",
    "    print(\"constantes\");\n",
    "    print(cons1);\n",
    "    print(cons2);\n",
    "    for k in range (Nt-1):\n",
    "        def func(wbk):\n",
    "            wbk = wbk.reshape(2*Nx, Ny);\n",
    "            wk = wbk[0:Nx,:];\n",
    "            bk = wbk[Nx:2*Nx,:];\n",
    "            # b[0], w[0] => i  , j-1\n",
    "            # b[1], w[1] => i-1, j\n",
    "            # b[2], w[2] => i  , j\n",
    "            # b[3], w[3] => i+1, j\n",
    "            # b[4], w[4] => i  , j+1\n",
    "    #        return np.array([(1+2*delta_u / dx**2 +2 * delta_u/dy**2-delta_u*lamb/Du + (delta_u*w[2]**2)/Du)*w[2]\n",
    "    #                    -delta_u*w[3]/dx**2-delta_u*w[1]/dx**2-delta_u*w[4]/dy**2-delta_u*w[0]/dy**2\n",
    "    #                    +delta_u*sigma*b[2]/Du + delta_u*kappa/Du - w_ijk\n",
    "    #                     ,\n",
    "    #                     (1+2*delta_v/dx**2+2*delta_v/dy**2+delta_v/Dv)*b[2]-delta_v*b[3]/dx**2\n",
    "    #                     -delta_v*b[1]/dx**2-delta_v*b[4]/dy**2-delta_v*b[0]/dy**2-delta_v*w[2]/Dv\n",
    "    #                     -b_ijk\n",
    "    #                    ]);\n",
    "            return np.array([np.multiply( cons1 + (delta_u*np.power(wk[:,:],2))/Du, wk[:,:])\n",
    "                    -delta_u*np.roll(wk[:,:], -1, axis=1)/dx**2-delta_u*np.roll(wk[:,:], 1, axis=1)\n",
    "                         /dx**2-delta_u*np.roll(wk[:,:], -1, axis=0)/dy**2-delta_u*np.roll(wk[:,:], 1, axis=0)/dy**2\n",
    "                    +delta_u*sigma*bk[:,:]/Du + delta_u*kappa/Du - w[k,:,:]\n",
    "                     ,\n",
    "                     cons2*bk[:,:]-delta_v*np.roll(bk[:,:], -1, axis=1)/dx**2\n",
    "                     -delta_v*np.roll(bk[:,:], 1, axis=1)/dx**2-delta_v*np.roll(bk[:,:], -1, axis=0)\n",
    "                         /dy**2-delta_v*np.roll(bk[:,:], 1, axis=0)/dy**2-delta_v*wk[:,:]/Dv\n",
    "                     -b[k,:,:]\n",
    "                    ]).ravel();\n",
    "        wk0 = np.ones([Nx, Ny]);\n",
    "        #wk0 = np.matrix ([[1,2,3,4],[5,6,7,8],[9,10,11,12],[13,14,15,16]]);\n",
    "        bk0 = wk0;\n",
    "        #[w[k+1,:,:], b[k+1,:,:]] = sp.optimize.fsolve(func, [wk0, bk0]);\n",
    "        #print(\"fsolve\")\n",
    "        temp = sp.optimize.fsolve(func, np.array([wk0, bk0]).ravel()).reshape(2,Nx,Ny);\n",
    "        #print(temp)\n",
    "        w[k+1,:,:] = temp[0,:,:];\n",
    "        b[k+1,:,:] = temp[1,:,:];\n",
    "    return w;"
   ]
  },
  {
   "cell_type": "markdown",
   "metadata": {},
   "source": [
    "<div id='se3'/>\n",
    "## 3.- Método de las líneas"
   ]
  },
  {
   "cell_type": "markdown",
   "metadata": {},
   "source": [
    "### a) Discretización y formulación del sistema\n",
    "\n",
    "Tenemos:\n",
    "\\begin{align}\n",
    "    \\frac{\\partial u}{\\partial t} &= \n",
    "            D_u \\, (\\frac{\\partial^2 u}{\\partial x^2} + \\frac{\\partial^2 u}{\\partial y^2}) +\n",
    "            \\lambda \\, u - u^3 - \\kappa - \\sigma v \\\\\n",
    "    \\tau \\, \\frac{\\partial v}{\\partial t} &= \n",
    "            D_v \\, (\\frac{\\partial^2 v}{\\partial x^2} + \n",
    "            \\frac{\\partial^2 v}{\\partial y^2}) + u - v\n",
    "\\end{align}"
   ]
  },
  {
   "cell_type": "markdown",
   "metadata": {},
   "source": [
    "utilizando diferencias centradas para discretizar el dominio espacial nos queda:\n",
    "\\begin{align}\n",
    "    \\frac{\\partial u(x_i,y_j,t)}{\\partial t} =&\\,\n",
    "            D_u \\left(\n",
    "                \\frac{u(x_{i+1},y_j,t) - 2 u(x_i,y_j,t) + u(x_{i-1},y_j,t)}{\\Delta x^2} + \n",
    "                \\frac{u(x_i,y_{j+1},t) - 2 u(x_i,y_j,t) + u(x_i,y_{j-1},t)}{\\Delta y^2}\n",
    "            \\right)\\\\\n",
    "            & + \\lambda u(x_i,y_j,t) - (u(x_i,y_j,t))^3 - \\kappa - \\sigma v(x_i,y_j,t) \\\\\n",
    "    &\\\\\n",
    "    \\tau \\, \\frac{\\partial v(x_i,y_j,t)}{\\partial t} =&\\,\n",
    "            D_v \\left(\n",
    "                \\frac{v(x_{i+1},y_j,t) - 2 v(x_i,y_j,t) + v(x_{i-1},y_j,t)}{\\Delta x^2} + \n",
    "                \\frac{v(x_i,y_{j+1},t) - 2 v(x_i,y_j,t) + v(x_i,y_{j-1},t)}{\\Delta y^2}\n",
    "            \\right)\\\\\n",
    "            & + u(x_i,y_j,t) - v(x_i,y_j,t)\n",
    "\\end{align}"
   ]
  },
  {
   "cell_type": "markdown",
   "metadata": {
    "collapsed": false
   },
   "source": [
    "como podemos notar que ahora el problema diferencial es solo dependiente del tiempo.\n",
    "Así, el sistema dinámico acoplado resultante queda determinado por las siguientes ecuaciones:\n",
    "\n",
    "\\begin{align}\n",
    "    \\dot{u_{ij}}&=\n",
    "        D_u \\left( \n",
    "            \\frac{u_{i+1,j} - 2 u_{i,j} + u_{i-1,j}}{\\Delta x^2} + \n",
    "            \\frac{u_{i,j+1} - 2 u_{i,j} + u_{i,j-1}}{\\Delta y^2} \\right) \n",
    "        + \\lambda u_{i,j} - u^3_{i,j} - \\kappa - \\sigma v_{i,j} \\\\\n",
    "    \\dot{v_{i,j}}&= \n",
    "        \\frac{D_v}{\\tau} \\left(\n",
    "            \\frac{v_{i+1,j} - 2 v_{i,j} + v_{i-1,j}}{\\Delta x^2} + \n",
    "            \\frac{v_{i,j+1} - 2 v_{i,j} + v_{i,j-1}}{\\Delta y^2} \\right) \n",
    "        + \\frac{u_{i,j} - v_{i,j}}{\\tau}\n",
    "\\end{align}"
   ]
  },
  {
   "cell_type": "markdown",
   "metadata": {},
   "source": [
    "Ordenando convenientemente tenemos:\n",
    "\\begin{align}\n",
    "    \\dot{u_{i,j}} &=\n",
    "        \\frac{D_u}{\\Delta x^2}(u_{i-1,j}+u_{i+1,j}) + \n",
    "        \\frac{D_u}{\\Delta y^2}(u_{i,j-1}+u_{i,j+1}) -\n",
    "        (2D_u(x^{-2}+y^{-2}) + \\lambda)U_{i,j} - u_{i,j}^3\n",
    "        +\\kappa -\\sigma v_{i,j} \\\\\n",
    "    \\dot{v_{i,j}} &=\n",
    "        \\frac{D_v}{\\tau \\Delta x^2}(v_{i-1,j}+v_{i+1,j}) +\n",
    "        \\frac{D_v}{\\tau \\Delta y^2}(v_{i,j-1}+v_{i,j+1}) -\n",
    "        \\frac{2D_v}{\\tau}(x^{-2}+y^{-2})v_{i,j} - \\frac{u_{i,j}+v_{i,j}}{\\tau}\n",
    "\\end{align}"
   ]
  },
  {
   "cell_type": "markdown",
   "metadata": {},
   "source": [
    "### b) Implementación"
   ]
  },
  {
   "cell_type": "code",
   "execution_count": null,
   "metadata": {
    "collapsed": false
   },
   "outputs": [],
   "source": [
    "def solve_mol(u0, v0, dx, dy, dt, Tf, Du, Dv, lamb, tau, sigma, kappa, method='RK4'):\n",
    "    if method not in ['RK4', 'RK2']:\n",
    "        print(\"El método debe ser 'RK2' o 'RK4'\")\n",
    "        return None\n",
    "    Ny, Nx, Nt = u0.shape[0], u0.shape[1], int(np.ceil(Tf/dt))\n",
    "    w = np.zeros([Nt, Nx, Ny])\n",
    "    b = np.zeros([Nt, Nx, Ny])\n",
    "    w[0,:,:] = u0;\n",
    "    b[0,:,:] = v0;\n",
    "    #Algunos calculos que no varian con el tiempo:\n",
    "    h2   = dt/2\n",
    "    Dux  = Du/(dx**2)\n",
    "    Duy  = Du/(dy**2)\n",
    "    Duxy = -2*Du*((dx**-2) + (dy**-2)) + lamb\n",
    "    Dvx  = Dv/(tau*(dx**2))\n",
    "    Dvy  = Dv/(tau*(dy**2))\n",
    "    Dvxy = (-2*Dv/tau)*((dx**-2) + (dy**-2))\n",
    "    #Como las ecuaciones son autonomas se utilizará t como subindice:\n",
    "    def U(t, xy): #t:subindice del tiempo, xy:matriz de 2 dimenciones con los valores en x e y.\n",
    "        return Dux*(np.roll(xy, -1, axis=1) + np.roll(xy, 1, axis=1)) +\\\n",
    "               Duy*(np.roll(xy, -1, axis=0) + np.roll(xy, 1, axis=0)) +\\\n",
    "               Duxy*xy - xy**3 - sigma*b[t,:,:] + kappa\n",
    "    def V(t, xy): #igual que la anterior pero para V\n",
    "        return Dvx*(np.roll(xy, -1, axis=1) + np.roll(xy, 1, axis=1)) +\\\n",
    "               Dvy*(np.roll(xy, -1, axis=0) + np.roll(xy, 1, axis=0)) +\\\n",
    "               Dvxy*xy - (w[t,:,:] - xy)/tau\n",
    "    #Ignorando los cambios en t a proposito (no cambia nada por que la ec es autonoma).\n",
    "    if method=='RK2':\n",
    "        for k in range(Nt-1):\n",
    "            ku1 = w[k,:,:] + h2*U(k, w[k,:,:])\n",
    "            w[k+1,:,:] = w[k,:,:] + dt*U(k, ku1)\n",
    "            kv1 = b[k,:,:] + h2*V(k, b[k,:,:])\n",
    "            b[k+1,:,:] = b[k,:,:] + dt*V(k, kv1)\n",
    "    else:\n",
    "        for k in range(Nt-1):\n",
    "            ku1 = U(k, w[k,:,:])\n",
    "            ku2 = U(k, w[k,:,:] + h2*ku1)\n",
    "            ku3 = U(k, w[k,:,:] + h2*ku2)\n",
    "            ku4 = U(k, w[k,:,:] + dt*ku3)\n",
    "            w[k+1,:,:] = w[k,:,:] + (dt/6)*(ku1 + 2*(ku2+ku3) + ku4)\n",
    "            kv1 = V(k, b[k,:,:])\n",
    "            kv2 = V(k, b[k,:,:] + h2*kv1)\n",
    "            kv3 = V(k, b[k,:,:] + h2*kv2)\n",
    "            kv4 = V(k, b[k,:,:] + dt*kv3)\n",
    "            b[k+1,:,:] = b[k,:,:] + (dt/6)*(kv1 + 2*(kv2+kv3) + kv4)\n",
    "    return w"
   ]
  },
  {
   "cell_type": "markdown",
   "metadata": {},
   "source": [
    "<div id='se4'\\>\n",
    "## 4.- Simulaciones\n",
    "Se establecen las variables a usar:"
   ]
  },
  {
   "cell_type": "code",
   "execution_count": null,
   "metadata": {
    "collapsed": false
   },
   "outputs": [],
   "source": [
    "#Generando puntos de la malla aleatoria\n",
    "Nx, Ny = 50, 50\n",
    "u0 = np.random.rand(Nx,Ny)\n",
    "v0 = np.random.rand(Nx,Ny)\n",
    "dx, dy = 1/Nx, 1/Ny\n",
    "tf   = 10\n",
    "#print(u0,'\\n',v0)"
   ]
  },
  {
   "cell_type": "markdown",
   "metadata": {},
   "source": [
    "### a) Significado de los parametros"
   ]
  },
  {
   "cell_type": "markdown",
   "metadata": {},
   "source": [
    "### b) Ejecución de las implementaciones"
   ]
  },
  {
   "cell_type": "code",
   "execution_count": null,
   "metadata": {
    "collapsed": false
   },
   "outputs": [],
   "source": [
    "#Parametros suministrados.\n",
    "Du = 3*np.e -4\n",
    "Dv = 4*np.e -3\n",
    "lamb = 1.0\n",
    "tau  = 0.2\n",
    "sigm = 1.0\n",
    "kapp = -0.004"
   ]
  },
  {
   "cell_type": "code",
   "execution_count": null,
   "metadata": {
    "collapsed": false
   },
   "outputs": [],
   "source": [
    "#solve(u0, v0, dx, dy, dt, Tf, Du, Dv, lamb, tau, sigma, kappa, method):\n",
    "#A = solve_forward(u0, v0, dx, dy, dx**2, tf, Du, Dv, lamb, tau, sigm, kapp)\n",
    "#B = solve_backward(u0, v0, dx, dy, 2, tf, Du, Dv, lamb, tau, sigm, kapp) #Se queda pegado?\n",
    "#C = solve_mol(u0, v0, dx, dy, 2.5, tf, Du, Dv, lamb, tau, sigm, kapp,'RK2')\n",
    "#D = solve_mol(u0, v0, dx, dy, 2, tf, Du, Dv, lamb, tau, sigm, kapp,'RK4')"
   ]
  },
  {
   "cell_type": "code",
   "execution_count": null,
   "metadata": {
    "collapsed": false
   },
   "outputs": [],
   "source": [
    "#animate_pattern(C)"
   ]
  },
  {
   "cell_type": "markdown",
   "metadata": {},
   "source": [
    "### c) Simulaciones con diferentes parametros"
   ]
  },
  {
   "cell_type": "markdown",
   "metadata": {},
   "source": [
    "## Conclusiones\n",
    "\n",
    "###TODO"
   ]
  },
  {
   "cell_type": "markdown",
   "metadata": {},
   "source": [
    "## Referencias\n",
    "<div id='ref1'\\> [1] [IPython Notebook Documentation](http://ipython.readthedocs.org/en/stable/) IPython Documentation. *desc*. Revisado 16/12/2015\n",
    "<div id='ref1'\\> [2] [Python Documentation](https://docs.python.org/3/) Python Documentation. *desc*. Revisado 16/12/2015"
   ]
  },
  {
   "cell_type": "markdown",
   "metadata": {
    "collapsed": false
   },
   "source": [
    "## Anexos\n",
    "Comenzamos cargando los módulos necesarios:"
   ]
  },
  {
   "cell_type": "code",
   "execution_count": null,
   "metadata": {
    "collapsed": false
   },
   "outputs": [],
   "source": [
    "import numpy as np\n",
    "import scipy as sp\n",
    "from scipy.optimize import fsolve\n",
    "from matplotlib import pyplot as plt\n",
    "#from mpl_toolkits.mplot3d import Axes3D\n",
    "#from matplotlib.colors import cnames\n",
    "from matplotlib import animation\n",
    "\n",
    "%matplotlib notebook\n",
    "#%load_ext memory_profiler"
   ]
  },
  {
   "cell_type": "markdown",
   "metadata": {},
   "source": [
    "<div id='an4'\\> \n",
    "### Implementación de diferencias finitas"
   ]
  },
  {
   "cell_type": "code",
   "execution_count": null,
   "metadata": {
    "collapsed": false,
    "scrolled": true
   },
   "outputs": [],
   "source": [
    "def fin_dif(N, x0, xN, y0, yN, ydN, yddN):\n",
    "    if (N<4):\n",
    "        print('Error: Se necesita al menos 4 intervalos (5 puntos).');\n",
    "        return;\n",
    "    #inicializando vector de y con ceros.\n",
    "    y = np.zeros([N+1,1])\n",
    "    #tamaño del intervalo\n",
    "    h = (xN-x0)/N;\n",
    "    x = np.linspace(x0, xN, N+1);\n",
    "    \n",
    "    #estableciendo valores conocidos\n",
    "    y[0] = y0;\n",
    "    y[N] = yN;\n",
    "    y[N-1] = y[N]-ydN*h\n",
    "    y[N-2] = yddN*h**4+yN-2*ydN*h;\n",
    "    \n",
    "    M = (N+1)-4;\n",
    "    A = np.zeros([M, M]);\n",
    "    b = np.zeros([M, 1]);\n",
    "    \n",
    "    #creando matriz A\n",
    "    for i in range(M):\n",
    "        if (i >= 1):\n",
    "            A[i,i-1] = -1;\n",
    "        A[i,i] = 4;\n",
    "        if (i <= M-2):\n",
    "            A[i,i+1] = -2*h**4-6;\n",
    "        if (i <= M-3):\n",
    "            A[i,i+2] = 4;\n",
    "        if (i <= M-4):\n",
    "            A[i,i+3] = -1;\n",
    "            \n",
    "    #creando vector b\n",
    "    b[0] = y[0];\n",
    "    if (M >= 3):\n",
    "        b[M-3] = b[M-3] + y[N-2];\n",
    "    if (M >= 2):\n",
    "        b[M-2] = b[M-2] + y[N-1] - 4*y[N-2];\n",
    "    b[M-1] = b[M-1] + y[N] - 4*y[N-1] - (-2*h**4-6)*y[N-2];\n",
    "    \n",
    "    #convirtiendo la matriz A en triangular superior\n",
    "    for i in range(M-1):\n",
    "        A[i+1, :] = A[i+1, :]+A[i, :]/A[i,i];\n",
    "        b[i+1] = b[i+1]+b[i]/A[i,i];\n",
    "    \n",
    "    # Resolviendo el sistema de ecuaciones lineales con backward substitution\n",
    "    for i in range(M-1,-1,-1):\n",
    "        j = i+1;\n",
    "        if (i== M-1):\n",
    "            y[j] = b[i]/A[i,i]\n",
    "        elif (i== M-2):\n",
    "            y[j] = (b[i]-A[i,i+1]*y[j+1])/A[i,i];\n",
    "        elif (i== M-3):\n",
    "            y[j] = (b[i]-A[i,i+1]*y[j+1]-A[i,i+2]*y[j+2])/A[i,i];\n",
    "        else:\n",
    "            y[j] = (b[i]-A[i,i+1]*y[j+1]-A[i,i+2]*y[j+2]-A[i,i+3]*y[j+3])/A[i,i];\n",
    "            \n",
    "    #formateando output\n",
    "    f = np.zeros([N+1, 2]);\n",
    "    f[:,0] = x;\n",
    "    f[:,1] = y[:,0];\n",
    "    return f;"
   ]
  },
  {
   "cell_type": "markdown",
   "metadata": {},
   "source": [
    "<div id='an5'\\> \n",
    "### Utilidades"
   ]
  },
  {
   "cell_type": "code",
   "execution_count": null,
   "metadata": {
    "collapsed": true
   },
   "outputs": [],
   "source": [
    "\"\"\"\n",
    "> sol must be a 3D numpy array, with dimensions (Nt,Nx,Ny)\n",
    "> time_step:  miliseconds to update canvas\n",
    "> frame_step: Jump step for frames to show\n",
    "\"\"\"\n",
    "def animate_pattern(sol, time_step=10, frame_step=20):\n",
    "    #time index\n",
    "    t_ind = 0\n",
    "    fig = plt.figure()\n",
    "    im = plt.imshow(sol[t_ind], cmap=plt.cm.winter)\n",
    "    plt.xticks([]); plt.yticks([])\n",
    "\n",
    "    #setting the number of frames\n",
    "    frames = int(sol.shape[0]/frame_step)\n",
    "    \n",
    "    #update function\n",
    "    def updatefig(t_ind):\n",
    "        im = plt.imshow(sol[t_ind*frame_step], cmap=plt.cm.winter)\n",
    "        return im,\n",
    "    \n",
    "    #animate it!\n",
    "    ani = animation.FuncAnimation(fig, updatefig, frames=frames, \n",
    "                    interval=time_step, blit=True, repeat=False)\n",
    "    plt.show()"
   ]
  }
 ],
 "metadata": {
  "git": {
   "suppress_outputs": true
  },
  "kernelspec": {
   "display_name": "Python 3",
   "language": "python",
   "name": "python3"
  },
  "language_info": {
   "codemirror_mode": {
    "name": "ipython",
    "version": 3
   },
   "file_extension": ".py",
   "mimetype": "text/x-python",
   "name": "python",
   "nbconvert_exporter": "python",
   "pygments_lexer": "ipython3",
   "version": "3.4.3"
  }
 },
 "nbformat": 4,
 "nbformat_minor": 0
}
