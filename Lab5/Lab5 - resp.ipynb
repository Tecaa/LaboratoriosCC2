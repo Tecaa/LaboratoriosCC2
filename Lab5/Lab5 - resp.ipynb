{
 "cells": [
  {
   "cell_type": "markdown",
   "metadata": {},
   "source": [
    "<center>\n",
    "    <h1> ILI-286 - Laboratorio #5 </h1>\n",
    "    <h2> Sistemas de reacción-difusión </h2>\n",
    "</center>\n",
    "\n",
    "\n",
    "| Nombre | Rol | Email |\n",
    "| :----- | :-- | :---- |\n",
    "| Marco Rojas | 201073005-0 | marco.rojaso@alumnos.usm.cl |\n",
    "| Hernán Vargas | 201073009-3 | hernan.vargas@alumnos.usm.cl |"
   ]
  },
  {
   "cell_type": "markdown",
   "metadata": {},
   "source": [
    "## Tabla de contenidos\n",
    "* [Introducción](#intro)\n",
    "* [Desarrollo y analisís de resultados:](#desarrollo)\n",
    "  1. [Reacción-Difusión y formación de patrones de Turing](#se1)\n",
    "  2. [Diferencias Finitas en 2D](#se2)\n",
    "  3. [Método de las líneas](#se3)\n",
    "  4. [Simulaciones](#se4)\n",
    "* [Conclusiones](#Conclusiones)\n",
    "* [Referencias](#Referencias)\n",
    "* [Anexos](#Anexos) $\\leftarrow$ Comenzar ejecución aquí\n",
    "  * [Métodos implementados](#an1)\n",
    "  * [Utilidades](#an5)"
   ]
  },
  {
   "cell_type": "markdown",
   "metadata": {},
   "source": [
    "<div id='intro' />\n",
    "## Introducción\n",
    "En este laboratorio se analizará el sistema de reacción-difusión de Alan Turing que propone un modelo\n",
    "para la formación de pigmentación en animales, particularmente se trabajará con el modelo propuesto por \n",
    "FitzHugh-Nagumo donde interactuan dos ecuaciones diferenciales tanto espacialmente como en el tiempo.\n",
    "Se resolverá el problema por medio de diferencias finitas (tanto con discretizaciones backward como forward)\n",
    "y por el método de lineas, con estos resultados se estimará la incidencia de los parametros que afectan al\n",
    "sistema y los límites propios de los algoritmos."
   ]
  },
  {
   "cell_type": "markdown",
   "metadata": {},
   "source": [
    "<div id='desarrollo'/>\n",
    "## Desarrollo y analisís de resultados"
   ]
  },
  {
   "cell_type": "markdown",
   "metadata": {},
   "source": [
    "<div id='se1'/>\n",
    "## 1.- Reacción-Difusión y formación de patrones de Turing"
   ]
  },
  {
   "cell_type": "markdown",
   "metadata": {},
   "source": [
    "El sistema queda definido por:\n",
    "\\begin{align}\n",
    "    \\frac{\\partial u}{\\partial t} &= \n",
    "            D_u \\, (\\frac{\\partial^2 u}{\\partial x^2} + \\frac{\\partial^2 u}{\\partial y^2}) +\n",
    "            \\lambda \\, u - u^3 - \\kappa - \\sigma v \\\\\n",
    "    \\tau \\, \\frac{\\partial v}{\\partial t} &= \n",
    "            D_v \\, (\\frac{\\partial^2 v}{\\partial x^2} + \n",
    "            \\frac{\\partial^2 v}{\\partial y^2}) + u - v\n",
    "\\end{align}\n",
    "Se trabajará con condiciones de borde periodicas."
   ]
  },
  {
   "cell_type": "markdown",
   "metadata": {
    "collapsed": false
   },
   "source": [
    "<div id='se2'/>\n",
    "## 2.- Diferencias finitas en 2D"
   ]
  },
  {
   "cell_type": "markdown",
   "metadata": {},
   "source": [
    "### a) Propuesta de discretización \"Forward\"\n",
    "Utilizando las siguientes aproximaciones:\n",
    "\\begin{align}\n",
    "    \\frac{\\partial^2 u}{\\partial x^2} &= \\frac{u(x+\\Delta x, y, t)-2u(x,y,t)+u(x-\\Delta x,y,t)}{\\Delta x^2}\\\\\n",
    "    \\frac{\\partial^2 u}{\\partial y^2} &= \\frac{u(x, y+\\Delta y, t)-2u(x,y,t)+u(x,y-\\Delta y,t)}{\\Delta y^2}\\\\\n",
    "    \\frac{\\partial u}{\\partial t} &= \\frac{u(x,y,t+\\Delta t) - u(x,y,t)}{\\Delta t}\n",
    "\\end{align}\n",
    "\n",
    "Análogo para $v(x,y,t)$."
   ]
  },
  {
   "cell_type": "markdown",
   "metadata": {},
   "source": [
    "Las ecuaciones quedan como:\n",
    "\\begin{align}\n",
    "    \\frac{u(x,y,t+\\Delta t) - u(x,y,t)}{\\Delta t} =& \\,\n",
    "        D_u \\, \\left(\n",
    "            \\frac{u(x+\\Delta x, y, t)-2u(x,y,t)+u(x-\\Delta x,y,t)}{\\Delta x^2} + \n",
    "            \\frac{u(x, y+\\Delta y, t)-2u(x,y,t)+u(x,y-\\Delta y,t)}{\\Delta y^2} \n",
    "        \\right)\\\\\n",
    "        &+ \\lambda \\, u(x,y,t) - u(x,y,t)^3 - \\kappa - \\sigma v(x,y,t)\\\\\n",
    "    &\\\\\n",
    "    \\tau \\, \\frac{v(x,y,t+\\Delta t) - v(x,y,t)}{\\Delta t} =&\\,\n",
    "        D_v \\, \\left(\n",
    "            \\frac{v(x+\\Delta x,y,t)-2v(x,y,t)+v(x-\\Delta x,y,t)}{\\Delta x^2} + \n",
    "            \\frac{v(x,y+\\Delta y,t)-2v(x,y,t)+v(x,y-\\Delta y,t)}{\\Delta y^2} \n",
    "        \\right)\\\\\n",
    "        &+ u(x,y,t) - v(x,y,t)\n",
    "\\end{align}"
   ]
  },
  {
   "cell_type": "markdown",
   "metadata": {},
   "source": [
    "Ahora si reemplazamos $w_{i,j,k} = u(x,y,t)$ y $ b_{i,j,k} = v(x,y,t) $, donde:\n",
    "\\begin{matrix}\n",
    "    x= x_0+i \\,\\Delta x &\\Longrightarrow &i= \\frac{x-x_0}{\\Delta x}\\\\\n",
    "    y= y_0+j \\,\\Delta y &\\Longrightarrow &j= \\frac{y-y_0}{\\Delta y}\\\\\n",
    "    t= t_0+k \\,\\Delta t &\\Longrightarrow &k= \\frac{t-t_0}{\\Delta t}\n",
    "\\end{matrix}"
   ]
  },
  {
   "cell_type": "markdown",
   "metadata": {},
   "source": [
    "Finalmente, obtenemos:\n",
    "\n",
    "\\begin{align}\n",
    "    \\frac{w_{i,j,k+1} - w_{i,j,k}}{\\Delta t} &=\n",
    "        D_u  \\, \\left(\n",
    "            \\frac{w_{i+1, j, k}-2w_{i,j,k}+w_{i-1,j,k}}{\\Delta x^2} +\n",
    "            \\frac{w_{i, j+1, k}-2w_{i,j,k}+w_{i,j-1,k}}{\\Delta y^2} \\right)\n",
    "        + \\lambda \\, w_{i,j,k} - w_{i,j,k}^3 - \\kappa - \\sigma b_{i,j,k} \\\\\n",
    "    \\tau \\, \\frac{b_{i,j,k+1} - b_{i,j,k}}{\\Delta t} &=\n",
    "        D_v \\, \\left(\n",
    "            \\frac{b_{i+1,j,k}-2b_{i,j,k}+b_{i-1,j,k}}{\\Delta x^2} + \n",
    "            \\frac{b_{i,j+1,k}-2b_{i,j,k}+b_{i,j-1,k}}{\\Delta y^2} \\right)\n",
    "        + w_{i,j,k} - b_{i,j,k}\n",
    "\\end{align}"
   ]
  },
  {
   "cell_type": "markdown",
   "metadata": {},
   "source": [
    "Despejando para el tiempo $k+1$ nos queda:\n",
    "\\begin{align}\n",
    "    w_{i,j,k+1} &=\n",
    "        \\Delta t \\left(D_u  \\, \\left(\n",
    "            \\frac{w_{i+1, j, k}-2w_{i,j,k}+w_{i-1,j,k}}{\\Delta x^2} + \n",
    "            \\frac{w_{i, j+1, k}-2w_{i,j,k}+w_{i,j-1,k}}{\\Delta y^2} \\right)\n",
    "        + \\lambda \\, w_{i,j,k} - w_{i,j,k}^3 - \\kappa - \\sigma b_{i,j,k} \\right ) + w_{i,j,k} \\\\\n",
    "    b_{i,j,k+1} &= \n",
    "        \\frac{\\Delta t}{\\tau} \\left(D_v \\, \\left(\n",
    "            \\frac{b_{i+1,j,k}-2b_{i,j,k}+b_{i-1,j,k}}{\\Delta x^2} +\n",
    "            \\frac{b_{i,j+1,k}-2b_{i,j,k}+b_{i,j-1,k}}{\\Delta y^2} \\right)\n",
    "        + w_{i,j,k} - b_{i,j,k} \\right ) + b_{i,j,k}\n",
    "\\end{align}\n",
    "\n",
    "El error de aproximación es de: $O(\\Delta t) + O(\\Delta x^2) + O(\\Delta y^2)$"
   ]
  },
  {
   "cell_type": "markdown",
   "metadata": {},
   "source": [
    "### b) Implementación de esquema explícito \"Forward\""
   ]
  },
  {
   "cell_type": "code",
   "execution_count": 33,
   "metadata": {
    "collapsed": false,
    "scrolled": true
   },
   "outputs": [],
   "source": [
    "def solve_forward(u0, v0, dx, dy, dt, Tf, Du, Dv, lamb, tau, sigma, kappa):\n",
    "    u0 = np.vstack((u0, u0[1,:]))\n",
    "    u0 = np.hstack((u0, u0[:,[1]]))\n",
    "    v0 = np.vstack((v0, v0[1,:]))\n",
    "    v0 = np.hstack((v0, v0[:,[1]]))\n",
    "    Ny = u0.shape[0];\n",
    "    Nx = u0.shape[1];\n",
    "    Nt = (int)(np.ceil(Tf/dt))+1;\n",
    "    w = np.zeros([Nt, Nx, Ny])\n",
    "    b = np.zeros([Nt, Nx, Ny])\n",
    "    w[0,:,:] = u0;\n",
    "    b[0,:,:] = v0;\n",
    "    for k in range (Nt-1):\n",
    "        u_xx = (np.roll(w[k,:,:], 1, axis=1) - 2 * w[k,:,:] + np.roll(w[k,:,:], -1, axis=1))/dx**2;\n",
    "        u_yy = (np.roll(w[k,:,:], 1, axis=0) - 2 * w[k,:,:] + np.roll(w[k,:,:], -1, axis=0))/dy**2;\n",
    "        u_laplaciano = u_xx + u_yy;\n",
    "        \n",
    "        v_xx = (np.roll(b[k, :, :], 1, axis=1) - 2 * b[k,:,:] + np.roll(b[k,:,:], -1, axis=1))/dx**2;\n",
    "        v_yy = (np.roll(b[k, :, :], 1, axis=0) - 2 * b[k,:,:] + np.roll(b[k,:,:], -1, axis=0))/dy**2;\n",
    "        v_laplaciano = v_xx + v_yy\n",
    "        \n",
    "        w[k+1,:,:] = dt * (Du * u_laplaciano + lamb * w[k,:,:] - np.power(w[k,:,:],3) - kappa - sigma * b[k,:,:]) + w[k,:,:];\n",
    "        \n",
    "        b[k+1,:,:] = (dt/tau) * (Dv * v_laplaciano + w[k,:,:] - b[k,:,:]) + b[k,:,:];\n",
    "    return w[:, 0:Nx-2, 0:Nx-2];\n",
    "    #return w;\n",
    "\n",
    "#u0 = np.array([[[0.1,0.1,0.2,0.3],[0.2,0.1,0.3,0.1],[0.3,0.1,0.1,0.2],[0.2,0.3,0.4,0.5]],[[0.1,0.2,0.1,0.2],[0.1,0.2,0.3,0.1],[0.1,0.1,0.1,0.3],[0.1,0.3,0.2,0.4]]]);\n",
    "#v0 = np.array([[[0.1,0.2,0.1,0.2],[0.1,0.2,0.3,0.1],[0.1,0.1,0.1,0.3],[0.1,0.3,0.2,0.4]],[[0.1,0.1,0.2,0.3],[0.2,0.1,0.3,0.1],[0.3,0.1,0.1,0.2],[0.2,0.3,0.4,0.5]]]);\n",
    "#print(u0[:,0,:])\n",
    "#print(np.concatenate((u0,u0[:,0,:]), axis=1,3))\n",
    "#print(np.concatenate((u0,u0[:,:,0]), axis=0))\n",
    "\n",
    "#u0 = np.matrix([[0.1,0.1,0.2,0.3],[0.2,0.1,0.3,0.1],[0.3,0.1,0.1,0.2],[0.2,0.3,0.4,0.5]]);\n",
    "#v0 = np.matrix([[0.1,0.2,0.1,0.2],[0.1,0.2,0.3,0.1],[0.1,0.1,0.1,0.3],[0.1,0.3,0.2,0.4]]);\n",
    "#print(np.concatenate((u0,u0[1,:]), axis=0))\n",
    "#print(np.concatenate((u0,u0[:,1]), axis=1))\n",
    "                        \n",
    "                        \n",
    "#dx = 1;\n",
    "#dy = 1;\n",
    "#dt = 1;\n",
    "#tf = 5;\n",
    "#Du = 2;\n",
    "#Dv = 2;\n",
    "#lamb = 1;\n",
    "#tau = 1;\n",
    "#sigma = 1;\n",
    "#kappa = 1;\n",
    "#print(u0);\n",
    "#print(v0);\n",
    "\n",
    "#print(solve_forward(u0, v0, dx, dy, (dx**2)/10, tf, Du, Dv, lamb, tau, sigma, kappa))"
   ]
  },
  {
   "cell_type": "markdown",
   "metadata": {},
   "source": [
    "### c) Propuesta de discretización \"Backward\"\n",
    "Aproximaciones:\n",
    "\\begin{align}\n",
    "    \\frac{\\partial^2 u}{\\partial x^2} &= \\frac{u(x+\\Delta x, y, t)-2u(x,y,t)+u(x-\\Delta x,y,t)}{\\Delta x^2}\\\\\n",
    "    \\frac{\\partial^2 u}{\\partial y^2} &= \\frac{u(x, y+\\Delta y, t)-2u(x,y,t)+u(x,y-\\Delta y,t)}{\\Delta y^2}\\\\\n",
    "    \\frac{\\partial u}{\\partial t} &= \\frac{u(x,y,t) - u(x,y,t-\\Delta t)}{\\Delta t}\n",
    "\\end{align}\n",
    "\n",
    "Análogo para $v(x,y,t)$."
   ]
  },
  {
   "cell_type": "markdown",
   "metadata": {},
   "source": [
    "Las ecuaciones quedan como:\n",
    "\\begin{align}\n",
    "    \\frac{u(x,y,t) - u(x,y,t - \\Delta t)}{\\Delta t} =&\\,\n",
    "        D_u \\, \\left(\n",
    "            \\frac{u(x+\\Delta x, y, t)-2u(x,y,t)+u(x-\\Delta x,y,t)}{\\Delta x^2} + \n",
    "            \\frac{u(x, y+\\Delta y, t)-2u(x,y,t)+u(x,y-\\Delta y,t)}{\\Delta y^2} \\right)\\\\\n",
    "        &+ \\lambda \\, u(x,y,t) - u(x,y,t)^3 - \\kappa - \\sigma v(x,y,t)\\\\\n",
    "        &\\\\\n",
    "    \\tau \\, \\frac{v(x,y,t) - v(x,y,t-\\Delta t)}{\\Delta t} =&\\,\n",
    "        D_v \\, \\left(\n",
    "            \\frac{v(x+\\Delta x,y,t)-2v(x,y,t)+v(x-\\Delta x,y,t)}{\\Delta x^2} +\n",
    "            \\frac{v(x,y+\\Delta y,t)-2v(x,y,t)+v(x,y-\\Delta y,t)}{\\Delta y^2} \\right)\\\\\n",
    "        &+ u(x,y,t) - v(x,y,t)\n",
    "\\end{align}"
   ]
  },
  {
   "cell_type": "markdown",
   "metadata": {},
   "source": [
    "Ahora si reemplazamos $w_{i,j,k} = u(x,y,t)$ y $ b_{i,j,k} = v(x,y,t) $, donde:\n",
    "\\begin{matrix}\n",
    "    x= x_0+i \\,\\Delta x &\\Longrightarrow &i= \\frac{x-x_0}{\\Delta x}\\\\\n",
    "    y= y_0+j \\,\\Delta y &\\Longrightarrow &j= \\frac{y-y_0}{\\Delta y}\\\\\n",
    "    t= t_0+k \\,\\Delta t &\\Longrightarrow &k= \\frac{t-t_0}{\\Delta t}\n",
    "\\end{matrix}"
   ]
  },
  {
   "cell_type": "markdown",
   "metadata": {},
   "source": [
    "Finalmente, obtenemos:\n",
    "\\begin{align}\n",
    "    \\frac{w_{i,j,k} - w_{i,j,k-1}}{\\Delta t} &=\n",
    "        D_u  \\, \\left(\n",
    "            \\frac{w_{i+1, j, k}-2w_{i,j,k}+w_{i-1,j,k}}{\\Delta x^2} +\n",
    "            \\frac{w_{i, j+1, k}-2w_{i,j,k}+w_{i,j-1,k}}{\\Delta y^2} \\right)\n",
    "        + \\lambda \\, w_{i,j,k} - w_{i,j,k}^3 - \\kappa - \\sigma b_{i,j,k}\\\\\n",
    "    \\tau \\, \\frac{b_{i,j,k} - b_{i,j,k-1}}{\\Delta t} &=\n",
    "        D_v \\, \\left(\n",
    "            \\frac{b_{i+1,j,k}-2b_{i,j,k}+b_{i-1,j,k}}{\\Delta x^2} + \n",
    "            \\frac{b_{i,j+1,k}-2b_{i,j,k}+b_{i,j-1,k}}{\\Delta y^2} \\right)\n",
    "        + w_{i,j,k} - b_{i,j,k}\n",
    "\\end{align}"
   ]
  },
  {
   "cell_type": "markdown",
   "metadata": {},
   "source": [
    "Cambiando $k$ por $k+1$:\n",
    "\\begin{align}\n",
    "    \\frac{w_{i,j,k+1} - w_{i,j,k}}{\\Delta t} &=\n",
    "        D_u  \\, \\left(\n",
    "            \\frac{w_{i+1, j, k+1}-2w_{i,j,k+1}+w_{i-1,j,k+1}}{\\Delta x^2} +\n",
    "            \\frac{w_{i, j+1, k+1}-2w_{i,j,k+1}+w_{i,j-1,k+1}}{\\Delta y^2} \\right)\n",
    "        + \\lambda \\, w_{i,j,k+1} - w_{i,j,k+1}^3 - \\kappa - \\sigma b_{i,j,k+1}\\\\\n",
    "    \\tau \\, \\frac{b_{i,j,k+1} - b_{i,j,k}}{\\Delta t} &=\n",
    "        D_v \\, \\left(\n",
    "            \\frac{b_{i+1,j,k+1}-2b_{i,j,k+1}+b_{i-1,j,k+1}}{\\Delta x^2} +\n",
    "            \\frac{b_{i,j+1,k+1}-2b_{i,j,k+1}+b_{i,j-1,k+1}}{\\Delta y^2} \\right)\n",
    "        + w_{i,j,k+1} - b_{i,j,k+1}\n",
    "\\end{align}        "
   ]
  },
  {
   "cell_type": "markdown",
   "metadata": {},
   "source": [
    "Despejando para el tiempo $k+1$:\n",
    "\n",
    "\\begin{align}\n",
    "    w_{i,j,k} &= \n",
    "        w_{i,j,k+1} - \\Delta t \\left ( D_u  \\, \\left(\n",
    "            \\frac{w_{i+1, j, k+1}-2w_{i,j,k+1}+w_{i-1,j,k+1}}{\\Delta x^2} +\n",
    "            \\frac{w_{i, j+1, k+1}-2w_{i,j,k+1}+w_{i,j-1,k+1}}{\\Delta y^2} \\right)\n",
    "        + \\lambda \\, w_{i,j,k+1} - w_{i,j,k+1}^3 - \\kappa - \\sigma b_{i,j,k+1} \\right )\\\\\n",
    "    b_{i,j,k} &= \n",
    "        b_{i,j,k+1} - \\frac{\\Delta t}{\\tau} \\left( D_v \\, \\left(\n",
    "            \\frac{b_{i+1,j,k+1}-2b_{i,j,k+1}+b_{i-1,j,k+1}}{\\Delta x^2} +\n",
    "            \\frac{b_{i,j+1,k+1}-2b_{i,j,k+1}+b_{i,j-1,k+1}}{\\Delta y^2} \\right)\n",
    "        + w_{i,j,k+1} - b_{i,j,k+1} \\right )\n",
    "\\end{align}"
   ]
  },
  {
   "cell_type": "markdown",
   "metadata": {},
   "source": [
    "Agrupando incógnitas en la primera ecuación\n",
    "\\begin{align}\n",
    "    w_{i,j,k} =&\\,\n",
    "        w_{i,j,k+1} - \\frac{\\Delta t \\, D_u \\, w_{i+1, j, k+1}}{\\Delta x^2} + \n",
    "        2\\frac{\\Delta t \\, D_u \\, w_{i,j,k+1}}{\\Delta x^2} - \n",
    "        \\frac{\\Delta t \\, D_u \\, w_{i-1,j,k+1}}{\\Delta x^2} - \n",
    "        \\frac{\\Delta t \\, D_u \\, w_{i, j+1, k+1}}{\\Delta y^2} +\n",
    "        2 \\frac{\\Delta t \\, D_u \\, w_{i,j,k+1}}{\\Delta y^2} -\n",
    "        \\frac{\\Delta t \\, D_u \\, w_{i,j-1,k+1}}{\\Delta y^2}\\\\\n",
    "        &- \\Delta t \\, \\lambda \\, w_{i,j,k+1} + \\Delta t \\, w_{i,j,k+1}^3 + \n",
    "        \\Delta t \\, \\kappa + \\Delta t \\, \\sigma b_{i,j,k+1}\\\\\n",
    "    &\\\\\n",
    "     w_{i,j,k} - \\Delta t \\, \\kappa =&\\,\n",
    "         (1+ 2\\frac{\\Delta t \\, D_u}{\\Delta x^2} + \n",
    "         2 \\frac{\\Delta t \\, D_u}{\\Delta y^2 } - \n",
    "         \\Delta t \\, \\lambda + \\Delta t \\, w_{i,j,k+1}^2) \\, w_{i,j,k+1} -\n",
    "         \\frac{\\Delta t \\, D_u \\, w_{i+1, j, k+1}}{\\Delta x^2} -\n",
    "         \\frac{\\Delta t \\, D_u \\, w_{i-1,j,k+1}}{\\Delta x^2} -\n",
    "         \\frac{\\Delta t \\, D_u \\, w_{i, j+1, k+1}}{\\Delta y^2}\n",
    "         - \\frac{\\Delta t \\, D_u \\, w_{i,j-1,k+1}}{\\Delta y^2} \\\\\n",
    "         &+ \\Delta t \\, \\sigma b_{i,j,k+1}\\\\\n",
    "\\end{align}"
   ]
  },
  {
   "cell_type": "markdown",
   "metadata": {},
   "source": [
    "Cambiando $ \\delta_u = \\Delta t \\, D_u $:\n",
    "\n",
    "$$ (1+ 2\\frac{\\delta_u}{\\Delta x^2} + 2 \\frac{\\delta_u}{\\Delta y^2 } - \\frac{\\delta_u}{D_u}  \\, \\lambda + \\frac{\\delta_u}{D_u} \\, w_{i,j,k+1}^2) \\, w_{i,j,k+1} - \\frac{\\delta_u \\, w_{i+1, j, k+1}}{\\Delta x^2} - \\frac{\\delta_u \\, w_{i-1,j,k+1}}{\\Delta x^2} - \\frac{\\delta_u \\, w_{i, j+1, k+1}}{\\Delta y^2} - \\frac{\\delta_u \\, w_{i,j-1,k+1}}{\\Delta y^2} + \\frac{\\delta_u}{D_u} \\, \\sigma b_{i,j,k+1} = w_{i,j,k} - \\frac{\\delta_u}{D_u} \\, \\kappa $$\n"
   ]
  },
  {
   "cell_type": "markdown",
   "metadata": {},
   "source": [
    "Agrupando incógnitas en la segunda ecuación\n",
    "\\begin{align}\n",
    "     b_{i,j,k} &=\n",
    "         b_{i,j,k+1} - \\frac{\\Delta t \\, D_v \\, b_{i+1,j,k+1}}{\\Delta x^2 \\, \\tau} +\n",
    "         2 \\frac{\\Delta t \\, D_v \\, b_{i,j,k+1}}{\\Delta x^2 \\, \\tau} -\n",
    "         \\frac{\\Delta t \\, D_v \\, b_{i-1,j,k+1}}{\\Delta x^2 \\, \\tau} -\n",
    "         \\frac{\\Delta t \\, D_v \\, b_{i,j+1,k+1}}{\\Delta y^2 \\, \\tau} +\n",
    "         2 \\frac{\\Delta t \\, D_v \\, b_{i,j,k+1}}{\\Delta y^2 \\, \\tau} -\n",
    "         \\frac{\\Delta t \\, D_v \\, b_{i,j-1,k+1}}{\\Delta y^2 \\, \\tau} -\n",
    "         \\frac{\\Delta t}{\\tau} \\, w_{i,j,k+1} + \\frac{\\Delta t \\, b_{i,j,k+1}}{\\tau}\\\\\n",
    "     b_{i,j,k} &=\n",
    "         (1+ 2 \\frac{\\Delta t \\, D_v}{\\Delta x^2 \\, \\tau} +\n",
    "         2 \\frac{\\Delta t \\, D_v}{\\Delta y^2 \\, \\tau} +\n",
    "         \\frac{\\Delta t}{\\tau}) \\, b_{i,j,k+1} -\n",
    "         \\frac{\\Delta t \\, D_v}{\\Delta x^2 \\, \\tau} \\, b_{i+1,j,k+1} -\n",
    "         \\frac{\\Delta t \\, D_v}{\\Delta x^2 \\, \\tau} \\, b_{i-1,j,k+1} -\n",
    "         \\frac{\\Delta t \\, D_v}{\\Delta y^2 \\, \\tau} \\, b_{i,j+1,k+1} -\n",
    "         \\frac{\\Delta t \\, D_v}{\\Delta y^2 \\, \\tau} \\, b_{i,j-1,k+1} -\n",
    "         \\frac{\\Delta t}{\\tau} \\, w_{i,j,k+1}\n",
    "\\end{align}"
   ]
  },
  {
   "cell_type": "markdown",
   "metadata": {},
   "source": [
    "Cambiando $ \\delta_v = \\displaystyle \\frac{\\Delta t \\, D_v}{\\tau} $\n",
    "\n",
    "$$ (1+ 2 \\frac{\\delta_v}{\\Delta x^2} + 2 \\frac{\\delta_v}{\\Delta y^2} + \\frac{\\delta_v}{D_v}) \\, b_{i,j,k+1} - \\frac{\\delta_v}{\\Delta x^2} \\, b_{i+1,j,k+1}   - \\frac{\\delta_v}{\\Delta x^2} \\, b_{i-1,j,k+1} - \\frac{\\delta_v}{\\Delta y^2} \\, b_{i,j+1,k+1}  - \\frac{\\delta_v}{\\Delta y^2} \\, b_{i,j-1,k+1} - \\frac{\\delta_v}{D_v} \\, w_{i,j,k+1} = b_{i,j,k} $$\n",
    "\n",
    "El error de aproximación es de: $O(\\Delta t) + O(\\Delta x^2) + O(\\Delta y^2)$"
   ]
  },
  {
   "cell_type": "markdown",
   "metadata": {},
   "source": [
    "En resumen, usando $ \\delta_u = \\displaystyle \\Delta t \\, D_u $ y $ \\delta_v = \\displaystyle \\frac{\\Delta t \\, D_v}{\\tau} $ nos queda finalmente el siguiente sistema de ecuaciones no-lineales:\n",
    "\n",
    "\\begin{align}\n",
    "    (1+ 2\\frac{\\delta_u}{\\Delta x^2} + 2 \\frac{\\delta_u}{\\Delta y^2 } -\n",
    "    \\frac{\\delta_u}{D_u}  \\, \\lambda + \\frac{\\delta_u}{D_u} \\, w_{i,j,k+1}^2) \\, w_{i,j,k+1} -\n",
    "    \\frac{\\delta_u \\, w_{i+1, j, k+1}}{\\Delta x^2} - \\frac{\\delta_u \\, w_{i-1,j,k+1}}{\\Delta x^2} -\n",
    "    \\frac{\\delta_u \\, w_{i, j+1, k+1}}{\\Delta y^2} - \\frac{\\delta_u \\, w_{i,j-1,k+1}}{\\Delta y^2} +\n",
    "    \\frac{\\delta_u}{D_u} \\, \\sigma b_{i,j,k+1} &= w_{i,j,k} - \\frac{\\delta_u}{D_u} \\, \\kappa \\\\\n",
    "    (1+ 2 \\frac{\\delta_v}{\\Delta x^2} + 2 \\frac{\\delta_v}{\\Delta y^2} +\n",
    "    \\frac{\\delta_v}{D_v}) \\, b_{i,j,k+1} - \\frac{\\delta_v}{\\Delta x^2} \\, b_{i+1,j,k+1} -\n",
    "    \\frac{\\delta_v}{\\Delta x^2} \\, b_{i-1,j,k+1} - \\frac{\\delta_v}{\\Delta y^2} \\, b_{i,j+1,k+1} -\n",
    "    \\frac{\\delta_v}{\\Delta y^2} \\, b_{i,j-1,k+1} - \\frac{\\delta_v}{D_v} \\, w_{i,j,k+1} &= b_{i,j,k}\n",
    "\\end{align}"
   ]
  },
  {
   "cell_type": "markdown",
   "metadata": {},
   "source": [
    "### d) Implementación de esquema implícito \"Backward\""
   ]
  },
  {
   "cell_type": "code",
   "execution_count": 5,
   "metadata": {
    "collapsed": false,
    "scrolled": false
   },
   "outputs": [],
   "source": [
    "def solve_backward(u0, v0, dx, dy, dt, Tf, Du, Dv, lamb, tau, sigma, kappa):\n",
    "    Ny = u0.shape[0];\n",
    "    Nx = u0.shape[1];\n",
    "    Nt = (int)(np.ceil(Tf/dt));\n",
    "    w = np.zeros([Nt, Nx, Ny])\n",
    "    b = np.zeros([Nt, Nx, Ny])\n",
    "    w[0,:,:] = u0;\n",
    "    b[0,:,:] = v0;\n",
    "    \n",
    "    delta_u = dt*Du;\n",
    "    delta_v = dt*Dv/tau;\n",
    "    cons1 = 1+2*delta_u / dx**2 +2 * delta_u/dy**2-delta_u*lamb/Du;\n",
    "    cons2 = 1+2*delta_v/dx**2+2*delta_v/dy**2+delta_v/Dv;\n",
    "    for k in range (Nt-1):\n",
    "        print(\"k=\")\n",
    "        print(k)\n",
    "        def func(wbk):\n",
    "            wbk = wbk.reshape(2*Nx, Ny);\n",
    "            wk = wbk[0:Nx,:];\n",
    "            bk = wbk[Nx:2*Nx,:];\n",
    "            # b[0], w[0] => i  , j-1\n",
    "            # b[1], w[1] => i-1, j\n",
    "            # b[2], w[2] => i  , j\n",
    "            # b[3], w[3] => i+1, j\n",
    "            # b[4], w[4] => i  , j+1\n",
    "    #        return np.array([(1+2*delta_u / dx**2 +2 * delta_u/dy**2-delta_u*lamb/Du + (delta_u*w[2]**2)/Du)*w[2]\n",
    "    #                    -delta_u*w[3]/dx**2-delta_u*w[1]/dx**2-delta_u*w[4]/dy**2-delta_u*w[0]/dy**2\n",
    "    #                    +delta_u*sigma*b[2]/Du + delta_u*kappa/Du - w_ijk\n",
    "    #                     ,\n",
    "    #                     (1+2*delta_v/dx**2+2*delta_v/dy**2+delta_v/Dv)*b[2]-delta_v*b[3]/dx**2\n",
    "    #                     -delta_v*b[1]/dx**2-delta_v*b[4]/dy**2-delta_v*b[0]/dy**2-delta_v*w[2]/Dv\n",
    "    #                     -b_ijk\n",
    "    #                    ]);\n",
    "            return np.array([np.multiply( cons1 + (delta_u*np.power(wk[:,:],2))/Du, wk[:,:])\n",
    "                    -delta_u*np.roll(wk[:,:], -1, axis=1)/dx**2-delta_u*np.roll(wk[:,:], 1, axis=1)\n",
    "                         /dx**2-delta_u*np.roll(wk[:,:], -1, axis=0)/dy**2-delta_u*np.roll(wk[:,:], 1, axis=0)/dy**2\n",
    "                    +delta_u*sigma*bk[:,:]/Du + delta_u*kappa/Du - w[k,:,:]\n",
    "                     ,\n",
    "                     cons2*bk[:,:]-delta_v*np.roll(bk[:,:], -1, axis=1)/dx**2\n",
    "                     -delta_v*np.roll(bk[:,:], 1, axis=1)/dx**2-delta_v*np.roll(bk[:,:], -1, axis=0)\n",
    "                         /dy**2-delta_v*np.roll(bk[:,:], 1, axis=0)/dy**2-delta_v*wk[:,:]/Dv\n",
    "                     -b[k,:,:]\n",
    "                    ]).ravel();\n",
    "        wk0 = np.ones([Nx, Ny]);\n",
    "        #wk0 = np.matrix ([[1,2,3,4],[5,6,7,8],[9,10,11,12],[13,14,15,16]]);\n",
    "        bk0 = wk0;\n",
    "        #[w[k+1,:,:], b[k+1,:,:]] = sp.optimize.fsolve(func, [wk0, bk0]);\n",
    "        #print(\"fsolve\")\n",
    "        temp = sp.optimize.fsolve(func, np.array([wk0, bk0]).ravel()).reshape(2,Nx,Ny);\n",
    "        #print(temp)\n",
    "        w[k+1,:,:] = temp[0,:,:];\n",
    "        b[k+1,:,:] = temp[1,:,:];\n",
    "    return w;"
   ]
  },
  {
   "cell_type": "markdown",
   "metadata": {},
   "source": [
    "<div id='se3'/>\n",
    "## 3.- Método de las líneas"
   ]
  },
  {
   "cell_type": "markdown",
   "metadata": {},
   "source": [
    "### a) Discretización y formulación del sistema\n",
    "\n",
    "Tenemos:\n",
    "\\begin{align}\n",
    "    \\frac{\\partial u}{\\partial t} &= \n",
    "            D_u \\, (\\frac{\\partial^2 u}{\\partial x^2} + \\frac{\\partial^2 u}{\\partial y^2}) +\n",
    "            \\lambda \\, u - u^3 - \\kappa - \\sigma v \\\\\n",
    "    \\tau \\, \\frac{\\partial v}{\\partial t} &= \n",
    "            D_v \\, (\\frac{\\partial^2 v}{\\partial x^2} + \n",
    "            \\frac{\\partial^2 v}{\\partial y^2}) + u - v\n",
    "\\end{align}"
   ]
  },
  {
   "cell_type": "markdown",
   "metadata": {},
   "source": [
    "utilizando diferencias centradas para discretizar el dominio espacial nos queda:\n",
    "\n",
    "\\begin{align}\n",
    "    \\frac{\\partial u(x_i,y_j,t)}{\\partial t} =&\\,\n",
    "            D_u \\left(\n",
    "                \\frac{u(x_{i+1},y_j,t) - 2 u(x_i,y_j,t) + u(x_{i-1},y_j,t)}{\\Delta x^2} + \n",
    "                \\frac{u(x_i,y_{j+1},t) - 2 u(x_i,y_j,t) + u(x_i,y_{j-1},t)}{\\Delta y^2}\n",
    "            \\right)\\\\\n",
    "            & + \\lambda u(x_i,y_j,t) - (u(x_i,y_j,t))^3 - \\kappa - \\sigma v(x_i,y_j,t) \\\\\n",
    "    &\\\\\n",
    "    \\tau \\, \\frac{\\partial v(x_i,y_j,t)}{\\partial t} =&\\,\n",
    "            D_v \\left(\n",
    "                \\frac{v(x_{i+1},y_j,t) - 2 v(x_i,y_j,t) + v(x_{i-1},y_j,t)}{\\Delta x^2} + \n",
    "                \\frac{v(x_i,y_{j+1},t) - 2 v(x_i,y_j,t) + v(x_i,y_{j-1},t)}{\\Delta y^2}\n",
    "            \\right)\\\\\n",
    "            & + u(x_i,y_j,t) - v(x_i,y_j,t)\n",
    "\\end{align}"
   ]
  },
  {
   "cell_type": "markdown",
   "metadata": {
    "collapsed": false
   },
   "source": [
    "como podemos notar que ahora el problema diferencial es solo dependiente del tiempo. Hacemos el cambio de variable $u(x_i, y_j, y) = w_{i,j}(t)$ y $v(x_i, y_j, y) = b_{i,j}(t)$.\n",
    "Así, el sistema dinámico acoplado resultante queda determinado por las siguientes ecuaciones:\n",
    "\n",
    "\\begin{align}\n",
    "    \\dot{w_{ij}}&=\n",
    "        D_u \\left( \n",
    "            \\frac{w_{i+1,j} - 2 w_{i,j} + w_{i-1,j}}{\\Delta x^2} + \n",
    "            \\frac{w_{i,j+1} - 2 w_{i,j} + w_{i,j-1}}{\\Delta y^2} \\right) \n",
    "        + \\lambda w_{i,j} - w^3_{i,j} - \\kappa - \\sigma b_{i,j} \\\\\n",
    "    \\dot{b_{i,j}}&= \n",
    "        \\frac{D_v}{\\tau} \\left(\n",
    "            \\frac{b_{i+1,j} - 2 b_{i,j} + b_{i-1,j}}{\\Delta x^2} + \n",
    "            \\frac{b_{i,j+1} - 2 b_{i,j} + b_{i,j-1}}{\\Delta y^2} \\right) \n",
    "        + \\frac{w_{i,j} - b_{i,j}}{\\tau}\n",
    "\\end{align}"
   ]
  },
  {
   "cell_type": "markdown",
   "metadata": {},
   "source": [
    "Ordenando convenientemente tenemos:\n",
    "\\begin{align}\n",
    "    \\dot{w_{i,j}} &=\n",
    "        \\frac{D_u}{\\Delta x^2}(w_{i-1,j}+w_{i+1,j}) + \n",
    "        \\frac{D_u}{\\Delta y^2}(w_{i,j-1}+w_{i,j+1}) -\n",
    "        (2D_u(x^{-2}+y^{-2}) + \\lambda)w_{i,j} - w_{i,j}^3\n",
    "        +\\kappa -\\sigma b_{i,j} \\\\\n",
    "    \\dot{b_{i,j}} &=\n",
    "        \\frac{D_v}{\\tau \\Delta x^2}(b_{i-1,j}+b_{i+1,j}) +\n",
    "        \\frac{D_v}{\\tau \\Delta y^2}(b_{i,j-1}+b_{i,j+1}) -\n",
    "        \\frac{2D_v}{\\tau}(x^{-2}+y^{-2})b_{i,j} - \\frac{w_{i,j}+b_{i,j}}{\\tau}\n",
    "\\end{align}"
   ]
  },
  {
   "cell_type": "markdown",
   "metadata": {},
   "source": [
    "### b) Implementación"
   ]
  },
  {
   "cell_type": "code",
   "execution_count": 6,
   "metadata": {
    "collapsed": false
   },
   "outputs": [],
   "source": [
    "def solve_mol(u0, v0, dx, dy, dt, Tf, Du, Dv, lamb, tau, sigma, kappa, method='RK4'):\n",
    "    if method not in ['RK4', 'RK2']:\n",
    "        print(\"El método debe ser 'RK2' o 'RK4'\")\n",
    "        return None\n",
    "    Ny, Nx, Nt = u0.shape[0], u0.shape[1], int(np.ceil(Tf/dt))\n",
    "    w = np.zeros([Nt, Nx, Ny])\n",
    "    b = np.zeros([Nt, Nx, Ny])\n",
    "    w[0,:,:] = u0;\n",
    "    b[0,:,:] = v0;\n",
    "    #Algunos calculos que no varian con el tiempo:\n",
    "    h2   = dt/2\n",
    "    Dux  = Du/(dx**2)\n",
    "    Duy  = Du/(dy**2)\n",
    "    Duxy = -2*Du*((dx**-2) + (dy**-2)) + lamb\n",
    "    Dvx  = Dv/(tau*(dx**2))\n",
    "    Dvy  = Dv/(tau*(dy**2))\n",
    "    Dvxy = (-2*Dv/tau)*((dx**-2) + (dy**-2))\n",
    "    #Como las ecuaciones son autonomas se utilizará t como subindice:\n",
    "    def U(t, xy): #t:subindice del tiempo, xy:matriz de 2 dimenciones con los valores en x e y.\n",
    "        return Dux*(np.roll(xy, -1, axis=1) + np.roll(xy, 1, axis=1)) +\\\n",
    "               Duy*(np.roll(xy, -1, axis=0) + np.roll(xy, 1, axis=0)) +\\\n",
    "               Duxy*xy - xy**3 - sigma*b[t,:,:] + kappa\n",
    "    def V(t, xy): #igual que la anterior pero para V\n",
    "        return Dvx*(np.roll(xy, -1, axis=1) + np.roll(xy, 1, axis=1)) +\\\n",
    "               Dvy*(np.roll(xy, -1, axis=0) + np.roll(xy, 1, axis=0)) +\\\n",
    "               Dvxy*xy - (w[t,:,:] - xy)/tau\n",
    "    #Ignorando los cambios en t a proposito (no cambia nada por que la ec es autonoma).\n",
    "    if method=='RK2':\n",
    "        for k in range(Nt-1):\n",
    "            ku1 = w[k,:,:] + h2*U(k, w[k,:,:])\n",
    "            w[k+1,:,:] = w[k,:,:] + dt*U(k, ku1)\n",
    "            kv1 = b[k,:,:] + h2*V(k, b[k,:,:])\n",
    "            b[k+1,:,:] = b[k,:,:] + dt*V(k, kv1)\n",
    "    else:\n",
    "        for k in range(Nt-1):\n",
    "            ku1 = U(k, w[k,:,:])\n",
    "            ku2 = U(k, w[k,:,:] + h2*ku1)\n",
    "            ku3 = U(k, w[k,:,:] + h2*ku2)\n",
    "            ku4 = U(k, w[k,:,:] + dt*ku3)\n",
    "            w[k+1,:,:] = w[k,:,:] + (dt/6)*(ku1 + 2*(ku2+ku3) + ku4)\n",
    "            kv1 = V(k, b[k,:,:])\n",
    "            kv2 = V(k, b[k,:,:] + h2*kv1)\n",
    "            kv3 = V(k, b[k,:,:] + h2*kv2)\n",
    "            kv4 = V(k, b[k,:,:] + dt*kv3)\n",
    "            b[k+1,:,:] = b[k,:,:] + (dt/6)*(kv1 + 2*(kv2+kv3) + kv4)\n",
    "    return w"
   ]
  },
  {
   "cell_type": "markdown",
   "metadata": {},
   "source": [
    "<div id='se4'\\>\n",
    "## 4.- Simulaciones\n",
    "Se establecen las variables a usar:"
   ]
  },
  {
   "cell_type": "code",
   "execution_count": 5,
   "metadata": {
    "collapsed": false
   },
   "outputs": [],
   "source": [
    "#Generando puntos de la malla aleatoria\n",
    "Nx, Ny = 50, 50\n",
    "u0 = np.random.rand(Nx,Ny)\n",
    "u0[Nx-1,:] = u0[0,:]\n",
    "u0[:,Ny-1] = u0[:,0]\n",
    "v0 = np.random.rand(Nx,Ny)\n",
    "v0[Nx-1,:] = v0[0,:]\n",
    "v0[:,Ny-1] = v0[:,0]\n",
    "dx, dy = 1/(Nx-1), 1/(Ny-1)\n",
    "tf   = 10"
   ]
  },
  {
   "cell_type": "markdown",
   "metadata": {},
   "source": [
    "### a) Significado de los parametros"
   ]
  },
  {
   "cell_type": "markdown",
   "metadata": {},
   "source": [
    "### b) Ejecución de las implementaciones"
   ]
  },
  {
   "cell_type": "code",
   "execution_count": 32,
   "metadata": {
    "collapsed": false
   },
   "outputs": [
    {
     "name": "stdout",
     "output_type": "stream",
     "text": [
      "[[1 2 3 4]\n",
      " [3 4 5 6]\n",
      " [1 2 3 4]]\n",
      "[[2]\n",
      " [4]\n",
      " [2]]\n",
      "[[1 2 3 4 2]\n",
      " [3 4 5 6 4]\n",
      " [1 2 3 4 2]]\n"
     ]
    }
   ],
   "source": [
    "#Parametros suministrados.\n",
    "Du = 3e-4\n",
    "Dv = 4e-3\n",
    "lamb = 1.0\n",
    "tau  = 0.2\n",
    "sigm = 1.0\n",
    "kapp = -0.004\n",
    "\n",
    "q = np.array([[1,2,3,4],[3,4,5,6],[1,2,3,4]]);\n",
    "print(q);\n",
    "print(q[:,[1]])\n",
    "print(np.hstack((q, q[:,[1]])))"
   ]
  },
  {
   "cell_type": "code",
   "execution_count": 34,
   "metadata": {
    "collapsed": false
   },
   "outputs": [
    {
     "name": "stdout",
     "output_type": "stream",
     "text": [
      "[[[ 0.82207842  0.77224802  0.80734847 ...,  0.13750934  0.53164367\n",
      "    0.95397311]\n",
      "  [ 0.6913766   0.16888107  0.42421738 ...,  0.32027916  0.14697597\n",
      "    0.70262951]\n",
      "  [ 0.19146694  0.43920227  0.82708248 ...,  0.69575099  0.14051226\n",
      "    0.70584554]\n",
      "  ..., \n",
      "  [ 0.26979914  0.07588089  0.74032354 ...,  0.6739196   0.03651851\n",
      "    0.44226776]\n",
      "  [ 0.05232647  0.55924206  0.7499908  ...,  0.68651212  0.06501473\n",
      "    0.71039408]\n",
      "  [ 0.32976662  0.47015932  0.63889937 ...,  0.3509248   0.81882974\n",
      "    0.79320657]]\n",
      "\n",
      " [[ 0.82180206  0.77203028  0.80718975 ...,  0.1375546   0.53134844\n",
      "    0.95359512]\n",
      "  [ 0.69097099  0.1691596   0.42431086 ...,  0.31994058  0.14725586\n",
      "    0.70250188]\n",
      "  [ 0.19175312  0.43931501  0.82658328 ...,  0.69521402  0.14095508\n",
      "    0.70569048]\n",
      "  ..., \n",
      "  [ 0.2695582   0.07634858  0.73969809 ...,  0.67375363  0.03686441\n",
      "    0.44207974]\n",
      "  [ 0.05274952  0.55886832  0.74986166 ...,  0.68628967  0.06541269\n",
      "    0.70976269]\n",
      "  [ 0.32963377  0.47027174  0.63886278 ...,  0.35089978  0.81845577\n",
      "    0.79315688]]\n",
      "\n",
      " [[ 0.82154233  0.77179561  0.80701132 ...,  0.13759175  0.53106182\n",
      "    0.95320725]\n",
      "  [ 0.69055511  0.16944848  0.42441753 ...,  0.319618    0.14752665\n",
      "    0.70238077]\n",
      "  [ 0.19204509  0.43942142  0.82607531 ...,  0.69468855  0.14138864\n",
      "    0.70552563]\n",
      "  ..., \n",
      "  [ 0.26932498  0.07679895  0.73907705 ...,  0.67358455  0.03719349\n",
      "    0.44190139]\n",
      "  [ 0.05315388  0.5585079   0.74972787 ...,  0.68605048  0.06582005\n",
      "    0.70914692]\n",
      "  [ 0.32952073  0.47038148  0.6388251  ...,  0.35089603  0.81806577\n",
      "    0.79309428]]\n",
      "\n",
      " ..., \n",
      " [[ 0.69440558  0.68752221  0.67629694 ..., -0.1543468   0.15509024\n",
      "    0.46872514]\n",
      "  [ 0.58079601  0.54399995  0.52459297 ..., -0.0535911   0.23399501\n",
      "    0.49001711]\n",
      "  [ 0.19419429  0.10223179  0.08331044 ...,  0.21148025  0.36222652\n",
      "    0.45527218]\n",
      "  ..., \n",
      "  [-0.78778399 -0.68486994 -0.38209823 ...,  0.48429945  0.0826963\n",
      "   -0.45568392]\n",
      "  [-0.61716755 -0.44729978 -0.09090123 ...,  0.46315523  0.11082181\n",
      "   -0.34131437]\n",
      "  [-0.15144839  0.0527513   0.31902269 ...,  0.39881266  0.19370215\n",
      "   -0.05364751]]\n",
      "\n",
      " [[ 0.69440878  0.68752474  0.67629926 ..., -0.15432931  0.15511047\n",
      "    0.46873902]\n",
      "  [ 0.58079663  0.54399807  0.52458933 ..., -0.05357496  0.23401423\n",
      "    0.49003062]\n",
      "  [ 0.19418467  0.10221756  0.08329225 ...,  0.2114962   0.36224087\n",
      "    0.45527944]\n",
      "  ..., \n",
      "  [-0.78778924 -0.68488083 -0.38211758 ...,  0.48431205  0.0826988\n",
      "   -0.45569254]\n",
      "  [-0.61718199 -0.44731889 -0.09092187 ...,  0.46316751  0.11082101\n",
      "   -0.34132994]\n",
      "  [-0.15147391  0.05272983  0.31901069 ...,  0.39882878  0.1937039\n",
      "   -0.05366543]]\n",
      "\n",
      " [[ 0.69441198  0.68752728  0.67630159 ..., -0.15431181  0.1551307\n",
      "    0.46875289]\n",
      "  [ 0.58079725  0.54399619  0.52458568 ..., -0.05355881  0.23403345\n",
      "    0.49004412]\n",
      "  [ 0.19417504  0.10220333  0.08327406 ...,  0.21151215  0.36225522\n",
      "    0.4552867 ]\n",
      "  ..., \n",
      "  [-0.78779448 -0.68489172 -0.38213692 ...,  0.48432466  0.0827013\n",
      "   -0.45570116]\n",
      "  [-0.61719643 -0.44733801 -0.09094251 ...,  0.46317979  0.11082021\n",
      "   -0.34134551]\n",
      "  [-0.15149942  0.05270836  0.3189987  ...,  0.3988449   0.19370566\n",
      "   -0.05368335]]]\n"
     ]
    }
   ],
   "source": [
    "A = solve_forward(u0, v0, dx, dy, dx**2, tf, Du, Dv, lamb, tau, sigm, kapp)\n",
    "print(A)"
   ]
  },
  {
   "cell_type": "code",
   "execution_count": 12,
   "metadata": {
    "collapsed": false
   },
   "outputs": [
    {
     "name": "stdout",
     "output_type": "stream",
     "text": [
      "k=\n",
      "0\n",
      "k=\n",
      "1\n",
      "k=\n",
      "2\n",
      "k=\n",
      "3\n",
      "k=\n",
      "4\n",
      "k=\n",
      "5\n",
      "k=\n",
      "6\n",
      "k=\n",
      "7\n",
      "k=\n",
      "8\n",
      "[[[ 0.81559378  0.84763939  0.38493397 ...,  0.43561314  0.8729475\n",
      "    0.40963664]\n",
      "  [ 0.86026039  0.54041944  0.58807484 ...,  0.38776516  0.0841806\n",
      "    0.61667162]\n",
      "  [ 0.27172812  0.36750345  0.26259901 ...,  0.54117019  0.79570011\n",
      "    0.34852872]\n",
      "  ..., \n",
      "  [ 0.81546662  0.9430254   0.21462866 ...,  0.90731267  0.57892084\n",
      "    0.28973465]\n",
      "  [ 0.89630066  0.01960813  0.33672026 ...,  0.75186135  0.5199386\n",
      "    0.08699742]\n",
      "  [ 0.97038671  0.17028337  0.4526013  ...,  0.36282221  0.35190937\n",
      "    0.32884615]]\n",
      "\n",
      " [[ 0.59048425  0.53264043  0.37312112 ...,  0.40290441  0.49738286\n",
      "    0.44452077]\n",
      "  [ 0.5606299   0.4508773   0.37836992 ...,  0.36583923  0.3231668\n",
      "    0.46858658]\n",
      "  [ 0.387572    0.30211073  0.25431956 ...,  0.39402651  0.48449576\n",
      "    0.42845487]\n",
      "  ..., \n",
      "  [ 0.59419286  0.56554405  0.36804035 ...,  0.6065624   0.48792086\n",
      "    0.39198587]\n",
      "  [ 0.54815541  0.29762758  0.33648272 ...,  0.55197921  0.43113916\n",
      "    0.3066669 ]\n",
      "  [ 0.58213395  0.34395748  0.37225542 ...,  0.38826615  0.37650957\n",
      "    0.374062  ]]\n",
      "\n",
      " [[ 0.46509877  0.41468741  0.33571397 ...,  0.37025315  0.39125992\n",
      "    0.40714328]\n",
      "  [ 0.43990106  0.37261018  0.30252298 ...,  0.34773048  0.34950466\n",
      "    0.40750594]\n",
      "  [ 0.37587937  0.28683337  0.23897904 ...,  0.35024156  0.39194829\n",
      "    0.40443582]\n",
      "  ..., \n",
      "  [ 0.49030826  0.45926291  0.38819553 ...,  0.49682224  0.44632508\n",
      "    0.4164312 ]\n",
      "  [ 0.44144223  0.35726755  0.34268031 ...,  0.464663    0.4024112\n",
      "    0.36425498]\n",
      "  [ 0.44836034  0.3627748   0.34202618 ...,  0.38387429  0.36688423\n",
      "    0.37446854]]\n",
      "\n",
      " ..., \n",
      " [[ 0.42606033  0.34264787  0.23209532 ...,  0.50802277  0.49442527\n",
      "    0.47223625]\n",
      "  [ 0.36782113  0.23486448  0.06611178 ...,  0.49481565  0.47710592\n",
      "    0.44268701]\n",
      "  [ 0.32465606  0.15700973 -0.03904552 ...,  0.48660652  0.46834379\n",
      "    0.42364978]\n",
      "  ..., \n",
      "  [ 0.58229423  0.57711163  0.56228076 ...,  0.52515495  0.55905242\n",
      "    0.57720617]\n",
      "  [ 0.54531375  0.52572316  0.49764572 ...,  0.55162886  0.55658021\n",
      "    0.55493489]\n",
      "  [ 0.48909874  0.44613691  0.38855188 ...,  0.53213242  0.52497023\n",
      "    0.51303995]]\n",
      "\n",
      " [[ 0.46927563  0.36186696  0.21476086 ...,  0.56162174  0.55112325\n",
      "    0.52629932]\n",
      "  [ 0.39685287  0.21271164 -0.02230148 ...,  0.5536168   0.53771828\n",
      "    0.49579017]\n",
      "  [ 0.33412163  0.09238583 -0.18284897 ...,  0.54494066  0.5273395\n",
      "    0.47042157]\n",
      "  ..., \n",
      "  [ 0.62320031  0.6234263   0.61091185 ...,  0.53629684  0.58276431\n",
      "    0.61089555]\n",
      "  [ 0.59268039  0.57490575  0.5461929  ...,  0.58618534  0.59721405\n",
      "    0.59971806]\n",
      "  [ 0.53828061  0.48942427  0.42046746 ...,  0.57810658  0.57512377\n",
      "    0.56428902]]\n",
      "\n",
      " [[ 0.51213157  0.37876788  0.19160697 ...,  0.60905546  0.60276229\n",
      "    0.5780281 ]\n",
      "  [ 0.42372072  0.17997622 -0.12319286 ...,  0.60651378  0.59412577\n",
      "    0.54746979]\n",
      "  [ 0.33216529  0.00338465 -0.33779265 ...,  0.59685521  0.58122822\n",
      "    0.51262411]\n",
      "  ..., \n",
      "  [ 0.6559058   0.66125617  0.65073366 ...,  0.53731152  0.5968884\n",
      "    0.6358182 ]\n",
      "  [ 0.63353528  0.61776298  0.58854262 ...,  0.61273513  0.62973579\n",
      "    0.6370686 ]\n",
      "  [ 0.5841764   0.52988763  0.44940753 ...,  0.61714031  0.61858712\n",
      "    0.61043343]]]\n"
     ]
    }
   ],
   "source": [
    "B = solve_backward(u0, v0, dx, dy, 1, tf, Du, Dv, lamb, tau, sigm, kapp) #Se queda pegado? Con dt = 2 tardá 24 min\n",
    "print(B)"
   ]
  },
  {
   "cell_type": "code",
   "execution_count": null,
   "metadata": {
    "collapsed": true
   },
   "outputs": [],
   "source": [
    "C = solve_mol(u0, v0, dx, dy, 2.5, tf, Du, Dv, lamb, tau, sigm, kapp,'RK2')\n",
    "print(C)\n"
   ]
  },
  {
   "cell_type": "code",
   "execution_count": null,
   "metadata": {
    "collapsed": true
   },
   "outputs": [],
   "source": [
    "D = solve_mol(u0, v0, dx, dy, 2, tf, Du, Dv, lamb, tau, sigm, kapp,'RK4')\n",
    "print(D)"
   ]
  },
  {
   "cell_type": "code",
   "execution_count": 35,
   "metadata": {
    "collapsed": false
   },
   "outputs": [],
   "source": [
    "animate_pattern(A)\n",
    "#animate_pattern(B)\n"
   ]
  },
  {
   "cell_type": "markdown",
   "metadata": {},
   "source": [
    "### c) Simulaciones con diferentes parametros"
   ]
  },
  {
   "cell_type": "markdown",
   "metadata": {},
   "source": [
    "## Conclusiones\n",
    "\n",
    "###TODO"
   ]
  },
  {
   "cell_type": "markdown",
   "metadata": {},
   "source": [
    "## Referencias\n",
    "<div id='ref1'\\> [1] [IPython Notebook Documentation](http://ipython.readthedocs.org/en/stable/) IPython Documentation. *desc*. Revisado 16/12/2015\n",
    "<div id='ref1'\\> [2] [Python Documentation](https://docs.python.org/3/) Python Documentation. *desc*. Revisado 16/12/2015"
   ]
  },
  {
   "cell_type": "markdown",
   "metadata": {
    "collapsed": false
   },
   "source": [
    "## Anexos\n",
    "Comenzamos cargando los módulos necesarios:"
   ]
  },
  {
   "cell_type": "code",
   "execution_count": 2,
   "metadata": {
    "collapsed": false
   },
   "outputs": [],
   "source": [
    "import numpy as np\n",
    "import scipy as sp\n",
    "from scipy.optimize import fsolve\n",
    "from matplotlib import pyplot as plt\n",
    "#from mpl_toolkits.mplot3d import Axes3D\n",
    "#from matplotlib.colors import cnames\n",
    "from matplotlib import animation\n",
    "\n",
    "#%matplotlib notebook\n",
    "#%load_ext memory_profiler"
   ]
  },
  {
   "cell_type": "code",
   "execution_count": null,
   "metadata": {
    "collapsed": true
   },
   "outputs": [],
   "source": []
  },
  {
   "cell_type": "markdown",
   "metadata": {},
   "source": [
    "<div id='an4'\\> \n",
    "### Implementación de diferencias finitas"
   ]
  },
  {
   "cell_type": "code",
   "execution_count": 3,
   "metadata": {
    "collapsed": false,
    "scrolled": true
   },
   "outputs": [],
   "source": [
    "def fin_dif(N, x0, xN, y0, yN, ydN, yddN):\n",
    "    if (N<4):\n",
    "        print('Error: Se necesita al menos 4 intervalos (5 puntos).');\n",
    "        return;\n",
    "    #inicializando vector de y con ceros.\n",
    "    y = np.zeros([N+1,1])\n",
    "    #tamaño del intervalo\n",
    "    h = (xN-x0)/N;\n",
    "    x = np.linspace(x0, xN, N+1);\n",
    "    \n",
    "    #estableciendo valores conocidos\n",
    "    y[0] = y0;\n",
    "    y[N] = yN;\n",
    "    y[N-1] = y[N]-ydN*h\n",
    "    y[N-2] = yddN*h**4+yN-2*ydN*h;\n",
    "    \n",
    "    M = (N+1)-4;\n",
    "    A = np.zeros([M, M]);\n",
    "    b = np.zeros([M, 1]);\n",
    "    \n",
    "    #creando matriz A\n",
    "    for i in range(M):\n",
    "        if (i >= 1):\n",
    "            A[i,i-1] = -1;\n",
    "        A[i,i] = 4;\n",
    "        if (i <= M-2):\n",
    "            A[i,i+1] = -2*h**4-6;\n",
    "        if (i <= M-3):\n",
    "            A[i,i+2] = 4;\n",
    "        if (i <= M-4):\n",
    "            A[i,i+3] = -1;\n",
    "            \n",
    "    #creando vector b\n",
    "    b[0] = y[0];\n",
    "    if (M >= 3):\n",
    "        b[M-3] = b[M-3] + y[N-2];\n",
    "    if (M >= 2):\n",
    "        b[M-2] = b[M-2] + y[N-1] - 4*y[N-2];\n",
    "    b[M-1] = b[M-1] + y[N] - 4*y[N-1] - (-2*h**4-6)*y[N-2];\n",
    "    \n",
    "    #convirtiendo la matriz A en triangular superior\n",
    "    for i in range(M-1):\n",
    "        A[i+1, :] = A[i+1, :]+A[i, :]/A[i,i];\n",
    "        b[i+1] = b[i+1]+b[i]/A[i,i];\n",
    "    \n",
    "    # Resolviendo el sistema de ecuaciones lineales con backward substitution\n",
    "    for i in range(M-1,-1,-1):\n",
    "        j = i+1;\n",
    "        if (i== M-1):\n",
    "            y[j] = b[i]/A[i,i]\n",
    "        elif (i== M-2):\n",
    "            y[j] = (b[i]-A[i,i+1]*y[j+1])/A[i,i];\n",
    "        elif (i== M-3):\n",
    "            y[j] = (b[i]-A[i,i+1]*y[j+1]-A[i,i+2]*y[j+2])/A[i,i];\n",
    "        else:\n",
    "            y[j] = (b[i]-A[i,i+1]*y[j+1]-A[i,i+2]*y[j+2]-A[i,i+3]*y[j+3])/A[i,i];\n",
    "            \n",
    "    #formateando output\n",
    "    f = np.zeros([N+1, 2]);\n",
    "    f[:,0] = x;\n",
    "    f[:,1] = y[:,0];\n",
    "    return f;"
   ]
  },
  {
   "cell_type": "markdown",
   "metadata": {},
   "source": [
    "<div id='an5'\\> \n",
    "### Utilidades"
   ]
  },
  {
   "cell_type": "code",
   "execution_count": 4,
   "metadata": {
    "collapsed": true
   },
   "outputs": [],
   "source": [
    "\"\"\"\n",
    "> sol must be a 3D numpy array, with dimensions (Nt,Nx,Ny)\n",
    "> time_step:  miliseconds to update canvas\n",
    "> frame_step: Jump step for frames to show\n",
    "\"\"\"\n",
    "def animate_pattern(sol, time_step=10, frame_step=20):\n",
    "    #time index\n",
    "    t_ind = 0\n",
    "    fig = plt.figure()\n",
    "    im = plt.imshow(sol[t_ind], cmap=plt.cm.winter)\n",
    "    plt.xticks([]); plt.yticks([])\n",
    "\n",
    "    #setting the number of frames\n",
    "    frames = int(sol.shape[0]/frame_step)\n",
    "    \n",
    "    #update function\n",
    "    def updatefig(t_ind):\n",
    "        im = plt.imshow(sol[t_ind*frame_step], cmap=plt.cm.winter)\n",
    "        return im,\n",
    "    \n",
    "    #animate it!\n",
    "    ani = animation.FuncAnimation(fig, updatefig, frames=frames, \n",
    "                    interval=time_step, blit=True, repeat=False)\n",
    "    plt.show()"
   ]
  },
  {
   "cell_type": "code",
   "execution_count": null,
   "metadata": {
    "collapsed": true
   },
   "outputs": [],
   "source": []
  }
 ],
 "metadata": {
  "git": {
   "suppress_outputs": true
  },
  "kernelspec": {
   "display_name": "Python 3",
   "language": "python",
   "name": "python3"
  },
  "language_info": {
   "codemirror_mode": {
    "name": "ipython",
    "version": 3
   },
   "file_extension": ".py",
   "mimetype": "text/x-python",
   "name": "python",
   "nbconvert_exporter": "python",
   "pygments_lexer": "ipython3",
   "version": "3.4.3"
  }
 },
 "nbformat": 4,
 "nbformat_minor": 0
}
