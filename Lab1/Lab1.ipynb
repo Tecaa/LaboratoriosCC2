{
 "cells": [
  {
   "cell_type": "markdown",
   "metadata": {},
   "source": [
    "<center>\n",
    "    <h1> ILI-286 - Laboratorio #1 </h1>\n",
    "    <h2> Computaci\u00f3n num\u00e9rica de vectores propios aplicados a PCA </h2>\n",
    "</center>\n",
    "\n",
    "| Nombre | Rol | Email |\n",
    "| :----- | :-- | :---- |\n",
    "| Marco Rojas | 201073005-0 | marco.rojaso@alumnos.usm.cl |\n",
    "| Hern\u00e1n Vargas | 201073009-3 | hernan.vargas@alumnos.usm.cl |\n"
   ]
  },
  {
   "cell_type": "markdown",
   "metadata": {},
   "source": [
    "## Tabla de contenidos\n",
    "* [Introducci\u00f3n](#intro)\n",
    "* [Desarrollo y analis\u00eds de resultados:](#desarrollo)\n",
    " 1. [Power Iteration y Rayleigh Quotient](#de1)\n",
    " 2. [Naive k-first eigen finder](#de2)\n",
    " 3. [Clever k-first eigen finder](#de3)\n",
    " 4. [Modificaci\u00f3n a Normalized Simultaneous Iteration](#de4)\n",
    " 5. [Power iteration v/s Rayleigh Quotient iteration](#de5)\n",
    " 6. [Naive k-eigen finder v/s Clever k-eigen finder v/s k-eigen Normalized Simultaneous Iteration](#de6)\n",
    " 7. [Todos los valores y vectores propios](#de7)\n",
    "* [Concluciones](#Concluciones)\n",
    "* [Referencias](#Referencias)"
   ]
  },
  {
   "cell_type": "markdown",
   "metadata": {},
   "source": [
    "<div id='intro' />\n",
    "## Introducci\u00f3n\n",
    "En este laboratorio se analizar\u00e1n diversos algoritmos para el c\u00e1lculo de valores y vectores propios.\n",
    "De su implementaci\u00f3n se calcular\u00e1 su complejidad y se har\u00e1n comparaciones para obtener concluciones sobre su desempe\u00f1o y exactitud.\n",
    "\n",
    "Como muestra se utilizar\u00e1 un *dataset* de 700 mediciones con 2500 caracteristicas. \n",
    "Como muchos algoritmos requieren una matriz cuadrada para operar se trabajar\u00e1 sobre la matriz de covarianzas que resultar\u00e1 ser $A_{n\\times n}$ con $n=2500$, pues el calculo de los valores propios de \u00e9sta es muy \u00fatil para el *Principal Component Analisis* y lograr identificar los componentes principales.\n",
    "\n",
    "Como notamos, al trabajar con una matriz de $2500\\times 2500$ los tiempos que requerir\u00e1n nuestros algoritmos para encontrar todos los valores y vectores propios ser\u00e1n muy largos as\u00ed que buscamos metodos que evadan este proceso y solo encuentren los m\u00e1s relevantes."
   ]
  },
  {
   "cell_type": "markdown",
   "metadata": {},
   "source": [
    "<div id='desarrollo'/>\n",
    "## Desarrollo y analis\u00eds de resultados\n",
    "\n",
    "Debemos comenzar cargando las bibliotecas y datos necesarios. Adem\u00e1s se definir\u00e1n algunas variables que se usar\u00e1n m\u00e1s adelante."
   ]
  },
  {
   "cell_type": "code",
   "execution_count": null,
   "metadata": {
    "collapsed": false
   },
   "outputs": [],
   "source": [
    "import numpy as np\n",
    "#Para utilizar %memit\n",
    "%load_ext memory_profiler\n",
    "\n",
    "dataset = np.load(\"arcene.npy\")\n",
    "sigma_x = np.dot((1/(1-dataset.shape[1]))*np.transpose(dataset), dataset)\n",
    "\n",
    "def normalize(A):\n",
    "    return np.divide(A,(np.linalg.norm(A)))"
   ]
  },
  {
   "cell_type": "markdown",
   "metadata": {
    "collapsed": true
   },
   "source": [
    "Adem\u00e1s como se calcular\u00e1n las complejidades de varios algoritmos se debe tener en cuenta lo siguiente:\n",
    "\n",
    "La multiplicaci\u00f3n de una matriz $A_{n\\times m}$ por $B_{m\\times p}$ tiene complejidad $O(nmp)$. En este caso trabajamos con matrices cuadradas y vectores as\u00ed que nuestra complejidad del producto matriz - vector ser\u00e1: $O(n^2)$\n",
    "\n",
    "La normalizaci\u00f3n de una matriz $A_{n\\times m}$ incluye una multiplicaci\u00f3n de matriz por escalar y una divisi\u00f3n por la norma de una matriz. \n",
    "La multiplicaci\u00f3n y la divisi\u00f3n tendr\u00e1 complejidad $O(n^2)$ para las matrices $A_{n\\times n}$.\n",
    "La norma que consiste en elevar cada elemento ($O(n^2)$), sumarlos ($O(n^2)$) y sacar la ra\u00edz cuadr\u00e1da ($\\sim O(n)$) de esta suma. As\u00ed la norma tambien tendr\u00e1 complejidad de $O(n^2)$ y por ello el proceso de normalizaci\u00f3n tendr\u00e1 complejidad de $O(n^2)$\n",
    "\n",
    "\n",
    "La normalizaci\u00f3n de una matriz $A_{n\\times m}$ incluye una multiplicaci\u00f3n de matriz por escalar y una divisi\u00f3n por la norma de una matriz. \n",
    "La multiplicaci\u00f3n y la divisi\u00f3n tendr\u00e1 complejidad $O(n^2)$ para las matrices $A_{n\\times n}$.\n",
    "La norma que consiste en elevar cada elemento ($O(n^2)$), sumarlos ($O(n^2)$) y sacar la ra\u00edz cuadr\u00e1da ($\\sim O(n)$) de esta suma. As\u00ed la norma tambien tendr\u00e1 complejidad de $O(n^2)$ y por ello el proceso de normalizaci\u00f3n tendr\u00e1 complejidad de $O(n^2)$\n",
    "\n",
    "Adem\u00e1s podemos notar que la complejidad de calcular la transpuesta de $A_{n\\times n}$ ser\u00e1 $O(n^2)$\n",
    "\n",
    "Por \u00faltimo, la complejidad de `numpy.linalg.solve` es de $O(n^3)$ pues utiliza el algoritmo *LAPACK*[[1](#ref1)] podemos ver su complejidad en [[2](#ref2)]"
   ]
  },
  {
   "cell_type": "markdown",
   "metadata": {},
   "source": [
    "<div id='de1'/>\n",
    "### 1.- Power Iteration y Rayleigh Quotient Iteration\n",
    "\n",
    "Los siguientes algoritmos requieren una matriz $A_{n\\times n}$.\n",
    "Opcionalmente pueden recibir el vector inicial $x_{n\\times 1}$ (por defecto $[1 \\dots 1]^{T}$) y un n\u00famero m\u00e1ximo de iteraciones (por defecto $1000$).\n",
    "\n",
    "Adicionalmente *Rayleigh Quotient Iteration* necesita una funci\u00f3n que resuelva sistemas de ecuaciones $Ax = b$, por ello tiene como argumento opcional una funci\u00f3n (`solve`) que reciba la tupla $(A,b)$ y retorne $x$. Por defecto se utiliza `numpy.linalg.solve` pues es la m\u00e1s general.\n",
    "\n",
    "Ambos algoritmos retornan una tupla con el valor y vector propio dominante: $(\\lambda, \\vec{v})$"
   ]
  },
  {
   "cell_type": "code",
   "execution_count": null,
   "metadata": {
    "collapsed": false,
    "scrolled": true
   },
   "outputs": [],
   "source": [
    "def power_iteration(A, x=None, max_iter=1000):\n",
    "    #Comprueba las dimensiones de x.\n",
    "    if x is None: x = np.ones([A.shape[0],1])\n",
    "    elif A.shape[0] != x.shape[0]: raise ValueError(\"Initial vector error.\")\n",
    "    #Bucle de resoluci\u00f3n.\n",
    "    lamb_old = False\n",
    "    for j in range(1, max_iter):\n",
    "        u = normalize(x)\n",
    "        x = np.dot(A,u)\n",
    "        lamb = np.dot(np.transpose(u),x)\n",
    "        if (lamb == lamb_old): break\n",
    "        lamb_old = lamb\n",
    "    u = normalize(x)\n",
    "    return lamb[0,0], u\n",
    "\n",
    "def rayleigh_quotient_iteration(A, x=None, max_iter=1000, solve=np.linalg.solve):\n",
    "    #Comprueba las dimensiones de x.\n",
    "    if x is None: x = np.ones([A.shape[0],1])\n",
    "    elif A.shape[0] != x.shape[0]: raise ValueError(\"Initial vector error.\")\n",
    "    #Bucle de resoluci\u00f3n.\n",
    "    I = np.identity(A.shape[0])\n",
    "    lamb_old = False\n",
    "    for i in range(1, max_iter):\n",
    "        u = normalize(x)\n",
    "        lamb = np.dot(np.dot(np.transpose(u), A), u)\n",
    "        C = A - lamb*I\n",
    "        try:\n",
    "            x = solve(C, u)\n",
    "        except np.linalg.LinAlgError as e:\n",
    "            if(str(e) == \"Singular matrix\"): break \n",
    "            else: raise\n",
    "        if (lamb == lamb_old): break\n",
    "        lamb_old = lamb\n",
    "    u = normalize(x)\n",
    "    return lamb[0,0], u"
   ]
  },
  {
   "cell_type": "markdown",
   "metadata": {},
   "source": [
    "#### a) Complejidad algoritmo Power Iteracion: \n",
    "En el bucle principal de *Power Iteration* se realiza una normalizaci\u00f3n, dos productos matriz - vector y una transpuesta, as\u00ed su complejidad ser\u00e1: $k(O(n^2) + 2O(n^2) + O(n^2)) = O(kn^2)$\n",
    "     \n",
    "Como vemos, la complejidad de *Power Iteration* viene dada principalmente por la cantidad de iteraciones $k$ que alcance a realizar antes de converger. Como la tasa de convergencia de este algoritmo es lineal se espera que $k$ sea grande.\n",
    "     \n",
    "     \n",
    "#### b) Complejidad algoritmo Rayleigh Quotient Iteration:\n",
    "El bucle principal de *Rayleigh Quotient Iteration* efectua una normalizaci\u00f3n, una transpuesta, dos productos puntos y un *solve*, as\u00ed su complejidad estar\u00e1 dada por: $k(4O(n^2) + O(n^3)) = O(kn^3)$\n",
    "     \n",
    "$k$ al igual que en el caso anterior representa la cantidad de iteraciones que alcanza a realizar el algoritmo, este $k$ ser\u00e1 mucho menor (convergencia cuadr\u00e1tica) que en *power iteration* pues el algoritmo hace converger el vector propio m\u00e1s rapidamente especialmente cuando la matris $A$ es simetrica (convergencia c\u00fabica).\n",
    " "
   ]
  },
  {
   "cell_type": "markdown",
   "metadata": {},
   "source": [
    "<div id='de2'/>\n",
    "### 2.- Naive k-first eigen finder\n",
    "#### a) Correctitud:\n",
    "\n",
    "Llamemos $B = A - \\lambda_1 v_1 v_1^T$, supongamos $A$ simetrica y por ello sus vectores propios ortogonales. Calcularemos los vectores y valores propios de B:\n",
    "$$ B v_i = (A - \\lambda_1 v_1 v_1^T)v_i$$\n",
    "$$ B v_i = Av_i - \\lambda_1 v_1 v_1^Tv_i$$\n",
    "\n",
    "Luego, digamos $v_i$ unitario por lo que para $i=1$ tenemos $ v_1^T v_i = 1$ y  para $i\\neq 1$ tenemos que $ v_1^T v_i = 0 $ \n",
    "\n",
    "As\u00ed, $B v_i = \\lambda_i v_i $ para $i=2:n$\n",
    "\n",
    "Es decir, los valores y vectores propios de $B$ con respecto a $A$ son iguales a excepci\u00f3n del primer valor propio de $B$ que es 0 a diferencia de $A$. Entonces podemos usar \u00e9sta propiedad para calcular los valores propios dominantes i-\u00e9simos de $A$ con *Power Iteration* u otro algoritmo de b\u00fasqueda de valor propio dominante.\n",
    "\n",
    "#### b) Complejidad del algoritmo kEigenFinder:\n",
    "En el bucle principal de `kEigenFinder` se realiza una transpuesta, un producto punto, una resta y un *power iteration*,\n",
    "as\u00ed, suponiendo que $k_1$ es el n\u00famero de valores y vectores propios a obtener y $k_2$ es el promedio de iteraciones de *power iteration* tenemos que la complejidad del algoritmo ser\u00e1: $k_1(3O(n^2 + O(k_2n^2))) = O(k_1k_2n^2)$\n",
    "\n",
    "#### c) Implementaci\u00f3n:\n",
    "`kEigenFinder` toma como argumento una matriz simetrica $A_{n\\times n}$. Opcionalmente un n\u00famero $k$ de valores y vectores propios a obtener (por defecto todos) y un n\u00famero m\u00e1ximo de iteraciones `max_iter` y vector $p$ inicial para cada ejecuci\u00f3n de *power iteration*.\n",
    "\n",
    "Retorna un `array` con valores propios y una matriz con vectores propios."
   ]
  },
  {
   "cell_type": "code",
   "execution_count": null,
   "metadata": {
    "collapsed": false
   },
   "outputs": [],
   "source": [
    "def kEigenFinder(A, k = None, p = None, max_iter=1000):\n",
    "    if p is None: p = np.ones([A.shape[0],1])\n",
    "    elif A.shape[0] != p.shape[0]: raise ValueError(\"Initial vector error.\")\n",
    "    if k is None: k = A.shape[0]\n",
    "    elif k > A.shape[0]: raise ValueError(\"k is out of range.\")\n",
    "    \n",
    "    lamb = np.zeros([p.shape[0],1])\n",
    "    l = 0\n",
    "    v_finales = np.zeros([p.shape[0], p.shape[0]])\n",
    "    v = np.zeros([p.shape[0], 1])\n",
    "    for j in range(0, k):\n",
    "        A = A-l*np.dot(v,v.transpose())\n",
    "        l, v = power_iteration(A, p, max_iter)\n",
    "        v_finales[:,[j]] = v\n",
    "        lamb[j] = l\n",
    "    return lamb, v_finales"
   ]
  },
  {
   "cell_type": "markdown",
   "metadata": {},
   "source": [
    "<div id='de3'/>\n",
    "### 3.- Clever k-first eigen finder\n",
    "#### a) Correctitud\n",
    "#### b) Complejidad algoritmo kEigenFinderPP:\n",
    "Con una matriz $A_{n\\times n}$ tenemos que la complejidad estar\u00e1 dada por las operaciones dentro del bucle principal. Tenemos cuatro productos matriz vector, dos transpuestas, una normalizaci\u00f3n y una resta.\n",
    "\n",
    "As\u00ed,la complejidad de kEigenFinderPP para encontrar $k$ valores propios ser\u00e1: \n",
    "    $k(4n^2 + 2n^2 + 2n^2) ~= O(kn^2)$\n",
    "\n",
    "#### c) Implementaci\u00f3n"
   ]
  },
  {
   "cell_type": "code",
   "execution_count": null,
   "metadata": {
    "collapsed": false
   },
   "outputs": [],
   "source": [
    "def kEigenFinderPP(A, p = 5, k = None):\n",
    "    if k is None: k = A.shape[0]\n",
    "    elif k > A.shape[0]: raise ValueError(\"k is out of range.\")\n",
    "    #Listas donde se guardar\u00e1n los resulados.\n",
    "    lamb = [None] * k\n",
    "    v    = [None] * k\n",
    "    #Valores iniciales.\n",
    "    A_p  = np.linalg.matrix_power(A, p)\n",
    "    #x = np.random.random([A.shape[0],1])\n",
    "    x = np.ones([A.shape[0],1])\n",
    "    #Bucle de resoluci\u00f3n.\n",
    "    for i in range(0, k):\n",
    "        x = np.dot(A_p, x)\n",
    "        v[i] = normalize(x)\n",
    "        lamb[i]= np.dot(np.dot(np.transpose(v[i]), A), v[i])[0,0]\n",
    "        A_p = A_p - lamb[i]**p * np.dot(v[i], np.transpose(v[i])) #Esto se ejecuta una vez dem\u00e1s\n",
    "    return lamb, v\n",
    "\n",
    "A = np.matrix([[3,4,5],\n",
    "               [4,2,1],\n",
    "               [5,1,8]])"
   ]
  },
  {
   "cell_type": "markdown",
   "metadata": {},
   "source": [
    "<div id='de4'/>\n",
    "### 4.- Modificaci\u00f3n a Normalized Simultaneous Iteration\n",
    "#### a) \u00bfQue debemos modificar?\n",
    "Para lograr que Normalized Simultaneous Iteration s\u00f3lo nos entregue los $k$ primeros valores y vectores propios sin hacer c\u00e1lculos de m\u00e1s, debemos lograr que $diag((Q' \\cdot A) \\cdot Q)$ nos entregue s\u00f3lo $k$ elementos.\n",
    "Para esto $(Q' \\cdot A)\\cdot Q$ debe ser una matriz de $k \\times k$  por lo cual $Q$ no debe ser de $m\\times m$, si no que de $m \\times k$ de manera que al hacer $Q' \\cdot A$ obtengamos una matriz de $k \\times m$ y obtengamos la anterior matriz de $k \\times k$ en $(Q' \\cdot A) \\cdot Q$.\n",
    "\n",
    "Entonces para lograr esto truncamos nuestra matriz inicial $Q$ a $Q =[:,0:k]$ permitiendo as\u00ed solo calcular valores para obtener nuestros k valores propios.\n",
    "#### b) Complejidad computacional\n",
    "La complejidad es la de hacer la factorizaci\u00f3n QR $p$ veces:\n",
    "$$ p \\frac {2} {3} n^3 = O(pn^3)$$\n",
    "#### c) Implementaci\u00f3n\n",
    "El algorirtmo *normalized_simultaneous_iteration_q* recibe como par\u00e1metros una matriz $A_{n\\times n}$, un n\u00famero $k$ de valores propios a calcular (por defecto todos) y opcionalmente una cantidad m\u00e1xima de iteraciones (por defecto 1000)\n",
    "\n",
    "Retorna una lista con los valores propios requeridos."
   ]
  },
  {
   "cell_type": "code",
   "execution_count": null,
   "metadata": {
    "collapsed": false
   },
   "outputs": [],
   "source": [
    "def normalized_simultaneous_iteration(A, max_iter=1000):\n",
    "    Q = np.identity(A.shape[0])\n",
    "    for j in range (1,max_iter):\n",
    "        Q, R = np.linalg.qr(np.dot(A,Q))\n",
    "    return np.diag(np.dot(np.dot(np.transpose(Q), A),Q))\n",
    "\n",
    "def normalized_simultaneous_iteration_q(A, k=None, max_iter=1000):\n",
    "    if k == None: k = A.shape[0]\n",
    "    elif k > A.shape[0]: raise ValueError(\"k is out of range.\")\n",
    "\n",
    "    Q = np.identity(A.shape[0]);\n",
    "    Q = Q[:,0:k]\n",
    "    Q_old = False\n",
    "    for j in range (1, max_iter):\n",
    "        Q, R = np.linalg.qr(np.dot(A,Q))\n",
    "        if (np.allclose(Q_old, Q)):\n",
    "            break\n",
    "        Q_old = Q\n",
    "    return np.diag(np.dot(np.dot(np.transpose(Q), A),Q))"
   ]
  },
  {
   "cell_type": "markdown",
   "metadata": {},
   "source": [
    "<div id='de5'/>\n",
    "### 5.- Power iteration v/s Rayleigh Quotient iteration.\n",
    "##### Comparaci\u00f3n de tiempos:"
   ]
  },
  {
   "cell_type": "code",
   "execution_count": null,
   "metadata": {
    "collapsed": false,
    "scrolled": false
   },
   "outputs": [],
   "source": [
    "#Si la matriz es simetrica y positiva definida podemos usar el solve de scipy, pero no es el caso.\n",
    "#import scipy.linalg \n",
    "#sym_solve = lambda A, b: scipy.linalg.solve(A,b,sym_pos=True)\n",
    "iters = 10\n",
    "%timeit power_iteration(sigma_x, max_iter=iters)\n",
    "%timeit rayleigh_quotient_iteration(sigma_x, max_iter=iters)"
   ]
  },
  {
   "cell_type": "markdown",
   "metadata": {},
   "source": [
    "Debido a la complejidad de la operaci\u00f3n para la matriz de $2500\\times 2500$ se utiliz\u00f3 un n\u00famero de iteraciones m\u00e1ximo igual a 10.\n",
    "\n",
    "En el computador que se trabaj\u00f3 obtuvimos:\n",
    "```\n",
    "power_iteration:  10 loops, best of 3: 96.4 ms per loop\n",
    "rayleigh_quotient: 1 loops, best of 3: 46.8 s per loop\n",
    "```\n",
    "Como podemos ver *power iteration* es mucho m\u00e1s rapido que *rayleigh quotient*, al contrario de lo que se esperar\u00eda te\u00f3ricamente (la matriz es simetrica as\u00ed que *rayleigh* deber\u00eda converger c\u00fabicamente). Esto se debe a que en cada iteraci\u00f3n de *rayleigh quotient iteration* se resuelve el sistema de ecuaciones respectivo, en este caso para una matriz con $2500$ variables. Para la resoluci\u00f3n se utiliza por defecto `numpy.linalg.solve` que internamente utiliza un algoritmo de complejidad $O(n^3)$, es decir: pr\u00e1cticamente es lo mismo que sacar la inversa en cada paso.\n",
    "\n",
    "Si bien la ventaja de *rayleigh power iteration* es su tasa de convergencia, estos efectos no pueden ser notados a no ser que contemos con un algoritmo que aproveche las caracteristicas de la matriz inicial. Por otro lado el desempe\u00f1o de *power iteration* es bueno debido a que evita hacer operaciones complejas y, aunque su convergencia es lineal, logra hacer muchas iteraciones en poco tiempo.\n",
    "\n",
    "#### Comparaci\u00f3n de memoria:"
   ]
  },
  {
   "cell_type": "code",
   "execution_count": null,
   "metadata": {
    "collapsed": false
   },
   "outputs": [],
   "source": [
    "%memit  power_iteration(sigma_x, max_iter=iters)\n",
    "%memit  rayleigh_quotient_iteration(sigma_x, max_iter=iters)"
   ]
  },
  {
   "cell_type": "markdown",
   "metadata": {},
   "source": [
    "Los resultados en nuestra maquina fueron:\n",
    "```\n",
    "peak memory: 115.98 MiB, increment: 0.03 MiB\n",
    "peak memory: 265.47 MiB, increment: 149.49 MiB\n",
    "```\n",
    "Como podemos notar nuevamente *power iteration* vence a *rayleigh quotient iteration* suponemos debido a las razones nombradas anteriormente, la memoria gastada debe ser en el proceso de resoluci\u00f3n de de la matriz.\n",
    "\n",
    "Cabe destacar que en esta ocasi\u00f3n el resultado es el esperado. El proceso de resoluci\u00f3n del sistema de ecuaciones gasta m\u00e1s memoria por ciclo. Si la velocidad fuera la correcta esta car\u00e1cteristica se compensar\u00eda con la tasa de convergencia.\n",
    "\n",
    "<div id='de6'/>\n",
    "### 6.- Naive k-eigen finder v/s Clever k-eigen finder v/s k-eigen Normalized Simultaneous Iteration\n",
    "#### Comparaci\u00f3n de tiempos:"
   ]
  },
  {
   "cell_type": "code",
   "execution_count": null,
   "metadata": {
    "collapsed": false
   },
   "outputs": [],
   "source": [
    "K = [10, 100, 1000]\n",
    "P = 8 #Potencia a elevar\n",
    "for k in K:\n",
    "    print(\"Para k=\", k)\n",
    "    %timeit kEigenFinder(sigma_x, k, max_iter=iters)\n",
    "    %timeit kEigenFinderPP(sigma_x, P, k)\n",
    "    %timeit normalized_simultaneous_iteration_q(sigma_x, k, max_iter=iters)"
   ]
  },
  {
   "cell_type": "markdown",
   "metadata": {},
   "source": [
    "El resultado obtenido fue:\n",
    "```\n",
    "Para k= 10\n",
    "1 loops, best of 3: 3.08 s per loop\n",
    "1 loops, best of 3: 45 s per loop\n",
    "1 loops, best of 3: 939 ms per loop\n",
    "Para k= 100\n",
    "1 loops, best of 3: 30.7 s per loop\n",
    "1 loops, best of 3: 1min 43s per loop\n",
    "1 loops, best of 3: 6.84 s per loop\n",
    "Para k= 1000\n",
    "1 loops, best of 3: 5min 5s per loop\n",
    "1 loops, best of 3: 11min 26s per loop\n",
    "1 loops, best of 3: 1min 42s per loop\n",
    "```\n",
    "Podemos notar de la ejecuci\u00f3n de los algoritmos que el que obtiene los mejores resultados es el *normalized simultaneous iteration* debido a que la modificaci\u00f3n hecha hace que aumentar la cantidad de valores propios buscados solo signifique hacer descomposiciones qr de una matriz m\u00e1s grande. Por otro lado el algoritmo m\u00e1s lento es el `kEigenFinderPP` probablemente debido a errores de implementaci\u00f3n. `kEigenFinder` sigue teniendo un desempe\u00f1o aceptable.\n",
    "\n",
    "De estos resultados podemos notar como afecta la tasa de convergencia y el n\u00famero de iteraciones en el desempe\u00f1o de los algoritmos, pues el con mejor tiempo es el que tiene una complejidad computacional mayor.\n",
    "#### Comparaci\u00f3n de memoria"
   ]
  },
  {
   "cell_type": "code",
   "execution_count": null,
   "metadata": {
    "collapsed": false
   },
   "outputs": [],
   "source": [
    "for k in K:\n",
    "    print(\"Para k=\", k)\n",
    "    %memit kEigenFinder(sigma_x, k, max_iter=iters)\n",
    "    %memit kEigenFinderPP(sigma_x, P, k)\n",
    "    %memit normalized_simultaneous_iteration_q(sigma_x, k, max_iter=iters)"
   ]
  },
  {
   "cell_type": "markdown",
   "metadata": {},
   "source": [
    "Se obtuvo:\n",
    "```\n",
    "Para k= 10\n",
    "peak memory: 250.60 MiB, increment: 146.80 MiB\n",
    "peak memory: 247.93 MiB, increment: 144.11 MiB\n",
    "peak memory: 113.75 MiB, increment: 9.84 MiB\n",
    "Para k= 100\n",
    "peak memory: 259.71 MiB, increment: 153.80 MiB\n",
    "peak memory: 250.01 MiB, increment: 144.11 MiB\n",
    "peak memory: 120.26 MiB, increment: 14.35 MiB\n",
    "Para k= 1000\n",
    "peak memory: 285.01 MiB, increment: 169.56 MiB\n",
    "peak memory: 263.63 MiB, increment: 148.18 MiB\n",
    "peak memory: 218.61 MiB, increment: 95.67 MiB\n",
    "```\n",
    "Como podemos notar nuevamente el algoritmo que tiene el mejor rendimiento es el *normalized simultaneous iteration* por las mismas razones descritas anteriormente. Adem\u00e1s vemos como esta vez es el *power iteration el que cae en \u00faltimo* lugar, pues, a pesar de hacer operaciones m\u00e1s simples, debe efectuar muchos m\u00e1s bucles y parte de la memoria no es borrada en el proceso (quiz\u00e1s el recolector de basura no puede detectar correctamente que datos ya no se usan).\n",
    "\n",
    "<div id='de7'/>\n",
    "### 7.- Calculo de todos los valores y vectores propios\n",
    "Para el calculo de los valores y vectores propios utilizaremos ..."
   ]
  },
  {
   "cell_type": "code",
   "execution_count": null,
   "metadata": {
    "collapsed": true
   },
   "outputs": [],
   "source": []
  },
  {
   "cell_type": "markdown",
   "metadata": {},
   "source": [
    "#### a) Gr\u00e1fico de los dos componentes principales\n",
    "#### b) Gr\u00e1fico de los tres componentes principales\n",
    "#### c) Componentes necesarios para explicar el 90% de las varianzas de los datos"
   ]
  },
  {
   "cell_type": "markdown",
   "metadata": {},
   "source": [
    "## Concluciones"
   ]
  },
  {
   "cell_type": "markdown",
   "metadata": {},
   "source": [
    "## Referencias\n",
    "<div id='ref1'\\> [1] [NumPy v1.10 Manual](http://docs.scipy.org/doc/numpy/reference/generated/numpy.linalg.solve.html) numpy.linalg.solve. *The solutions are computed using LAPACK routine _gesv*. Revisado 30/10/2015\n",
    "\n",
    "<div id='ref2'\\> [2] [LAPACK Benchmark](http://www.netlib.org/lapack/lug/node71.html). Ver tabla 3.13. Revisado el 30/10/2015"
   ]
  },
  {
   "cell_type": "code",
   "execution_count": null,
   "metadata": {
    "collapsed": false
   },
   "outputs": [],
   "source": []
  }
 ],
 "metadata": {
  "git": {
   "suppress_outputs": true
  },
  "kernelspec": {
   "display_name": "Python 3",
   "language": "python",
   "name": "python3"
  },
  "language_info": {
   "codemirror_mode": {
    "name": "ipython",
    "version": 3
   },
   "file_extension": ".py",
   "mimetype": "text/x-python",
   "name": "python",
   "nbconvert_exporter": "python",
   "pygments_lexer": "ipython3",
   "version": "3.4.1"
  }
 },
 "nbformat": 4,
 "nbformat_minor": 0
}