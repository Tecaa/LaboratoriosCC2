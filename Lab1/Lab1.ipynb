{
 "cells": [
  {
   "cell_type": "markdown",
   "metadata": {},
   "source": [
    "<center>\n",
    "    <h1> ILI-286 - Laboratorio #1 </h1>\n",
    "    <h2> Computaci\u00f3n num\u00e9rica de vectores propios aplicados a PCA </h2>\n",
    "</center>\n",
    "\n",
    "| Nombre | Rol | Email |\n",
    "| :----- | :-- | :---- |\n",
    "| Marco Rojas | 201073005-0 | marco.rojaso@alumnos.usm.cl |\n",
    "| Hern\u00e1n Vargas | 201073009-3 | hernan.vargas@alumnos.usm.cl |\n"
   ]
  },
  {
   "cell_type": "markdown",
   "metadata": {},
   "source": [
    "## Tabla de contenidos\n",
    "* [Introducci\u00f3n](#intro)\n",
    "* [Desarrollo y analis\u00eds de resultados:](#desarrollo)\n",
    " 1. [Power Iteration y Rayleigh Quotient](#de1)\n",
    " 2. [Naive k-first eigen finder](#de2)\n",
    " 3. [Clever k-first eigen finder](#de3)\n",
    " 4. [TODO](#de4)\n",
    " 5. [Power iteration v/s Rayleigh Quotient iteration](#de5)\n",
    " 6. [Naive v/s Clever](#de6)\n",
    " 7. [Todos los valores y vectores propios](#de7)\n",
    "* [Concluciones](#Concluciones)\n",
    "* [Referencias](#Referencias)"
   ]
  },
  {
   "cell_type": "markdown",
   "metadata": {},
   "source": [
    "<div id='intro' />\n",
    "## Introducci\u00f3n\n",
    "Escribir algo aqu\u00ed."
   ]
  },
  {
   "cell_type": "markdown",
   "metadata": {},
   "source": [
    "<div id='desarrollo'/>\n",
    "## Desarrollo y analis\u00eds de resultados\n",
    "\n",
    "Debemos comenzar cargando las bibliotecas y datos necesarios. Adem\u00e1s se definir\u00e1n algunas variables que se usar\u00e1n m\u00e1s adelante."
   ]
  },
  {
   "cell_type": "code",
   "execution_count": null,
   "metadata": {
    "collapsed": false
   },
   "outputs": [],
   "source": [
    "import numpy as np\n",
    "#Para utilizar %memit\n",
    "#%load_ext memory_profiler\n",
    "\n",
    "dataset = np.load(\"arcene.npy\")\n",
    "sigma_x = np.dot((1/(1-dataset.shape[1]))*np.transpose(dataset), dataset)\n",
    "\n",
    "def normalize(A):\n",
    "    return np.divide(A,(np.linalg.norm(A)))"
   ]
  },
  {
   "cell_type": "markdown",
   "metadata": {
    "collapsed": true
   },
   "source": [
    "Adem\u00e1s como se calcular\u00e1n las complejidades de varios algoritmos se debe tener en cuenta lo siguiente:\n",
    "\n",
    "La multiplicaci\u00f3n de una matriz $A_{n\\times m}$ por $B_{m\\times p}$ tiene complejidad $O(nmp)$. En este caso trabajamos con matrices cuadradas y vectores as\u00ed que nuestra complejidad del producto matriz - vector ser\u00e1: $O(n^2)$\n",
    "\n",
    "La normalizaci\u00f3n de una matriz $A_{n\\times m}$ incluye una multiplicaci\u00f3n de matriz por escalar y una divisi\u00f3n por la norma de una matriz. \n",
    "La multiplicaci\u00f3n y la divisi\u00f3n tendr\u00e1 complejidad $O(n^2)$ para las matrices $A_{n\\times n}$.\n",
    "La norma que consiste en elevar cada elemento ($O(n^2)$), sumarlos ($O(n^2)$) y sacar la ra\u00edz cuadr\u00e1da ($\\sim O(n)$) de esta suma. As\u00ed la norma tambien tendr\u00e1 complejidad de $O(n^2)$ y por ello el proceso de normalizaci\u00f3n tendr\u00e1 complejidad de $O(n^2)$\n",
    "\n",
    "Adem\u00e1s podemos notar que la complejidad de calcular la transpuesta de $A_{n\\times n}$ ser\u00e1 $O(n^2)$\n",
    "\n",
    "Por \u00faltimo, la complejidad de `numpy.linalg.solve` es de $O(n^3)$ pues utiliza el algor\u00edtmo *LAPACK*[[1](#ref1)] podemos ver su complejidad en [[2](#ref2)]"
   ]
  },
  {
   "cell_type": "markdown",
   "metadata": {},
   "source": [
    "<div id='de1'/>\n",
    "### 1.- Power Iteration y Rayleigh Quotient\n",
    "\n",
    "Los siguientes algoritmos requieren una matriz $A_{n\\times n}$.\n",
    "Opcionalmente pueden recibir el vector inicial $x_{n\\times 1}$ (por defecto $[1 \\dots 1]^{T}$) y un n\u00famero m\u00e1ximo de iteraciones (por defecto $1000$).\n",
    "\n",
    "Ambos algoritmos retornan una tupla con el valor y vector propio dominante: $(\\lambda, \\vec{v})$"
   ]
  },
  {
   "cell_type": "code",
   "execution_count": null,
   "metadata": {
    "collapsed": false,
    "scrolled": true
   },
   "outputs": [],
   "source": [
    "def power_iteration(A, x=None, max_iter=1000):\n",
    "    #Comprueba las dimensiones de x.\n",
    "    if x is None: x = np.ones([A.shape[0],1])\n",
    "    elif A.shape[0] != x.shape[0]: raise ValueError(\"Initial vector error.\")\n",
    "    #Bucle de resoluci\u00f3n.\n",
    "    lamb_old = False;\n",
    "    for j in range(1, max_iter):\n",
    "        u = normalize(x)\n",
    "        x = np.dot(A,u)\n",
    "        lamb = np.dot(np.transpose(u),x)\n",
    "        if (lamb == lamb_old):\n",
    "            break;\n",
    "        lamb_old = lamb;\n",
    "    u = normalize(x)\n",
    "    return lamb[0,0], u\n",
    "\n",
    "def rayleigh_quotient_iteration(A, x=None, max_iter=1000):\n",
    "    #Comprueba las dimensiones de x.\n",
    "    if x is None: x = np.ones([A.shape[0],1])\n",
    "    elif A.shape[0] != x.shape[0]: raise ValueError(\"Initial vector error.\")\n",
    "    #Bucle de resoluci\u00f3n.\n",
    "    I = np.identity(A.shape[0])\n",
    "    lamb_old = False;\n",
    "    for i in range(1, max_iter):\n",
    "        u = normalize(x)\n",
    "        lamb = np.dot(np.dot(np.transpose(u), A), u)\n",
    "        C = A - lamb*I\n",
    "        try:\n",
    "            x = np.linalg.solve(C, u)\n",
    "        except:\n",
    "            break \n",
    "        if (lamb == lamb_old):\n",
    "            break;\n",
    "        lamb_old = lamb;\n",
    "    u = normalize(x)\n",
    "    return lamb[0,0], u"
   ]
  },
  {
   "cell_type": "markdown",
   "metadata": {},
   "source": [
    "#### a) Complejidad algoritmo Power Iteracion: \n",
    "En el bucle principal de *Power Iteration* se realiza una normalizaci\u00f3n, dos productos matriz - vector y una transpuesta, as\u00ed su complejidad ser\u00e1: $k(O(n^2) + 2O(n^2) + O(n^2)) = O(kn^2)$\n",
    "     \n",
    "Como vemos, la complejidad de *Power Iteration* viene dada principalmente por la cantidad de iteraciones $k$ que alcance a realizar antes de converger. Como la tasa de convergencia de este algor\u00edtmo es lineal se espera que $k$ sea grande.\n",
    "     \n",
    "     \n",
    "#### b) Complejidad algoritmo Rayleigh Quotient Iteration:\n",
    "El bucle principal de *Rayleigh Quotient Iteration* efectua una normalizaci\u00f3n, una transpuesta, dos productos puntos y un *solve*, as\u00ed su complejidad estar\u00e1 dada por: $k(4O(n^2) + O(n^3)) = O(kn^3)$\n",
    "     \n",
    "$k$ al igual que en el caso anterior representa la cantidad de iteraciones que alcanza a realizar el algoritmo, este $k$ ser\u00e1 mucho menor (convergencia cuadr\u00e1tica) que en *power iteration* pues el algoritmo hace converger el vector propio m\u00e1s rapidamente especialmente cuando la matris $A$ es simetrica (convergencia c\u00fabica).\n",
    " "
   ]
  },
  {
   "cell_type": "markdown",
   "metadata": {},
   "source": [
    "<div id='de2'/>\n",
    "### 2.- Naive k-first eigen finder\n",
    "#### a) Correctitud:\n",
    "\n",
    "Llamemos $B = A - \\lambda_1 v_1 v_1^T$, supongamos $A$ simetrica y por ello sus vectores propios ortogonales. Calcularemos los vectores y valores propios de B:\n",
    "$$ B v_i = (A - \\lambda_1 v_1 v_1^T)v_i$$\n",
    "$$ B v_i = Av_i - \\lambda_1 v_1 v_1^Tv_i$$\n",
    "\n",
    "Luego, digamos $v_i$ unitario por lo que para $i=1$ tenemos $ v_1^T v_i = 1$ y  para $i\\neq 1$ tenemos que $ v_1^T v_i = 0 $ \n",
    "\n",
    "As\u00ed, $B v_i = \\lambda_i v_i $ para $i=2:n$\n",
    "\n",
    "Es decir, los valores y vectores propios de $B$ con respecto a $A$ son iguales a excepci\u00f3n del primer valor propio de $B$ que es 0 a diferencia de $A$. Entonces podemos usar \u00e9sta propiedad para calcular los valores propios dominantes i-\u00e9simos de $A$ con *Power Iteration* u otro algoritmo de b\u00fasqueda de valor propio dominante.\n",
    "\n",
    "#### b) Complejidad del algoritmo kEigenFinder:\n",
    "En el bucle principal de `kEigenFinder` se realiza una transpuesta, un producto punto, una resta y un *power iteration*,\n",
    "as\u00ed, suponiendo que $k_1$ es el n\u00famero de valores y vectores propios a obtener y $k_2$ es el promedio de iteraciones de *power iteration* tenemos que la complejidad del algor\u00edtmo ser\u00e1: $k_1(3O(n^2 + O(k_2n^2))) = O(k_1k_2n^2)$\n",
    "\n",
    "#### c) Implementaci\u00f3n:\n",
    "`kEigenFinder` toma como argumento una matriz simetrica $A_{n\\times n}$. Opcionalmente un n\u00famero $k$ de valores y vectores propios a obtener (por defecto todos) y un vector $p$ inicial para cada ejecuci\u00f3n de *power iteration*.\n",
    "\n",
    "Retorna un `array` con valores propios y una matriz con vectores propios."
   ]
  },
  {
   "cell_type": "code",
   "execution_count": null,
   "metadata": {
    "collapsed": false
   },
   "outputs": [],
   "source": [
    "def kEigenFinder(A, k = None, p = None):\n",
    "    if p is None: p = np.ones([A.shape[0],1])\n",
    "    elif A.shape[0] != p.shape[0]: raise ValueError(\"Initial vector error.\")\n",
    "    if k is None: k = A.shape[0]\n",
    "    elif k > A.shape[0]: raise ValueError(\"k is out of range.\")\n",
    "    \n",
    "    lamb = np.zeros([p.shape[0],1]);\n",
    "    l = 0;\n",
    "    v_finales = np.zeros([p.shape[0], p.shape[0]]);\n",
    "    v = np.zeros([p.shape[0], 1]);\n",
    "    for j in range(0, k):\n",
    "        A = A-l*np.dot(v,v.transpose());\n",
    "        l, v = power_iteration(A, p);\n",
    "        v_finales[:,[j]] = v;\n",
    "        lamb[j] = l;\n",
    "    return lamb, v_finales \n",
    "A= np.matrix([[3,4,5],[4,2,1],[5,1,8]])\n",
    "print(kEigenFinder(A))#, np.matrix([1,1,1]).transpose(), 3))"
   ]
  },
  {
   "cell_type": "markdown",
   "metadata": {},
   "source": [
    "<div id='de3'/>\n",
    "### 3.- Clever k-first eigen finder\n",
    "#### a) Correctitud\n",
    "#### b) Complejidad algoritmo kEigenFinderPP:\n",
    "Con una matriz $A_{n\\times n}$ tenemos que la complejidad ser\u00e1:\n",
    " * $n^2$ por cada producto matriz vector.\n",
    " * $2n^2$ por cada normalizaci\u00f3n.\n",
    " * $p*n^2$ por cada potenciaci\u00f3n.\n",
    "\n",
    "As\u00ed,la complejidad de kEigenFinderPP para encontrar $k$ valores propios ser\u00e1: \n",
    "    $k(4n^2 + 2n^2 + pn^2) ~= O(kpn^2)$\n",
    "\n",
    "#### c) Implementaci\u00f3n"
   ]
  },
  {
   "cell_type": "code",
   "execution_count": null,
   "metadata": {
    "collapsed": false
   },
   "outputs": [],
   "source": [
    "def kEigenFinderPP(A, p = 5, k = None):\n",
    "    if k is None: k = A.shape[0]\n",
    "    elif k > A.shape[0]: raise ValueError(\"k is out of range.\")\n",
    "    #Listas donde se guardar\u00e1n los resulados.\n",
    "    lamb = [None] * k\n",
    "    v    = [None] * k\n",
    "    #Valores iniciales.\n",
    "    A_p  = np.linalg.matrix_power(A, p)\n",
    "    #x = np.random.random([A.shape[0],1])\n",
    "    x = np.ones([A.shape[0],1])\n",
    "    #Bucle de resoluci\u00f3n.\n",
    "    for i in range(0, k):\n",
    "        x = np.dot(A_p, x)\n",
    "        v[i] = normalize(x)\n",
    "        lamb[i]= np.dot(np.dot(np.transpose(v[i]), A), v[i])[0,0]\n",
    "        A_p = A_p - lamb[i]**p * np.dot(v[i], np.transpose(v[i])) #Esto se ejecuta una vez dem\u00e1s\n",
    "    return lamb, v\n",
    "\n",
    "print(A)\n",
    "#print(B)\n",
    "l, y = kEigenFinderPP(A,8)\n",
    "print(l,y)\n",
    "#print(A)"
   ]
  },
  {
   "cell_type": "markdown",
   "metadata": {},
   "source": [
    "<div id='de4'/>\n",
    "### 4.- Modificaci\u00f3n a #ToDo.\n",
    "#### a) \u00bfQue debemos modificar?\n",
    "#### b) Complejidad computacional\n",
    "#### c) Implementaci\u00f3n"
   ]
  },
  {
   "cell_type": "code",
   "execution_count": null,
   "metadata": {
    "collapsed": false
   },
   "outputs": [],
   "source": [
    "def unshifted_qr_algorithm(A):\n",
    "    Q = np.identity(A.shape[0]);\n",
    "    R = A;\n",
    "    Qx = Q\n",
    "    for j in range (1,9999):\n",
    "        Q, R = np.linalg.qr(np.dot(R,Q))\n",
    "        Qx = np.dot(Qx, Q)\n",
    "    return np.diagonal(np.dot(R, Q))\n",
    "\n",
    "## TODO: NO FUNCIONA, FALTA ADAPTARLO\n",
    "def unshifted_qr_algorithm_q(A, q):\n",
    "    #A = A[0:q,0:q];\n",
    "    Q = np.identity(A.shape[0]);\n",
    "    R = A;\n",
    "    Qx = Q;\n",
    "    for j in range (1,9999):\n",
    "        q_r = np.dot(R,Q)\n",
    "        Q, R = np.linalg.qr(q_r)\n",
    "        #Q = Q[:,0:q];\n",
    "        #R = R[0:q,:];\n",
    "        Qx = np.dot(Qx, Q)\n",
    "    return [np.diagonal(np.dot(R, Q)), Qx]\n",
    "A = np.matrix([[3,4,5],\n",
    "               [4,2,1],\n",
    "               [5,1,8]]);\n",
    "print(unshifted_qr_algorithm(A))\n",
    "print(unshifted_qr_algorithm_q(A,1))\n",
    "print(unshifted_qr_algorithm_q(A,2))\n",
    "print(unshifted_qr_algorithm_q(A,3))"
   ]
  },
  {
   "cell_type": "markdown",
   "metadata": {},
   "source": [
    "### 5.- Power iteration v/s Rayleigh Quotient iteration."
   ]
  },
  {
   "cell_type": "code",
   "execution_count": null,
   "metadata": {
    "collapsed": false,
    "scrolled": true
   },
   "outputs": [],
   "source": [
    "#Comentado por carga\n",
    "#%timeit power_iteration(sigma_x, max_iter=20)\n",
    "#%memit  power_iteration(sigma_x, max_iter=20)\n",
    "\n",
    "#%timeit rayleigh_quotient_iteration(sigma_x, max_iter=20)\n",
    "#%memit  rayleigh_quotient_iteration(sigma_x, max_iter=20)"
   ]
  },
  {
   "cell_type": "markdown",
   "metadata": {},
   "source": [
    "#TODO: comparacion y concluciones...\n",
    "<div id='de6'/>\n",
    "### 6.- Naive v/s Clever v/s"
   ]
  },
  {
   "cell_type": "code",
   "execution_count": null,
   "metadata": {
    "collapsed": false
   },
   "outputs": [],
   "source": [
    "K = [10, 100, 1000]\n",
    "P = 10\n",
    "k = 1\n",
    "#%timeit kEigenFinder(sigma_x, None, k)\n",
    "#%memit  kEigenFinder(sigma_x, None, k)\n",
    "\n",
    "#%timeit kEigenFinder(sigma_x, P, k)\n",
    "#%memit  kEigenFinder(sigma_x, P, k)"
   ]
  },
  {
   "cell_type": "markdown",
   "metadata": {},
   "source": [
    "<div id='de7'/>\n",
    "### 6.- Todos los valores y vectores propios"
   ]
  },
  {
   "cell_type": "markdown",
   "metadata": {},
   "source": [
    "## Concluciones"
   ]
  },
  {
   "cell_type": "markdown",
   "metadata": {},
   "source": [
    "## Referencias\n",
    "<div id='ref1'\\> [1] [NumPy v1.10 Manual](http://docs.scipy.org/doc/numpy/reference/generated/numpy.linalg.solve.html) numpy.linalg.solve. *The solutions are computed using LAPACK routine _gesv*. Revisado 30/10/2015\n",
    "\n",
    "<div id='ref2'\\> [2] [LAPACK Benchmark](http://www.netlib.org/lapack/lug/node71.html). Ver tabla 3.13. Revisado el 30/10/2015"
   ]
  },
  {
   "cell_type": "code",
   "execution_count": null,
   "metadata": {
    "collapsed": false
   },
   "outputs": [],
   "source": []
  }
 ],
 "metadata": {
  "git": {
   "suppress_outputs": true
  },
  "kernelspec": {
   "display_name": "Python 3",
   "language": "python",
   "name": "python3"
  },
  "language_info": {
   "codemirror_mode": {
    "name": "ipython",
    "version": 3
   },
   "file_extension": ".py",
   "mimetype": "text/x-python",
   "name": "python",
   "nbconvert_exporter": "python",
   "pygments_lexer": "ipython3",
   "version": "3.4.1"
  }
 },
 "nbformat": 4,
 "nbformat_minor": 0
}