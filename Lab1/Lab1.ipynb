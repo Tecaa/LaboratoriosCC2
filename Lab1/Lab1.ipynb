{
 "cells": [
  {
   "cell_type": "markdown",
   "metadata": {},
   "source": [
    "<center>\n",
    "    <h1> ILI-286 - Laboratorio #1 </h1>\n",
    "    <h2> Computaci\u00f3n num\u00e9rica de vectores propios aplicados a PCA </h2>\n",
    "</center>\n",
    "\n",
    "| Nombre | Rol | Email |\n",
    "| :----- | :-- | :---- |\n",
    "| Marco Rojas | 201073005-0 | marco.rojaso@alumnos.usm.cl |\n",
    "| Hern\u00e1n Vargas | 201073009-3 | hernan.vargas@alumnos.usm.cl |\n"
   ]
  },
  {
   "cell_type": "markdown",
   "metadata": {},
   "source": [
    "## Tabla de contenidos\n",
    "1. [Introducci\u00f3n](#intro)\n",
    "2. [Desarrollo](#Desarrollo)\n",
    " 1.  [Power Iteration y Rayleigh Quotient](#de1)\n",
    " 2.  [Naive k-first eigen finder](#de2)\n",
    "3. [Resultados](#Resultados)\n",
    "4. [Concluciones](#Concluciones)\n",
    "5. [Referencias](#Referencias)"
   ]
  },
  {
   "cell_type": "markdown",
   "metadata": {},
   "source": [
    "<div id='intro' />\n",
    "## Introducci\u00f3n"
   ]
  },
  {
   "cell_type": "code",
   "execution_count": null,
   "metadata": {
    "collapsed": false
   },
   "outputs": [],
   "source": [
    "#some code\n",
    "\n",
    "#\n",
    "\n",
    "#\n",
    "\n",
    "#\n",
    "\n",
    "#\n",
    "\n",
    "#"
   ]
  },
  {
   "cell_type": "markdown",
   "metadata": {},
   "source": [
    "## Desarrollo\n",
    "\n",
    "Debemos comenzar cargando las bibliotecas y datos necesarios. Adem\u00e1s se definir\u00e1n algunas variables que se usar\u00e1n m\u00e1s adelante.\n"
   ]
  },
  {
   "cell_type": "code",
   "execution_count": null,
   "metadata": {
    "collapsed": false
   },
   "outputs": [],
   "source": [
    "import numpy as np\n",
    "\n",
    "dataset = np.load(\"arcene.npy\")"
   ]
  },
  {
   "cell_type": "markdown",
   "metadata": {},
   "source": [
    "<div id='de1'/>\n",
    "### 1.- Power Iteration y Rayleigh Quotient\n",
    "\n",
    "Los siguientes algoritmos requieren una matriz $A_{n\\times n}$.\n",
    "Opcionalmente pueden recibir el vector inicial $x_{n\\times 1}$ (por defecto $[1 \\dots 1]^{T}$) y un n\u00famero m\u00e1ximo de iteraciones (por defecto $1000$).\n",
    "\n",
    "Ambos algoritmos retornan una tupla con el valor y vector propio dominante: $(\\lambda, \\vec{v})$"
   ]
  },
  {
   "cell_type": "code",
   "execution_count": null,
   "metadata": {
    "collapsed": false
   },
   "outputs": [],
   "source": [
    "def power_iteration(A, x=None, max_iter=1000):\n",
    "    if x == None:\n",
    "        x = np.ones([A.shape[0],1])\n",
    "    elif A.shape[0] != x.shape[0]:\n",
    "        raise ValueError(\"Initial vector error.\")\n",
    "    \n",
    "    for j in range(1, max_iter):\n",
    "        u = x/np.linalg.norm(x)\n",
    "        x = np.dot(A,u)\n",
    "        lamb = np.dot(np.transpose(u),x)\n",
    "    u = x/np.linalg.norm(x)\n",
    "    return lamb, u\n",
    "\n",
    "def rayleigh_quotient_iteration(A, x=None, max_iter=1000):\n",
    "    if x == None:\n",
    "        x = np.ones([A.shape[0],1])\n",
    "    elif A.shape[0] != x.shape[0]:\n",
    "        raise ValueError(\"Initial vector error.\")\n",
    "    \n",
    "    I = np.identity(A.shape[0])\n",
    "    for i in range(1, max_iter):\n",
    "        u = x/np.linalg.norm(x)\n",
    "        lamb = np.dot(np.dot(np.transpose(u), A), u)\n",
    "        C = A - lamb*I\n",
    "        if np.linalg.det(C) == 0:\n",
    "            break\n",
    "        else:\n",
    "            x = np.linalg.solve(C, u)\n",
    "    u = x/np.linalg.norm(x)\n",
    "    return lamb, u\n",
    "\n",
    "A= np.array([[7,0,0],[0,3,0],[0,0,2]])\n",
    "print(power_iteration(A))\n",
    "print(rayleigh_quotient_iteration(A))"
   ]
  },
  {
   "cell_type": "markdown",
   "metadata": {},
   "source": [
    " * Complejidad algoritmo Power Iteracion:\n",
    "     #TODO\n",
    " * Complejidad algoritmo Rayleigh Quotient Iteration:\n",
    "     #TODO\n",
    " "
   ]
  },
  {
   "cell_type": "markdown",
   "metadata": {},
   "source": [
    "<div id='de2'/>\n",
    "### 2.- Naive k-first eigen finder\n",
    "#### (a) Correctitud:\n",
    "\n",
    "Explicaci\u00f3n dada en la ayudantia #TODO\n",
    "\n",
    "#### (b) Complejidad:\n",
    "#TODO\n",
    "\n",
    "#### (c) Implementaci\u00f3n:"
   ]
  },
  {
   "cell_type": "code",
   "execution_count": null,
   "metadata": {
    "collapsed": false
   },
   "outputs": [],
   "source": [
    "def kEigenFinder(A, p = None, k = 1000):\n",
    "    if p == None:\n",
    "        p = np.array([1]*A.shape[0]) ## No hay una mejor manera?\n",
    "    elif A.shape[0] != p.shape[0]:\n",
    "        raise ValueError(\"Initial vector error.\")\n",
    "    \n",
    "    lamb = np.zeros([p.shape[0],1]);\n",
    "    v = np.zeros([p.shape[0], p.shape[0]]);\n",
    "    for j in range(0, k):\n",
    "        A = A - np.multiply(lamb, np.dot(v,v.transpose()));\n",
    "        lamb[j], v[:,[j]] = power_iteration(A, p);\n",
    "        \n",
    "    return lamb, v \n",
    "A= np.matrix([[7,0,0],[0,3,0],[0,0,2]])\n",
    "print(kEigenFinder(A, np.matrix([1,1,1]).transpose(), 3))"
   ]
  },
  {
   "cell_type": "markdown",
   "metadata": {},
   "source": [
    "## Resultados"
   ]
  },
  {
   "cell_type": "code",
   "execution_count": null,
   "metadata": {
    "collapsed": false
   },
   "outputs": [],
   "source": [
    "#some code\n",
    "\n",
    "#\n",
    "\n",
    "#\n",
    "\n",
    "#\n",
    "\n",
    "#\n",
    "\n",
    "#"
   ]
  },
  {
   "cell_type": "markdown",
   "metadata": {},
   "source": [
    "## Concluciones"
   ]
  },
  {
   "cell_type": "code",
   "execution_count": null,
   "metadata": {
    "collapsed": false
   },
   "outputs": [],
   "source": [
    "#some code\n",
    "\n",
    "#\n",
    "\n",
    "#\n",
    "\n",
    "#\n",
    "\n",
    "#\n",
    "\n",
    "#"
   ]
  },
  {
   "cell_type": "markdown",
   "metadata": {},
   "source": [
    "## Referencias"
   ]
  },
  {
   "cell_type": "code",
   "execution_count": null,
   "metadata": {
    "collapsed": false
   },
   "outputs": [],
   "source": [
    "#some code\n",
    "\n",
    "#\n",
    "\n",
    "#\n",
    "\n",
    "#\n",
    "\n",
    "#\n",
    "\n",
    "#"
   ]
  },
  {
   "cell_type": "code",
   "execution_count": null,
   "metadata": {
    "collapsed": false
   },
   "outputs": [],
   "source": []
  }
 ],
 "metadata": {
  "git": {
   "suppress_outputs": true
  },
  "kernelspec": {
   "display_name": "Python 3",
   "language": "python",
   "name": "python3"
  },
  "language_info": {
   "codemirror_mode": {
    "name": "ipython",
    "version": 3
   },
   "file_extension": ".py",
   "mimetype": "text/x-python",
   "name": "python",
   "nbconvert_exporter": "python",
   "pygments_lexer": "ipython3",
   "version": "3.4.1"
  }
 },
 "nbformat": 4,
 "nbformat_minor": 0
}