{
 "cells": [
  {
   "cell_type": "markdown",
   "metadata": {},
   "source": [
    "<center>\n",
    "    <h1> ILI-286 - Laboratorio #1 </h1>\n",
    "    <h2> Computación numérica de vectores propios aplicados a PCA </h2>\n",
    "</center>\n",
    "\n",
    "| Nombre | Rol | Email |\n",
    "| :----- | :-- | :---- |\n",
    "| Marco Rojas | 201073005-0 | marco.rojaso@alumnos.usm.cl |\n",
    "| Hernán Vargas | 201073009-3 | hernan.vargas@alumnos.usm.cl |\n"
   ]
  },
  {
   "cell_type": "markdown",
   "metadata": {},
   "source": [
    "## Tabla de contenidos\n",
    "1. [Introducción](#intro)\n",
    "2. [Desarrollo](#Desarrollo)\n",
    " 1.  [Power Iteration y Rayleigh Quotient](#de1)\n",
    " 2.  [Naive k-first eigen finder](#de2)\n",
    "3. [Resultados](#Resultados)\n",
    "4. [Concluciones](#Concluciones)\n",
    "5. [Referencias](#Referencias)"
   ]
  },
  {
   "cell_type": "markdown",
   "metadata": {},
   "source": [
    "<div id='intro' />\n",
    "## Introducción"
   ]
  },
  {
   "cell_type": "code",
   "execution_count": 13,
   "metadata": {
    "collapsed": false
   },
   "outputs": [],
   "source": [
    "#some code\n",
    "\n",
    "#\n",
    "\n",
    "#\n",
    "\n",
    "#\n",
    "\n",
    "#\n",
    "\n",
    "#"
   ]
  },
  {
   "cell_type": "markdown",
   "metadata": {},
   "source": [
    "## Desarrollo\n",
    "\n",
    "Debemos comenzar cargando las bibliotecas y datos necesarios. Además se definirán algunas variables que se usarán más adelante.\n"
   ]
  },
  {
   "cell_type": "code",
   "execution_count": 3,
   "metadata": {
    "collapsed": false
   },
   "outputs": [],
   "source": [
    "import numpy as np\n",
    "\n",
    "dataset = np.load(\"arcene.npy\")"
   ]
  },
  {
   "cell_type": "markdown",
   "metadata": {},
   "source": [
    "<div id='de1'/>\n",
    "### 1.- Power Iteration y Rayleigh Quotient\n",
    "\n",
    "Los siguientes algoritmos requieren una matriz $A_{n\\times n}$.\n",
    "Opcionalmente pueden recibir el vector inicial $x_{n\\times 1}$ (por defecto $[1 \\dots 1]^{T}$) y un número máximo de iteraciones (por defecto $1000$).\n",
    "\n",
    "Ambos algoritmos retornan una tupla con el valor y vector propio dominante: $(\\lambda, \\vec{v})$"
   ]
  },
  {
   "cell_type": "code",
   "execution_count": 5,
   "metadata": {
    "collapsed": false
   },
   "outputs": [
    {
     "name": "stdout",
     "output_type": "stream",
     "text": [
      "(array([[ 7.]]), array([[ 1.],\n",
      "       [ 0.],\n",
      "       [ 0.]]))\n",
      "(array([[ 3.]]), array([[  1.06254984e-13],\n",
      "       [  1.00000000e+00],\n",
      "       [  8.64209288e-12]]))\n"
     ]
    }
   ],
   "source": [
    "def power_iteration(A, x=None, max_iter=1000):\n",
    "    if x == None:\n",
    "        x = np.ones([A.shape[0],1])\n",
    "    elif A.shape[0] != x.shape[0]:\n",
    "        raise ValueError(\"Initial vector error.\")\n",
    "    \n",
    "    for j in range(1, max_iter):\n",
    "        u = x/np.linalg.norm(x)\n",
    "        x = np.dot(A,u)\n",
    "        lamb = np.dot(np.transpose(u),x)\n",
    "    u = x/np.linalg.norm(x)\n",
    "    return lamb, u\n",
    "\n",
    "def rayleigh_quotient_iteration(A, x=None, max_iter=1000):\n",
    "    if x == None:\n",
    "        x = np.ones([A.shape[0],1])\n",
    "    elif A.shape[0] != x.shape[0]:\n",
    "        raise ValueError(\"Initial vector error.\")\n",
    "        \n",
    "    for i in range(1, max_iter):\n",
    "        u = x/np.linalg.norm(x)\n",
    "        lamb = np.dot(np.dot(np.transpose(u), A), u)\n",
    "        S = lamb*np.identity(A.shape[0])\n",
    "        C = A - S\n",
    "        if (C.shape[0] == C.shape[1]) and (np.linalg.matrix_rank(C) == C.shape[0]):\n",
    "            x = np.dot(np.linalg.inv(C), u) ### <- inversa!?\n",
    "        else:\n",
    "            break\n",
    "    u = x/np.linalg.norm(x)\n",
    "    return lamb, u\n",
    "\n",
    "A= np.array([[7,0,0],[0,3,0],[0,0,2]])\n",
    "print(power_iteration(A))\n",
    "print(rayleigh_quotient_iteration(A))"
   ]
  },
  {
   "cell_type": "markdown",
   "metadata": {},
   "source": [
    " * Complejidad algoritmo Power Iteracion:\n",
    "     #TODO\n",
    " * Complejidad algoritmo Rayleigh Quotient Iteration:\n",
    "     #TODO\n",
    " "
   ]
  },
  {
   "cell_type": "markdown",
   "metadata": {},
   "source": [
    "<div id='de2'/>\n",
    "### 2.- Naive k-first eigen finder\n",
    "#### (a) Correctitud:\n",
    "\n",
    "Explicación dada en la ayudantia #TODO\n",
    "\n",
    "#### (b) Complejidad:\n",
    "#TODO\n",
    "\n",
    "#### (c) Implementación:"
   ]
  },
  {
   "cell_type": "code",
   "execution_count": 6,
   "metadata": {
    "collapsed": false
   },
   "outputs": [
    {
     "name": "stdout",
     "output_type": "stream",
     "text": [
      "(matrix([[ 2.]]), matrix([[  0.00000000e+000],\n",
      "        [ -1.82357430e-176],\n",
      "        [  1.00000000e+000]]))\n"
     ]
    }
   ],
   "source": [
    "def kEigenFinder(A, p, k):\n",
    "    if p == None:\n",
    "        p = np.array([1]*A.shape[0]) ## No hay una mejor manera?\n",
    "    elif A.shape[0] != p.shape[0]:\n",
    "        raise ValueError(\"Initial vector error.\")\n",
    "    \n",
    "    lamb = 0;\n",
    "    v = np.zeros([p.shape[0], 1])\n",
    "\n",
    "    for j in range(0, k):\n",
    "    \n",
    "        A = A - np.multiply(lamb, np.dot(v,v.transpose()));\n",
    "        lamb, v = power_iteration(A, p);\n",
    "    return lamb, v # falta arreglar, no debe retornar solo el último si no que todos los de cada iteración\n",
    "A= np.matrix([[7,0,0],[0,3,0],[0,0,2]])\n",
    "print(kEigenFinder(A, np.matrix([1,1,1]).transpose(), 3))\n",
    "\n",
    "#corregir FutureWarnings"
   ]
  },
  {
   "cell_type": "markdown",
   "metadata": {},
   "source": [
    "## Resultados"
   ]
  },
  {
   "cell_type": "code",
   "execution_count": 15,
   "metadata": {
    "collapsed": false
   },
   "outputs": [],
   "source": [
    "#some code\n",
    "\n",
    "#\n",
    "\n",
    "#\n",
    "\n",
    "#\n",
    "\n",
    "#\n",
    "\n",
    "#"
   ]
  },
  {
   "cell_type": "markdown",
   "metadata": {},
   "source": [
    "## Concluciones"
   ]
  },
  {
   "cell_type": "code",
   "execution_count": 16,
   "metadata": {
    "collapsed": false
   },
   "outputs": [],
   "source": [
    "#some code\n",
    "\n",
    "#\n",
    "\n",
    "#\n",
    "\n",
    "#\n",
    "\n",
    "#\n",
    "\n",
    "#"
   ]
  },
  {
   "cell_type": "markdown",
   "metadata": {},
   "source": [
    "## Referencias"
   ]
  },
  {
   "cell_type": "code",
   "execution_count": 17,
   "metadata": {
    "collapsed": false
   },
   "outputs": [],
   "source": [
    "#some code\n",
    "\n",
    "#\n",
    "\n",
    "#\n",
    "\n",
    "#\n",
    "\n",
    "#\n",
    "\n",
    "#"
   ]
  },
  {
   "cell_type": "code",
   "execution_count": null,
   "metadata": {
    "collapsed": false
   },
   "outputs": [],
   "source": []
  }
 ],
 "metadata": {
  "kernelspec": {
   "display_name": "Python 3",
   "language": "python",
   "name": "python3"
  },
  "language_info": {
   "codemirror_mode": {
    "name": "ipython",
    "version": 3
   },
   "file_extension": ".py",
   "mimetype": "text/x-python",
   "name": "python",
   "nbconvert_exporter": "python",
   "pygments_lexer": "ipython3",
   "version": "3.4.3"
  }
 },
 "nbformat": 4,
 "nbformat_minor": 0
}
