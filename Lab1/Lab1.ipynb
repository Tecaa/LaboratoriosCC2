{
 "cells": [
  {
   "cell_type": "markdown",
   "metadata": {},
   "source": [
    "<center>\n",
    "    <h1> ILI-286 - Laboratorio #1 </h1>\n",
    "    <h2> Computación numérica de vectores propios aplicados a PCA </h2>\n",
    "</center>\n",
    "\n",
    "| Nombre | Rol | Email |\n",
    "| :----- | :-- | :---- |\n",
    "| Marco Rojas | 201073005-0 | marco.rojaso@alumnos.usm.cl |\n",
    "| Hernán Vargas | 201073009-3 | hernan.vargas@alumnos.usm.cl |\n"
   ]
  },
  {
   "cell_type": "markdown",
   "metadata": {},
   "source": [
    "## Tabla de contenidos\n",
    "1. [Introducción](#intro)\n",
    "2. [Desarrollo](#Desarrollo)\n",
    " 1.  [Power Iteration y Rayleigh Quotient](#de1)\n",
    " 2.  [Naive k-first eigen finder](#de2)\n",
    " 3.  [Clever k-first eigen finder](#de3)\n",
    " 4.  [TODO](#de4)\n",
    "3. [Resultados](#Resultados)\n",
    " 1.  [Power iteration v/s Rayleigh Quotient iteration](#de5)\n",
    " 2.  [Naive v/s Clever](#de6)\n",
    " 3.  [Todos los valores y vectores propios](#de7)\n",
    "4. [Concluciones](#Concluciones)\n",
    "5. [Referencias](#Referencias)"
   ]
  },
  {
   "cell_type": "markdown",
   "metadata": {},
   "source": [
    "<div id='intro' />\n",
    "## Introducción\n",
    "Escribir algo aquí."
   ]
  },
  {
   "cell_type": "markdown",
   "metadata": {},
   "source": [
    "## Desarrollo\n",
    "\n",
    "Debemos comenzar cargando las bibliotecas y datos necesarios. Además se definirán algunas variables que se usarán más adelante."
   ]
  },
  {
   "cell_type": "code",
   "execution_count": null,
   "metadata": {
    "collapsed": false
   },
   "outputs": [],
   "source": [
    "import numpy as np\n",
    "from sys import float_info\n",
    "#Para utilizar %memit\n",
    "%load_ext memory_profiler\n",
    "\n",
    "dataset = np.load(\"arcene.npy\")\n",
    "sigma_x = np.dot((1/(1-dataset.shape[1]))*np.transpose(dataset), dataset)\n",
    "\n",
    "epsilon = float_info.epsilon"
   ]
  },
  {
   "cell_type": "markdown",
   "metadata": {},
   "source": [
    "<div id='de1'/>\n",
    "### 1.- Power Iteration y Rayleigh Quotient\n",
    "\n",
    "Los siguientes algoritmos requieren una matriz $A_{n\\times n}$.\n",
    "Opcionalmente pueden recibir el vector inicial $x_{n\\times 1}$ (por defecto $[1 \\dots 1]^{T}$) y un número máximo de iteraciones (por defecto $1000$).\n",
    "\n",
    "Ambos algoritmos retornan una tupla con el valor y vector propio dominante: $(\\lambda, \\vec{v})$"
   ]
  },
  {
   "cell_type": "code",
   "execution_count": null,
   "metadata": {
    "collapsed": false,
    "scrolled": true
   },
   "outputs": [],
   "source": [
    "def power_iteration(A, x=None, max_iter=1000):\n",
    "    #Comprueba las dimensiones de x.\n",
    "    if x == None: x = np.ones([A.shape[0],1]) #TODO: No sería mejor random??\n",
    "    elif A.shape[0] != x.shape[0]: raise ValueError(\"Initial vector error.\")\n",
    "    #Bucle de resolución.\n",
    "    for j in range(1, max_iter):\n",
    "        u = x/np.linalg.norm(x)\n",
    "        x = np.dot(A,u)\n",
    "        lamb = np.dot(np.transpose(u),x)\n",
    "    u = x/np.linalg.norm(x)\n",
    "    return lamb[0,0], u\n",
    "\n",
    "def rayleigh_quotient_iteration(A, x=None, max_iter=1000):\n",
    "    #Comprueba las dimensiones de x.\n",
    "    if x == None: x = np.ones([A.shape[0],1])\n",
    "    elif A.shape[0] != x.shape[0]: raise ValueError(\"Initial vector error.\")\n",
    "    #Bucle de resolución.\n",
    "    I = np.identity(A.shape[0])\n",
    "    for i in range(1, max_iter):\n",
    "        u = x/np.linalg.norm(x)\n",
    "        lamb = np.dot(np.dot(np.transpose(u), A), u)\n",
    "        C = A - lamb*I\n",
    "        if np.linalg.det(C) <= epsilon :\n",
    "            break\n",
    "        else:\n",
    "            x = np.linalg.solve(C, u)\n",
    "    u = x/np.linalg.norm(x)\n",
    "    return lamb[0,0], u\n",
    "\n",
    "A = np.array([[3,4,5],[4,2,1],[5,1,8]])\n",
    "initial = np.array([[0],[1],[0]])\n",
    "print(power_iteration(A))\n",
    "#print(rayleigh_quotient_iteration(A))"
   ]
  },
  {
   "cell_type": "markdown",
   "metadata": {},
   "source": [
    " * Complejidad algoritmo Power Iteracion:\n",
    "     $2kn^2 = O(kn^2)$\n",
    "     \n",
    "     La complejidad de Power Iteration viene dada principalmente por la cantidad de iteraciones k que alcanze a realizar antes de converger y por el producto punto matriz-vector ubicado dentro del ciclo.\n",
    "     \n",
    "     \n",
    " * Complejidad algoritmo Rayleigh Quotient Iteration:\n",
    "     $k(\\frac{2}{3} n^3 + 2n^2) = O(kn^3)$\n",
    "     \n",
    "     Lo más complejo del algoritmo es el solver. Se asume que utiliza Gaussian Elimination con BS/FS.\n",
    " "
   ]
  },
  {
   "cell_type": "markdown",
   "metadata": {},
   "source": [
    "<div id='de2'/>\n",
    "### 2.- Naive k-first eigen finder\n",
    "#### (a) Correctitud:\n",
    "\n",
    "Explicación dada en la ayudantia #TODO\n",
    "\n",
    "#### (b) Complejidad:\n",
    "* Complejidad algoritmo kEigenFinder:\n",
    "     $2 k_1 k_2 n^2 + 2n = O(k_1 k_2 n^2)$\n",
    "     \n",
    "     Donde $k_1$ es el promedio de iteraciones que hará Power Iteration y $k_2$ es la cantidad de iteraciones de kEigenFinder \n",
    " \n",
    "\n",
    "#### (c) Implementación:"
   ]
  },
  {
   "cell_type": "code",
   "execution_count": null,
   "metadata": {
    "collapsed": false
   },
   "outputs": [],
   "source": [
    "def kEigenFinder(B, p = None, k = None):\n",
    "    A = B.copy()\n",
    "    if p == None: p = np.ones([A.shape[0],1])\n",
    "    elif A.shape[0] != p.shape[0]: raise ValueError(\"Initial vector error.\") \n",
    "    #^Esto no es necesario por que power_iteration hace la misma verificación.\n",
    "    if k == None: k = A.shape[0] #Def: k=n, mejor k=1?? TODO\n",
    "    elif k > A.shape[0]: raise ValueError(\"k is out of range.\")\n",
    "    \n",
    "    lamb = np.zeros([p.shape[0],1]);\n",
    "    l = 0;\n",
    "    v_finales = np.zeros([p.shape[0], p.shape[0]]);\n",
    "    v = np.zeros([p.shape[0], 1]);\n",
    "    for j in range(0, k):\n",
    "        A = A-l*np.dot(v,v.transpose());\n",
    "        \n",
    "        l, v = power_iteration(A, p);\n",
    "        v_finales[:,[j]] = v;\n",
    "        lamb[j] = l;\n",
    "    return lamb, v_finales \n",
    "A= np.matrix([[3,4,5],[4,2,1],[5,1,8]])\n",
    "print(kEigenFinder(A))#, np.matrix([1,1,1]).transpose(), 3))"
   ]
  },
  {
   "cell_type": "markdown",
   "metadata": {},
   "source": [
    "<div id='de3'/>\n",
    "### 3.- Clever k-first eigen finder\n",
    "#### (a) Correctitud\n",
    "#### (b) Complejidad\n",
    "* Complejidad algoritmo kEigenFinderPP:\n",
    "     $O(A^p) + k (4n^2 + 4n + p) = O(A^p) + O(kn^2)$ #TODO arreglar O(A^p)\n",
    "     \n",
    "     Donde $k$ es la cantidad de iteraciones que realiza kEigenFinderPP\n",
    "#### (c) Implementación"
   ]
  },
  {
   "cell_type": "code",
   "execution_count": null,
   "metadata": {
    "collapsed": false
   },
   "outputs": [],
   "source": [
    "def kEigenFinderPP(A, p = 5, k = None):\n",
    "    if k == None: k = A.shape[0]\n",
    "    elif k > A.shape[0]: raise ValueError(\"k is out of range.\")\n",
    "    #Listas donde se guardarán los resulados.\n",
    "    lamb = [None] * (k + 1)\n",
    "    v    = [None] * (k + 1)\n",
    "    x    = [None] * (k + 1)\n",
    "    #Valores iniciales.\n",
    "    A_p  = np.linalg.matrix_power(A, p)\n",
    "    lamb[0] = 0\n",
    "    v[0] = np.ones([A.shape[0],1])\n",
    "    x[0] = np.random.random([A.shape[0],1])\n",
    "    #Bucle de resolución.\n",
    "    for i in range(0, k):\n",
    "        A_p -= (lamb[i]**p * np.dot(v[i], np.transpose(v[i])))\n",
    "        x[i+1] = np.dot(A_p, x[i])\n",
    "        v[i+1] = x[i+1]/np.linalg.norm(x[i+1])\n",
    "        lamb[i+1]= np.dot(np.dot(np.transpose(v[i+1]), A), v[i+1])[0][0] #only save the float?\n",
    "    return lamb[1:], v[1:]\n",
    "\n",
    "#print(A)\n",
    "#kEigenFinderPP(A,8)"
   ]
  },
  {
   "cell_type": "markdown",
   "metadata": {},
   "source": [
    "<div id='de4'/>\n",
    "### 4.- Modificación a #ToDo.\n",
    "#### ¿Que debemos modificar?\n",
    "#### Complejidad computacional\n",
    "#### Implementación"
   ]
  },
  {
   "cell_type": "code",
   "execution_count": null,
   "metadata": {
    "collapsed": false
   },
   "outputs": [],
   "source": [
    "def unshifted_qr_algorithm(A):\n",
    "    Q = np.identity(A.shape[0]);\n",
    "    R = A;\n",
    "    Qx = Q\n",
    "    for j in range (1,9999):\n",
    "        Q, R = np.linalg.qr(np.dot(R,Q))\n",
    "        Qx = np.dot(Qx, Q)\n",
    "    return np.diagonal(np.dot(R, Q))\n",
    "\n",
    "## TODO: NO FUNCIONA, FALTA ADAPTARLO\n",
    "def unshifted_qr_algorithm_q(A, q):\n",
    "    #A = A[0:q,0:q];\n",
    "    Q = np.identity(A.shape[0]);\n",
    "    R = A;\n",
    "    Qx = Q;\n",
    "    for j in range (1,9999):\n",
    "        q_r = np.dot(R,Q)\n",
    "        Q, R = np.linalg.qr(q_r)\n",
    "        #Q = Q[:,0:q];\n",
    "        #R = R[0:q,:];\n",
    "        Qx = np.dot(Qx, Q)\n",
    "    return [np.diagonal(np.dot(R, Q)), Qx]\n",
    "A = np.matrix([[3,4,5],\n",
    "               [4,2,1],\n",
    "               [5,1,8]]);\n",
    "print(unshifted_qr_algorithm(A))\n",
    "print(unshifted_qr_algorithm_q(A,1))\n",
    "print(unshifted_qr_algorithm_q(A,2))\n",
    "print(unshifted_qr_algorithm_q(A,3))"
   ]
  },
  {
   "cell_type": "markdown",
   "metadata": {},
   "source": [
    "## Resultados\n",
    "<div id='de5'/>\n",
    "### 5.- Power iteration v/s Rayleigh Quotient iteration."
   ]
  },
  {
   "cell_type": "code",
   "execution_count": null,
   "metadata": {
    "collapsed": false,
    "scrolled": true
   },
   "outputs": [],
   "source": [
    "#Comentado por carga\n",
    "#%timeit power_iteration(sigma_x, max_iter=20)\n",
    "#%memit  power_iteration(sigma_x, max_iter=20)\n",
    "\n",
    "#%timeit rayleigh_quotient_iteration(sigma_x, max_iter=20)\n",
    "#%memit  rayleigh_quotient_iteration(sigma_x, max_iter=20)"
   ]
  },
  {
   "cell_type": "markdown",
   "metadata": {},
   "source": [
    "#TODO: comparacion y concluciones...\n",
    "<div id='de6'/>\n",
    "### 6.- Naive v/s Clever v/s"
   ]
  },
  {
   "cell_type": "code",
   "execution_count": null,
   "metadata": {
    "collapsed": false
   },
   "outputs": [],
   "source": [
    "K = [10, 100, 1000]\n",
    "P = 10\n",
    "k = 1\n",
    "#%timeit kEigenFinder(sigma_x, None, k)\n",
    "#%memit  kEigenFinder(sigma_x, None, k)\n",
    "\n",
    "#%timeit kEigenFinder(sigma_x, P, k)\n",
    "#%memit  kEigenFinder(sigma_x, P, k)"
   ]
  },
  {
   "cell_type": "markdown",
   "metadata": {},
   "source": [
    "<div id='de7'/>\n",
    "### 6.- Todos los valores y vectores propios"
   ]
  },
  {
   "cell_type": "markdown",
   "metadata": {},
   "source": [
    "## Concluciones"
   ]
  },
  {
   "cell_type": "markdown",
   "metadata": {},
   "source": [
    "## Referencias"
   ]
  },
  {
   "cell_type": "code",
   "execution_count": null,
   "metadata": {
    "collapsed": false
   },
   "outputs": [],
   "source": []
  }
 ],
 "metadata": {
  "git": {
   "suppress_outputs": true
  },
  "kernelspec": {
   "display_name": "Python 3",
   "language": "python",
   "name": "python3"
  },
  "language_info": {
   "codemirror_mode": {
    "name": "ipython",
    "version": 3
   },
   "file_extension": ".py",
   "mimetype": "text/x-python",
   "name": "python",
   "nbconvert_exporter": "python",
   "pygments_lexer": "ipython3",
   "version": "3.4.3"
  }
 },
 "nbformat": 4,
 "nbformat_minor": 0
}
