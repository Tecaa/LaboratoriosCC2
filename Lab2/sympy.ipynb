{
 "cells": [
  {
   "cell_type": "markdown",
   "metadata": {},
   "source": [
    "# Introduction to the Symbolic Computation with SymPy"
   ]
  },
  {
   "cell_type": "markdown",
   "metadata": {},
   "source": [
    "## 1. Preliminaries"
   ]
  },
  {
   "cell_type": "markdown",
   "metadata": {},
   "source": [
    "* In this tutorial, we assume a basic knowledge in Python, especially in handling objects.\n",
    "* A proper background in mathematics, especially in linear algebra.\n",
    "* The main goal of this tutorial, is give you knowledge about how to use some tools included in SymPy, for you to know some useful symbolic tools to start with.\n",
    "* This tutorial is introductory, there are many specific functionalites that aren't explained here, though are available in the Sympy documentation in its official page -> docs.sympy.org"
   ]
  },
  {
   "cell_type": "markdown",
   "metadata": {},
   "source": [
    "## 2. Introduction"
   ]
  },
  {
   "cell_type": "markdown",
   "metadata": {},
   "source": [
    "### 2.1. What is Symbolic Computation?"
   ]
  },
  {
   "cell_type": "markdown",
   "metadata": {},
   "source": [
    "Symbolic computation deals with the computation of mathematical objects symbolically. This means that the mathematical objects are represented exactly, not approximately, and mathematical expressions with unevaluated variables are left in symbolic form.\n",
    "\n",
    "Let’s take an example. Say we wanted to use the built-in Python functions to compute square roots. We might do something like this."
   ]
  },
  {
   "cell_type": "code",
   "execution_count": 2,
   "metadata": {
    "collapsed": false
   },
   "outputs": [
    {
     "data": {
      "text/plain": [
       "3.0"
      ]
     },
     "execution_count": 2,
     "metadata": {},
     "output_type": "execute_result"
    }
   ],
   "source": [
    "import math\n",
    "math.sqrt(9)"
   ]
  },
  {
   "cell_type": "markdown",
   "metadata": {},
   "source": [
    "9 is a perfect square, so we got the exact answer, 3. But suppose we computed the square root of a number that isn’t a perfect square"
   ]
  },
  {
   "cell_type": "code",
   "execution_count": 4,
   "metadata": {
    "collapsed": false
   },
   "outputs": [
    {
     "data": {
      "text/plain": [
       "2.8284271247461903"
      ]
     },
     "execution_count": 4,
     "metadata": {},
     "output_type": "execute_result"
    }
   ],
   "source": [
    "math.sqrt(8)"
   ]
  },
  {
   "cell_type": "markdown",
   "metadata": {},
   "source": [
    "Here we got an approximate result. $ 2.82842712475 $ is not the exact square root of 8 (indeed, the actual square root of 8 cannot be represented by a finite decimal, since it is an irrational number). If all we cared about was the decimal form of the square root of 8, we would be done.\n",
    "\n",
    "But suppose we want to go further. Recall that $ \\sqrt{8} = \\sqrt{4 \\cdot 2} = 2 \\sqrt{2} $. We would have a hard time deducing this from the above result. This is where symbolic computation comes in. With a symbolic computation system like SymPy, square roots of numbers that are not perfect squares are left unevaluated by default"
   ]
  },
  {
   "cell_type": "code",
   "execution_count": 4,
   "metadata": {
    "collapsed": false
   },
   "outputs": [
    {
     "ename": "SyntaxError",
     "evalue": "invalid syntax (<ipython-input-4-42ec07d779fd>, line 2)",
     "output_type": "error",
     "traceback": [
      "\u001b[1;36m  File \u001b[1;32m\"<ipython-input-4-42ec07d779fd>\"\u001b[1;36m, line \u001b[1;32m2\u001b[0m\n\u001b[1;33m    print sympy.sqrt(3)\u001b[0m\n\u001b[1;37m              ^\u001b[0m\n\u001b[1;31mSyntaxError\u001b[0m\u001b[1;31m:\u001b[0m invalid syntax\n"
     ]
    }
   ],
   "source": [
    "from sympy import *\n",
    "print sympy.sqrt(3)"
   ]
  },
  {
   "cell_type": "markdown",
   "metadata": {},
   "source": [
    "Furthermore—and this is where we start to see the real power of symbolic computation—symbolic results can be symbolically simplified."
   ]
  },
  {
   "cell_type": "code",
   "execution_count": 1,
   "metadata": {
    "collapsed": false
   },
   "outputs": [
    {
     "ename": "SyntaxError",
     "evalue": "invalid syntax (<ipython-input-1-adb99578df24>, line 1)",
     "output_type": "error",
     "traceback": [
      "\u001b[1;36m  File \u001b[1;32m\"<ipython-input-1-adb99578df24>\"\u001b[1;36m, line \u001b[1;32m1\u001b[0m\n\u001b[1;33m    print sympy.sqrt(8)\u001b[0m\n\u001b[1;37m              ^\u001b[0m\n\u001b[1;31mSyntaxError\u001b[0m\u001b[1;31m:\u001b[0m invalid syntax\n"
     ]
    }
   ],
   "source": [
    "print sympy.sqrt(8)"
   ]
  },
  {
   "cell_type": "markdown",
   "metadata": {},
   "source": [
    "### 2.2. A More Interesting Example"
   ]
  },
  {
   "cell_type": "markdown",
   "metadata": {},
   "source": [
    "The above example starts to show how we can manipulate irrational numbers exactly using SymPy. But it is much more powerful than that. Symbolic computation systems (which by the way, are also often called computer algebra systems, or just CASs) such as SymPy are capable of computing symbolic expressions with variables.\n",
    "\n",
    "As we will see later, in SymPy, variables are defined using $ symbols $. Unlike many symbolic manipulation systems, variables in SymPy must be defined before they are used (the reason for this will be discussed in the next section).\n",
    "\n",
    "Let us define a symbolic expression, representing the mathematical expression $ x + 2y $."
   ]
  },
  {
   "cell_type": "code",
   "execution_count": 2,
   "metadata": {
    "collapsed": false
   },
   "outputs": [
    {
     "name": "stdout",
     "output_type": "stream",
     "text": [
      "x + 2*y\n"
     ]
    }
   ],
   "source": [
    "from sympy import symbols\n",
    "x, y = symbols(\"x y\")\n",
    "expr = x + 2*y\n",
    "print expr"
   ]
  },
  {
   "cell_type": "markdown",
   "metadata": {},
   "source": [
    "Note that we wrote $ x + 2*y $ just as we would if $ x $ and $ y $ were ordinary Python variables. But in this case, instead of evaluating to something, the expression remains as just $ x + 2*y $. Now let us play around with it:"
   ]
  },
  {
   "cell_type": "code",
   "execution_count": 5,
   "metadata": {
    "collapsed": false
   },
   "outputs": [
    {
     "name": "stdout",
     "output_type": "stream",
     "text": [
      "x + 2*y + 1\n",
      "2*y\n"
     ]
    }
   ],
   "source": [
    "print expr + 1\n",
    "print expr - x"
   ]
  },
  {
   "cell_type": "markdown",
   "metadata": {},
   "source": [
    "Notice something in the above example. When we typed $ expr - x $, we did not get $ x + 2*y - x $, but rather just $ 2*y $. The $ x $ and the $ -x $ automatically canceled one another. This is similar to how $ sqrt(8) $ automatically turned into $ 2*sqrt(2) $ above. This isn’t always the case in SymPy, however:"
   ]
  },
  {
   "cell_type": "code",
   "execution_count": 96,
   "metadata": {
    "collapsed": false
   },
   "outputs": [
    {
     "name": "stdout",
     "output_type": "stream",
     "text": [
      "x*(x + 2*y)\n"
     ]
    }
   ],
   "source": [
    "print x*expr"
   ]
  },
  {
   "cell_type": "markdown",
   "metadata": {},
   "source": [
    "Here, we might have expected $ x(x+2y) $ to transform into $ x^2+2xy $, but instead we see that the expression was left alone. This is a common theme in SymPy. Aside from obvious simplifications like $ x−x=0 $ and $ \\sqrt{8} = 2 \\sqrt{2} $, most simplifications are not performed automatically. This is because we might prefer the factored form $ x(x+2y) $, or we might prefer the expanded form $ x^2+2xy $. Both forms are useful in different circumstances. In SymPy, there are functions to go from one form to the other"
   ]
  },
  {
   "cell_type": "code",
   "execution_count": 97,
   "metadata": {
    "collapsed": false
   },
   "outputs": [
    {
     "name": "stdout",
     "output_type": "stream",
     "text": [
      "x**2 + 2*x*y\n",
      "x*(x + 2*y)\n"
     ]
    }
   ],
   "source": [
    "from sympy import expand, factor\n",
    "expanded_expr = expand(x*expr)\n",
    "print expanded_expr\n",
    "print factor(expanded_expr)"
   ]
  },
  {
   "cell_type": "markdown",
   "metadata": {},
   "source": [
    "### 2.3. The Power of Symbolic Computation"
   ]
  },
  {
   "cell_type": "markdown",
   "metadata": {},
   "source": [
    "The real power of a symbolic computation system such as SymPy is the ability to do all sorts of computations symbolically. SymPy can simplify expressions, compute derivatives, integrals, and limits, solve equations, work with matrices, and much, much more, and do it all symbolically. It includes modules for plotting, printing (like 2D pretty printed output of math formulas, or $ \\LaTeX $), code generation, physics, statistics, combinatorics, number theory, geometry, logic, and more. Here is a small sampling of the sort of symbolic power SymPy is capable of, to whet your appetite."
   ]
  },
  {
   "cell_type": "code",
   "execution_count": 98,
   "metadata": {
    "collapsed": false
   },
   "outputs": [],
   "source": [
    "from sympy import *\n",
    "x, t, z, nu = symbols(\"x t z nu\")"
   ]
  },
  {
   "cell_type": "markdown",
   "metadata": {},
   "source": [
    "This will make all further examples pretty print with unicode characters."
   ]
  },
  {
   "cell_type": "code",
   "execution_count": 48,
   "metadata": {
    "collapsed": false
   },
   "outputs": [],
   "source": [
    "init_printing(use_unicode=True)"
   ]
  },
  {
   "cell_type": "markdown",
   "metadata": {},
   "source": [
    "Take the derivative of $ \\sin(x) e^{x}$."
   ]
  },
  {
   "cell_type": "code",
   "execution_count": 100,
   "metadata": {
    "collapsed": false
   },
   "outputs": [
    {
     "data": {
      "image/png": "[encoded data removed]",
      "text/latex": [
       "$$e^{x} \\sin{\\left (x \\right )} + e^{x} \\cos{\\left (x \\right )}$$"
      ],
      "text/plain": [
       " x           x       \n",
       "ℯ ⋅sin(x) + ℯ ⋅cos(x)"
      ]
     },
     "execution_count": 100,
     "metadata": {},
     "output_type": "execute_result"
    }
   ],
   "source": [
    "diff(sin(x)*exp(x),x)"
   ]
  },
  {
   "cell_type": "markdown",
   "metadata": {},
   "source": [
    "Compute $ \\int(e^x sin(x) + e^x cos(x)) dx $"
   ]
  },
  {
   "cell_type": "code",
   "execution_count": 101,
   "metadata": {
    "collapsed": false
   },
   "outputs": [
    {
     "data": {
      "image/png": "[encoded data removed]",
      "text/latex": [
       "$$e^{x} \\sin{\\left (x \\right )}$$"
      ],
      "text/plain": [
       " x       \n",
       "ℯ ⋅sin(x)"
      ]
     },
     "execution_count": 101,
     "metadata": {},
     "output_type": "execute_result"
    }
   ],
   "source": [
    "integrate(exp(x)*sin(x) + exp(x)*cos(x), x)"
   ]
  },
  {
   "cell_type": "markdown",
   "metadata": {},
   "source": [
    "Compute $ \\int_{-\\inf}^{\\inf} sin(x^2)dx $"
   ]
  },
  {
   "cell_type": "code",
   "execution_count": 102,
   "metadata": {
    "collapsed": false
   },
   "outputs": [
    {
     "data": {
      "image/png": "[encoded data removed]",
      "text/latex": [
       "$$\\frac{\\sqrt{2} \\sqrt{\\pi}}{2}$$"
      ],
      "text/plain": [
       "  ___   ___\n",
       "╲╱ 2 ⋅╲╱ π \n",
       "───────────\n",
       "     2     "
      ]
     },
     "execution_count": 102,
     "metadata": {},
     "output_type": "execute_result"
    }
   ],
   "source": [
    "integrate(sin(x**2), (x, -oo,oo))"
   ]
  },
  {
   "cell_type": "markdown",
   "metadata": {},
   "source": [
    "Find $ \\lim_{x->0} \\frac{sin(x)}{x} $"
   ]
  },
  {
   "cell_type": "code",
   "execution_count": 103,
   "metadata": {
    "collapsed": false
   },
   "outputs": [
    {
     "data": {
      "image/png": "[encoded data removed]",
      "text/latex": [
       "$$1$$"
      ],
      "text/plain": [
       "1"
      ]
     },
     "execution_count": 103,
     "metadata": {},
     "output_type": "execute_result"
    }
   ],
   "source": [
    "limit(sin(x)/x,x,0)"
   ]
  },
  {
   "cell_type": "markdown",
   "metadata": {},
   "source": [
    "Solve $ x^2 - 2 = 0 $"
   ]
  },
  {
   "cell_type": "code",
   "execution_count": 104,
   "metadata": {
    "collapsed": false,
    "scrolled": true
   },
   "outputs": [
    {
     "data": {
      "image/png": "[encoded data removed]",
      "text/latex": [
       "$$\\left [ - \\sqrt{2}, \\quad \\sqrt{2}\\right ]$$"
      ],
      "text/plain": [
       "⎡   ___    ___⎤\n",
       "⎣-╲╱ 2 , ╲╱ 2 ⎦"
      ]
     },
     "execution_count": 104,
     "metadata": {},
     "output_type": "execute_result"
    }
   ],
   "source": [
    "solve(x**2 - 2, x)"
   ]
  },
  {
   "cell_type": "markdown",
   "metadata": {},
   "source": [
    "Solve the differential equation $ y'' - y = e^t $"
   ]
  },
  {
   "cell_type": "code",
   "execution_count": 10,
   "metadata": {
    "collapsed": false
   },
   "outputs": [
    {
     "data": {
      "text/plain": [
       "y(t) == C2*exp(-t) + (C1 + t/2)*exp(t)"
      ]
     },
     "execution_count": 10,
     "metadata": {},
     "output_type": "execute_result"
    }
   ],
   "source": [
    "from sympy import *\n",
    "y = Function('y')\n",
    "t = symbols('t')\n",
    "dsolve(Eq(y(t).diff(t,t) - y(t), exp(t)), y(t))"
   ]
  },
  {
   "cell_type": "markdown",
   "metadata": {},
   "source": [
    "Find the eigenvalues of\n",
    "$\n",
    "\\begin{bmatrix}\n",
    "    1 & 2 \\\\\n",
    "    2 & 2\n",
    "\\end{bmatrix}\n",
    "$\n"
   ]
  },
  {
   "cell_type": "code",
   "execution_count": 14,
   "metadata": {
    "collapsed": false
   },
   "outputs": [
    {
     "name": "stdout",
     "output_type": "stream",
     "text": [
      "Help on class MutableDenseMatrix in module sympy.matrices.dense:\n",
      "\n",
      "class MutableDenseMatrix(DenseMatrix, sympy.matrices.matrices.MatrixBase)\n",
      " |  Method resolution order:\n",
      " |      MutableDenseMatrix\n",
      " |      DenseMatrix\n",
      " |      sympy.matrices.matrices.MatrixBase\n",
      " |      __builtin__.object\n",
      " |  \n",
      " |  Methods defined here:\n",
      " |  \n",
      " |  __setitem__(self, key, value)\n",
      " |      Examples\n",
      " |      ========\n",
      " |      \n",
      " |      >>> from sympy import Matrix, I, zeros, ones\n",
      " |      >>> m = Matrix(((1, 2+I), (3, 4)))\n",
      " |      >>> m\n",
      " |      Matrix([\n",
      " |      [1, 2 + I],\n",
      " |      [3,     4]])\n",
      " |      >>> m[1, 0] = 9\n",
      " |      >>> m\n",
      " |      Matrix([\n",
      " |      [1, 2 + I],\n",
      " |      [9,     4]])\n",
      " |      >>> m[1, 0] = [[0, 1]]\n",
      " |      \n",
      " |      To replace row r you assign to position r*m where m\n",
      " |      is the number of columns:\n",
      " |      \n",
      " |      >>> M = zeros(4)\n",
      " |      >>> m = M.cols\n",
      " |      >>> M[3*m] = ones(1, m)*2; M\n",
      " |      Matrix([\n",
      " |      [0, 0, 0, 0],\n",
      " |      [0, 0, 0, 0],\n",
      " |      [0, 0, 0, 0],\n",
      " |      [2, 2, 2, 2]])\n",
      " |      \n",
      " |      And to replace column c you can assign to position c:\n",
      " |      \n",
      " |      >>> M[2] = ones(m, 1)*4; M\n",
      " |      Matrix([\n",
      " |      [0, 0, 4, 0],\n",
      " |      [0, 0, 4, 0],\n",
      " |      [0, 0, 4, 0],\n",
      " |      [2, 2, 4, 2]])\n",
      " |  \n",
      " |  as_mutable(self)\n",
      " |  \n",
      " |  col_del(self, i)\n",
      " |      Delete the given column.\n",
      " |      \n",
      " |      Examples\n",
      " |      ========\n",
      " |      \n",
      " |      >>> from sympy.matrices import eye\n",
      " |      >>> M = eye(3)\n",
      " |      >>> M.col_del(1)\n",
      " |      >>> M\n",
      " |      Matrix([\n",
      " |      [1, 0],\n",
      " |      [0, 0],\n",
      " |      [0, 1]])\n",
      " |      \n",
      " |      See Also\n",
      " |      ========\n",
      " |      \n",
      " |      col\n",
      " |      row_del\n",
      " |  \n",
      " |  col_op(self, j, f)\n",
      " |      In-place operation on col j using two-arg functor whose args are\n",
      " |      interpreted as (self[i, j], i).\n",
      " |      \n",
      " |      Examples\n",
      " |      ========\n",
      " |      \n",
      " |      >>> from sympy.matrices import eye\n",
      " |      >>> M = eye(3)\n",
      " |      >>> M.col_op(1, lambda v, i: v + 2*M[i, 0]); M\n",
      " |      Matrix([\n",
      " |      [1, 2, 0],\n",
      " |      [0, 1, 0],\n",
      " |      [0, 0, 1]])\n",
      " |      \n",
      " |      See Also\n",
      " |      ========\n",
      " |      col\n",
      " |      row_op\n",
      " |  \n",
      " |  col_swap(self, i, j)\n",
      " |      Swap the two given columns of the matrix in-place.\n",
      " |      \n",
      " |      Examples\n",
      " |      ========\n",
      " |      \n",
      " |      >>> from sympy.matrices import Matrix\n",
      " |      >>> M = Matrix([[1, 0], [1, 0]])\n",
      " |      >>> M\n",
      " |      Matrix([\n",
      " |      [1, 0],\n",
      " |      [1, 0]])\n",
      " |      >>> M.col_swap(0, 1)\n",
      " |      >>> M\n",
      " |      Matrix([\n",
      " |      [0, 1],\n",
      " |      [0, 1]])\n",
      " |      \n",
      " |      See Also\n",
      " |      ========\n",
      " |      \n",
      " |      col\n",
      " |      row_swap\n",
      " |  \n",
      " |  copyin_list(self, key, value)\n",
      " |      Copy in elements from a list.\n",
      " |      \n",
      " |      Parameters\n",
      " |      ==========\n",
      " |      \n",
      " |      key : slice\n",
      " |          The section of this matrix to replace.\n",
      " |      value : iterable\n",
      " |          The iterable to copy values from.\n",
      " |      \n",
      " |      Examples\n",
      " |      ========\n",
      " |      \n",
      " |      >>> from sympy.matrices import eye\n",
      " |      >>> I = eye(3)\n",
      " |      >>> I[:2, 0] = [1, 2] # col\n",
      " |      >>> I\n",
      " |      Matrix([\n",
      " |      [1, 0, 0],\n",
      " |      [2, 1, 0],\n",
      " |      [0, 0, 1]])\n",
      " |      >>> I[1, :2] = [[3, 4]]\n",
      " |      >>> I\n",
      " |      Matrix([\n",
      " |      [1, 0, 0],\n",
      " |      [3, 4, 0],\n",
      " |      [0, 0, 1]])\n",
      " |      \n",
      " |      See Also\n",
      " |      ========\n",
      " |      \n",
      " |      copyin_matrix\n",
      " |  \n",
      " |  copyin_matrix(self, key, value)\n",
      " |      Copy in values from a matrix into the given bounds.\n",
      " |      \n",
      " |      Parameters\n",
      " |      ==========\n",
      " |      \n",
      " |      key : slice\n",
      " |          The section of this matrix to replace.\n",
      " |      value : Matrix\n",
      " |          The matrix to copy values from.\n",
      " |      \n",
      " |      Examples\n",
      " |      ========\n",
      " |      \n",
      " |      >>> from sympy.matrices import Matrix, eye\n",
      " |      >>> M = Matrix([[0, 1], [2, 3], [4, 5]])\n",
      " |      >>> I = eye(3)\n",
      " |      >>> I[:3, :2] = M\n",
      " |      >>> I\n",
      " |      Matrix([\n",
      " |      [0, 1, 0],\n",
      " |      [2, 3, 0],\n",
      " |      [4, 5, 1]])\n",
      " |      >>> I[0, 1] = M\n",
      " |      >>> I\n",
      " |      Matrix([\n",
      " |      [0, 0, 1],\n",
      " |      [2, 2, 3],\n",
      " |      [4, 4, 5]])\n",
      " |      \n",
      " |      See Also\n",
      " |      ========\n",
      " |      \n",
      " |      copyin_list\n",
      " |  \n",
      " |  fill(self, value)\n",
      " |      Fill the matrix with the scalar value.\n",
      " |      \n",
      " |      See Also\n",
      " |      ========\n",
      " |      \n",
      " |      zeros\n",
      " |      ones\n",
      " |  \n",
      " |  row_del(self, i)\n",
      " |      Delete the given row.\n",
      " |      \n",
      " |      Examples\n",
      " |      ========\n",
      " |      \n",
      " |      >>> from sympy.matrices import eye\n",
      " |      >>> M = eye(3)\n",
      " |      >>> M.row_del(1)\n",
      " |      >>> M\n",
      " |      Matrix([\n",
      " |      [1, 0, 0],\n",
      " |      [0, 0, 1]])\n",
      " |      \n",
      " |      See Also\n",
      " |      ========\n",
      " |      \n",
      " |      row\n",
      " |      col_del\n",
      " |  \n",
      " |  row_op(self, i, f)\n",
      " |      In-place operation on row ``i`` using two-arg functor whose args are\n",
      " |      interpreted as ``(self[i, j], j)``.\n",
      " |      \n",
      " |      Examples\n",
      " |      ========\n",
      " |      \n",
      " |      >>> from sympy.matrices import eye\n",
      " |      >>> M = eye(3)\n",
      " |      >>> M.row_op(1, lambda v, j: v + 2*M[0, j]); M\n",
      " |      Matrix([\n",
      " |      [1, 0, 0],\n",
      " |      [2, 1, 0],\n",
      " |      [0, 0, 1]])\n",
      " |      \n",
      " |      See Also\n",
      " |      ========\n",
      " |      row\n",
      " |      zip_row_op\n",
      " |      col_op\n",
      " |  \n",
      " |  row_swap(self, i, j)\n",
      " |      Swap the two given rows of the matrix in-place.\n",
      " |      \n",
      " |      Examples\n",
      " |      ========\n",
      " |      \n",
      " |      >>> from sympy.matrices import Matrix\n",
      " |      >>> M = Matrix([[0, 1], [1, 0]])\n",
      " |      >>> M\n",
      " |      Matrix([\n",
      " |      [0, 1],\n",
      " |      [1, 0]])\n",
      " |      >>> M.row_swap(0, 1)\n",
      " |      >>> M\n",
      " |      Matrix([\n",
      " |      [1, 0],\n",
      " |      [0, 1]])\n",
      " |      \n",
      " |      See Also\n",
      " |      ========\n",
      " |      \n",
      " |      row\n",
      " |      col_swap\n",
      " |  \n",
      " |  simplify(self, ratio=1.7, measure=<function count_ops>)\n",
      " |      Applies simplify to the elements of a matrix in place.\n",
      " |      \n",
      " |      This is a shortcut for M.applyfunc(lambda x: simplify(x, ratio, measure))\n",
      " |      \n",
      " |      See Also\n",
      " |      ========\n",
      " |      \n",
      " |      sympy.simplify.simplify.simplify\n",
      " |  \n",
      " |  zip_row_op(self, i, k, f)\n",
      " |      In-place operation on row ``i`` using two-arg functor whose args are\n",
      " |      interpreted as ``(self[i, j], self[k, j])``.\n",
      " |      \n",
      " |      Examples\n",
      " |      ========\n",
      " |      \n",
      " |      >>> from sympy.matrices import eye\n",
      " |      >>> M = eye(3)\n",
      " |      >>> M.zip_row_op(1, 0, lambda v, u: v + 2*u); M\n",
      " |      Matrix([\n",
      " |      [1, 0, 0],\n",
      " |      [2, 1, 0],\n",
      " |      [0, 0, 1]])\n",
      " |      \n",
      " |      See Also\n",
      " |      ========\n",
      " |      row\n",
      " |      row_op\n",
      " |      col_op\n",
      " |  \n",
      " |  ----------------------------------------------------------------------\n",
      " |  Static methods defined here:\n",
      " |  \n",
      " |  __new__(cls, *args, **kwargs)\n",
      " |  \n",
      " |  ----------------------------------------------------------------------\n",
      " |  Methods inherited from DenseMatrix:\n",
      " |  \n",
      " |  __add__(self, other)\n",
      " |  \n",
      " |  __div__(self, other)\n",
      " |  \n",
      " |  __eq__(self, other)\n",
      " |  \n",
      " |  __getitem__(self, key)\n",
      " |      Return portion of self defined by key. If the key involves a slice\n",
      " |      then a list will be returned (if key is a single slice) or a matrix\n",
      " |      (if key was a tuple involving a slice).\n",
      " |      \n",
      " |      Examples\n",
      " |      ========\n",
      " |      \n",
      " |      >>> from sympy import Matrix, I\n",
      " |      >>> m = Matrix([\n",
      " |      ... [1, 2 + I],\n",
      " |      ... [3, 4    ]])\n",
      " |      \n",
      " |      If the key is a tuple that doesn't involve a slice then that element\n",
      " |      is returned:\n",
      " |      \n",
      " |      >>> m[1, 0]\n",
      " |      3\n",
      " |      \n",
      " |      When a tuple key involves a slice, a matrix is returned. Here, the\n",
      " |      first column is selected (all rows, column 0):\n",
      " |      \n",
      " |      >>> m[:, 0]\n",
      " |      Matrix([\n",
      " |      [1],\n",
      " |      [3]])\n",
      " |      \n",
      " |      If the slice is not a tuple then it selects from the underlying\n",
      " |      list of elements that are arranged in row order and a list is\n",
      " |      returned if a slice is involved:\n",
      " |      \n",
      " |      >>> m[0]\n",
      " |      1\n",
      " |      >>> m[::2]\n",
      " |      [1, 3]\n",
      " |  \n",
      " |  __mul__(self, other)\n",
      " |  \n",
      " |  __ne__(self, other)\n",
      " |  \n",
      " |  __pow__(self, other)\n",
      " |  \n",
      " |  __radd__(self, other)\n",
      " |  \n",
      " |  __rmul__(self, other)\n",
      " |  \n",
      " |  __rpow__(self, other)\n",
      " |  \n",
      " |  __rsub__(self, other)\n",
      " |  \n",
      " |  __sub__(self, other)\n",
      " |  \n",
      " |  __truediv__(self, other)\n",
      " |  \n",
      " |  applyfunc(self, f)\n",
      " |      Apply a function to each element of the matrix.\n",
      " |      \n",
      " |      Examples\n",
      " |      ========\n",
      " |      \n",
      " |      >>> from sympy import Matrix\n",
      " |      >>> m = Matrix(2, 2, lambda i, j: i*2+j)\n",
      " |      >>> m\n",
      " |      Matrix([\n",
      " |      [0, 1],\n",
      " |      [2, 3]])\n",
      " |      >>> m.applyfunc(lambda i: 2*i)\n",
      " |      Matrix([\n",
      " |      [0, 2],\n",
      " |      [4, 6]])\n",
      " |  \n",
      " |  as_immutable(self)\n",
      " |      Returns an Immutable version of this Matrix\n",
      " |  \n",
      " |  col(self, j)\n",
      " |      Elementary column selector.\n",
      " |      \n",
      " |      Examples\n",
      " |      ========\n",
      " |      \n",
      " |      >>> from sympy import eye\n",
      " |      >>> eye(2).col(0)\n",
      " |      Matrix([\n",
      " |      [1],\n",
      " |      [0]])\n",
      " |      \n",
      " |      See Also\n",
      " |      ========\n",
      " |      \n",
      " |      row\n",
      " |      col_op\n",
      " |      col_swap\n",
      " |      col_del\n",
      " |      col_join\n",
      " |      col_insert\n",
      " |  \n",
      " |  equals(self, other, failing_expression=False)\n",
      " |      Applies ``equals`` to corresponding elements of the matrices,\n",
      " |      trying to prove that the elements are equivalent, returning True\n",
      " |      if they are, False if any pair is not, and None (or the first\n",
      " |      failing expression if failing_expression is True) if it cannot\n",
      " |      be decided if the expressions are equivalent or not. This is, in\n",
      " |      general, an expensive operation.\n",
      " |      \n",
      " |      Examples\n",
      " |      ========\n",
      " |      \n",
      " |      >>> from sympy.matrices import Matrix\n",
      " |      >>> from sympy.abc import x\n",
      " |      >>> from sympy import cos\n",
      " |      >>> A = Matrix([x*(x - 1), 0])\n",
      " |      >>> B = Matrix([x**2 - x, 0])\n",
      " |      >>> A == B\n",
      " |      False\n",
      " |      >>> A.simplify() == B.simplify()\n",
      " |      True\n",
      " |      >>> A.equals(B)\n",
      " |      True\n",
      " |      >>> A.equals(2)\n",
      " |      False\n",
      " |      \n",
      " |      See Also\n",
      " |      ========\n",
      " |      sympy.core.expr.equals\n",
      " |  \n",
      " |  reshape(self, rows, cols)\n",
      " |      Reshape the matrix. Total number of elements must remain the same.\n",
      " |      \n",
      " |      Examples\n",
      " |      ========\n",
      " |      \n",
      " |      >>> from sympy import Matrix\n",
      " |      >>> m = Matrix(2, 3, lambda i, j: 1)\n",
      " |      >>> m\n",
      " |      Matrix([\n",
      " |      [1, 1, 1],\n",
      " |      [1, 1, 1]])\n",
      " |      >>> m.reshape(1, 6)\n",
      " |      Matrix([[1, 1, 1, 1, 1, 1]])\n",
      " |      >>> m.reshape(3, 2)\n",
      " |      Matrix([\n",
      " |      [1, 1],\n",
      " |      [1, 1],\n",
      " |      [1, 1]])\n",
      " |  \n",
      " |  row(self, i)\n",
      " |      Elementary row selector.\n",
      " |      \n",
      " |      Examples\n",
      " |      ========\n",
      " |      \n",
      " |      >>> from sympy import eye\n",
      " |      >>> eye(2).row(0)\n",
      " |      Matrix([[1, 0]])\n",
      " |      \n",
      " |      See Also\n",
      " |      ========\n",
      " |      \n",
      " |      col\n",
      " |      row_op\n",
      " |      row_swap\n",
      " |      row_del\n",
      " |      row_join\n",
      " |      row_insert\n",
      " |  \n",
      " |  tolist(self)\n",
      " |      Return the Matrix as a nested Python list.\n",
      " |      \n",
      " |      Examples\n",
      " |      ========\n",
      " |      \n",
      " |      >>> from sympy import Matrix, ones\n",
      " |      >>> m = Matrix(3, 3, range(9))\n",
      " |      >>> m\n",
      " |      Matrix([\n",
      " |      [0, 1, 2],\n",
      " |      [3, 4, 5],\n",
      " |      [6, 7, 8]])\n",
      " |      >>> m.tolist()\n",
      " |      [[0, 1, 2], [3, 4, 5], [6, 7, 8]]\n",
      " |      >>> ones(3, 0).tolist()\n",
      " |      [[], [], []]\n",
      " |      \n",
      " |      When there are no rows then it will not be possible to tell how\n",
      " |      many columns were in the original matrix:\n",
      " |      \n",
      " |      >>> ones(0, 3).tolist()\n",
      " |      []\n",
      " |  \n",
      " |  ----------------------------------------------------------------------\n",
      " |  Class methods inherited from DenseMatrix:\n",
      " |  \n",
      " |  eye(cls, n) from __builtin__.type\n",
      " |      Return an n x n identity matrix.\n",
      " |  \n",
      " |  zeros(cls, r, c=None) from __builtin__.type\n",
      " |      Return an r x c matrix of zeros, square if c is omitted.\n",
      " |  \n",
      " |  ----------------------------------------------------------------------\n",
      " |  Data descriptors inherited from DenseMatrix:\n",
      " |  \n",
      " |  is_Identity\n",
      " |  \n",
      " |  ----------------------------------------------------------------------\n",
      " |  Data and other attributes inherited from DenseMatrix:\n",
      " |  \n",
      " |  is_MatrixExpr = False\n",
      " |  \n",
      " |  ----------------------------------------------------------------------\n",
      " |  Methods inherited from sympy.matrices.matrices.MatrixBase:\n",
      " |  \n",
      " |  LDLdecomposition(self)\n",
      " |      Returns the LDL Decomposition (L, D) of matrix A,\n",
      " |      such that L * D * L.T == A\n",
      " |      This method eliminates the use of square root.\n",
      " |      Further this ensures that all the diagonal entries of L are 1.\n",
      " |      A must be a square, symmetric, positive-definite\n",
      " |      and non-singular matrix.\n",
      " |      \n",
      " |      Examples\n",
      " |      ========\n",
      " |      \n",
      " |      >>> from sympy.matrices import Matrix, eye\n",
      " |      >>> A = Matrix(((25, 15, -5), (15, 18, 0), (-5, 0, 11)))\n",
      " |      >>> L, D = A.LDLdecomposition()\n",
      " |      >>> L\n",
      " |      Matrix([\n",
      " |      [   1,   0, 0],\n",
      " |      [ 3/5,   1, 0],\n",
      " |      [-1/5, 1/3, 1]])\n",
      " |      >>> D\n",
      " |      Matrix([\n",
      " |      [25, 0, 0],\n",
      " |      [ 0, 9, 0],\n",
      " |      [ 0, 0, 9]])\n",
      " |      >>> L * D * L.T * A.inv() == eye(A.rows)\n",
      " |      True\n",
      " |      \n",
      " |      See Also\n",
      " |      ========\n",
      " |      \n",
      " |      cholesky\n",
      " |      LUdecomposition\n",
      " |      QRdecomposition\n",
      " |  \n",
      " |  LDLsolve(self, rhs)\n",
      " |      Solves Ax = B using LDL decomposition,\n",
      " |      for a general square and non-singular matrix.\n",
      " |      \n",
      " |      For a non-square matrix with rows > cols,\n",
      " |      the least squares solution is returned.\n",
      " |      \n",
      " |      Examples\n",
      " |      ========\n",
      " |      \n",
      " |      >>> from sympy.matrices import Matrix, eye\n",
      " |      >>> A = eye(2)*2\n",
      " |      >>> B = Matrix([[1, 2], [3, 4]])\n",
      " |      >>> A.LDLsolve(B) == B/2\n",
      " |      True\n",
      " |      \n",
      " |      See Also\n",
      " |      ========\n",
      " |      \n",
      " |      LDLdecomposition\n",
      " |      lower_triangular_solve\n",
      " |      upper_triangular_solve\n",
      " |      cholesky_solve\n",
      " |      diagonal_solve\n",
      " |      LUsolve\n",
      " |      QRsolve\n",
      " |      pinv_solve\n",
      " |  \n",
      " |  LUdecomposition(self, iszerofunc=<function _iszero>)\n",
      " |      Returns the decomposition LU and the row swaps p.\n",
      " |      \n",
      " |      Examples\n",
      " |      ========\n",
      " |      \n",
      " |      >>> from sympy import Matrix\n",
      " |      >>> a = Matrix([[4, 3], [6, 3]])\n",
      " |      >>> L, U, _ = a.LUdecomposition()\n",
      " |      >>> L\n",
      " |      Matrix([\n",
      " |      [  1, 0],\n",
      " |      [3/2, 1]])\n",
      " |      >>> U\n",
      " |      Matrix([\n",
      " |      [4,    3],\n",
      " |      [0, -3/2]])\n",
      " |      \n",
      " |      See Also\n",
      " |      ========\n",
      " |      \n",
      " |      cholesky\n",
      " |      LDLdecomposition\n",
      " |      QRdecomposition\n",
      " |      LUdecomposition_Simple\n",
      " |      LUdecompositionFF\n",
      " |      LUsolve\n",
      " |  \n",
      " |  LUdecompositionFF(self)\n",
      " |      Compute a fraction-free LU decomposition.\n",
      " |      \n",
      " |      Returns 4 matrices P, L, D, U such that PA = L D**-1 U.\n",
      " |      If the elements of the matrix belong to some integral domain I, then all\n",
      " |      elements of L, D and U are guaranteed to belong to I.\n",
      " |      \n",
      " |      **Reference**\n",
      " |          - W. Zhou & D.J. Jeffrey, \"Fraction-free matrix factors: new forms\n",
      " |            for LU and QR factors\". Frontiers in Computer Science in China,\n",
      " |            Vol 2, no. 1, pp. 67-80, 2008.\n",
      " |      \n",
      " |      See Also\n",
      " |      ========\n",
      " |      \n",
      " |      LUdecomposition\n",
      " |      LUdecomposition_Simple\n",
      " |      LUsolve\n",
      " |  \n",
      " |  LUdecomposition_Simple(self, iszerofunc=<function _iszero>)\n",
      " |      Returns A comprised of L, U (L's diag entries are 1) and\n",
      " |      p which is the list of the row swaps (in order).\n",
      " |      \n",
      " |      See Also\n",
      " |      ========\n",
      " |      \n",
      " |      LUdecomposition\n",
      " |      LUdecompositionFF\n",
      " |      LUsolve\n",
      " |  \n",
      " |  LUsolve(self, rhs, iszerofunc=<function _iszero>)\n",
      " |      Solve the linear system Ax = rhs for x where A = self.\n",
      " |      \n",
      " |      This is for symbolic matrices, for real or complex ones use\n",
      " |      sympy.mpmath.lu_solve or sympy.mpmath.qr_solve.\n",
      " |      \n",
      " |      See Also\n",
      " |      ========\n",
      " |      \n",
      " |      lower_triangular_solve\n",
      " |      upper_triangular_solve\n",
      " |      cholesky_solve\n",
      " |      diagonal_solve\n",
      " |      LDLsolve\n",
      " |      QRsolve\n",
      " |      pinv_solve\n",
      " |      LUdecomposition\n",
      " |  \n",
      " |  QRdecomposition(self)\n",
      " |      Return Q, R where A = Q*R, Q is orthogonal and R is upper triangular.\n",
      " |      \n",
      " |      Examples\n",
      " |      ========\n",
      " |      \n",
      " |      This is the example from wikipedia:\n",
      " |      \n",
      " |      >>> from sympy import Matrix\n",
      " |      >>> A = Matrix([[12, -51, 4], [6, 167, -68], [-4, 24, -41]])\n",
      " |      >>> Q, R = A.QRdecomposition()\n",
      " |      >>> Q\n",
      " |      Matrix([\n",
      " |      [ 6/7, -69/175, -58/175],\n",
      " |      [ 3/7, 158/175,   6/175],\n",
      " |      [-2/7,    6/35,  -33/35]])\n",
      " |      >>> R\n",
      " |      Matrix([\n",
      " |      [14,  21, -14],\n",
      " |      [ 0, 175, -70],\n",
      " |      [ 0,   0,  35]])\n",
      " |      >>> A == Q*R\n",
      " |      True\n",
      " |      \n",
      " |      QR factorization of an identity matrix:\n",
      " |      \n",
      " |      >>> A = Matrix([[1, 0, 0], [0, 1, 0], [0, 0, 1]])\n",
      " |      >>> Q, R = A.QRdecomposition()\n",
      " |      >>> Q\n",
      " |      Matrix([\n",
      " |      [1, 0, 0],\n",
      " |      [0, 1, 0],\n",
      " |      [0, 0, 1]])\n",
      " |      >>> R\n",
      " |      Matrix([\n",
      " |      [1, 0, 0],\n",
      " |      [0, 1, 0],\n",
      " |      [0, 0, 1]])\n",
      " |      \n",
      " |      See Also\n",
      " |      ========\n",
      " |      \n",
      " |      cholesky\n",
      " |      LDLdecomposition\n",
      " |      LUdecomposition\n",
      " |      QRsolve\n",
      " |  \n",
      " |  QRsolve(self, b)\n",
      " |      Solve the linear system 'Ax = b'.\n",
      " |      \n",
      " |      'self' is the matrix 'A', the method argument is the vector\n",
      " |      'b'.  The method returns the solution vector 'x'.  If 'b' is a\n",
      " |      matrix, the system is solved for each column of 'b' and the\n",
      " |      return value is a matrix of the same shape as 'b'.\n",
      " |      \n",
      " |      This method is slower (approximately by a factor of 2) but\n",
      " |      more stable for floating-point arithmetic than the LUsolve method.\n",
      " |      However, LUsolve usually uses an exact arithmetic, so you don't need\n",
      " |      to use QRsolve.\n",
      " |      \n",
      " |      This is mainly for educational purposes and symbolic matrices, for real\n",
      " |      (or complex) matrices use sympy.mpmath.qr_solve.\n",
      " |      \n",
      " |      See Also\n",
      " |      ========\n",
      " |      \n",
      " |      lower_triangular_solve\n",
      " |      upper_triangular_solve\n",
      " |      cholesky_solve\n",
      " |      diagonal_solve\n",
      " |      LDLsolve\n",
      " |      LUsolve\n",
      " |      pinv_solve\n",
      " |      QRdecomposition\n",
      " |  \n",
      " |  __array__(self)\n",
      " |  \n",
      " |  __getattr__(self, attr)\n",
      " |  \n",
      " |  __len__(self)\n",
      " |      Return the number of elements of self.\n",
      " |      \n",
      " |      Implemented mainly so bool(Matrix()) == False.\n",
      " |  \n",
      " |  __mathml__(self)\n",
      " |  \n",
      " |  __neg__(self)\n",
      " |  \n",
      " |  __repr__(self)\n",
      " |  \n",
      " |  __str__(self)\n",
      " |  \n",
      " |  add(self, b)\n",
      " |      Return self + b\n",
      " |  \n",
      " |  adjoint(self)\n",
      " |      Conjugate transpose or Hermitian conjugation.\n",
      " |  \n",
      " |  adjugate(self, method='berkowitz')\n",
      " |      Returns the adjugate matrix.\n",
      " |      \n",
      " |      Adjugate matrix is the transpose of the cofactor matrix.\n",
      " |      \n",
      " |      http://en.wikipedia.org/wiki/Adjugate\n",
      " |      \n",
      " |      See Also\n",
      " |      ========\n",
      " |      \n",
      " |      cofactorMatrix\n",
      " |      transpose\n",
      " |      berkowitz\n",
      " |  \n",
      " |  atoms(self, *types)\n",
      " |      Returns the atoms that form the current object.\n",
      " |      \n",
      " |      Examples\n",
      " |      ========\n",
      " |      \n",
      " |      >>> from sympy.abc import x, y\n",
      " |      >>> from sympy.matrices import Matrix\n",
      " |      >>> Matrix([[x]])\n",
      " |      Matrix([[x]])\n",
      " |      >>> _.atoms()\n",
      " |      set([x])\n",
      " |  \n",
      " |  berkowitz(self)\n",
      " |      The Berkowitz algorithm.\n",
      " |      \n",
      " |         Given N x N matrix with symbolic content, compute efficiently\n",
      " |         coefficients of characteristic polynomials of 'self' and all\n",
      " |         its square sub-matrices composed by removing both i-th row\n",
      " |         and column, without division in the ground domain.\n",
      " |      \n",
      " |         This method is particularly useful for computing determinant,\n",
      " |         principal minors and characteristic polynomial, when 'self'\n",
      " |         has complicated coefficients e.g. polynomials. Semi-direct\n",
      " |         usage of this algorithm is also important in computing\n",
      " |         efficiently sub-resultant PRS.\n",
      " |      \n",
      " |         Assuming that M is a square matrix of dimension N x N and\n",
      " |         I is N x N identity matrix,  then the following following\n",
      " |         definition of characteristic polynomial is begin used:\n",
      " |      \n",
      " |                        charpoly(M) = det(t*I - M)\n",
      " |      \n",
      " |         As a consequence, all polynomials generated by Berkowitz\n",
      " |         algorithm are monic.\n",
      " |      \n",
      " |         >>> from sympy import Matrix\n",
      " |         >>> from sympy.abc import x, y, z\n",
      " |      \n",
      " |         >>> M = Matrix([[x, y, z], [1, 0, 0], [y, z, x]])\n",
      " |      \n",
      " |         >>> p, q, r = M.berkowitz()\n",
      " |      \n",
      " |         >>> p # 1 x 1 M's sub-matrix\n",
      " |         (1, -x)\n",
      " |      \n",
      " |         >>> q # 2 x 2 M's sub-matrix\n",
      " |         (1, -x, -y)\n",
      " |      \n",
      " |         >>> r # 3 x 3 M's sub-matrix\n",
      " |         (1, -2*x, x**2 - y*z - y, x*y - z**2)\n",
      " |      \n",
      " |         For more information on the implemented algorithm refer to:\n",
      " |      \n",
      " |         [1] S.J. Berkowitz, On computing the determinant in small\n",
      " |             parallel time using a small number of processors, ACM,\n",
      " |             Information Processing Letters 18, 1984, pp. 147-150\n",
      " |      \n",
      " |         [2] M. Keber, Division-Free computation of sub-resultants\n",
      " |             using Bezout matrices, Tech. Report MPI-I-2006-1-006,\n",
      " |             Saarbrucken, 2006\n",
      " |      \n",
      " |      See Also\n",
      " |      ========\n",
      " |      \n",
      " |      berkowitz_det\n",
      " |      berkowitz_minors\n",
      " |      berkowitz_charpoly\n",
      " |      berkowitz_eigenvals\n",
      " |  \n",
      " |  berkowitz_charpoly(self, x=_lambda, simplify=<function simplify>)\n",
      " |      Computes characteristic polynomial minors using Berkowitz method.\n",
      " |      \n",
      " |      A PurePoly is returned so using different variables for ``x`` does\n",
      " |      not affect the comparison or the polynomials:\n",
      " |      \n",
      " |      Examples\n",
      " |      ========\n",
      " |      \n",
      " |      >>> from sympy import Matrix\n",
      " |      >>> from sympy.abc import x, y\n",
      " |      >>> A = Matrix([[1, 3], [2, 0]])\n",
      " |      >>> A.berkowitz_charpoly(x) == A.berkowitz_charpoly(y)\n",
      " |      True\n",
      " |      \n",
      " |      Specifying ``x`` is optional; a Dummy with name ``lambda`` is used by\n",
      " |      default (which looks good when pretty-printed in unicode):\n",
      " |      \n",
      " |      >>> A.berkowitz_charpoly().as_expr()\n",
      " |      _lambda**2 - _lambda - 6\n",
      " |      \n",
      " |      No test is done to see that ``x`` doesn't clash with an existing\n",
      " |      symbol, so using the default (``lambda``) or your own Dummy symbol is\n",
      " |      the safest option:\n",
      " |      \n",
      " |      >>> A = Matrix([[1, 2], [x, 0]])\n",
      " |      >>> A.charpoly().as_expr()\n",
      " |      _lambda**2 - _lambda - 2*x\n",
      " |      >>> A.charpoly(x).as_expr()\n",
      " |      x**2 - 3*x\n",
      " |      \n",
      " |      See Also\n",
      " |      ========\n",
      " |      \n",
      " |      berkowitz\n",
      " |  \n",
      " |  berkowitz_det(self)\n",
      " |      Computes determinant using Berkowitz method.\n",
      " |      \n",
      " |      See Also\n",
      " |      ========\n",
      " |      \n",
      " |      det\n",
      " |      berkowitz\n",
      " |  \n",
      " |  berkowitz_eigenvals(self, **flags)\n",
      " |      Computes eigenvalues of a Matrix using Berkowitz method.\n",
      " |      \n",
      " |      See Also\n",
      " |      ========\n",
      " |      \n",
      " |      berkowitz\n",
      " |  \n",
      " |  berkowitz_minors(self)\n",
      " |      Computes principal minors using Berkowitz method.\n",
      " |      \n",
      " |      See Also\n",
      " |      ========\n",
      " |      \n",
      " |      berkowitz\n",
      " |  \n",
      " |  charpoly = berkowitz_charpoly(self, x=_lambda, simplify=<function simplify>)\n",
      " |      Computes characteristic polynomial minors using Berkowitz method.\n",
      " |      \n",
      " |      A PurePoly is returned so using different variables for ``x`` does\n",
      " |      not affect the comparison or the polynomials:\n",
      " |      \n",
      " |      Examples\n",
      " |      ========\n",
      " |      \n",
      " |      >>> from sympy import Matrix\n",
      " |      >>> from sympy.abc import x, y\n",
      " |      >>> A = Matrix([[1, 3], [2, 0]])\n",
      " |      >>> A.berkowitz_charpoly(x) == A.berkowitz_charpoly(y)\n",
      " |      True\n",
      " |      \n",
      " |      Specifying ``x`` is optional; a Dummy with name ``lambda`` is used by\n",
      " |      default (which looks good when pretty-printed in unicode):\n",
      " |      \n",
      " |      >>> A.berkowitz_charpoly().as_expr()\n",
      " |      _lambda**2 - _lambda - 6\n",
      " |      \n",
      " |      No test is done to see that ``x`` doesn't clash with an existing\n",
      " |      symbol, so using the default (``lambda``) or your own Dummy symbol is\n",
      " |      the safest option:\n",
      " |      \n",
      " |      >>> A = Matrix([[1, 2], [x, 0]])\n",
      " |      >>> A.charpoly().as_expr()\n",
      " |      _lambda**2 - _lambda - 2*x\n",
      " |      >>> A.charpoly(x).as_expr()\n",
      " |      x**2 - 3*x\n",
      " |      \n",
      " |      See Also\n",
      " |      ========\n",
      " |      \n",
      " |      berkowitz\n",
      " |  \n",
      " |  cholesky(self)\n",
      " |      Returns the Cholesky decomposition L of a matrix A\n",
      " |      such that L * L.T = A\n",
      " |      \n",
      " |      A must be a square, symmetric, positive-definite\n",
      " |      and non-singular matrix.\n",
      " |      \n",
      " |      Examples\n",
      " |      ========\n",
      " |      \n",
      " |      >>> from sympy.matrices import Matrix\n",
      " |      >>> A = Matrix(((25, 15, -5), (15, 18, 0), (-5, 0, 11)))\n",
      " |      >>> A.cholesky()\n",
      " |      Matrix([\n",
      " |      [ 5, 0, 0],\n",
      " |      [ 3, 3, 0],\n",
      " |      [-1, 1, 3]])\n",
      " |      >>> A.cholesky() * A.cholesky().T\n",
      " |      Matrix([\n",
      " |      [25, 15, -5],\n",
      " |      [15, 18,  0],\n",
      " |      [-5,  0, 11]])\n",
      " |      \n",
      " |      See Also\n",
      " |      ========\n",
      " |      \n",
      " |      LDLdecomposition\n",
      " |      LUdecomposition\n",
      " |      QRdecomposition\n",
      " |  \n",
      " |  cholesky_solve(self, rhs)\n",
      " |      Solves Ax = B using Cholesky decomposition,\n",
      " |      for a general square non-singular matrix.\n",
      " |      For a non-square matrix with rows > cols,\n",
      " |      the least squares solution is returned.\n",
      " |      \n",
      " |      See Also\n",
      " |      ========\n",
      " |      \n",
      " |      lower_triangular_solve\n",
      " |      upper_triangular_solve\n",
      " |      diagonal_solve\n",
      " |      LDLsolve\n",
      " |      LUsolve\n",
      " |      QRsolve\n",
      " |      pinv_solve\n",
      " |  \n",
      " |  cofactor(self, i, j, method='berkowitz')\n",
      " |      Calculate the cofactor of an element.\n",
      " |      \n",
      " |      See Also\n",
      " |      ========\n",
      " |      \n",
      " |      cofactorMatrix\n",
      " |      minorEntry\n",
      " |      minorMatrix\n",
      " |  \n",
      " |  cofactorMatrix(self, method='berkowitz')\n",
      " |      Return a matrix containing the cofactor of each element.\n",
      " |      \n",
      " |      See Also\n",
      " |      ========\n",
      " |      \n",
      " |      cofactor\n",
      " |      minorEntry\n",
      " |      minorMatrix\n",
      " |      adjugate\n",
      " |  \n",
      " |  col_insert(self, pos, mti)\n",
      " |      Insert one or more columns at the given column position.\n",
      " |      \n",
      " |      Examples\n",
      " |      ========\n",
      " |      \n",
      " |      >>> from sympy import zeros, ones\n",
      " |      >>> M = zeros(3)\n",
      " |      >>> V = ones(3, 1)\n",
      " |      >>> M.col_insert(1, V)\n",
      " |      Matrix([\n",
      " |      [0, 1, 0, 0],\n",
      " |      [0, 1, 0, 0],\n",
      " |      [0, 1, 0, 0]])\n",
      " |      \n",
      " |      See Also\n",
      " |      ========\n",
      " |      \n",
      " |      col\n",
      " |      row_insert\n",
      " |  \n",
      " |  col_join(self, bott)\n",
      " |      Concatenates two matrices along self's last and bott's first row\n",
      " |      \n",
      " |      Examples\n",
      " |      ========\n",
      " |      \n",
      " |      >>> from sympy import zeros, ones\n",
      " |      >>> M = zeros(3)\n",
      " |      >>> V = ones(1, 3)\n",
      " |      >>> M.col_join(V)\n",
      " |      Matrix([\n",
      " |      [0, 0, 0],\n",
      " |      [0, 0, 0],\n",
      " |      [0, 0, 0],\n",
      " |      [1, 1, 1]])\n",
      " |      \n",
      " |      See Also\n",
      " |      ========\n",
      " |      \n",
      " |      col\n",
      " |      row_join\n",
      " |  \n",
      " |  condition_number(self)\n",
      " |      Returns the condition number of a matrix.\n",
      " |      \n",
      " |      This is the maximum singular value divided by the minimum singular value\n",
      " |      \n",
      " |      Examples\n",
      " |      ========\n",
      " |      \n",
      " |      >>> from sympy import Matrix, S\n",
      " |      >>> A = Matrix([[1, 0, 0], [0, 10, 0], [0, 0, S.One/10]])\n",
      " |      >>> A.condition_number()\n",
      " |      100\n",
      " |      \n",
      " |      See Also\n",
      " |      ========\n",
      " |      \n",
      " |      singular_values\n",
      " |  \n",
      " |  conjugate(self)\n",
      " |  \n",
      " |  copy(self)\n",
      " |  \n",
      " |  cross(self, b)\n",
      " |      Return the cross product of `self` and `b` relaxing the condition\n",
      " |      of compatible dimensions: if each has 3 elements, a matrix of the\n",
      " |      same type and shape as `self` will be returned. If `b` has the same\n",
      " |      shape as `self` then common identities for the cross product (like\n",
      " |      `a x b = - b x a`) will hold.\n",
      " |      \n",
      " |      See Also\n",
      " |      ========\n",
      " |      \n",
      " |      dot\n",
      " |      multiply\n",
      " |      multiply_elementwise\n",
      " |  \n",
      " |  det(self, method='bareis')\n",
      " |      Computes the matrix determinant using the method \"method\".\n",
      " |      \n",
      " |      Possible values for \"method\":\n",
      " |        bareis ... det_bareis\n",
      " |        berkowitz ... berkowitz_det\n",
      " |        det_LU ... det_LU_decomposition\n",
      " |      \n",
      " |      See Also\n",
      " |      ========\n",
      " |      \n",
      " |      det_bareis\n",
      " |      berkowitz_det\n",
      " |      det_LU\n",
      " |  \n",
      " |  det_LU_decomposition(self)\n",
      " |      Compute matrix determinant using LU decomposition\n",
      " |      \n",
      " |      Note that this method fails if the LU decomposition itself\n",
      " |      fails. In particular, if the matrix has no inverse this method\n",
      " |      will fail.\n",
      " |      \n",
      " |      TODO: Implement algorithm for sparse matrices (SFF),\n",
      " |      http://www.eecis.udel.edu/~saunders/papers/sffge/it5.ps.\n",
      " |      \n",
      " |      See Also\n",
      " |      ========\n",
      " |      \n",
      " |      det\n",
      " |      det_bareis\n",
      " |      berkowitz_det\n",
      " |  \n",
      " |  det_bareis(self)\n",
      " |      Compute matrix determinant using Bareis' fraction-free\n",
      " |      algorithm which is an extension of the well known Gaussian\n",
      " |      elimination method. This approach is best suited for dense\n",
      " |      symbolic matrices and will result in a determinant with\n",
      " |      minimal number of fractions. It means that less term\n",
      " |      rewriting is needed on resulting formulae.\n",
      " |      \n",
      " |      TODO: Implement algorithm for sparse matrices (SFF),\n",
      " |      http://www.eecis.udel.edu/~saunders/papers/sffge/it5.ps.\n",
      " |      \n",
      " |      See Also\n",
      " |      ========\n",
      " |      \n",
      " |      det\n",
      " |      berkowitz_det\n",
      " |  \n",
      " |  diagonal_solve(self, rhs)\n",
      " |      Solves Ax = B efficiently, where A is a diagonal Matrix,\n",
      " |      with non-zero diagonal entries.\n",
      " |      \n",
      " |      Examples\n",
      " |      ========\n",
      " |      \n",
      " |      >>> from sympy.matrices import Matrix, eye\n",
      " |      >>> A = eye(2)*2\n",
      " |      >>> B = Matrix([[1, 2], [3, 4]])\n",
      " |      >>> A.diagonal_solve(B) == B/2\n",
      " |      True\n",
      " |      \n",
      " |      See Also\n",
      " |      ========\n",
      " |      \n",
      " |      lower_triangular_solve\n",
      " |      upper_triangular_solve\n",
      " |      cholesky_solve\n",
      " |      LDLsolve\n",
      " |      LUsolve\n",
      " |      QRsolve\n",
      " |      pinv_solve\n",
      " |  \n",
      " |  diagonalize(self, reals_only=False, sort=False, normalize=False)\n",
      " |      Return (P, D), where D is diagonal and\n",
      " |      \n",
      " |          D = P^-1 * M * P\n",
      " |      \n",
      " |      where M is current matrix.\n",
      " |      \n",
      " |      Examples\n",
      " |      ========\n",
      " |      \n",
      " |      >>> from sympy import Matrix\n",
      " |      >>> m = Matrix(3, 3, [1, 2, 0, 0, 3, 0, 2, -4, 2])\n",
      " |      >>> m\n",
      " |      Matrix([\n",
      " |      [1,  2, 0],\n",
      " |      [0,  3, 0],\n",
      " |      [2, -4, 2]])\n",
      " |      >>> (P, D) = m.diagonalize()\n",
      " |      >>> D\n",
      " |      Matrix([\n",
      " |      [1, 0, 0],\n",
      " |      [0, 2, 0],\n",
      " |      [0, 0, 3]])\n",
      " |      >>> P\n",
      " |      Matrix([\n",
      " |      [-1, 0, -1],\n",
      " |      [ 0, 0, -1],\n",
      " |      [ 2, 1,  2]])\n",
      " |      >>> P.inv() * m * P\n",
      " |      Matrix([\n",
      " |      [1, 0, 0],\n",
      " |      [0, 2, 0],\n",
      " |      [0, 0, 3]])\n",
      " |      \n",
      " |      See Also\n",
      " |      ========\n",
      " |      \n",
      " |      is_diagonal\n",
      " |      is_diagonalizable\n",
      " |  \n",
      " |  diff(self, *args)\n",
      " |      Calculate the derivative of each element in the matrix.\n",
      " |      \n",
      " |      Examples\n",
      " |      ========\n",
      " |      \n",
      " |      >>> from sympy.matrices import Matrix\n",
      " |      >>> from sympy.abc import x, y\n",
      " |      >>> M = Matrix([[x, y], [1, 0]])\n",
      " |      >>> M.diff(x)\n",
      " |      Matrix([\n",
      " |      [1, 0],\n",
      " |      [0, 0]])\n",
      " |      \n",
      " |      See Also\n",
      " |      ========\n",
      " |      \n",
      " |      integrate\n",
      " |      limit\n",
      " |  \n",
      " |  doit(self, **kwargs)\n",
      " |  \n",
      " |  dot(self, b)\n",
      " |      Return the dot product of Matrix self and b relaxing the condition\n",
      " |      of compatible dimensions: if either the number of rows or columns are\n",
      " |      the same as the length of b then the dot product is returned. If self\n",
      " |      is a row or column vector, a scalar is returned. Otherwise, a list\n",
      " |      of results is returned (and in that case the number of columns in self\n",
      " |      must match the length of b).\n",
      " |      \n",
      " |      Examples\n",
      " |      ========\n",
      " |      \n",
      " |      >>> from sympy import Matrix\n",
      " |      >>> M = Matrix([[1, 2, 3], [4, 5, 6], [7, 8, 9]])\n",
      " |      >>> v = [1, 1, 1]\n",
      " |      >>> M.row(0).dot(v)\n",
      " |      6\n",
      " |      >>> M.col(0).dot(v)\n",
      " |      12\n",
      " |      >>> M.dot(v)\n",
      " |      [6, 15, 24]\n",
      " |      \n",
      " |      See Also\n",
      " |      ========\n",
      " |      \n",
      " |      cross\n",
      " |      multiply\n",
      " |      multiply_elementwise\n",
      " |  \n",
      " |  dual(self)\n",
      " |      Returns the dual of a matrix, which is:\n",
      " |      \n",
      " |      `(1/2)*levicivita(i, j, k, l)*M(k, l)` summed over indices `k` and `l`\n",
      " |      \n",
      " |      Since the levicivita method is anti_symmetric for any pairwise\n",
      " |      exchange of indices, the dual of a symmetric matrix is the zero\n",
      " |      matrix. Strictly speaking the dual defined here assumes that the\n",
      " |      'matrix' `M` is a contravariant anti_symmetric second rank tensor,\n",
      " |      so that the dual is a covariant second rank tensor.\n",
      " |  \n",
      " |  eigenvals(self, **flags)\n",
      " |      Return eigen values using the berkowitz_eigenvals routine.\n",
      " |      \n",
      " |      Since the roots routine doesn't always work well with Floats,\n",
      " |      they will be replaced with Rationals before calling that\n",
      " |      routine. If this is not desired, set flag ``rational`` to False.\n",
      " |  \n",
      " |  eigenvects(self, **flags)\n",
      " |      Return list of triples (eigenval, multiplicity, basis).\n",
      " |      \n",
      " |      The flag ``simplify`` has two effects:\n",
      " |          1) if bool(simplify) is True, as_content_primitive()\n",
      " |          will be used to tidy up normalization artifacts;\n",
      " |          2) if nullspace needs simplification to compute the\n",
      " |          basis, the simplify flag will be passed on to the\n",
      " |          nullspace routine which will interpret it there.\n",
      " |      \n",
      " |      If the matrix contains any Floats, they will be changed to Rationals\n",
      " |      for computation purposes, but the answers will be returned after being\n",
      " |      evaluated with evalf. If it is desired to removed small imaginary\n",
      " |      portions during the evalf step, pass a value for the ``chop`` flag.\n",
      " |  \n",
      " |  evalf(self, prec=None, **options)\n",
      " |      Apply evalf() to each element of self.\n",
      " |  \n",
      " |  exp(self)\n",
      " |      Return the exponentiation of a square matrix.\n",
      " |  \n",
      " |  expand(self, deep=True, modulus=None, power_base=True, power_exp=True, mul=True, log=True, multinomial=True, basic=True, **hints)\n",
      " |      Apply core.function.expand to each entry of the matrix.\n",
      " |      \n",
      " |      Examples\n",
      " |      ========\n",
      " |      \n",
      " |      >>> from sympy.abc import x\n",
      " |      >>> from sympy.matrices import Matrix\n",
      " |      >>> Matrix(1, 1, [x*(x+1)])\n",
      " |      Matrix([[x*(x + 1)]])\n",
      " |      >>> _.expand()\n",
      " |      Matrix([[x**2 + x]])\n",
      " |  \n",
      " |  extract(self, rowsList, colsList)\n",
      " |      Return a submatrix by specifying a list of rows and columns.\n",
      " |      Negative indices can be given. All indices must be in the range\n",
      " |      -n <= i < n where n is the number of rows or columns.\n",
      " |      \n",
      " |      Examples\n",
      " |      ========\n",
      " |      \n",
      " |      >>> from sympy import Matrix\n",
      " |      >>> m = Matrix(4, 3, range(12))\n",
      " |      >>> m\n",
      " |      Matrix([\n",
      " |      [0,  1,  2],\n",
      " |      [3,  4,  5],\n",
      " |      [6,  7,  8],\n",
      " |      [9, 10, 11]])\n",
      " |      >>> m.extract([0, 1, 3], [0, 1])\n",
      " |      Matrix([\n",
      " |      [0,  1],\n",
      " |      [3,  4],\n",
      " |      [9, 10]])\n",
      " |      \n",
      " |      Rows or columns can be repeated:\n",
      " |      \n",
      " |      >>> m.extract([0, 0, 1], [-1])\n",
      " |      Matrix([\n",
      " |      [2],\n",
      " |      [2],\n",
      " |      [5]])\n",
      " |      \n",
      " |      Every other row can be taken by using range to provide the indices:\n",
      " |      \n",
      " |      >>> m.extract(range(0, m.rows, 2), [-1])\n",
      " |      Matrix([\n",
      " |      [2],\n",
      " |      [8]])\n",
      " |  \n",
      " |  get_diag_blocks(self)\n",
      " |      Obtains the square sub-matrices on the main diagonal of a square matrix.\n",
      " |      \n",
      " |      Useful for inverting symbolic matrices or solving systems of\n",
      " |      linear equations which may be decoupled by having a block diagonal\n",
      " |      structure.\n",
      " |      \n",
      " |      Examples\n",
      " |      ========\n",
      " |      \n",
      " |      >>> from sympy import Matrix\n",
      " |      >>> from sympy.abc import x, y, z\n",
      " |      >>> A = Matrix([[1, 3, 0, 0], [y, z*z, 0, 0], [0, 0, x, 0], [0, 0, 0, 0]])\n",
      " |      >>> a1, a2, a3 = A.get_diag_blocks()\n",
      " |      >>> a1\n",
      " |      Matrix([\n",
      " |      [1,    3],\n",
      " |      [y, z**2]])\n",
      " |      >>> a2\n",
      " |      Matrix([[x]])\n",
      " |      >>> a3\n",
      " |      Matrix([[0]])\n",
      " |  \n",
      " |  has(self, *patterns)\n",
      " |      Test whether any subexpression matches any of the patterns.\n",
      " |      \n",
      " |      Examples\n",
      " |      ========\n",
      " |      \n",
      " |      >>> from sympy import Matrix, Float\n",
      " |      >>> from sympy.abc import x, y\n",
      " |      >>> A = Matrix(((1, x), (0.2, 3)))\n",
      " |      >>> A.has(x)\n",
      " |      True\n",
      " |      >>> A.has(y)\n",
      " |      False\n",
      " |      >>> A.has(Float)\n",
      " |      True\n",
      " |  \n",
      " |  integrate(self, *args)\n",
      " |      Integrate each element of the matrix.\n",
      " |      \n",
      " |      Examples\n",
      " |      ========\n",
      " |      \n",
      " |      >>> from sympy.matrices import Matrix\n",
      " |      >>> from sympy.abc import x, y\n",
      " |      >>> M = Matrix([[x, y], [1, 0]])\n",
      " |      >>> M.integrate((x, ))\n",
      " |      Matrix([\n",
      " |      [x**2/2, x*y],\n",
      " |      [     x,   0]])\n",
      " |      >>> M.integrate((x, 0, 2))\n",
      " |      Matrix([\n",
      " |      [2, 2*y],\n",
      " |      [2,   0]])\n",
      " |      \n",
      " |      See Also\n",
      " |      ========\n",
      " |      \n",
      " |      limit\n",
      " |      diff\n",
      " |  \n",
      " |  inv(self, method=None, **kwargs)\n",
      " |  \n",
      " |  inv_mod(self, m)\n",
      " |      Returns the inverse of the matrix `K` (mod `m`), if it exists.\n",
      " |      \n",
      " |      Method to find the matrix inverse of `K` (mod `m`) implemented in this function:\n",
      " |      \n",
      " |      * Compute `\\mathrm{adj}(K) = \\mathrm{cof}(K)^t`, the adjoint matrix of `K`.\n",
      " |      \n",
      " |      * Compute `r = 1/\\mathrm{det}(K) \\pmod m`.\n",
      " |      \n",
      " |      * `K^{-1} = r\\cdot \\mathrm{adj}(K) \\pmod m`.\n",
      " |      \n",
      " |      Examples\n",
      " |      ========\n",
      " |      \n",
      " |      >>> from sympy import Matrix\n",
      " |      >>> A = Matrix(2, 2, [1, 2, 3, 4])\n",
      " |      >>> A.inv_mod(5)\n",
      " |      Matrix([\n",
      " |      [3, 1],\n",
      " |      [4, 2]])\n",
      " |      >>> A.inv_mod(3)\n",
      " |      Matrix([\n",
      " |      [1, 1],\n",
      " |      [0, 1]])\n",
      " |  \n",
      " |  inverse_ADJ(self, iszerofunc=<function _iszero>)\n",
      " |      Calculates the inverse using the adjugate matrix and a determinant.\n",
      " |      \n",
      " |      See Also\n",
      " |      ========\n",
      " |      \n",
      " |      inv\n",
      " |      inverse_LU\n",
      " |      inverse_GE\n",
      " |  \n",
      " |  inverse_GE(self, iszerofunc=<function _iszero>)\n",
      " |      Calculates the inverse using Gaussian elimination.\n",
      " |      \n",
      " |      See Also\n",
      " |      ========\n",
      " |      \n",
      " |      inv\n",
      " |      inverse_LU\n",
      " |      inverse_ADJ\n",
      " |  \n",
      " |  inverse_LU(self, iszerofunc=<function _iszero>)\n",
      " |      Calculates the inverse using LU decomposition.\n",
      " |      \n",
      " |      See Also\n",
      " |      ========\n",
      " |      \n",
      " |      inv\n",
      " |      inverse_GE\n",
      " |      inverse_ADJ\n",
      " |  \n",
      " |  is_anti_symmetric(self, simplify=True)\n",
      " |      Check if matrix M is an antisymmetric matrix,\n",
      " |      that is, M is a square matrix with all M[i, j] == -M[j, i].\n",
      " |      \n",
      " |      When ``simplify=True`` (default), the sum M[i, j] + M[j, i] is\n",
      " |      simplified before testing to see if it is zero. By default,\n",
      " |      the SymPy simplify function is used. To use a custom function\n",
      " |      set simplify to a function that accepts a single argument which\n",
      " |      returns a simplified expression. To skip simplification, set\n",
      " |      simplify to False but note that although this will be faster,\n",
      " |      it may induce false negatives.\n",
      " |      \n",
      " |      Examples\n",
      " |      ========\n",
      " |      \n",
      " |      >>> from sympy import Matrix, symbols\n",
      " |      >>> m = Matrix(2, 2, [0, 1, -1, 0])\n",
      " |      >>> m\n",
      " |      Matrix([\n",
      " |      [ 0, 1],\n",
      " |      [-1, 0]])\n",
      " |      >>> m.is_anti_symmetric()\n",
      " |      True\n",
      " |      >>> x, y = symbols('x y')\n",
      " |      >>> m = Matrix(2, 3, [0, 0, x, -y, 0, 0])\n",
      " |      >>> m\n",
      " |      Matrix([\n",
      " |      [ 0, 0, x],\n",
      " |      [-y, 0, 0]])\n",
      " |      >>> m.is_anti_symmetric()\n",
      " |      False\n",
      " |      \n",
      " |      >>> from sympy.abc import x, y\n",
      " |      >>> m = Matrix(3, 3, [0, x**2 + 2*x + 1, y,\n",
      " |      ...                   -(x + 1)**2 , 0, x*y,\n",
      " |      ...                   -y, -x*y, 0])\n",
      " |      \n",
      " |      Simplification of matrix elements is done by default so even\n",
      " |      though two elements which should be equal and opposite wouldn't\n",
      " |      pass an equality test, the matrix is still reported as\n",
      " |      anti-symmetric:\n",
      " |      \n",
      " |      >>> m[0, 1] == -m[1, 0]\n",
      " |      False\n",
      " |      >>> m.is_anti_symmetric()\n",
      " |      True\n",
      " |      \n",
      " |      If 'simplify=False' is used for the case when a Matrix is already\n",
      " |      simplified, this will speed things up. Here, we see that without\n",
      " |      simplification the matrix does not appear anti-symmetric:\n",
      " |      \n",
      " |      >>> m.is_anti_symmetric(simplify=False)\n",
      " |      False\n",
      " |      \n",
      " |      But if the matrix were already expanded, then it would appear\n",
      " |      anti-symmetric and simplification in the is_anti_symmetric routine\n",
      " |      is not needed:\n",
      " |      \n",
      " |      >>> m = m.expand()\n",
      " |      >>> m.is_anti_symmetric(simplify=False)\n",
      " |      True\n",
      " |  \n",
      " |  is_diagonal(self)\n",
      " |      Check if matrix is diagonal,\n",
      " |      that is matrix in which the entries outside the main diagonal are all zero.\n",
      " |      \n",
      " |      Examples\n",
      " |      ========\n",
      " |      \n",
      " |      >>> from sympy import Matrix, diag\n",
      " |      >>> m = Matrix(2, 2, [1, 0, 0, 2])\n",
      " |      >>> m\n",
      " |      Matrix([\n",
      " |      [1, 0],\n",
      " |      [0, 2]])\n",
      " |      >>> m.is_diagonal()\n",
      " |      True\n",
      " |      \n",
      " |      >>> m = Matrix(2, 2, [1, 1, 0, 2])\n",
      " |      >>> m\n",
      " |      Matrix([\n",
      " |      [1, 1],\n",
      " |      [0, 2]])\n",
      " |      >>> m.is_diagonal()\n",
      " |      False\n",
      " |      \n",
      " |      >>> m = diag(1, 2, 3)\n",
      " |      >>> m\n",
      " |      Matrix([\n",
      " |      [1, 0, 0],\n",
      " |      [0, 2, 0],\n",
      " |      [0, 0, 3]])\n",
      " |      >>> m.is_diagonal()\n",
      " |      True\n",
      " |      \n",
      " |      See Also\n",
      " |      ========\n",
      " |      \n",
      " |      is_lower\n",
      " |      is_upper\n",
      " |      is_diagonalizable\n",
      " |      diagonalize\n",
      " |  \n",
      " |  is_diagonalizable(self, reals_only=False, clear_subproducts=True)\n",
      " |      Check if matrix is diagonalizable.\n",
      " |      \n",
      " |      If reals_only==True then check that diagonalized matrix consists of the only not complex values.\n",
      " |      \n",
      " |      Some subproducts could be used further in other methods to avoid double calculations,\n",
      " |      By default (if clear_subproducts==True) they will be deleted.\n",
      " |      \n",
      " |      Examples\n",
      " |      ========\n",
      " |      \n",
      " |      >>> from sympy import Matrix\n",
      " |      >>> m = Matrix(3, 3, [1, 2, 0, 0, 3, 0, 2, -4, 2])\n",
      " |      >>> m\n",
      " |      Matrix([\n",
      " |      [1,  2, 0],\n",
      " |      [0,  3, 0],\n",
      " |      [2, -4, 2]])\n",
      " |      >>> m.is_diagonalizable()\n",
      " |      True\n",
      " |      >>> m = Matrix(2, 2, [0, 1, 0, 0])\n",
      " |      >>> m\n",
      " |      Matrix([\n",
      " |      [0, 1],\n",
      " |      [0, 0]])\n",
      " |      >>> m.is_diagonalizable()\n",
      " |      False\n",
      " |      >>> m = Matrix(2, 2, [0, 1, -1, 0])\n",
      " |      >>> m\n",
      " |      Matrix([\n",
      " |      [ 0, 1],\n",
      " |      [-1, 0]])\n",
      " |      >>> m.is_diagonalizable()\n",
      " |      True\n",
      " |      >>> m.is_diagonalizable(True)\n",
      " |      False\n",
      " |      \n",
      " |      See Also\n",
      " |      ========\n",
      " |      \n",
      " |      is_diagonal\n",
      " |      diagonalize\n",
      " |  \n",
      " |  is_nilpotent(self)\n",
      " |      Checks if a matrix is nilpotent.\n",
      " |      \n",
      " |      A matrix B is nilpotent if for some integer k, B**k is\n",
      " |      a zero matrix.\n",
      " |      \n",
      " |      Examples\n",
      " |      ========\n",
      " |      \n",
      " |      >>> from sympy import Matrix\n",
      " |      >>> a = Matrix([[0, 0, 0], [1, 0, 0], [1, 1, 0]])\n",
      " |      >>> a.is_nilpotent()\n",
      " |      True\n",
      " |      \n",
      " |      >>> a = Matrix([[1, 0, 1], [1, 0, 0], [1, 1, 0]])\n",
      " |      >>> a.is_nilpotent()\n",
      " |      False\n",
      " |  \n",
      " |  is_symbolic(self)\n",
      " |      Checks if any elements contain Symbols.\n",
      " |      \n",
      " |      Examples\n",
      " |      ========\n",
      " |      \n",
      " |      >>> from sympy.matrices import Matrix\n",
      " |      >>> from sympy.abc import x, y\n",
      " |      >>> M = Matrix([[x, y], [1, 0]])\n",
      " |      >>> M.is_symbolic()\n",
      " |      True\n",
      " |  \n",
      " |  is_symmetric(self, simplify=True)\n",
      " |      Check if matrix is symmetric matrix,\n",
      " |      that is square matrix and is equal to its transpose.\n",
      " |      \n",
      " |      By default, simplifications occur before testing symmetry.\n",
      " |      They can be skipped using 'simplify=False'; while speeding things a bit,\n",
      " |      this may however induce false negatives.\n",
      " |      \n",
      " |      Examples\n",
      " |      ========\n",
      " |      \n",
      " |      >>> from sympy import Matrix\n",
      " |      >>> m = Matrix(2, 2, [0, 1, 1, 2])\n",
      " |      >>> m\n",
      " |      Matrix([\n",
      " |      [0, 1],\n",
      " |      [1, 2]])\n",
      " |      >>> m.is_symmetric()\n",
      " |      True\n",
      " |      \n",
      " |      >>> m = Matrix(2, 2, [0, 1, 2, 0])\n",
      " |      >>> m\n",
      " |      Matrix([\n",
      " |      [0, 1],\n",
      " |      [2, 0]])\n",
      " |      >>> m.is_symmetric()\n",
      " |      False\n",
      " |      \n",
      " |      >>> m = Matrix(2, 3, [0, 0, 0, 0, 0, 0])\n",
      " |      >>> m\n",
      " |      Matrix([\n",
      " |      [0, 0, 0],\n",
      " |      [0, 0, 0]])\n",
      " |      >>> m.is_symmetric()\n",
      " |      False\n",
      " |      \n",
      " |      >>> from sympy.abc import x, y\n",
      " |      >>> m = Matrix(3, 3, [1, x**2 + 2*x + 1, y, (x + 1)**2 , 2, 0, y, 0, 3])\n",
      " |      >>> m\n",
      " |      Matrix([\n",
      " |      [         1, x**2 + 2*x + 1, y],\n",
      " |      [(x + 1)**2,              2, 0],\n",
      " |      [         y,              0, 3]])\n",
      " |      >>> m.is_symmetric()\n",
      " |      True\n",
      " |      \n",
      " |      If the matrix is already simplified, you may speed-up is_symmetric()\n",
      " |      test by using 'simplify=False'.\n",
      " |      \n",
      " |      >>> m.is_symmetric(simplify=False)\n",
      " |      False\n",
      " |      >>> m1 = m.expand()\n",
      " |      >>> m1.is_symmetric(simplify=False)\n",
      " |      True\n",
      " |  \n",
      " |  jacobian(self, X)\n",
      " |      Calculates the Jacobian matrix (derivative of a vectorial function).\n",
      " |      \n",
      " |      Parameters\n",
      " |      ==========\n",
      " |      \n",
      " |      self : vector of expressions representing functions f_i(x_1, ..., x_n).\n",
      " |      X : set of x_i's in order, it can be a list or a Matrix\n",
      " |      \n",
      " |      Both self and X can be a row or a column matrix in any order\n",
      " |      (i.e., jacobian() should always work).\n",
      " |      \n",
      " |      Examples\n",
      " |      ========\n",
      " |      \n",
      " |      >>> from sympy import sin, cos, Matrix\n",
      " |      >>> from sympy.abc import rho, phi\n",
      " |      >>> X = Matrix([rho*cos(phi), rho*sin(phi), rho**2])\n",
      " |      >>> Y = Matrix([rho, phi])\n",
      " |      >>> X.jacobian(Y)\n",
      " |      Matrix([\n",
      " |      [cos(phi), -rho*sin(phi)],\n",
      " |      [sin(phi),  rho*cos(phi)],\n",
      " |      [   2*rho,             0]])\n",
      " |      >>> X = Matrix([rho*cos(phi), rho*sin(phi)])\n",
      " |      >>> X.jacobian(Y)\n",
      " |      Matrix([\n",
      " |      [cos(phi), -rho*sin(phi)],\n",
      " |      [sin(phi),  rho*cos(phi)]])\n",
      " |      \n",
      " |      See Also\n",
      " |      ========\n",
      " |      \n",
      " |      hessian\n",
      " |      wronskian\n",
      " |  \n",
      " |  jordan_cell(self, eigenval, n)\n",
      " |  \n",
      " |  jordan_cells(self, calc_transformation=True)\n",
      " |      Return a list of Jordan cells of current matrix.\n",
      " |      This list shape Jordan matrix J.\n",
      " |      \n",
      " |      If calc_transformation is specified as False, then transformation P such that\n",
      " |      \n",
      " |            `J = P^{-1} \\cdot M \\cdot P`\n",
      " |      \n",
      " |      will not be calculated.\n",
      " |      \n",
      " |      Notes\n",
      " |      =====\n",
      " |      \n",
      " |      Calculation of transformation P is not implemented yet.\n",
      " |      \n",
      " |      Examples\n",
      " |      ========\n",
      " |      \n",
      " |      >>> from sympy import Matrix\n",
      " |      >>> m = Matrix(4, 4, [\n",
      " |      ...  6,  5, -2, -3,\n",
      " |      ... -3, -1,  3,  3,\n",
      " |      ...  2,  1, -2, -3,\n",
      " |      ... -1,  1,  5,  5])\n",
      " |      \n",
      " |      >>> P, Jcells = m.jordan_cells()\n",
      " |      >>> Jcells[0]\n",
      " |      Matrix([\n",
      " |      [2, 1],\n",
      " |      [0, 2]])\n",
      " |      >>> Jcells[1]\n",
      " |      Matrix([\n",
      " |      [2, 1],\n",
      " |      [0, 2]])\n",
      " |      \n",
      " |      See Also\n",
      " |      ========\n",
      " |      \n",
      " |      jordan_form\n",
      " |  \n",
      " |  jordan_form(self, calc_transformation=True)\n",
      " |      Return Jordan form J of current matrix.\n",
      " |      \n",
      " |      Also the transformation P such that\n",
      " |      \n",
      " |          `J = P^{-1} \\cdot M \\cdot P`\n",
      " |      \n",
      " |      and the jordan blocks forming J\n",
      " |      will be calculated.\n",
      " |      \n",
      " |      \n",
      " |      Examples\n",
      " |      ========\n",
      " |      \n",
      " |      >>> from sympy import Matrix\n",
      " |      >>> m = Matrix([\n",
      " |      ...        [ 6,  5, -2, -3],\n",
      " |      ...        [-3, -1,  3,  3],\n",
      " |      ...        [ 2,  1, -2, -3],\n",
      " |      ...        [-1,  1,  5,  5]])\n",
      " |      >>> P, J = m.jordan_form()\n",
      " |      >>> J\n",
      " |      Matrix([\n",
      " |      [2, 1, 0, 0],\n",
      " |      [0, 2, 0, 0],\n",
      " |      [0, 0, 2, 1],\n",
      " |      [0, 0, 0, 2]])\n",
      " |      \n",
      " |      See Also\n",
      " |      ========\n",
      " |      \n",
      " |      jordan_cells\n",
      " |  \n",
      " |  key2bounds(self, keys)\n",
      " |      Converts a key with potentially mixed types of keys (integer and slice)\n",
      " |      into a tuple of ranges and raises an error if any index is out of self's\n",
      " |      range.\n",
      " |      \n",
      " |      See Also\n",
      " |      ========\n",
      " |      \n",
      " |      key2ij\n",
      " |  \n",
      " |  key2ij(self, key)\n",
      " |      Converts key into canonical form, converting integers or indexable\n",
      " |      items into valid integers for self's range or returning slices\n",
      " |      unchanged.\n",
      " |      \n",
      " |      See Also\n",
      " |      ========\n",
      " |      \n",
      " |      key2bounds\n",
      " |  \n",
      " |  limit(self, *args)\n",
      " |      Calculate the limit of each element in the matrix.\n",
      " |      \n",
      " |      Examples\n",
      " |      ========\n",
      " |      \n",
      " |      >>> from sympy.matrices import Matrix\n",
      " |      >>> from sympy.abc import x, y\n",
      " |      >>> M = Matrix([[x, y], [1, 0]])\n",
      " |      >>> M.limit(x, 2)\n",
      " |      Matrix([\n",
      " |      [2, y],\n",
      " |      [1, 0]])\n",
      " |      \n",
      " |      See Also\n",
      " |      ========\n",
      " |      \n",
      " |      integrate\n",
      " |      diff\n",
      " |  \n",
      " |  lower_triangular_solve(self, rhs)\n",
      " |      Solves Ax = B, where A is a lower triangular matrix.\n",
      " |      \n",
      " |      See Also\n",
      " |      ========\n",
      " |      \n",
      " |      upper_triangular_solve\n",
      " |      cholesky_solve\n",
      " |      diagonal_solve\n",
      " |      LDLsolve\n",
      " |      LUsolve\n",
      " |      QRsolve\n",
      " |      pinv_solve\n",
      " |  \n",
      " |  minorEntry(self, i, j, method='berkowitz')\n",
      " |      Calculate the minor of an element.\n",
      " |      \n",
      " |      See Also\n",
      " |      ========\n",
      " |      \n",
      " |      minorMatrix\n",
      " |      cofactor\n",
      " |      cofactorMatrix\n",
      " |  \n",
      " |  minorMatrix(self, i, j)\n",
      " |      Creates the minor matrix of a given element.\n",
      " |      \n",
      " |      See Also\n",
      " |      ========\n",
      " |      \n",
      " |      minorEntry\n",
      " |      cofactor\n",
      " |      cofactorMatrix\n",
      " |  \n",
      " |  multiply(self, b)\n",
      " |      Returns self*b\n",
      " |      \n",
      " |      See Also\n",
      " |      ========\n",
      " |      \n",
      " |      dot\n",
      " |      cross\n",
      " |      multiply_elementwise\n",
      " |  \n",
      " |  multiply_elementwise(self, b)\n",
      " |      Return the Hadamard product (elementwise product) of A and B\n",
      " |      \n",
      " |      Examples\n",
      " |      ========\n",
      " |      \n",
      " |      >>> from sympy.matrices import Matrix\n",
      " |      >>> A = Matrix([[0, 1, 2], [3, 4, 5]])\n",
      " |      >>> B = Matrix([[1, 10, 100], [100, 10, 1]])\n",
      " |      >>> A.multiply_elementwise(B)\n",
      " |      Matrix([\n",
      " |      [  0, 10, 200],\n",
      " |      [300, 40,   5]])\n",
      " |      \n",
      " |      See Also\n",
      " |      ========\n",
      " |      \n",
      " |      cross\n",
      " |      dot\n",
      " |      multiply\n",
      " |  \n",
      " |  n = evalf(self, prec=None, **options)\n",
      " |      Apply evalf() to each element of self.\n",
      " |  \n",
      " |  norm(self, ord=None)\n",
      " |      Return the Norm of a Matrix or Vector.\n",
      " |      In the simplest case this is the geometric size of the vector\n",
      " |      Other norms can be specified by the ord parameter\n",
      " |      \n",
      " |      \n",
      " |      =====  ============================  ==========================\n",
      " |      ord    norm for matrices             norm for vectors\n",
      " |      =====  ============================  ==========================\n",
      " |      None   Frobenius norm                2-norm\n",
      " |      'fro'  Frobenius norm                - does not exist\n",
      " |      inf    --                            max(abs(x))\n",
      " |      -inf   --                            min(abs(x))\n",
      " |      1      --                            as below\n",
      " |      -1     --                            as below\n",
      " |      2      2-norm (largest sing. value)  as below\n",
      " |      -2     smallest singular value       as below\n",
      " |      other  - does not exist              sum(abs(x)**ord)**(1./ord)\n",
      " |      =====  ============================  ==========================\n",
      " |      \n",
      " |      Examples\n",
      " |      ========\n",
      " |      \n",
      " |      >>> from sympy import Matrix, Symbol, trigsimp, cos, sin, oo\n",
      " |      >>> x = Symbol('x', real=True)\n",
      " |      >>> v = Matrix([cos(x), sin(x)])\n",
      " |      >>> trigsimp( v.norm() )\n",
      " |      1\n",
      " |      >>> v.norm(10)\n",
      " |      (sin(x)**10 + cos(x)**10)**(1/10)\n",
      " |      >>> A = Matrix([[1, 1], [1, 1]])\n",
      " |      >>> A.norm(2)# Spectral norm (max of |Ax|/|x| under 2-vector-norm)\n",
      " |      2\n",
      " |      >>> A.norm(-2) # Inverse spectral norm (smallest singular value)\n",
      " |      0\n",
      " |      >>> A.norm() # Frobenius Norm\n",
      " |      2\n",
      " |      >>> Matrix([1, -2]).norm(oo)\n",
      " |      2\n",
      " |      >>> Matrix([-1, 2]).norm(-oo)\n",
      " |      1\n",
      " |      \n",
      " |      See Also\n",
      " |      ========\n",
      " |      \n",
      " |      normalized\n",
      " |  \n",
      " |  normalized(self)\n",
      " |      Return the normalized version of ``self``.\n",
      " |      \n",
      " |      See Also\n",
      " |      ========\n",
      " |      \n",
      " |      norm\n",
      " |  \n",
      " |  nullspace(self, simplify=False)\n",
      " |      Returns list of vectors (Matrix objects) that span nullspace of self\n",
      " |  \n",
      " |  permuteBkwd(self, perm)\n",
      " |      Permute the rows of the matrix with the given permutation in reverse.\n",
      " |      \n",
      " |      Examples\n",
      " |      ========\n",
      " |      \n",
      " |      >>> from sympy.matrices import eye\n",
      " |      >>> M = eye(3)\n",
      " |      >>> M.permuteBkwd([[0, 1], [0, 2]])\n",
      " |      Matrix([\n",
      " |      [0, 1, 0],\n",
      " |      [0, 0, 1],\n",
      " |      [1, 0, 0]])\n",
      " |      \n",
      " |      See Also\n",
      " |      ========\n",
      " |      \n",
      " |      permuteFwd\n",
      " |  \n",
      " |  permuteFwd(self, perm)\n",
      " |      Permute the rows of the matrix with the given permutation.\n",
      " |      \n",
      " |      Examples\n",
      " |      ========\n",
      " |      \n",
      " |      >>> from sympy.matrices import eye\n",
      " |      >>> M = eye(3)\n",
      " |      >>> M.permuteFwd([[0, 1], [0, 2]])\n",
      " |      Matrix([\n",
      " |      [0, 0, 1],\n",
      " |      [1, 0, 0],\n",
      " |      [0, 1, 0]])\n",
      " |      \n",
      " |      See Also\n",
      " |      ========\n",
      " |      \n",
      " |      permuteBkwd\n",
      " |  \n",
      " |  pinv(self)\n",
      " |      Calculate the Moore-Penrose pseudoinverse of the matrix.\n",
      " |      \n",
      " |      The Moore-Penrose pseudoinverse exists and is unique for any matrix.\n",
      " |      If the matrix is invertible, the pseudoinverse is the same as the\n",
      " |      inverse.\n",
      " |      \n",
      " |      Examples\n",
      " |      ========\n",
      " |      \n",
      " |      >>> from sympy import Matrix\n",
      " |      >>> Matrix([[1, 2, 3], [4, 5, 6]]).pinv()\n",
      " |      Matrix([\n",
      " |      [-17/18,  4/9],\n",
      " |      [  -1/9,  1/9],\n",
      " |      [ 13/18, -2/9]])\n",
      " |      \n",
      " |      See Also\n",
      " |      ========\n",
      " |      \n",
      " |      inv\n",
      " |      pinv_solve\n",
      " |      \n",
      " |      References\n",
      " |      ==========\n",
      " |      \n",
      " |      .. [1] https://en.wikipedia.org/wiki/Moore-Penrose_pseudoinverse\n",
      " |  \n",
      " |  pinv_solve(self, B, arbitrary_matrix=None)\n",
      " |      Solve Ax = B using the Moore-Penrose pseudoinverse.\n",
      " |      \n",
      " |      There may be zero, one, or infinite solutions.  If one solution\n",
      " |      exists, it will be returned.  If infinite solutions exist, one will\n",
      " |      be returned based on the value of arbitrary_matrix.  If no solutions\n",
      " |      exist, the least-squares solution is returned.\n",
      " |      \n",
      " |      Parameters\n",
      " |      ==========\n",
      " |      \n",
      " |      B : Matrix\n",
      " |          The right hand side of the equation to be solved for.  Must have\n",
      " |          the same number of rows as matrix A.\n",
      " |      arbitrary_matrix : Matrix\n",
      " |          If the system is underdetermined (e.g. A has more columns than\n",
      " |          rows), infinite solutions are possible, in terms of an arbitrary\n",
      " |          matrix.  This parameter may be set to a specific matrix to use\n",
      " |          for that purpose; if so, it must be the same shape as x, with as\n",
      " |          many rows as matrix A has columns, and as many columns as matrix\n",
      " |          B.  If left as None, an appropriate matrix containing dummy\n",
      " |          symbols in the form of ``wn_m`` will be used, with n and m being\n",
      " |          row and column position of each symbol.\n",
      " |      \n",
      " |      Returns\n",
      " |      =======\n",
      " |      \n",
      " |      x : Matrix\n",
      " |          The matrix that will satisfy Ax = B.  Will have as many rows as\n",
      " |          matrix A has columns, and as many columns as matrix B.\n",
      " |      \n",
      " |      Examples\n",
      " |      ========\n",
      " |      \n",
      " |      >>> from sympy import Matrix\n",
      " |      >>> A = Matrix([[1, 2, 3], [4, 5, 6]])\n",
      " |      >>> B = Matrix([7, 8])\n",
      " |      >>> A.pinv_solve(B)\n",
      " |      Matrix([\n",
      " |      [ _w0_0/6 - _w1_0/3 + _w2_0/6 - 55/18],\n",
      " |      [-_w0_0/3 + 2*_w1_0/3 - _w2_0/3 + 1/9],\n",
      " |      [ _w0_0/6 - _w1_0/3 + _w2_0/6 + 59/18]])\n",
      " |      >>> A.pinv_solve(B, arbitrary_matrix=Matrix([0, 0, 0]))\n",
      " |      Matrix([\n",
      " |      [-55/18],\n",
      " |      [   1/9],\n",
      " |      [ 59/18]])\n",
      " |      \n",
      " |      See Also\n",
      " |      ========\n",
      " |      \n",
      " |      lower_triangular_solve\n",
      " |      upper_triangular_solve\n",
      " |      cholesky_solve\n",
      " |      diagonal_solve\n",
      " |      LDLsolve\n",
      " |      LUsolve\n",
      " |      QRsolve\n",
      " |      pinv\n",
      " |      \n",
      " |      Notes\n",
      " |      =====\n",
      " |      \n",
      " |      This may return either exact solutions or least squares solutions.\n",
      " |      To determine which, check ``A * A.pinv() * B == B``.  It will be\n",
      " |      True if exact solutions exist, and False if only a least-squares\n",
      " |      solution exists.  Be aware that the left hand side of that equation\n",
      " |      may need to be simplified to correctly compare to the right hand\n",
      " |      side.\n",
      " |      \n",
      " |      References\n",
      " |      ==========\n",
      " |      \n",
      " |      .. [1] https://en.wikipedia.org/wiki/Moore-Penrose_pseudoinverse#Obtaining_all_solutions_of_a_linear_system\n",
      " |  \n",
      " |  print_nonzero(self, symb='X')\n",
      " |      Shows location of non-zero entries for fast shape lookup.\n",
      " |      \n",
      " |      Examples\n",
      " |      ========\n",
      " |      \n",
      " |      >>> from sympy.matrices import Matrix, eye\n",
      " |      >>> m = Matrix(2, 3, lambda i, j: i*3+j)\n",
      " |      >>> m\n",
      " |      Matrix([\n",
      " |      [0, 1, 2],\n",
      " |      [3, 4, 5]])\n",
      " |      >>> m.print_nonzero()\n",
      " |      [ XX]\n",
      " |      [XXX]\n",
      " |      >>> m = eye(4)\n",
      " |      >>> m.print_nonzero(\"x\")\n",
      " |      [x   ]\n",
      " |      [ x  ]\n",
      " |      [  x ]\n",
      " |      [   x]\n",
      " |  \n",
      " |  project(self, v)\n",
      " |      Return the projection of ``self`` onto the line containing ``v``.\n",
      " |      \n",
      " |      Examples\n",
      " |      ========\n",
      " |      \n",
      " |      >>> from sympy import Matrix, S, sqrt\n",
      " |      >>> V = Matrix([sqrt(3)/2, S.Half])\n",
      " |      >>> x = Matrix([[1, 0]])\n",
      " |      >>> V.project(x)\n",
      " |      Matrix([[sqrt(3)/2, 0]])\n",
      " |      >>> V.project(-x)\n",
      " |      Matrix([[sqrt(3)/2, 0]])\n",
      " |  \n",
      " |  rank(self, iszerofunc=<function _iszero>, simplify=False)\n",
      " |      Returns the rank of a matrix\n",
      " |      \n",
      " |      >>> from sympy import Matrix\n",
      " |      >>> from sympy.abc import x\n",
      " |      >>> m = Matrix([[1, 2], [x, 1 - 1/x]])\n",
      " |      >>> m.rank()\n",
      " |      2\n",
      " |      >>> n = Matrix(3, 3, range(1, 10))\n",
      " |      >>> n.rank()\n",
      " |      2\n",
      " |  \n",
      " |  replace(self, F, G, map=False)\n",
      " |      Replaces Function F in Matrix entries with Function G.\n",
      " |      \n",
      " |      Examples\n",
      " |      ========\n",
      " |      \n",
      " |      >>> from sympy import symbols, Function, Matrix\n",
      " |      >>> F, G = symbols('F, G', cls=Function)\n",
      " |      >>> M = Matrix(2, 2, lambda i, j: F(i+j)) ; M\n",
      " |      Matrix([\n",
      " |      [F(0), F(1)],\n",
      " |      [F(1), F(2)]])\n",
      " |      >>> N = M.replace(F,G)\n",
      " |      >>> N\n",
      " |      Matrix([\n",
      " |      [G(0), G(1)],\n",
      " |      [G(1), G(2)]])\n",
      " |  \n",
      " |  row_insert(self, pos, mti)\n",
      " |      Insert one or more rows at the given row position.\n",
      " |      \n",
      " |      Examples\n",
      " |      ========\n",
      " |      \n",
      " |      >>> from sympy import zeros, ones\n",
      " |      >>> M = zeros(3)\n",
      " |      >>> V = ones(1, 3)\n",
      " |      >>> M.row_insert(1, V)\n",
      " |      Matrix([\n",
      " |      [0, 0, 0],\n",
      " |      [1, 1, 1],\n",
      " |      [0, 0, 0],\n",
      " |      [0, 0, 0]])\n",
      " |      \n",
      " |      See Also\n",
      " |      ========\n",
      " |      \n",
      " |      row\n",
      " |      col_insert\n",
      " |  \n",
      " |  row_join(self, rhs)\n",
      " |      Concatenates two matrices along self's last and rhs's first column\n",
      " |      \n",
      " |      Examples\n",
      " |      ========\n",
      " |      \n",
      " |      >>> from sympy import zeros, ones\n",
      " |      >>> M = zeros(3)\n",
      " |      >>> V = ones(3, 1)\n",
      " |      >>> M.row_join(V)\n",
      " |      Matrix([\n",
      " |      [0, 0, 0, 1],\n",
      " |      [0, 0, 0, 1],\n",
      " |      [0, 0, 0, 1]])\n",
      " |      \n",
      " |      See Also\n",
      " |      ========\n",
      " |      \n",
      " |      row\n",
      " |      col_join\n",
      " |  \n",
      " |  rref(self, iszerofunc=<function _iszero>, simplify=False)\n",
      " |      Return reduced row-echelon form of matrix and indices of pivot vars.\n",
      " |      \n",
      " |      To simplify elements before finding nonzero pivots set simplify=True\n",
      " |      (to use the default SymPy simplify function) or pass a custom\n",
      " |      simplify function.\n",
      " |      \n",
      " |      Examples\n",
      " |      ========\n",
      " |      \n",
      " |      >>> from sympy import Matrix\n",
      " |      >>> from sympy.abc import x\n",
      " |      >>> m = Matrix([[1, 2], [x, 1 - 1/x]])\n",
      " |      >>> m.rref()\n",
      " |      (Matrix([\n",
      " |      [1, 0],\n",
      " |      [0, 1]]), [0, 1])\n",
      " |  \n",
      " |  singular_values(self)\n",
      " |      Compute the singular values of a Matrix\n",
      " |      \n",
      " |      Examples\n",
      " |      ========\n",
      " |      \n",
      " |      >>> from sympy import Matrix, Symbol\n",
      " |      >>> x = Symbol('x', real=True)\n",
      " |      >>> A = Matrix([[0, 1, 0], [0, x, 0], [-1, 0, 0]])\n",
      " |      >>> A.singular_values()\n",
      " |      [sqrt(x**2 + 1), 1, 0]\n",
      " |      \n",
      " |      See Also\n",
      " |      ========\n",
      " |      \n",
      " |      condition_number\n",
      " |  \n",
      " |  solve(self, rhs, method='GE')\n",
      " |      Return solution to self*soln = rhs using given inversion method.\n",
      " |      \n",
      " |      For a list of possible inversion methods, see the .inv() docstring.\n",
      " |  \n",
      " |  solve_least_squares(self, rhs, method='CH')\n",
      " |      Return the least-square fit to the data.\n",
      " |      \n",
      " |      By default the cholesky_solve routine is used (method='CH'); other\n",
      " |      methods of matrix inversion can be used. To find out which are\n",
      " |      available, see the docstring of the .inv() method.\n",
      " |      \n",
      " |      Examples\n",
      " |      ========\n",
      " |      \n",
      " |      >>> from sympy.matrices import Matrix, ones\n",
      " |      >>> A = Matrix([1, 2, 3])\n",
      " |      >>> B = Matrix([2, 3, 4])\n",
      " |      >>> S = Matrix(A.row_join(B))\n",
      " |      >>> S\n",
      " |      Matrix([\n",
      " |      [1, 2],\n",
      " |      [2, 3],\n",
      " |      [3, 4]])\n",
      " |      \n",
      " |      If each line of S represent coefficients of Ax + By\n",
      " |      and x and y are [2, 3] then S*xy is:\n",
      " |      \n",
      " |      >>> r = S*Matrix([2, 3]); r\n",
      " |      Matrix([\n",
      " |      [ 8],\n",
      " |      [13],\n",
      " |      [18]])\n",
      " |      \n",
      " |      But let's add 1 to the middle value and then solve for the\n",
      " |      least-squares value of xy:\n",
      " |      \n",
      " |      >>> xy = S.solve_least_squares(Matrix([8, 14, 18])); xy\n",
      " |      Matrix([\n",
      " |      [ 5/3],\n",
      " |      [10/3]])\n",
      " |      \n",
      " |      The error is given by S*xy - r:\n",
      " |      \n",
      " |      >>> S*xy - r\n",
      " |      Matrix([\n",
      " |      [1/3],\n",
      " |      [1/3],\n",
      " |      [1/3]])\n",
      " |      >>> _.norm().n(2)\n",
      " |      0.58\n",
      " |      \n",
      " |      If a different xy is used, the norm will be higher:\n",
      " |      \n",
      " |      >>> xy += ones(2, 1)/10\n",
      " |      >>> (S*xy - r).norm().n(2)\n",
      " |      1.5\n",
      " |  \n",
      " |  subs(self, *args, **kwargs)\n",
      " |      Return a new matrix with subs applied to each entry.\n",
      " |      \n",
      " |      Examples\n",
      " |      ========\n",
      " |      \n",
      " |      >>> from sympy.abc import x, y\n",
      " |      >>> from sympy.matrices import SparseMatrix, Matrix\n",
      " |      >>> SparseMatrix(1, 1, [x])\n",
      " |      Matrix([[x]])\n",
      " |      >>> _.subs(x, y)\n",
      " |      Matrix([[y]])\n",
      " |      >>> Matrix(_).subs(y, x)\n",
      " |      Matrix([[x]])\n",
      " |  \n",
      " |  table(self, printer, rowstart='[', rowend=']', rowsep='\\n', colsep=', ', align='right')\n",
      " |      String form of Matrix as a table.\n",
      " |      \n",
      " |      ``printer`` is the printer to use for on the elements (generally\n",
      " |      something like StrPrinter())\n",
      " |      \n",
      " |      ``rowstart`` is the string used to start each row (by default '[').\n",
      " |      \n",
      " |      ``rowend`` is the string used to end each row (by default ']').\n",
      " |      \n",
      " |      ``rowsep`` is the string used to separate rows (by default a newline).\n",
      " |      \n",
      " |      ``colsep`` is the string used to separate columns (by default ', ').\n",
      " |      \n",
      " |      ``align`` defines how the elements are aligned. Must be one of 'left',\n",
      " |      'right', or 'center'.  You can also use '<', '>', and '^' to mean the\n",
      " |      same thing, respectively.\n",
      " |      \n",
      " |      This is used by the string printer for Matrix.\n",
      " |      \n",
      " |      Examples\n",
      " |      ========\n",
      " |      \n",
      " |      >>> from sympy import Matrix\n",
      " |      >>> from sympy.printing.str import StrPrinter\n",
      " |      >>> M = Matrix([[1, 2], [-33, 4]])\n",
      " |      >>> printer = StrPrinter()\n",
      " |      >>> M.table(printer)\n",
      " |      '[  1, 2]\\n[-33, 4]'\n",
      " |      >>> print(M.table(printer))\n",
      " |      [  1, 2]\n",
      " |      [-33, 4]\n",
      " |      >>> print(M.table(printer, rowsep=',\\n'))\n",
      " |      [  1, 2],\n",
      " |      [-33, 4]\n",
      " |      >>> print('[%s]' % M.table(printer, rowsep=',\\n'))\n",
      " |      [[  1, 2],\n",
      " |      [-33, 4]]\n",
      " |      >>> print(M.table(printer, colsep=' '))\n",
      " |      [  1 2]\n",
      " |      [-33 4]\n",
      " |      >>> print(M.table(printer, align='center'))\n",
      " |      [ 1 , 2]\n",
      " |      [-33, 4]\n",
      " |      >>> print(M.table(printer, rowstart='{', rowend='}'))\n",
      " |      {  1, 2}\n",
      " |      {-33, 4}\n",
      " |  \n",
      " |  trace(self)\n",
      " |  \n",
      " |  transpose(self)\n",
      " |  \n",
      " |  upper_triangular_solve(self, rhs)\n",
      " |      Solves Ax = B, where A is an upper triangular matrix.\n",
      " |      \n",
      " |      See Also\n",
      " |      ========\n",
      " |      \n",
      " |      lower_triangular_solve\n",
      " |      cholesky_solve\n",
      " |      diagonal_solve\n",
      " |      LDLsolve\n",
      " |      LUsolve\n",
      " |      QRsolve\n",
      " |      pinv_solve\n",
      " |  \n",
      " |  values(self)\n",
      " |      Return non-zero values of self.\n",
      " |  \n",
      " |  vec(self)\n",
      " |      Return the Matrix converted into a one column matrix by stacking columns\n",
      " |      \n",
      " |      Examples\n",
      " |      ========\n",
      " |      \n",
      " |      >>> from sympy import Matrix\n",
      " |      >>> m=Matrix([[1, 3], [2, 4]])\n",
      " |      >>> m\n",
      " |      Matrix([\n",
      " |      [1, 3],\n",
      " |      [2, 4]])\n",
      " |      >>> m.vec()\n",
      " |      Matrix([\n",
      " |      [1],\n",
      " |      [2],\n",
      " |      [3],\n",
      " |      [4]])\n",
      " |      \n",
      " |      See Also\n",
      " |      ========\n",
      " |      \n",
      " |      vech\n",
      " |  \n",
      " |  vech(self, diagonal=True, check_symmetry=True)\n",
      " |      Return the unique elements of a symmetric Matrix as a one column matrix\n",
      " |      by stacking the elements in the lower triangle.\n",
      " |      \n",
      " |      Arguments:\n",
      " |      diagonal -- include the diagonal cells of self or not\n",
      " |      check_symmetry -- checks symmetry of self but not completely reliably\n",
      " |      \n",
      " |      Examples\n",
      " |      ========\n",
      " |      \n",
      " |      >>> from sympy import Matrix\n",
      " |      >>> m=Matrix([[1, 2], [2, 3]])\n",
      " |      >>> m\n",
      " |      Matrix([\n",
      " |      [1, 2],\n",
      " |      [2, 3]])\n",
      " |      >>> m.vech()\n",
      " |      Matrix([\n",
      " |      [1],\n",
      " |      [2],\n",
      " |      [3]])\n",
      " |      >>> m.vech(diagonal=False)\n",
      " |      Matrix([[2]])\n",
      " |      \n",
      " |      See Also\n",
      " |      ========\n",
      " |      \n",
      " |      vec\n",
      " |  \n",
      " |  ----------------------------------------------------------------------\n",
      " |  Class methods inherited from sympy.matrices.matrices.MatrixBase:\n",
      " |  \n",
      " |  hstack(cls, *args) from __builtin__.type\n",
      " |      Return a matrix formed by joining args horizontally (i.e.\n",
      " |      by repeated application of row_join).\n",
      " |      \n",
      " |      Examples\n",
      " |      ========\n",
      " |      \n",
      " |      >>> from sympy.matrices import Matrix, eye\n",
      " |      >>> Matrix.hstack(eye(2), 2*eye(2))\n",
      " |      Matrix([\n",
      " |      [1, 0, 2, 0],\n",
      " |      [0, 1, 0, 2]])\n",
      " |  \n",
      " |  vstack(cls, *args) from __builtin__.type\n",
      " |      Return a matrix formed by joining args vertically (i.e.\n",
      " |      by repeated application of col_join).\n",
      " |      \n",
      " |      Examples\n",
      " |      ========\n",
      " |      \n",
      " |      >>> from sympy.matrices import Matrix, eye\n",
      " |      >>> Matrix.vstack(eye(2), 2*eye(2))\n",
      " |      Matrix([\n",
      " |      [1, 0],\n",
      " |      [0, 1],\n",
      " |      [2, 0],\n",
      " |      [0, 2]])\n",
      " |  \n",
      " |  ----------------------------------------------------------------------\n",
      " |  Data descriptors inherited from sympy.matrices.matrices.MatrixBase:\n",
      " |  \n",
      " |  C\n",
      " |      By-element conjugation.\n",
      " |  \n",
      " |  D\n",
      " |      Return Dirac conjugate (if self.rows == 4).\n",
      " |      \n",
      " |      Examples\n",
      " |      ========\n",
      " |      \n",
      " |      >>> from sympy import Matrix, I, eye\n",
      " |      >>> m = Matrix((0, 1 + I, 2, 3))\n",
      " |      >>> m.D\n",
      " |      Matrix([[0, 1 - I, -2, -3]])\n",
      " |      >>> m = (eye(4) + I*eye(4))\n",
      " |      >>> m[0, 3] = 2\n",
      " |      >>> m.D\n",
      " |      Matrix([\n",
      " |      [1 - I,     0,      0,      0],\n",
      " |      [    0, 1 - I,      0,      0],\n",
      " |      [    0,     0, -1 + I,      0],\n",
      " |      [    2,     0,      0, -1 + I]])\n",
      " |      \n",
      " |      If the matrix does not have 4 rows an AttributeError will be raised\n",
      " |      because this property is only defined for matrices with 4 rows.\n",
      " |      \n",
      " |      >>> Matrix(eye(2)).D\n",
      " |      Traceback (most recent call last):\n",
      " |      ...\n",
      " |      AttributeError: Matrix has no attribute D.\n",
      " |      \n",
      " |      See Also\n",
      " |      ========\n",
      " |      \n",
      " |      conjugate: By-element conjugation\n",
      " |      H: Hermite conjugation\n",
      " |  \n",
      " |  H\n",
      " |      Return Hermite conjugate.\n",
      " |      \n",
      " |      Examples\n",
      " |      ========\n",
      " |      \n",
      " |      >>> from sympy import Matrix, I\n",
      " |      >>> m = Matrix((0, 1 + I, 2, 3))\n",
      " |      >>> m\n",
      " |      Matrix([\n",
      " |      [    0],\n",
      " |      [1 + I],\n",
      " |      [    2],\n",
      " |      [    3]])\n",
      " |      >>> m.H\n",
      " |      Matrix([[0, 1 - I, 2, 3]])\n",
      " |      \n",
      " |      See Also\n",
      " |      ========\n",
      " |      \n",
      " |      conjugate: By-element conjugation\n",
      " |      D: Dirac conjugation\n",
      " |  \n",
      " |  T\n",
      " |      Matrix transposition.\n",
      " |  \n",
      " |  __dict__\n",
      " |      dictionary for instance variables (if defined)\n",
      " |  \n",
      " |  __weakref__\n",
      " |      list of weak references to the object (if defined)\n",
      " |  \n",
      " |  free_symbols\n",
      " |      Returns the free symbols within the matrix.\n",
      " |      \n",
      " |      Examples\n",
      " |      ========\n",
      " |      \n",
      " |      >>> from sympy.abc import x\n",
      " |      >>> from sympy.matrices import Matrix\n",
      " |      >>> Matrix([[x], [1]]).free_symbols\n",
      " |      set([x])\n",
      " |  \n",
      " |  is_hermitian\n",
      " |      Checks if the matrix is Hermitian.\n",
      " |      \n",
      " |      In a Hermitian matrix element i,j is the complex conjugate of\n",
      " |      element j,i.\n",
      " |      \n",
      " |      Examples\n",
      " |      ========\n",
      " |      \n",
      " |      >>> from sympy.matrices import Matrix\n",
      " |      >>> from sympy import I\n",
      " |      >>> from sympy.abc import x\n",
      " |      >>> a = Matrix([[1, I], [-I, 1]])\n",
      " |      >>> a\n",
      " |      Matrix([\n",
      " |      [ 1, I],\n",
      " |      [-I, 1]])\n",
      " |      >>> a.is_hermitian\n",
      " |      True\n",
      " |      >>> a[0, 0] = 2*I\n",
      " |      >>> a.is_hermitian\n",
      " |      False\n",
      " |      >>> a[0, 0] = x\n",
      " |      >>> a.is_hermitian\n",
      " |      >>> a[0, 1] = a[1, 0]*I\n",
      " |      >>> a.is_hermitian\n",
      " |      False\n",
      " |  \n",
      " |  is_lower\n",
      " |      Check if matrix is a lower triangular matrix. True can be returned\n",
      " |      even if the matrix is not square.\n",
      " |      \n",
      " |      Examples\n",
      " |      ========\n",
      " |      \n",
      " |      >>> from sympy import Matrix\n",
      " |      >>> m = Matrix(2, 2, [1, 0, 0, 1])\n",
      " |      >>> m\n",
      " |      Matrix([\n",
      " |      [1, 0],\n",
      " |      [0, 1]])\n",
      " |      >>> m.is_lower\n",
      " |      True\n",
      " |      \n",
      " |      >>> m = Matrix(4, 3, [0, 0, 0, 2, 0, 0, 1, 4 , 0, 6, 6, 5])\n",
      " |      >>> m\n",
      " |      Matrix([\n",
      " |      [0, 0, 0],\n",
      " |      [2, 0, 0],\n",
      " |      [1, 4, 0],\n",
      " |      [6, 6, 5]])\n",
      " |      >>> m.is_lower\n",
      " |      True\n",
      " |      \n",
      " |      >>> from sympy.abc import x, y\n",
      " |      >>> m = Matrix(2, 2, [x**2 + y, y**2 + x, 0, x + y])\n",
      " |      >>> m\n",
      " |      Matrix([\n",
      " |      [x**2 + y, x + y**2],\n",
      " |      [       0,    x + y]])\n",
      " |      >>> m.is_lower\n",
      " |      False\n",
      " |      \n",
      " |      See Also\n",
      " |      ========\n",
      " |      \n",
      " |      is_upper\n",
      " |      is_diagonal\n",
      " |      is_lower_hessenberg\n",
      " |  \n",
      " |  is_lower_hessenberg\n",
      " |      Checks if the matrix is in the lower-Hessenberg form.\n",
      " |      \n",
      " |      The lower hessenberg matrix has zero entries\n",
      " |      above the first superdiagonal.\n",
      " |      \n",
      " |      Examples\n",
      " |      ========\n",
      " |      \n",
      " |      >>> from sympy.matrices import Matrix\n",
      " |      >>> a = Matrix([[1, 2, 0, 0], [5, 2, 3, 0], [3, 4, 3, 7], [5, 6, 1, 1]])\n",
      " |      >>> a\n",
      " |      Matrix([\n",
      " |      [1, 2, 0, 0],\n",
      " |      [5, 2, 3, 0],\n",
      " |      [3, 4, 3, 7],\n",
      " |      [5, 6, 1, 1]])\n",
      " |      >>> a.is_lower_hessenberg\n",
      " |      True\n",
      " |      \n",
      " |      See Also\n",
      " |      ========\n",
      " |      \n",
      " |      is_upper_hessenberg\n",
      " |      is_lower\n",
      " |  \n",
      " |  is_square\n",
      " |      Checks if a matrix is square.\n",
      " |      \n",
      " |      A matrix is square if the number of rows equals the number of columns.\n",
      " |      The empty matrix is square by definition, since the number of rows and\n",
      " |      the number of columns are both zero.\n",
      " |      \n",
      " |      Examples\n",
      " |      ========\n",
      " |      \n",
      " |      >>> from sympy import Matrix\n",
      " |      >>> a = Matrix([[1, 2, 3], [4, 5, 6]])\n",
      " |      >>> b = Matrix([[1, 2, 3], [4, 5, 6], [7, 8, 9]])\n",
      " |      >>> c = Matrix([])\n",
      " |      >>> a.is_square\n",
      " |      False\n",
      " |      >>> b.is_square\n",
      " |      True\n",
      " |      >>> c.is_square\n",
      " |      True\n",
      " |  \n",
      " |  is_upper\n",
      " |      Check if matrix is an upper triangular matrix. True can be returned\n",
      " |      even if the matrix is not square.\n",
      " |      \n",
      " |      Examples\n",
      " |      ========\n",
      " |      \n",
      " |      >>> from sympy import Matrix\n",
      " |      >>> m = Matrix(2, 2, [1, 0, 0, 1])\n",
      " |      >>> m\n",
      " |      Matrix([\n",
      " |      [1, 0],\n",
      " |      [0, 1]])\n",
      " |      >>> m.is_upper\n",
      " |      True\n",
      " |      \n",
      " |      >>> m = Matrix(4, 3, [5, 1, 9, 0, 4 , 6, 0, 0, 5, 0, 0, 0])\n",
      " |      >>> m\n",
      " |      Matrix([\n",
      " |      [5, 1, 9],\n",
      " |      [0, 4, 6],\n",
      " |      [0, 0, 5],\n",
      " |      [0, 0, 0]])\n",
      " |      >>> m.is_upper\n",
      " |      True\n",
      " |      \n",
      " |      >>> m = Matrix(2, 3, [4, 2, 5, 6, 1, 1])\n",
      " |      >>> m\n",
      " |      Matrix([\n",
      " |      [4, 2, 5],\n",
      " |      [6, 1, 1]])\n",
      " |      >>> m.is_upper\n",
      " |      False\n",
      " |      \n",
      " |      See Also\n",
      " |      ========\n",
      " |      \n",
      " |      is_lower\n",
      " |      is_diagonal\n",
      " |      is_upper_hessenberg\n",
      " |  \n",
      " |  is_upper_hessenberg\n",
      " |      Checks if the matrix is the upper-Hessenberg form.\n",
      " |      \n",
      " |      The upper hessenberg matrix has zero entries\n",
      " |      below the first subdiagonal.\n",
      " |      \n",
      " |      Examples\n",
      " |      ========\n",
      " |      \n",
      " |      >>> from sympy.matrices import Matrix\n",
      " |      >>> a = Matrix([[1, 4, 2, 3], [3, 4, 1, 7], [0, 2, 3, 4], [0, 0, 1, 3]])\n",
      " |      >>> a\n",
      " |      Matrix([\n",
      " |      [1, 4, 2, 3],\n",
      " |      [3, 4, 1, 7],\n",
      " |      [0, 2, 3, 4],\n",
      " |      [0, 0, 1, 3]])\n",
      " |      >>> a.is_upper_hessenberg\n",
      " |      True\n",
      " |      \n",
      " |      See Also\n",
      " |      ========\n",
      " |      \n",
      " |      is_lower_hessenberg\n",
      " |      is_upper\n",
      " |  \n",
      " |  is_zero\n",
      " |      Checks if a matrix is a zero matrix.\n",
      " |      \n",
      " |      A matrix is zero if every element is zero.  A matrix need not be square\n",
      " |      to be considered zero.  The empty matrix is zero by the principle of\n",
      " |      vacuous truth.  For a matrix that may or may not be zero (e.g.\n",
      " |      contains a symbol), this will be None\n",
      " |      \n",
      " |      Examples\n",
      " |      ========\n",
      " |      \n",
      " |      >>> from sympy import Matrix, zeros\n",
      " |      >>> from sympy.abc import x\n",
      " |      >>> a = Matrix([[0, 0], [0, 0]])\n",
      " |      >>> b = zeros(3, 4)\n",
      " |      >>> c = Matrix([[0, 1], [0, 0]])\n",
      " |      >>> d = Matrix([])\n",
      " |      >>> e = Matrix([[x, 0], [0, 0]])\n",
      " |      >>> a.is_zero\n",
      " |      True\n",
      " |      >>> b.is_zero\n",
      " |      True\n",
      " |      >>> c.is_zero\n",
      " |      False\n",
      " |      >>> d.is_zero\n",
      " |      True\n",
      " |      >>> e.is_zero\n",
      " |  \n",
      " |  shape\n",
      " |      The shape (dimensions) of the matrix as the 2-tuple (rows, cols).\n",
      " |      \n",
      " |      Examples\n",
      " |      ========\n",
      " |      \n",
      " |      >>> from sympy.matrices import zeros\n",
      " |      >>> M = zeros(2, 3)\n",
      " |      >>> M.shape\n",
      " |      (2, 3)\n",
      " |      >>> M.rows\n",
      " |      2\n",
      " |      >>> M.cols\n",
      " |      3\n",
      " |  \n",
      " |  ----------------------------------------------------------------------\n",
      " |  Data and other attributes inherited from sympy.matrices.matrices.MatrixBase:\n",
      " |  \n",
      " |  __array_priority__ = 11\n",
      " |  \n",
      " |  __hash__ = None\n",
      " |  \n",
      " |  is_Matrix = True\n",
      "\n"
     ]
    }
   ],
   "source": [
    "Matrix([[1, 2], [2, 2]]).eigenvals()\n",
    "help(Matrix)"
   ]
  },
  {
   "cell_type": "markdown",
   "metadata": {},
   "source": [
    "Rewrite the Bessel function $ J_v (z) $ in terms of the spherical Bessel function $ j_v (z) $."
   ]
  },
  {
   "cell_type": "code",
   "execution_count": 107,
   "metadata": {
    "collapsed": false
   },
   "outputs": [
    {
     "data": {
      "image/png": "[encoded data removed]",
      "text/latex": [
       "$$\\frac{\\sqrt{2} \\sqrt{z}}{\\sqrt{\\pi}} j_{\\nu - \\frac{1}{2}}\\left(z\\right)$$"
      ],
      "text/plain": [
       "  ___   ___               \n",
       "╲╱ 2 ⋅╲╱ z ⋅jn(ν - 1/2, z)\n",
       "──────────────────────────\n",
       "            ___           \n",
       "          ╲╱ π            "
      ]
     },
     "execution_count": 107,
     "metadata": {},
     "output_type": "execute_result"
    }
   ],
   "source": [
    "besselj(nu, z).rewrite(jn)"
   ]
  },
  {
   "cell_type": "markdown",
   "metadata": {},
   "source": [
    "Print $ \\int_0^\\pi cos^2(x)dx $ using $ \\LaTeX $."
   ]
  },
  {
   "cell_type": "code",
   "execution_count": 108,
   "metadata": {
    "collapsed": false
   },
   "outputs": [
    {
     "name": "stdout",
     "output_type": "stream",
     "text": [
      "\\int_{0}^{\\pi} \\cos^{2}{\\left (x \\right )}\\, dx\n"
     ]
    }
   ],
   "source": [
    "print latex(Integral(cos(x)**2, (x,0,pi)))"
   ]
  },
  {
   "cell_type": "markdown",
   "metadata": {},
   "source": [
    "### 2.4. Why SymPy?"
   ]
  },
  {
   "cell_type": "markdown",
   "metadata": {},
   "source": [
    "There are many computer algebra systems out there.What makes SymPy a better choice than the alternatives?\n",
    "\n",
    "First off, SymPy is completely free. It is open source, and licensed under the liberal BSD license, so you can modify the source code and even sell it if you want to. This contrasts with popular commercial systems like Maple or Mathematica that cost hundreds of dollars in licenses.\n",
    "\n",
    "Second, SymPy uses Python. Most computer algebra systems invent their own language. Not SymPy. SymPy is written entirely in Python, and is executed entirely in Python. This means that if you already know Python, it is much easier to get started with SymPy, because you already know the syntax (and if you don’t know Python, it is really easy to learn). We already know that Python is a well-designed, battle-tested language. The SymPy developers are confident in their abilities in writing mathematical software, but programming language design is a completely different thing. By reusing an existing language, we are able to focus on those things that matter: the mathematics.\n",
    "\n",
    "Another computer algebra system, Sage also uses Python as its language. But Sage is large, with a download of over a gigabyte. An advantage of SymPy is that it is lightweight. In addition to being relatively small, it has no dependencies other than Python, so it can be used almost anywhere easily. Furthermore, the goals of Sage and the goals of SymPy are different. Sage aims to be a full featured system for mathematics, and aims to do so by compiling all the major open source mathematical systems together into one. When you call some function in Sage, such as integrate, it calls out to one of the open source packages that it includes. In fact, SymPy is included in Sage. SymPy on the other hand aims to be an independent system, with all the features implemented in SymPy itself.\n",
    "\n",
    "A final important feature of SymPy is that it can be used as a library. Many computer algebra systems focus on being usable in interactive environments, but if you wish to automate or extend them, it is difficult to do. With SymPy, you can just as easily use it in an interactive Python environment or import it in your own Python application. SymPy also provides APIs to make it easy to extend it with your own custom functions."
   ]
  },
  {
   "cell_type": "markdown",
   "metadata": {},
   "source": [
    "## 3. Gotchas"
   ]
  },
  {
   "cell_type": "markdown",
   "metadata": {},
   "source": [
    "To begin, we should make something about SymPy clear. SymPy is nothing more than a Python library, like $ NumPy $, $ Django $, or even modules in the Python standard library $ sys $ or $ re $. What this means is that SymPy does not add anything to the Python language. Limitations that are inherent in the Python language are also inherent in SymPy. It also means that SymPy tries to use Python idioms whenever possible, making programming with SymPy easy for those already familiar with programming with Python. As a simple example, SymPy uses Python syntax to build expressions. Implicit multiplication (like $ 3x $ or $ 3\\ x $) is not allowed in Python, and thus not allowed in SymPy. To multiply $ 3 $ and $ x $, you must type $ 3*x $ with the $ * $."
   ]
  },
  {
   "cell_type": "markdown",
   "metadata": {},
   "source": [
    "### 3.1 Symbols"
   ]
  },
  {
   "cell_type": "markdown",
   "metadata": {},
   "source": [
    "One consequence of this fact is that SymPy can be used in any environment where Python is available. We just import it, like we would any other library: "
   ]
  },
  {
   "cell_type": "code",
   "execution_count": 109,
   "metadata": {
    "collapsed": false
   },
   "outputs": [],
   "source": [
    "from sympy import *"
   ]
  },
  {
   "cell_type": "markdown",
   "metadata": {},
   "source": [
    "This imports all the functions and classes from SymPy into our interactive Python session. Now, suppose we start to do a computation."
   ]
  },
  {
   "cell_type": "code",
   "execution_count": 20,
   "metadata": {
    "collapsed": false
   },
   "outputs": [
    {
     "data": {
      "text/plain": [
       "x + 1"
      ]
     },
     "execution_count": 20,
     "metadata": {},
     "output_type": "execute_result"
    }
   ],
   "source": [
    "# You have to define the x variable first. We already defined it above :D\n",
    "x + 1"
   ]
  },
  {
   "cell_type": "markdown",
   "metadata": {},
   "source": [
    "$ symbols $ takes a string of variable names separated by spaces or commas, and creates Symbols out of them. We can then assign these to variable names. Later, we will investigate some convenient ways we can work around this issue. For now, let us just define the most common variable names, $ x $, $ y $, and $ z $, for use through the rest of this section"
   ]
  },
  {
   "cell_type": "code",
   "execution_count": 111,
   "metadata": {
    "collapsed": false
   },
   "outputs": [],
   "source": [
    "x, y, z = symbols(\"x y z\")"
   ]
  },
  {
   "cell_type": "markdown",
   "metadata": {},
   "source": [
    "As a final note, we note that the name of a Symbol and the name of the variable it is assigned to need not have anything to do with one another."
   ]
  },
  {
   "cell_type": "code",
   "execution_count": 112,
   "metadata": {
    "collapsed": false
   },
   "outputs": [
    {
     "name": "stdout",
     "output_type": "stream",
     "text": [
      "b\n",
      "a\n"
     ]
    }
   ],
   "source": [
    "a, b = symbols(\"b a\")\n",
    "print a\n",
    "print b"
   ]
  },
  {
   "cell_type": "markdown",
   "metadata": {},
   "source": [
    "Here we have done the very confusing thing of assigning a Symbol with the name $ a $ to the variable $ b $, and a Symbol of the name $ b $ to the variable $ a $. Now the Python variable named $ a $ points to the SymPy Symbol named $ b $, and visa versa. How confusing. We could have also done something like"
   ]
  },
  {
   "cell_type": "code",
   "execution_count": 113,
   "metadata": {
    "collapsed": false
   },
   "outputs": [
    {
     "data": {
      "image/png": "[encoded data removed]",
      "text/latex": [
       "$$unrelated + 1$$"
      ],
      "text/plain": [
       "unrelated + 1"
      ]
     },
     "execution_count": 113,
     "metadata": {},
     "output_type": "execute_result"
    }
   ],
   "source": [
    "crazy = symbols(\"unrelated\")\n",
    "crazy + 1"
   ]
  },
  {
   "cell_type": "markdown",
   "metadata": {},
   "source": [
    "This also shows that Symbols can have names longer than one character if we want.\n",
    "\n",
    "Usually, the best practice is to assign Symbols to Python variables of the same name, although there are exceptions: Symbol names can contain characters that are not allowed in Python variable names, or may just want to avoid typing long names by assigning Symbols with long names to single letter Python variables.\n",
    "\n",
    "To avoid confusion, throughout this tutorial, Symbol names and Python variable names will always coincide. Furthermore, the word “Symbol” will refer to a SymPy Symbol and the word “variable” will refer to a Python variable.\n",
    "\n",
    "Finally, let us be sure we understand the difference between SymPy Symbols and Python variables. Consider the following:"
   ]
  },
  {
   "cell_type": "code",
   "execution_count": 114,
   "metadata": {
    "collapsed": false
   },
   "outputs": [],
   "source": [
    "x = symbols('x')\n",
    "expr = x + 1\n",
    "x = 2"
   ]
  },
  {
   "cell_type": "markdown",
   "metadata": {},
   "source": [
    "What do you think the output of this code will be? If you thought $ 3 $, you’re wrong. Let’s see what really happens"
   ]
  },
  {
   "cell_type": "code",
   "execution_count": 115,
   "metadata": {
    "collapsed": false
   },
   "outputs": [
    {
     "name": "stdout",
     "output_type": "stream",
     "text": [
      "x + 1\n"
     ]
    }
   ],
   "source": [
    "x = symbols('x')\n",
    "expr = x + 1\n",
    "x = 2\n",
    "print (expr)"
   ]
  },
  {
   "cell_type": "markdown",
   "metadata": {},
   "source": [
    "Changing $ x $ to $ 2 $ had no effect on expr. This is because $ x = 2 $ changes the Python variable $ x $ to $ 2 $, but has no effect on the SymPy Symbol $ x $, which was what we used in creating $ expr $. When we created $ expr $, the Python variable $ x $ was a Symbol. After we created, it, we changed the Python variable $ x $ to $ 2 $. But $ expr $ remains the same. This behavior is not unique to SymPy. All Python programs work this way: if a variable is changed, expressions that were already created with that variable do not change automatically. For example"
   ]
  },
  {
   "cell_type": "code",
   "execution_count": 26,
   "metadata": {
    "collapsed": false
   },
   "outputs": [
    {
     "name": "stdout",
     "output_type": "stream",
     "text": [
      "abcdef\n",
      "abcdef\n",
      "<class 'sympy.core.symbol.Symbol'>\n"
     ]
    }
   ],
   "source": [
    "from sympy import sympify\n",
    "x = \"abc\"\n",
    "expr = x + \"def\"\n",
    "print expr\n",
    "x = \"ABC\"\n",
    "print expr\n",
    "print type(sympify(expr))"
   ]
  },
  {
   "cell_type": "markdown",
   "metadata": {},
   "source": [
    "In this example, if we want to know what $ expr $ is with the new value of $ x $, we need to reevaluate the code that created $ expr $, namely, $ expr = x + 1 $. This can be complicated if several lines created $ expr $. One advantage of using a symbolic computation system like SymPy is that we can build a symbolic representation for $ expr $, and then substitute $ x $ with values. The correct way to do this in SymPy is to use $ subs $, which will be discussed in more detail later."
   ]
  },
  {
   "cell_type": "code",
   "execution_count": 37,
   "metadata": {
    "collapsed": false
   },
   "outputs": [
    {
     "name": "stdout",
     "output_type": "stream",
     "text": [
      "c + sin(x)/x\n"
     ]
    }
   ],
   "source": [
    "from sympy import sin, symbols\n",
    "x = symbols('x')\n",
    "expr = x + 1\n",
    "expr.subs(x, 2)\n",
    "y,t,c = symbols('y t c')\n",
    "expr = sin(x)/x + y*t + c\n",
    "print expr.subs({t: 0})"
   ]
  },
  {
   "cell_type": "markdown",
   "metadata": {},
   "source": [
    "### 3.2. Equals signs"
   ]
  },
  {
   "cell_type": "markdown",
   "metadata": {},
   "source": [
    "Another very important consequence of the fact that SymPy does not extend Python syntax is that $ = $ does not represent equality in SymPy. Rather it is Python variable assignment. This is hard-coded into the Python language, and SymPy makes no attempts to change that.\n",
    "\n",
    "You may think, however, that $ == $, which is used for equality testing in Python, is used for SymPy as equality. This is not quite correct either. Let us see what happens when we use $ == $."
   ]
  },
  {
   "cell_type": "code",
   "execution_count": 118,
   "metadata": {
    "collapsed": false
   },
   "outputs": [
    {
     "data": {
      "text/plain": [
       "False"
      ]
     },
     "execution_count": 118,
     "metadata": {},
     "output_type": "execute_result"
    }
   ],
   "source": [
    "x + 1 == 4"
   ]
  },
  {
   "cell_type": "markdown",
   "metadata": {},
   "source": [
    "Instead of treating $ x + 1 == 4 $ symbolically, we just got False. In SymPy, $ == $ represents exact structural equality testing. This means that $ a == b $ means that we are $ asking $ if $ a=b $. We always get a $ bool $ as the result of $ == $. There is a separate object, called $ Eq $, which can be used to create symbolic equalities"
   ]
  },
  {
   "cell_type": "code",
   "execution_count": 119,
   "metadata": {
    "collapsed": false
   },
   "outputs": [
    {
     "data": {
      "image/png": "[encoded data removed]",
      "text/latex": [
       "$$x + 1 = 4$$"
      ],
      "text/plain": [
       "x + 1 = 4"
      ]
     },
     "execution_count": 119,
     "metadata": {},
     "output_type": "execute_result"
    }
   ],
   "source": [
    "Eq(x + 1, 4)"
   ]
  },
  {
   "cell_type": "markdown",
   "metadata": {},
   "source": [
    "There is one additional caveat about $ == $ as well. Suppose we want to know if $ (x+1)^2=x2+2x+1 $. We might try something like this"
   ]
  },
  {
   "cell_type": "code",
   "execution_count": 40,
   "metadata": {
    "collapsed": false
   },
   "outputs": [
    {
     "name": "stdout",
     "output_type": "stream",
     "text": [
      "False\n",
      "True\n"
     ]
    }
   ],
   "source": [
    "(x + 1)**2 == x**2 + 2*x + 1\n",
    "expra = (x + 1)**2\n",
    "exprb = x**2 + 2*x + 1\n",
    "print expra == exprb\n",
    "print expra.equals(exprb)"
   ]
  },
  {
   "cell_type": "markdown",
   "metadata": {},
   "source": [
    "We got False again. However, $ (x+1)^2 $ $ does $ equal $ x^2+2x+1 $. What is going on here? Did we find a bug in SymPy, or is it just not powerful enough to recognize this basic algebraic fact?\n",
    "\n",
    "Recall from above that $ == $ represents exact structural equality testing. “Exact” here means that two expressions will compare equal with $ == $ only if they are exactly equal structurally. Here, $ (x+1)^2 $ and $ x^2+2x+1 $ are not the same symbolically. One is the power of an addition of two terms, and the other is the addition of three terms.\n",
    "\n",
    "It turns out that when using SymPy as a library, having $ == $ test for exact symbolic equality is far more useful than having it represent symbolic equality, or having it test for mathematical equality. However, as a new user, you will probably care more about the latter two. We have already seen an alternative to representing equalities symbolically, $ Eq $. To test if two things are equal, it is best to recall the basic fact that if $ a=b $, then $ a−b=0 $. Thus, the best way to check if $ a=b $ is to take $ a−b $ and simplify it, and see if it goes to 0. We will learn later that the function to do this is called simplify. This method is not infallible—in fact, it can be theoretically proven that it is impossible to determine if two symbolic expressions are identically equal in general—but for most common expressions, it works quite well."
   ]
  },
  {
   "cell_type": "code",
   "execution_count": 41,
   "metadata": {
    "collapsed": false
   },
   "outputs": [
    {
     "name": "stdout",
     "output_type": "stream",
     "text": [
      "-x**2 - 2*x + (x + 1)**2 - 1\n",
      "0\n",
      "-x**2 + 2*x + (x + 1)**2 - 1\n",
      "4*x\n"
     ]
    }
   ],
   "source": [
    "a = (x + 1)**2\n",
    "b = x**2 + 2*x + 1\n",
    "print a-b\n",
    "print simplify(a - b)\n",
    "c = x**2 - 2*x + 1\n",
    "print a-c\n",
    "print simplify(a - c)"
   ]
  },
  {
   "cell_type": "markdown",
   "metadata": {},
   "source": [
    "There is also a method called $ equals $ that tests if two expressions are equal by evaluating them numerically at random points."
   ]
  },
  {
   "cell_type": "code",
   "execution_count": 122,
   "metadata": {
    "collapsed": false
   },
   "outputs": [
    {
     "data": {
      "text/plain": [
       "True"
      ]
     },
     "execution_count": 122,
     "metadata": {},
     "output_type": "execute_result"
    }
   ],
   "source": [
    "a = cos(x)**2 - sin(x)**2\n",
    "b = cos(2*x)\n",
    "a.equals(b)"
   ]
  },
  {
   "cell_type": "markdown",
   "metadata": {},
   "source": [
    "### 3.3. Two Final Notes: ^ and /"
   ]
  },
  {
   "cell_type": "markdown",
   "metadata": {},
   "source": [
    "You may have noticed that we have been using $ ** $ for exponentiation instead of the standard ^. That’s because SymPy follows Python’s conventions. In Python, ^ represents logical exclusive or. SymPy follows this convention:"
   ]
  },
  {
   "cell_type": "code",
   "execution_count": 42,
   "metadata": {
    "collapsed": false
   },
   "outputs": [
    {
     "name": "stdout",
     "output_type": "stream",
     "text": [
      "True\n",
      "False\n",
      "Xor(x, y)\n"
     ]
    }
   ],
   "source": [
    "print True ^ False\n",
    "print True ^ True\n",
    "print x^y"
   ]
  },
  {
   "cell_type": "markdown",
   "metadata": {},
   "source": [
    "Finally, a small technical discussion on how SymPy works is in order. When you type something like $ x + 1 $, the SymPy Symbol $ x $ is added to the Python int $ 1 $. Python’s operator rules then allow SymPy to tell Python that SymPy objects know how to be added to Python ints, and so $ 1 $ is automatically converted to the SymPy Integer object.\n",
    "\n",
    "This sort of operator magic happens automatically behind the scenes, and you rarely need to even know that it is happening. However, there is one exception. Whenever you combine a SymPy object and a SymPy object, or a SymPy object and a Python object, you get a SymPy object, but whenever you combine two Python objects, SymPy never comes into play, and so you get a Python object."
   ]
  },
  {
   "cell_type": "code",
   "execution_count": 124,
   "metadata": {
    "collapsed": false
   },
   "outputs": [
    {
     "name": "stdout",
     "output_type": "stream",
     "text": [
      "<class 'sympy.core.numbers.Integer'>\n",
      "<type 'int'>\n"
     ]
    }
   ],
   "source": [
    "print type(Integer(1) + 1)\n",
    "print type(1 + 1)"
   ]
  },
  {
   "cell_type": "markdown",
   "metadata": {},
   "source": [
    "This is usually not a big deal. Python ints work much the same as SymPy Integers, but there is one important exception: division. In SymPy, the division of two Integers gives a Rational:"
   ]
  },
  {
   "cell_type": "code",
   "execution_count": 125,
   "metadata": {
    "collapsed": false
   },
   "outputs": [
    {
     "name": "stdout",
     "output_type": "stream",
     "text": [
      "1/3\n",
      "<class 'sympy.core.numbers.Rational'>\n"
     ]
    }
   ],
   "source": [
    "print Integer(1)/Integer(3)\n",
    "print type(Integer(1)/Integer(3))"
   ]
  },
  {
   "cell_type": "markdown",
   "metadata": {},
   "source": [
    "But in Python $ / $ represents either integer division or floating point division, depending on whether you are in Python 2 or Python 3, and depending on whether or not you have run $ from __future__ import division $:"
   ]
  },
  {
   "cell_type": "code",
   "execution_count": 45,
   "metadata": {
    "collapsed": false
   },
   "outputs": [
    {
     "name": "stdout",
     "output_type": "stream",
     "text": [
      "<type 'int'>\n"
     ]
    },
    {
     "data": {
      "text/plain": [
       "0.5"
      ]
     },
     "execution_count": 45,
     "metadata": {},
     "output_type": "execute_result"
    }
   ],
   "source": [
    "from __future__ import division\n",
    "1/2"
   ]
  },
  {
   "cell_type": "markdown",
   "metadata": {},
   "source": [
    "To avoid this, we can construct the rational object explicitly"
   ]
  },
  {
   "cell_type": "code",
   "execution_count": 47,
   "metadata": {
    "collapsed": false
   },
   "outputs": [
    {
     "name": "stdout",
     "output_type": "stream",
     "text": [
      "1/2\n"
     ]
    }
   ],
   "source": [
    "print Rational(1, 2)"
   ]
  },
  {
   "cell_type": "markdown",
   "metadata": {},
   "source": [
    "This problem also comes up whenever we have a larger symbolic expression with $ int $/$ int $ in it. For example:"
   ]
  },
  {
   "cell_type": "code",
   "execution_count": 128,
   "metadata": {
    "collapsed": false
   },
   "outputs": [
    {
     "data": {
      "image/png": "[encoded data removed]",
      "text/latex": [
       "$$x + 0.5$$"
      ],
      "text/plain": [
       "x + 0.5"
      ]
     },
     "execution_count": 128,
     "metadata": {},
     "output_type": "execute_result"
    }
   ],
   "source": [
    "x + 1/2"
   ]
  },
  {
   "cell_type": "markdown",
   "metadata": {},
   "source": [
    "This happens because Python first evaluates $ 1/2 $ into $ 0.5 $, and then that is cast into a SymPy type when it is added to $ x $. Again, we can get around this by explicitly creating a Rational:"
   ]
  },
  {
   "cell_type": "code",
   "execution_count": 49,
   "metadata": {
    "collapsed": false
   },
   "outputs": [
    {
     "data": {
      "image/png": "[encoded data removed]",
      "text/latex": [
       "$$x + \\frac{1}{2}$$"
      ],
      "text/plain": [
       "x + 1/2"
      ]
     },
     "execution_count": 49,
     "metadata": {},
     "output_type": "execute_result"
    }
   ],
   "source": [
    "x + Rational(1, 2)"
   ]
  },
  {
   "cell_type": "markdown",
   "metadata": {},
   "source": [
    "Read the documentation to see more tips about that."
   ]
  },
  {
   "cell_type": "markdown",
   "metadata": {},
   "source": [
    "## 4. Basic Operations"
   ]
  },
  {
   "cell_type": "markdown",
   "metadata": {},
   "source": [
    "Here we discuss some of the most basic operations needed for expression manipulation in SymPy. "
   ]
  },
  {
   "cell_type": "code",
   "execution_count": 130,
   "metadata": {
    "collapsed": false
   },
   "outputs": [],
   "source": [
    "from sympy import *\n",
    "x, y, z = symbols(\"x y z\")"
   ]
  },
  {
   "cell_type": "markdown",
   "metadata": {},
   "source": [
    "### 4.1. Substitution"
   ]
  },
  {
   "cell_type": "markdown",
   "metadata": {},
   "source": [
    "One of the most common things you might want to do with a mathematical expression is substitution. Substitution replaces all instances of something in an expression with something else. It is done using the $ subs $ method. For example"
   ]
  },
  {
   "cell_type": "code",
   "execution_count": 131,
   "metadata": {
    "collapsed": false
   },
   "outputs": [
    {
     "data": {
      "image/png": "[encoded data removed]",
      "text/latex": [
       "$$\\cos{\\left (y \\right )} + 1$$"
      ],
      "text/plain": [
       "cos(y) + 1"
      ]
     },
     "execution_count": 131,
     "metadata": {},
     "output_type": "execute_result"
    }
   ],
   "source": [
    "expr = cos(x) + 1\n",
    "expr.subs(x, y)"
   ]
  },
  {
   "cell_type": "markdown",
   "metadata": {},
   "source": [
    "Substitution is usually done for one of two reasons:\n",
    "\n",
    "1 -> Evaluating an expression at a point. For example, if our expression is $ cos(x) + 1 $ and we want to evaluate it at the point $ x = 0 $, so that we get $ cos(0) + 1 $, which is $ 2 $."
   ]
  },
  {
   "cell_type": "code",
   "execution_count": 132,
   "metadata": {
    "collapsed": false
   },
   "outputs": [
    {
     "data": {
      "image/png": "[encoded data removed]",
      "text/latex": [
       "$$2$$"
      ],
      "text/plain": [
       "2"
      ]
     },
     "execution_count": 132,
     "metadata": {},
     "output_type": "execute_result"
    }
   ],
   "source": [
    "expr.subs(x, 0)"
   ]
  },
  {
   "cell_type": "markdown",
   "metadata": {},
   "source": [
    "2 -> Replacing a subexpression with another subexpression. There are two reasons we might want to do this. The first is if we are trying to build an expression that has some symmetry, such as $ x^{x^{x^x}} $. To build this, we might start with $ x**y $, and replace $ y $ with $ x**y $. We would then get $ x**(x**y) $. If we replaced y in this new expression with  $ x**x $, we would get $ x**(x**(x**x)) $, the desired expression."
   ]
  },
  {
   "cell_type": "code",
   "execution_count": 133,
   "metadata": {
    "collapsed": false
   },
   "outputs": [
    {
     "name": "stdout",
     "output_type": "stream",
     "text": [
      "x**y\n",
      "x**(x**y)\n",
      "x**(x**(x**x))\n"
     ]
    }
   ],
   "source": [
    "expr = x**y\n",
    "print expr\n",
    "expr = expr.subs(y, x**y)\n",
    "print expr\n",
    "expr = expr.subs(y, x**x)\n",
    "print expr"
   ]
  },
  {
   "cell_type": "markdown",
   "metadata": {},
   "source": [
    "The second is if we want to perform a very controlled simplification, or perhaps a simplification that SymPy is otherwise unable to do. For example, say we have $ sin(2x)+cos(2x) $, and we want to replace $ sin(2x) $ with $ 2sin(x)cos(x) $. As we will learn later, the function expand_trig does this. However, this function will also expand $ cos(2x) $, which we may not want. While there are ways to perform such precise simplification."
   ]
  },
  {
   "cell_type": "code",
   "execution_count": 134,
   "metadata": {
    "collapsed": false
   },
   "outputs": [
    {
     "name": "stdout",
     "output_type": "stream",
     "text": [
      "2*sin(x)*cos(x) + 2*cos(x)**2 - 1\n",
      "2*sin(x)*cos(x) + cos(2*x)\n"
     ]
    }
   ],
   "source": [
    "expr = sin(2*x) + cos(2*x)\n",
    "print expand_trig(expr)\n",
    "print expr.subs(sin(2*x),2*sin(x)*cos(x))"
   ]
  },
  {
   "cell_type": "markdown",
   "metadata": {},
   "source": [
    "There are two important things to note about $ subs $. First, it returns a new expression. SymPy objects are immutable. That means that $ subs $ does not modify it in-place. For example"
   ]
  },
  {
   "cell_type": "code",
   "execution_count": 135,
   "metadata": {
    "collapsed": false
   },
   "outputs": [
    {
     "name": "stdout",
     "output_type": "stream",
     "text": [
      "1\n",
      "cos(x)\n",
      "x\n"
     ]
    }
   ],
   "source": [
    "expr = cos(x)\n",
    "print expr.subs(x, 0)\n",
    "print expr\n",
    "print x"
   ]
  },
  {
   "cell_type": "markdown",
   "metadata": {},
   "source": [
    "Here, we see that performing $ expr.subs(x, 0) $ leaves expr unchanged. In fact, since SymPy expressions are immutable, no function will change them in-place. All functions will return new expressions.\n",
    "\n",
    "To perform multiple substitutions at once, pass a list of $ (old, new) $ pairs to $ subs $."
   ]
  },
  {
   "cell_type": "code",
   "execution_count": 136,
   "metadata": {
    "collapsed": false
   },
   "outputs": [
    {
     "name": "stdout",
     "output_type": "stream",
     "text": [
      "40\n"
     ]
    }
   ],
   "source": [
    "expr = x**3 + 4*x*y - z\n",
    "print expr.subs([(x,2), (y,4), (z,0)])"
   ]
  },
  {
   "cell_type": "markdown",
   "metadata": {},
   "source": [
    "It is often useful to combine this with a list comprehension to do a large set of similar replacements all at once. For example, say we had $ x^4−4x^3+4x^2−2x+3 $ and we wanted to replace all instances of x that have an even power with y, to get $ y^4−4x^3+4y^2−2x+3 $."
   ]
  },
  {
   "cell_type": "code",
   "execution_count": 137,
   "metadata": {
    "collapsed": false
   },
   "outputs": [
    {
     "name": "stdout",
     "output_type": "stream",
     "text": [
      "[(1, 1), (x**2, y**2), (x**4, y**4)]\n"
     ]
    },
    {
     "data": {
      "image/png": "[encoded data removed]",
      "text/latex": [
       "$$- 4 x^{3} - 2 x + y^{4} + 4 y^{2} + 3$$"
      ],
      "text/plain": [
       "     3          4      2    \n",
       "- 4⋅x  - 2⋅x + y  + 4⋅y  + 3"
      ]
     },
     "execution_count": 137,
     "metadata": {},
     "output_type": "execute_result"
    }
   ],
   "source": [
    "expr = x**4 - 4*x**3 + 4*x**2 - 2*x + 3\n",
    "replacements = [(x**i, y**i) for i in range(5) if i % 2 == 0]\n",
    "print replacements\n",
    "expr.subs(replacements)"
   ]
  },
  {
   "cell_type": "markdown",
   "metadata": {},
   "source": [
    "### 4.2. Converting Strings to SymPy Expressions"
   ]
  },
  {
   "cell_type": "markdown",
   "metadata": {},
   "source": [
    "The $ sympify $ function (that’s $ sympify $, not to be confused with $ simplify $) can be used to convert strings into SymPy expressions.\n",
    "\n",
    "For example"
   ]
  },
  {
   "cell_type": "code",
   "execution_count": 138,
   "metadata": {
    "collapsed": false
   },
   "outputs": [
    {
     "name": "stdout",
     "output_type": "stream",
     "text": [
      "x**2 + 3*x - 1/2\n",
      "19/2\n"
     ]
    }
   ],
   "source": [
    "str_expr = \"x**2 + 3*x - 1/2\"\n",
    "expr = sympify(str_expr)\n",
    "print expr\n",
    "print expr.subs(x, 2)"
   ]
  },
  {
   "cell_type": "markdown",
   "metadata": {},
   "source": [
    "Warning: $ simpify $ uses $ eval $. Don't use it on unsanitized input."
   ]
  },
  {
   "cell_type": "markdown",
   "metadata": {},
   "source": [
    "### 4.3. evalf"
   ]
  },
  {
   "cell_type": "markdown",
   "metadata": {},
   "source": [
    "To evaluate a numerical expression into a floating point number, use $ evalf $."
   ]
  },
  {
   "cell_type": "code",
   "execution_count": 51,
   "metadata": {
    "collapsed": false
   },
   "outputs": [
    {
     "name": "stdout",
     "output_type": "stream",
     "text": [
      "2*sqrt(2)\n",
      "2.82842712474619\n"
     ]
    }
   ],
   "source": [
    "expr = sqrt(8)\n",
    "print expr\n",
    "print expr.evalf()"
   ]
  },
  {
   "cell_type": "markdown",
   "metadata": {},
   "source": [
    "SymPy can evaluate floating point expressions to arbitrary precision. By default, 15 digits of precision are used, but you can pass any number as the argument to $ evalf $. Let’s compute the first $ 100 $ digits of $ \\pi $."
   ]
  },
  {
   "cell_type": "code",
   "execution_count": 140,
   "metadata": {
    "collapsed": false
   },
   "outputs": [
    {
     "data": {
      "image/png": "[encoded data removed]",
      "text/latex": [
       "$$3.141592653589793238462643383279502884197169399375105820974944592307816406286208998628034825342117068$$"
      ],
      "text/plain": [
       "3.1415926535897932384626433832795028841971693993751058209749445923078164062862\n",
       "08998628034825342117068"
      ]
     },
     "execution_count": 140,
     "metadata": {},
     "output_type": "execute_result"
    }
   ],
   "source": [
    "pi.evalf(100)"
   ]
  },
  {
   "cell_type": "markdown",
   "metadata": {},
   "source": [
    "To numerically evaluate an expression with a Symbol at a point, we might use $ subs $ followed by $ evalf $, but it is more efficient and numerically stable to pass the substitution to $ evalf $ using the $ subs $ flag, which takes a dictionary of $ Symbol: point $ pairs."
   ]
  },
  {
   "cell_type": "code",
   "execution_count": 141,
   "metadata": {
    "collapsed": false
   },
   "outputs": [
    {
     "data": {
      "image/png": "[encoded data removed]",
      "text/latex": [
       "$$0.0874989834394464$$"
      ],
      "text/plain": [
       "0.0874989834394464"
      ]
     },
     "execution_count": 141,
     "metadata": {},
     "output_type": "execute_result"
    }
   ],
   "source": [
    "expr = cos(2*x)\n",
    "expr.evalf(subs={x: 2.4})"
   ]
  },
  {
   "cell_type": "markdown",
   "metadata": {},
   "source": [
    "Sometimes there are roundoff errors smaller than the desired precision that remain after an expression is evaluated. Such numbers can be removed at the user’s discretion by setting the $ chop $ flag to True."
   ]
  },
  {
   "cell_type": "code",
   "execution_count": 142,
   "metadata": {
    "collapsed": false
   },
   "outputs": [
    {
     "name": "stdout",
     "output_type": "stream",
     "text": [
      "-0.e-124\n",
      "0\n"
     ]
    }
   ],
   "source": [
    "one = cos(1)**2 + sin(1)**2\n",
    "print (one - 1).evalf()\n",
    "print (one - 1).evalf(chop=True)"
   ]
  },
  {
   "cell_type": "markdown",
   "metadata": {},
   "source": [
    "### 4.4. lambdify"
   ]
  },
  {
   "cell_type": "markdown",
   "metadata": {},
   "source": [
    "$ subs $ and $ evalf $ are good if you want to do simple evaluation, but if you intend to evaluate an expression at many points, there are more efficient ways. For example, if you wanted to evaluate an expression at a thousand points, using SymPy would be far slower than it needs to be, especially if you only care about machine precision. Instead, you should use libraries like NumPy and SciPy.\n",
    "\n",
    "The easiest way to convert a SymPy expression to an expression that can be numerically evaluated is to use the $ lambdify $ function. $ lambdify $ acts like a $ lambda $ function, except it converts the SymPy names to the names of the given numerical library, usually NumPy. For example"
   ]
  },
  {
   "cell_type": "code",
   "execution_count": 59,
   "metadata": {
    "collapsed": false
   },
   "outputs": [
    {
     "name": "stdout",
     "output_type": "stream",
     "text": [
      "[ 0.          0.84147098  0.90929743  0.14112001 -0.7568025  -0.95892427\n",
      " -0.2794155   0.6569866   0.98935825  0.41211849]\n",
      "[0 sin(1) sin(2) sin(3) sin(4) sin(5) sin(6) sin(7) sin(8) sin(9)]\n",
      "[0 0.841470984807897 0.909297426825682 0.141120008059867 -0.756802495307928\n",
      " -0.958924274663138 -0.279415498198926 0.656986598718789 0.989358246623382\n",
      " 0.412118485241757]\n"
     ]
    }
   ],
   "source": [
    "import numpy as np\n",
    "a = np.arange(10)\n",
    "expr = sin(x)\n",
    "f = lambdify(x, expr, \"numpy\")\n",
    "print f(a)\n",
    "g = lambdify(x, expr, \"sympy\")\n",
    "print np.vectorize(g)(a)\n",
    "vect = np.vectorize(g)(a)\n",
    "eval_f = lambda expr: expr.evalf()\n",
    "print np.array(map(eval_f, vect))"
   ]
  },
  {
   "cell_type": "markdown",
   "metadata": {},
   "source": [
    "You can use other libraries than NumPy. For example, to use the standard library math module, use $ \"math\" $."
   ]
  },
  {
   "cell_type": "code",
   "execution_count": 144,
   "metadata": {
    "collapsed": false
   },
   "outputs": [
    {
     "data": {
      "image/png": "[encoded data removed]",
      "text/latex": [
       "$$0.0998334166468$$"
      ],
      "text/plain": [
       "0.0998334166468"
      ]
     },
     "execution_count": 144,
     "metadata": {},
     "output_type": "execute_result"
    }
   ],
   "source": [
    "f = lambdify(x, expr, \"math\")\n",
    "f(0.1)\n",
    "#f(a) -> Error\n",
    "#np.vectorize(f)(a) -> Good"
   ]
  },
  {
   "cell_type": "markdown",
   "metadata": {},
   "source": [
    "To use lambdify with numerical libraries that it does not know about, pass a dictionary o sympy_name:numerical_function pairs. For example"
   ]
  },
  {
   "cell_type": "code",
   "execution_count": 145,
   "metadata": {
    "collapsed": false
   },
   "outputs": [
    {
     "data": {
      "image/png": "[encoded data removed]",
      "text/latex": [
       "$$0.1$$"
      ],
      "text/plain": [
       "0.1"
      ]
     },
     "execution_count": 145,
     "metadata": {},
     "output_type": "execute_result"
    }
   ],
   "source": [
    "def mysin(x):\n",
    "    \"\"\"\n",
    "    My sin. Not only accurate for small x.\n",
    "    \"\"\"\n",
    "    return x\n",
    "\n",
    "f = lambdify(x, expr, {\"sin\": mysin})\n",
    "f(0.1)"
   ]
  },
  {
   "cell_type": "markdown",
   "metadata": {},
   "source": [
    "## 5. Printing"
   ]
  },
  {
   "cell_type": "markdown",
   "metadata": {},
   "source": [
    "As we have already seen, SymPy can pretty print its output using Unicode characters. This is a short introduction to the most common printing options available in SymPy."
   ]
  },
  {
   "cell_type": "markdown",
   "metadata": {},
   "source": [
    "### 5.1. Printers"
   ]
  },
  {
   "cell_type": "markdown",
   "metadata": {},
   "source": [
    "There are several printers available in SymPy. The most common ones are\n",
    "\n",
    "* str\n",
    "* repr\n",
    "* ASCII pretty printer\n",
    "* Unicode pretty printer\n",
    "* LaTeX\n",
    "* MathML\n",
    "* Dot\n",
    "\n",
    "In addition to these, there are also “printers” that can output SymPy objects to code, such as C, Fortran, Javascript, Theano, and Python. These are not discussed in this tutorial."
   ]
  },
  {
   "cell_type": "markdown",
   "metadata": {},
   "source": [
    "### 5.2. Setting up Pretty Printing"
   ]
  },
  {
   "cell_type": "markdown",
   "metadata": {},
   "source": [
    "### 5.3. Printing Functions"
   ]
  },
  {
   "cell_type": "markdown",
   "metadata": {},
   "source": [
    "In addition to automatic printing, you can explicitly use any one of the printers by calling the appropriate function."
   ]
  },
  {
   "cell_type": "markdown",
   "metadata": {},
   "source": [
    "#### str"
   ]
  },
  {
   "cell_type": "markdown",
   "metadata": {},
   "source": [
    "To get a string form of an expression, use str(expr). This is also the form that is produced by print(expr). String forms are designed to be easy to read, but in a form that is correct Python syntax so that it can be copied and pasted. The str() form of an expression will usually look exactly the same as the expression as you would enter it."
   ]
  },
  {
   "cell_type": "code",
   "execution_count": 146,
   "metadata": {
    "collapsed": false
   },
   "outputs": [
    {
     "data": {
      "text/plain": [
       "'Integral(sqrt(1/x), x)'"
      ]
     },
     "execution_count": 146,
     "metadata": {},
     "output_type": "execute_result"
    }
   ],
   "source": [
    "from sympy import *\n",
    "x, y, z = symbols('x y z')\n",
    "str(Integral(sqrt(1/x), x))"
   ]
  },
  {
   "cell_type": "code",
   "execution_count": 147,
   "metadata": {
    "collapsed": false
   },
   "outputs": [
    {
     "name": "stdout",
     "output_type": "stream",
     "text": [
      "Integral(sqrt(1/x), x)\n"
     ]
    }
   ],
   "source": [
    "print str(Integral(sqrt(1/x), x))"
   ]
  },
  {
   "cell_type": "code",
   "execution_count": 148,
   "metadata": {
    "collapsed": true
   },
   "outputs": [],
   "source": [
    "#### repr"
   ]
  },
  {
   "cell_type": "markdown",
   "metadata": {},
   "source": [
    "The repr form of an expression is designed to show the exact form of an expression. To get it, use $ srepr() $."
   ]
  },
  {
   "cell_type": "code",
   "execution_count": 149,
   "metadata": {
    "collapsed": false
   },
   "outputs": [
    {
     "data": {
      "text/plain": [
       "\"Integral(Pow(Pow(Symbol('x'), Integer(-1)), Rational(1, 2)), Tuple(Symbol('x')))\""
      ]
     },
     "execution_count": 149,
     "metadata": {},
     "output_type": "execute_result"
    }
   ],
   "source": [
    "srepr(Integral(sqrt(1/x), x))"
   ]
  },
  {
   "cell_type": "markdown",
   "metadata": {},
   "source": [
    "The repr form is mostly useful for understanding how an expression is built internally."
   ]
  },
  {
   "cell_type": "markdown",
   "metadata": {},
   "source": [
    "#### ASCII Pretty Printer"
   ]
  },
  {
   "cell_type": "markdown",
   "metadata": {},
   "source": [
    "The ASCII pretty printer is accessed from $ pprint() $. If the terminal does not support Unicode, the ASCII printer is used by default. Otherwise, you must pass $ use_unicode=False $."
   ]
  },
  {
   "cell_type": "code",
   "execution_count": 150,
   "metadata": {
    "collapsed": false
   },
   "outputs": [
    {
     "name": "stdout",
     "output_type": "stream",
     "text": [
      "  /          \n",
      " |           \n",
      " |     ___   \n",
      " |    / 1    \n",
      " |   /  -  dx\n",
      " | \\/   x    \n",
      " |           \n",
      "/            \n"
     ]
    }
   ],
   "source": [
    "pprint(Integral(sqrt(1/x), x), use_unicode=False)"
   ]
  },
  {
   "cell_type": "markdown",
   "metadata": {},
   "source": [
    "$ pprint() $ prints the output to the screen. If you want the string form, use $ pretty() $."
   ]
  },
  {
   "cell_type": "code",
   "execution_count": 151,
   "metadata": {
    "collapsed": false
   },
   "outputs": [
    {
     "data": {
      "text/plain": [
       "'  /          \\n |           \\n |     ___   \\n |    / 1    \\n |   /  -  dx\\n | \\\\/   x    \\n |           \\n/            '"
      ]
     },
     "execution_count": 151,
     "metadata": {},
     "output_type": "execute_result"
    }
   ],
   "source": [
    "pretty(Integral(sqrt(1/x), x), use_unicode=False)"
   ]
  },
  {
   "cell_type": "code",
   "execution_count": 152,
   "metadata": {
    "collapsed": false
   },
   "outputs": [
    {
     "name": "stdout",
     "output_type": "stream",
     "text": [
      "  /          \n",
      " |           \n",
      " |     ___   \n",
      " |    / 1    \n",
      " |   /  -  dx\n",
      " | \\/   x    \n",
      " |           \n",
      "/            \n"
     ]
    }
   ],
   "source": [
    "print pretty(Integral(sqrt(1/x), x), use_unicode=False)"
   ]
  },
  {
   "cell_type": "markdown",
   "metadata": {},
   "source": [
    "#### Unicode Pretty Printer"
   ]
  },
  {
   "cell_type": "markdown",
   "metadata": {},
   "source": [
    "The Unicode pretty printer is also accessed from $ pprint() $ and $ pretty() $. It the terminal supports Unicode, it is used automatically. If $ pprint() $ is not able to detect that the terminal supports unicode, you can pass $ use_unicode=True $ to force it to use Unicode."
   ]
  },
  {
   "cell_type": "code",
   "execution_count": 153,
   "metadata": {
    "collapsed": false
   },
   "outputs": [
    {
     "name": "stdout",
     "output_type": "stream",
     "text": [
      "⌠           \n",
      "⎮     ___   \n",
      "⎮    ╱ 1    \n",
      "⎮   ╱  ─  dx\n",
      "⎮ ╲╱   x    \n",
      "⌡           \n"
     ]
    }
   ],
   "source": [
    "pprint(Integral(sqrt(1/x), x), use_unicode=True)"
   ]
  },
  {
   "cell_type": "markdown",
   "metadata": {},
   "source": [
    "#### $ \\LaTeX $"
   ]
  },
  {
   "cell_type": "markdown",
   "metadata": {},
   "source": [
    "To get the $ \\LaTeX $ form of an expression, use $ latex() $."
   ]
  },
  {
   "cell_type": "code",
   "execution_count": 154,
   "metadata": {
    "collapsed": false
   },
   "outputs": [
    {
     "name": "stdout",
     "output_type": "stream",
     "text": [
      "\\int \\sqrt{\\frac{1}{x}}\\, dx\n"
     ]
    }
   ],
   "source": [
    "print latex(Integral(sqrt(1/x), x))"
   ]
  },
  {
   "cell_type": "markdown",
   "metadata": {},
   "source": [
    "The $ latex() $ function has many options to change the formatting of different things."
   ]
  },
  {
   "cell_type": "markdown",
   "metadata": {},
   "source": [
    "#### MathML"
   ]
  },
  {
   "cell_type": "markdown",
   "metadata": {},
   "source": [
    "There is also a printer to MathML, called $ print_mathml() $. It must be imported from $ sympy.printing.mathml $."
   ]
  },
  {
   "cell_type": "code",
   "execution_count": 155,
   "metadata": {
    "collapsed": true
   },
   "outputs": [],
   "source": [
    "from sympy.printing.mathml import print_mathml"
   ]
  },
  {
   "cell_type": "code",
   "execution_count": 156,
   "metadata": {
    "collapsed": false
   },
   "outputs": [
    {
     "name": "stdout",
     "output_type": "stream",
     "text": [
      "<apply>\n",
      "\t<int/>\n",
      "\t<bvar>\n",
      "\t\t<ci>x</ci>\n",
      "\t</bvar>\n",
      "\t<apply>\n",
      "\t\t<root/>\n",
      "\t\t<apply>\n",
      "\t\t\t<power/>\n",
      "\t\t\t<ci>x</ci>\n",
      "\t\t\t<cn>-1</cn>\n",
      "\t\t</apply>\n",
      "\t</apply>\n",
      "</apply>\n",
      "\n"
     ]
    }
   ],
   "source": [
    "print_mathml(Integral(sqrt(1/x), x))"
   ]
  },
  {
   "cell_type": "markdown",
   "metadata": {},
   "source": [
    "$ print_mathml() $ prints the output. If you want the string, use the function $ mathml() $."
   ]
  },
  {
   "cell_type": "markdown",
   "metadata": {},
   "source": [
    "#### Dot"
   ]
  },
  {
   "cell_type": "markdown",
   "metadata": {},
   "source": [
    "The $ dotprint() $ function in $ sympy.printing.dot $ prints output to dot format, which can be rendered with Graphviz."
   ]
  },
  {
   "cell_type": "markdown",
   "metadata": {},
   "source": [
    "## 6. Simplification"
   ]
  },
  {
   "cell_type": "markdown",
   "metadata": {},
   "source": [
    "See the documentation -> http://docs.sympy.org/dev/tutorial/simplification.html"
   ]
  },
  {
   "cell_type": "markdown",
   "metadata": {},
   "source": [
    "## 7. Calculus"
   ]
  },
  {
   "cell_type": "markdown",
   "metadata": {},
   "source": [
    "This section covers how to do basic calculus tasks such as derivatives, integrals, limits, and series expansions in SymPy. If you are not familiar with the math of any part of this section, you may safely skip it."
   ]
  },
  {
   "cell_type": "markdown",
   "metadata": {},
   "source": [
    "### 7.1. Derivatives"
   ]
  },
  {
   "cell_type": "markdown",
   "metadata": {},
   "source": [
    "To take derivatives, use the diff function."
   ]
  },
  {
   "cell_type": "code",
   "execution_count": 157,
   "metadata": {
    "collapsed": false
   },
   "outputs": [
    {
     "data": {
      "image/png": "[encoded data removed]",
      "text/latex": [
       "$$- \\sin{\\left (x \\right )}$$"
      ],
      "text/plain": [
       "-sin(x)"
      ]
     },
     "execution_count": 157,
     "metadata": {},
     "output_type": "execute_result"
    }
   ],
   "source": [
    "diff(cos(x) ,x)"
   ]
  },
  {
   "cell_type": "code",
   "execution_count": 158,
   "metadata": {
    "collapsed": false
   },
   "outputs": [
    {
     "data": {
      "image/png": "[encoded data removed]",
      "text/latex": [
       "$$2 x e^{x^{2}}$$"
      ],
      "text/plain": [
       "     ⎛ 2⎞\n",
       "     ⎝x ⎠\n",
       "2⋅x⋅ℯ    "
      ]
     },
     "execution_count": 158,
     "metadata": {},
     "output_type": "execute_result"
    }
   ],
   "source": [
    "diff(exp(x**2), x)"
   ]
  },
  {
   "cell_type": "markdown",
   "metadata": {},
   "source": [
    "$ diff $ can take multiple derivatives at once. To take multiple derivatives, pass the variable as many times as you wish to differentiate, or pass a number after the variable. For example, both of the following find the third derivative of $ x^4 $."
   ]
  },
  {
   "cell_type": "code",
   "execution_count": 159,
   "metadata": {
    "collapsed": false
   },
   "outputs": [
    {
     "data": {
      "image/png": "[encoded data removed]",
      "text/latex": [
       "$$24 x$$"
      ],
      "text/plain": [
       "24⋅x"
      ]
     },
     "execution_count": 159,
     "metadata": {},
     "output_type": "execute_result"
    }
   ],
   "source": [
    "diff(x**4, x, x, x)"
   ]
  },
  {
   "cell_type": "code",
   "execution_count": 160,
   "metadata": {
    "collapsed": false
   },
   "outputs": [
    {
     "data": {
      "image/png": "[encoded data removed]",
      "text/latex": [
       "$$24 x$$"
      ],
      "text/plain": [
       "24⋅x"
      ]
     },
     "execution_count": 160,
     "metadata": {},
     "output_type": "execute_result"
    }
   ],
   "source": [
    "diff(x**4, x, 3)"
   ]
  },
  {
   "cell_type": "markdown",
   "metadata": {},
   "source": [
    "You can also take derivatives with respect to many variables at once. Just pass each derivative in order, using the same syntax as for single variable derivatives. For example, each of the following will compute $ \\frac{\\partial^{7}}{\\partial x\\partial y^{2}\\partial z^{4}}  e^{x y z} $"
   ]
  },
  {
   "cell_type": "code",
   "execution_count": 161,
   "metadata": {
    "collapsed": false
   },
   "outputs": [
    {
     "data": {
      "image/png": "[encoded data removed]",
      "text/latex": [
       "$$x^{3} y^{2} \\left(x^{3} y^{3} z^{3} + 14 x^{2} y^{2} z^{2} + 52 x y z + 48\\right) e^{x y z}$$"
      ],
      "text/plain": [
       " 3  2 ⎛ 3  3  3       2  2  2                ⎞  x⋅y⋅z\n",
       "x ⋅y ⋅⎝x ⋅y ⋅z  + 14⋅x ⋅y ⋅z  + 52⋅x⋅y⋅z + 48⎠⋅ℯ     "
      ]
     },
     "execution_count": 161,
     "metadata": {},
     "output_type": "execute_result"
    }
   ],
   "source": [
    "expr = exp(x*y*z)\n",
    "diff(expr, x, y, y, z, z, z, z)"
   ]
  },
  {
   "cell_type": "code",
   "execution_count": 162,
   "metadata": {
    "collapsed": false
   },
   "outputs": [
    {
     "data": {
      "image/png": "[encoded data removed]",
      "text/latex": [
       "$$x^{3} y^{2} \\left(x^{3} y^{3} z^{3} + 14 x^{2} y^{2} z^{2} + 52 x y z + 48\\right) e^{x y z}$$"
      ],
      "text/plain": [
       " 3  2 ⎛ 3  3  3       2  2  2                ⎞  x⋅y⋅z\n",
       "x ⋅y ⋅⎝x ⋅y ⋅z  + 14⋅x ⋅y ⋅z  + 52⋅x⋅y⋅z + 48⎠⋅ℯ     "
      ]
     },
     "execution_count": 162,
     "metadata": {},
     "output_type": "execute_result"
    }
   ],
   "source": [
    "diff(expr, x, y, 2, z, 4)"
   ]
  },
  {
   "cell_type": "code",
   "execution_count": 163,
   "metadata": {
    "collapsed": false
   },
   "outputs": [
    {
     "data": {
      "image/png": "[encoded data removed]",
      "text/latex": [
       "$$x^{3} y^{2} \\left(x^{3} y^{3} z^{3} + 14 x^{2} y^{2} z^{2} + 52 x y z + 48\\right) e^{x y z}$$"
      ],
      "text/plain": [
       " 3  2 ⎛ 3  3  3       2  2  2                ⎞  x⋅y⋅z\n",
       "x ⋅y ⋅⎝x ⋅y ⋅z  + 14⋅x ⋅y ⋅z  + 52⋅x⋅y⋅z + 48⎠⋅ℯ     "
      ]
     },
     "execution_count": 163,
     "metadata": {},
     "output_type": "execute_result"
    }
   ],
   "source": [
    "diff(expr, x, y, y, z, 4)"
   ]
  },
  {
   "cell_type": "markdown",
   "metadata": {},
   "source": [
    "$ diff $ can also be called as a method. The two ways of calling $ diff $ are exactly the same, and are provided only for convenience."
   ]
  },
  {
   "cell_type": "code",
   "execution_count": 64,
   "metadata": {
    "collapsed": false
   },
   "outputs": [
    {
     "ename": "NameError",
     "evalue": "name 'z' is not defined",
     "output_type": "error",
     "traceback": [
      "\u001b[0;31m---------------------------------------------------------------------------\u001b[0m",
      "\u001b[0;31mNameError\u001b[0m                                 Traceback (most recent call last)",
      "\u001b[0;32m<ipython-input-64-65a482849009>\u001b[0m in \u001b[0;36m<module>\u001b[0;34m()\u001b[0m\n\u001b[0;32m----> 1\u001b[0;31m \u001b[0mexpr\u001b[0m\u001b[0;34m.\u001b[0m\u001b[0mdiff\u001b[0m\u001b[0;34m(\u001b[0m\u001b[0mx\u001b[0m\u001b[0;34m,\u001b[0m \u001b[0my\u001b[0m\u001b[0;34m,\u001b[0m \u001b[0my\u001b[0m\u001b[0;34m,\u001b[0m \u001b[0mz\u001b[0m\u001b[0;34m,\u001b[0m \u001b[0;36m4\u001b[0m\u001b[0;34m)\u001b[0m\u001b[0;34m\u001b[0m\u001b[0m\n\u001b[0m",
      "\u001b[0;31mNameError\u001b[0m: name 'z' is not defined"
     ]
    }
   ],
   "source": [
    "expr.diff(x, y, y, z, 4)"
   ]
  },
  {
   "cell_type": "markdown",
   "metadata": {},
   "source": [
    "To create an unevaluated derivative, use the $ Derivative $ class. It has the same syntax as $ diff $."
   ]
  },
  {
   "cell_type": "code",
   "execution_count": 69,
   "metadata": {
    "collapsed": false
   },
   "outputs": [],
   "source": [
    "x, y, z = symbols('x y z')\n",
    "expr = Function('f')\n",
    "deriv = Derivative(expr, x, y, y, z, 4)"
   ]
  },
  {
   "cell_type": "markdown",
   "metadata": {},
   "source": [
    "To evaluate an unevaluated derivative, use the $ doit $ method."
   ]
  },
  {
   "cell_type": "code",
   "execution_count": 166,
   "metadata": {
    "collapsed": false
   },
   "outputs": [
    {
     "data": {
      "image/png": "[encoded data removed]",
      "text/latex": [
       "$$x^{3} y^{2} \\left(x^{3} y^{3} z^{3} + 14 x^{2} y^{2} z^{2} + 52 x y z + 48\\right) e^{x y z}$$"
      ],
      "text/plain": [
       " 3  2 ⎛ 3  3  3       2  2  2                ⎞  x⋅y⋅z\n",
       "x ⋅y ⋅⎝x ⋅y ⋅z  + 14⋅x ⋅y ⋅z  + 52⋅x⋅y⋅z + 48⎠⋅ℯ     "
      ]
     },
     "execution_count": 166,
     "metadata": {},
     "output_type": "execute_result"
    }
   ],
   "source": [
    "deriv.doit()"
   ]
  },
  {
   "cell_type": "markdown",
   "metadata": {},
   "source": [
    "These unevaluated objects are useful for delaying the evaluation of the derivative, or for printing purposes."
   ]
  },
  {
   "cell_type": "markdown",
   "metadata": {},
   "source": [
    "### 7.2. Integrals"
   ]
  },
  {
   "cell_type": "markdown",
   "metadata": {},
   "source": [
    "To compute an integral, use the $ integrate $ function. There are two kinds of integrals, definite and indefinite. To compute an indefinite integral, that is, an antiderivative, or primitive, just pass the variable after the expression."
   ]
  },
  {
   "cell_type": "code",
   "execution_count": 167,
   "metadata": {
    "collapsed": false
   },
   "outputs": [
    {
     "data": {
      "image/png": "[encoded data removed]",
      "text/latex": [
       "$$\\sin{\\left (x \\right )}$$"
      ],
      "text/plain": [
       "sin(x)"
      ]
     },
     "execution_count": 167,
     "metadata": {},
     "output_type": "execute_result"
    }
   ],
   "source": [
    "integrate(cos(x), x)"
   ]
  },
  {
   "cell_type": "markdown",
   "metadata": {},
   "source": [
    "Note that SymPy does not include the constant of integration. If you want it, you can add one yourself, or rephrase your problem as a differential equation and use dsolve to solve it.\n",
    "\n",
    "To compute a definite integral, pass the argument ($ integration_variable $, $ lower_limit $, $ upper_limit $). For example, to compute"
   ]
  },
  {
   "cell_type": "markdown",
   "metadata": {},
   "source": [
    "$ \\int_{0}^{\\infty} e^{- x}\\, dx $"
   ]
  },
  {
   "cell_type": "markdown",
   "metadata": {},
   "source": [
    "we would do"
   ]
  },
  {
   "cell_type": "code",
   "execution_count": 168,
   "metadata": {
    "collapsed": false
   },
   "outputs": [
    {
     "data": {
      "image/png": "[encoded data removed]",
      "text/latex": [
       "$$1$$"
      ],
      "text/plain": [
       "1"
      ]
     },
     "execution_count": 168,
     "metadata": {},
     "output_type": "execute_result"
    }
   ],
   "source": [
    "integrate(exp(-x), (x, 0, oo))"
   ]
  },
  {
   "cell_type": "markdown",
   "metadata": {},
   "source": [
    "As with indefinite integrals, you can pass multiple limit tuples to perform a multiple integral. For example, to compute"
   ]
  },
  {
   "cell_type": "markdown",
   "metadata": {},
   "source": [
    "$ \\int_{-\\infty}^{\\infty}\\int_{-\\infty}^{\\infty} e^{- x^{2} - y^{2}}\\, dx\\, dy $"
   ]
  },
  {
   "cell_type": "markdown",
   "metadata": {},
   "source": [
    "do"
   ]
  },
  {
   "cell_type": "code",
   "execution_count": 169,
   "metadata": {
    "collapsed": false
   },
   "outputs": [
    {
     "data": {
      "image/png": "[encoded data removed]",
      "text/latex": [
       "$$\\pi$$"
      ],
      "text/plain": [
       "π"
      ]
     },
     "execution_count": 169,
     "metadata": {},
     "output_type": "execute_result"
    }
   ],
   "source": [
    "integrate(exp(-x**2 - y**2), (x, -oo, oo), (y, -oo, oo))"
   ]
  },
  {
   "cell_type": "markdown",
   "metadata": {},
   "source": [
    "If $ integrate $ is unable to compute an integral, it returns an unevaluated $ Integral $ object."
   ]
  },
  {
   "cell_type": "code",
   "execution_count": 170,
   "metadata": {
    "collapsed": false
   },
   "outputs": [
    {
     "name": "stdout",
     "output_type": "stream",
     "text": [
      "Integral(x**x, x)\n"
     ]
    }
   ],
   "source": [
    "expr = integrate(x**x, x)\n",
    "print expr"
   ]
  },
  {
   "cell_type": "markdown",
   "metadata": {},
   "source": [
    "As with $ Derivative $, you can create an unevaluated integral using $ Integral $. To later evaluate this integral, call $ doit $."
   ]
  },
  {
   "cell_type": "code",
   "execution_count": 72,
   "metadata": {
    "collapsed": false
   },
   "outputs": [
    {
     "data": {
      "image/png": "[encoded data removed]",
      "text/latex": [
       "$$\\int \\log^{2}{\\left (x \\right )}\\, dx$$"
      ],
      "text/plain": [
       "⌠           \n",
       "⎮    2      \n",
       "⎮ log (x) dx\n",
       "⌡           "
      ]
     },
     "execution_count": 72,
     "metadata": {},
     "output_type": "execute_result"
    }
   ],
   "source": [
    "expr = Integral(log(x)**2, x)\n",
    "expr"
   ]
  },
  {
   "cell_type": "code",
   "execution_count": 73,
   "metadata": {
    "collapsed": false
   },
   "outputs": [
    {
     "data": {
      "image/png": "[encoded data removed]",
      "text/latex": [
       "$$x \\log^{2}{\\left (x \\right )} - 2 x \\log{\\left (x \\right )} + 2 x$$"
      ],
      "text/plain": [
       "     2                      \n",
       "x⋅log (x) - 2⋅x⋅log(x) + 2⋅x"
      ]
     },
     "execution_count": 73,
     "metadata": {},
     "output_type": "execute_result"
    }
   ],
   "source": [
    "expr.doit()"
   ]
  },
  {
   "cell_type": "markdown",
   "metadata": {},
   "source": [
    "$ integrate $ uses powerful algorithms that are always improving to compute both definite and indefinite integrals, including heuristic pattern matching type algorithms, a partial implementation of the Risch algorithm, and an algorithm using Meijer G-functions that is useful for computing integrals in terms of special functions, especially definite integrals. Here is a sampling of some of the power of $ integrate $."
   ]
  },
  {
   "cell_type": "code",
   "execution_count": 173,
   "metadata": {
    "collapsed": false
   },
   "outputs": [
    {
     "data": {
      "image/png": "[encoded data removed]",
      "text/latex": [
       "$$\\int \\frac{\\left(x^{4} + x^{2} e^{x} - x^{2} - 2 x e^{x} - 2 x - e^{x}\\right) e^{x}}{\\left(x - 1\\right)^{2} \\left(x + 1\\right)^{2} \\left(e^{x} + 1\\right)}\\, dx$$"
      ],
      "text/plain": [
       "⌠                                            \n",
       "⎮ ⎛ 4    2  x    2        x          x⎞  x   \n",
       "⎮ ⎝x  + x ⋅ℯ  - x  - 2⋅x⋅ℯ  - 2⋅x - ℯ ⎠⋅ℯ    \n",
       "⎮ ──────────────────────────────────────── dx\n",
       "⎮               2        2 ⎛ x    ⎞          \n",
       "⎮        (x - 1) ⋅(x + 1) ⋅⎝ℯ  + 1⎠          \n",
       "⌡                                            "
      ]
     },
     "execution_count": 173,
     "metadata": {},
     "output_type": "execute_result"
    }
   ],
   "source": [
    "integ = Integral((x**4 + x**2*exp(x) - x**2 - 2*x*exp(x) - 2*x - exp(x))*exp(x)/((x - 1)**2*(x + 1)**2*(exp(x) + 1)), x)\n",
    "integ"
   ]
  },
  {
   "cell_type": "code",
   "execution_count": 174,
   "metadata": {
    "collapsed": false
   },
   "outputs": [
    {
     "data": {
      "image/png": "[encoded data removed]",
      "text/latex": [
       "$$\\log{\\left (e^{x} + 1 \\right )} + \\frac{e^{x}}{x^{2} - 1}$$"
      ],
      "text/plain": [
       "                 x  \n",
       "   ⎛ x    ⎞     ℯ   \n",
       "log⎝ℯ  + 1⎠ + ──────\n",
       "               2    \n",
       "              x  - 1"
      ]
     },
     "execution_count": 174,
     "metadata": {},
     "output_type": "execute_result"
    }
   ],
   "source": [
    "integ.doit()"
   ]
  },
  {
   "cell_type": "code",
   "execution_count": 175,
   "metadata": {
    "collapsed": false
   },
   "outputs": [
    {
     "data": {
      "image/png": "[encoded data removed]",
      "text/latex": [
       "$$\\int \\sin{\\left (x^{2} \\right )}\\, dx$$"
      ],
      "text/plain": [
       "⌠           \n",
       "⎮    ⎛ 2⎞   \n",
       "⎮ sin⎝x ⎠ dx\n",
       "⌡           "
      ]
     },
     "execution_count": 175,
     "metadata": {},
     "output_type": "execute_result"
    }
   ],
   "source": [
    "integ = Integral(sin(x**2), x)\n",
    "integ"
   ]
  },
  {
   "cell_type": "code",
   "execution_count": 176,
   "metadata": {
    "collapsed": false
   },
   "outputs": [
    {
     "data": {
      "image/png": "[encoded data removed]",
      "text/latex": [
       "$$\\frac{3 \\sqrt{2} \\sqrt{\\pi} S\\left(\\frac{\\sqrt{2} x}{\\sqrt{\\pi}}\\right)}{8 \\Gamma{\\left(\\frac{7}{4} \\right)}} \\Gamma{\\left(\\frac{3}{4} \\right)}$$"
      ],
      "text/plain": [
       "                      ⎛  ___  ⎞       \n",
       "    ___   ___         ⎜╲╱ 2 ⋅x⎟       \n",
       "3⋅╲╱ 2 ⋅╲╱ π ⋅fresnels⎜───────⎟⋅Γ(3/4)\n",
       "                      ⎜   ___ ⎟       \n",
       "                      ⎝ ╲╱ π  ⎠       \n",
       "──────────────────────────────────────\n",
       "               8⋅Γ(7/4)               "
      ]
     },
     "execution_count": 176,
     "metadata": {},
     "output_type": "execute_result"
    }
   ],
   "source": [
    "integ.doit()"
   ]
  },
  {
   "cell_type": "code",
   "execution_count": 177,
   "metadata": {
    "collapsed": false
   },
   "outputs": [
    {
     "data": {
      "image/png": "[encoded data removed]",
      "text/latex": [
       "$$\\int_{0}^{\\infty} x^{y} e^{- x}\\, dx$$"
      ],
      "text/plain": [
       "∞          \n",
       "⌠          \n",
       "⎮  y  -x   \n",
       "⎮ x ⋅ℯ   dx\n",
       "⌡          \n",
       "0          "
      ]
     },
     "execution_count": 177,
     "metadata": {},
     "output_type": "execute_result"
    }
   ],
   "source": [
    "integ = Integral(x**y*exp(-x), (x, 0, oo))\n",
    "integ"
   ]
  },
  {
   "cell_type": "code",
   "execution_count": 178,
   "metadata": {
    "collapsed": false
   },
   "outputs": [
    {
     "data": {
      "image/png": "[encoded data removed]",
      "text/latex": [
       "$$\\begin{cases} \\Gamma{\\left(y + 1 \\right)} & \\text{for}\\: - \\Re{y} < 1 \\\\\\int_{0}^{\\infty} x^{y} e^{- x}\\, dx & \\text{otherwise} \\end{cases}$$"
      ],
      "text/plain": [
       "⎧ Γ(y + 1)    for -re(y) < 1\n",
       "⎪                           \n",
       "⎪∞                          \n",
       "⎪⌠                          \n",
       "⎨⎮  y  -x                   \n",
       "⎪⎮ x ⋅ℯ   dx    otherwise   \n",
       "⎪⌡                          \n",
       "⎪0                          \n",
       "⎩                           "
      ]
     },
     "execution_count": 178,
     "metadata": {},
     "output_type": "execute_result"
    }
   ],
   "source": [
    "integ.doit()"
   ]
  },
  {
   "cell_type": "markdown",
   "metadata": {},
   "source": [
    "This last example returned a $ Piecewise $ expression because the integral does not converge unless ℜ(y)>1."
   ]
  },
  {
   "cell_type": "markdown",
   "metadata": {},
   "source": [
    "### 7.3. Limits"
   ]
  },
  {
   "cell_type": "markdown",
   "metadata": {},
   "source": [
    "SymPy can compute symbolic limits with the $ limit $ function. The syntax to compute"
   ]
  },
  {
   "cell_type": "markdown",
   "metadata": {},
   "source": [
    "$ \\lim_{x \\to 0^+}\\left(\\frac{1}{x} \\sin{\\left (x \\right )}\\right) $"
   ]
  },
  {
   "cell_type": "code",
   "execution_count": 179,
   "metadata": {
    "collapsed": false
   },
   "outputs": [
    {
     "data": {
      "image/png": "[encoded data removed]",
      "text/latex": [
       "$$1$$"
      ],
      "text/plain": [
       "1"
      ]
     },
     "execution_count": 179,
     "metadata": {},
     "output_type": "execute_result"
    }
   ],
   "source": [
    "limit(sin(x)/x, x, 0)"
   ]
  },
  {
   "cell_type": "markdown",
   "metadata": {},
   "source": [
    "$ limit $ should be used instead of $ subs $ whenever the point of evaluation is a singularity. Even though SymPy has objects to represent $ \\infty $, using them for evaluation is not reliable because they do not keep track of things like rate of growth. Also, things like $ \\infty - \\infty$ and $ \\frac{\\infty}{\\infty} $ return nan (not-a-number). For example"
   ]
  },
  {
   "cell_type": "code",
   "execution_count": 180,
   "metadata": {
    "collapsed": false
   },
   "outputs": [
    {
     "data": {
      "image/png": "[encoded data removed]",
      "text/latex": [
       "$$\\mathrm{NaN}$$"
      ],
      "text/plain": [
       "nan"
      ]
     },
     "execution_count": 180,
     "metadata": {},
     "output_type": "execute_result"
    }
   ],
   "source": [
    "expr = x**2/exp(x)\n",
    "expr.subs(x, oo)"
   ]
  },
  {
   "cell_type": "code",
   "execution_count": 181,
   "metadata": {
    "collapsed": false
   },
   "outputs": [
    {
     "data": {
      "image/png": "[encoded data removed]",
      "text/latex": [
       "$$0$$"
      ],
      "text/plain": [
       "0"
      ]
     },
     "execution_count": 181,
     "metadata": {},
     "output_type": "execute_result"
    }
   ],
   "source": [
    "limit(expr, x, oo)"
   ]
  },
  {
   "cell_type": "markdown",
   "metadata": {},
   "source": [
    "Like $ Derivative $ and $ Integral $, $ limit $ has an unevaluated counterpart, $ Limit $. To evaluate it, use $ doit $."
   ]
  },
  {
   "cell_type": "code",
   "execution_count": 182,
   "metadata": {
    "collapsed": false
   },
   "outputs": [
    {
     "data": {
      "image/png": "[encoded data removed]",
      "text/latex": [
       "$$\\lim_{x \\to 0^+}\\left(\\frac{1}{x} \\left(\\cos{\\left (x \\right )} - 1\\right)\\right)$$"
      ],
      "text/plain": [
       "     cos(x) - 1\n",
       " lim ──────────\n",
       "x─→0⁺    x     "
      ]
     },
     "execution_count": 182,
     "metadata": {},
     "output_type": "execute_result"
    }
   ],
   "source": [
    "expr = Limit((cos(x) - 1)/x, x, 0)\n",
    "expr"
   ]
  },
  {
   "cell_type": "code",
   "execution_count": 183,
   "metadata": {
    "collapsed": false
   },
   "outputs": [
    {
     "data": {
      "image/png": "[encoded data removed]",
      "text/latex": [
       "$$0$$"
      ],
      "text/plain": [
       "0"
      ]
     },
     "execution_count": 183,
     "metadata": {},
     "output_type": "execute_result"
    }
   ],
   "source": [
    "expr.doit()"
   ]
  },
  {
   "cell_type": "markdown",
   "metadata": {},
   "source": [
    "To evaluate a limit at one side only, pass '+' or '-' as a third argument to $ limit $. For example, to compute"
   ]
  },
  {
   "cell_type": "markdown",
   "metadata": {},
   "source": [
    "$ \\lim_{x \\to 0^+} \\frac{1}{x} $"
   ]
  },
  {
   "cell_type": "markdown",
   "metadata": {},
   "source": [
    "do"
   ]
  },
  {
   "cell_type": "code",
   "execution_count": 184,
   "metadata": {
    "collapsed": false
   },
   "outputs": [
    {
     "data": {
      "image/png": "[encoded data removed]",
      "text/latex": [
       "$$\\infty$$"
      ],
      "text/plain": [
       "∞"
      ]
     },
     "execution_count": 184,
     "metadata": {},
     "output_type": "execute_result"
    }
   ],
   "source": [
    "limit(1/x, x, 0, '+')"
   ]
  },
  {
   "cell_type": "markdown",
   "metadata": {},
   "source": [
    "As opposed to"
   ]
  },
  {
   "cell_type": "code",
   "execution_count": 185,
   "metadata": {
    "collapsed": false
   },
   "outputs": [
    {
     "data": {
      "image/png": "[encoded data removed]",
      "text/latex": [
       "$$-\\infty$$"
      ],
      "text/plain": [
       "-∞"
      ]
     },
     "execution_count": 185,
     "metadata": {},
     "output_type": "execute_result"
    }
   ],
   "source": [
    "limit(1/x, x, 0, '-')"
   ]
  },
  {
   "cell_type": "markdown",
   "metadata": {},
   "source": [
    "### 7.4. Series Expansion"
   ]
  },
  {
   "cell_type": "markdown",
   "metadata": {},
   "source": [
    "SymPy can compute asymptotic series expansions of functions around a point. To compute the expansion of f(x) around the point $ x = x0 $ terms of order xn, use $ f(x).series(x, x0, n) $. $ x0 $ and n can be omitted, in which case the defaults $ x0=0 $ and $ n=6 $ will be used."
   ]
  },
  {
   "cell_type": "code",
   "execution_count": 186,
   "metadata": {
    "collapsed": false
   },
   "outputs": [
    {
     "data": {
      "image/png": "[encoded data removed]",
      "text/latex": [
       "$$1 + x + \\frac{x^{2}}{2} + \\mathcal{O}\\left(x^{4}\\right)$$"
      ],
      "text/plain": [
       "         2        \n",
       "        x     ⎛ 4⎞\n",
       "1 + x + ── + O⎝x ⎠\n",
       "        2         "
      ]
     },
     "execution_count": 186,
     "metadata": {},
     "output_type": "execute_result"
    }
   ],
   "source": [
    "expr = exp(sin(x))\n",
    "expr.series(x, 0, 4)"
   ]
  },
  {
   "cell_type": "markdown",
   "metadata": {},
   "source": [
    "The $ \\mathcal{O}\\left(x^{4}\\right) $ term at the end represents the Landau order term at $ x=0 $ (not to be confused with big O notation used in computer science, which generally represents the Landau order term at $ x= \\infty $). It means that all x terms with power greater than or equal to $ x^4 $ are omitted. Order terms can be created and manipulated outside of $ series $. They automatically absorb higher order terms."
   ]
  },
  {
   "cell_type": "code",
   "execution_count": 187,
   "metadata": {
    "collapsed": false
   },
   "outputs": [
    {
     "data": {
      "image/png": "[encoded data removed]",
      "text/latex": [
       "$$x + x^{3} + \\mathcal{O}\\left(x^{4}\\right)$$"
      ],
      "text/plain": [
       "     3    ⎛ 4⎞\n",
       "x + x  + O⎝x ⎠"
      ]
     },
     "execution_count": 187,
     "metadata": {},
     "output_type": "execute_result"
    }
   ],
   "source": [
    "x + x**3 + x**6 + O(x**4)"
   ]
  },
  {
   "cell_type": "markdown",
   "metadata": {},
   "source": [
    "If you do not want the order term, use the $ removeO $ method."
   ]
  },
  {
   "cell_type": "code",
   "execution_count": 188,
   "metadata": {
    "collapsed": false
   },
   "outputs": [
    {
     "data": {
      "image/png": "[encoded data removed]",
      "text/latex": [
       "$$\\frac{x^{2}}{2} + x + 1$$"
      ],
      "text/plain": [
       " 2        \n",
       "x         \n",
       "── + x + 1\n",
       "2         "
      ]
     },
     "execution_count": 188,
     "metadata": {},
     "output_type": "execute_result"
    }
   ],
   "source": [
    "expr.series(x, 0, 4).removeO()"
   ]
  },
  {
   "cell_type": "markdown",
   "metadata": {},
   "source": [
    "The $ O $ notation supports arbitrary limit points (other than 0):"
   ]
  },
  {
   "cell_type": "code",
   "execution_count": 193,
   "metadata": {
    "collapsed": false
   },
   "outputs": [
    {
     "data": {
      "image/png": "[encoded data removed]",
      "text/latex": [
       "$$-5 + \\frac{1}{2} \\left(x - 6\\right)^{2} + \\frac{1}{6} \\left(x - 6\\right)^{3} + \\frac{1}{24} \\left(x - 6\\right)^{4} + \\frac{1}{120} \\left(x - 6\\right)^{5} + x + \\mathcal{O}\\left(\\left(x - 6\\right)^{6}; x\\rightarrow6\\right)$$"
      ],
      "text/plain": [
       "            2          3          4          5                         \n",
       "     (x - 6)    (x - 6)    (x - 6)    (x - 6)         ⎛       6       ⎞\n",
       "-5 + ──────── + ──────── + ──────── + ──────── + x + O⎝(x - 6) ; x → 6⎠\n",
       "        2          6          24        120                            "
      ]
     },
     "execution_count": 193,
     "metadata": {},
     "output_type": "execute_result"
    }
   ],
   "source": [
    "exp(x - 6).series(x, x0=6)"
   ]
  },
  {
   "cell_type": "markdown",
   "metadata": {},
   "source": [
    "### 7.5. Finite differences"
   ]
  },
  {
   "cell_type": "markdown",
   "metadata": {},
   "source": [
    "So far we have looked at expressions with analytical derivatives and primitive functions respectively. But what if we want to have an expression to estimate a derivative of a curve for which we lack a closed form representation, or for which we don’t know the functional values for yet. One approach would be to use a finite difference approach.\n",
    "\n",
    "You can use the $ as\\_finite\\_diff $ method of on any $ Derivative $ instance to generate approximations to derivatives of arbitrary order:"
   ]
  },
  {
   "cell_type": "code",
   "execution_count": 205,
   "metadata": {
    "collapsed": false
   },
   "outputs": [
    {
     "data": {
      "image/png": "[encoded data removed]",
      "text/latex": [
       "$$- f{\\left (x - \\frac{1}{2} \\right )} + f{\\left (x + \\frac{1}{2} \\right )}$$"
      ],
      "text/plain": [
       "-f(x - 1/2) + f(x + 1/2)"
      ]
     },
     "execution_count": 205,
     "metadata": {},
     "output_type": "execute_result"
    }
   ],
   "source": [
    "f = Function('f')\n",
    "dfdx = f(x).diff(x)\n",
    "as_finite_diff(dfdx)"
   ]
  },
  {
   "cell_type": "markdown",
   "metadata": {},
   "source": [
    "here the first order derivative was approximated around x using a minimum number of points (2 for 1st order derivative) evaluated equidistantly using a step-size of 1. We can use arbitrary steps (possibly containing symbolic expressions):"
   ]
  },
  {
   "cell_type": "code",
   "execution_count": 200,
   "metadata": {
    "collapsed": false
   },
   "outputs": [
    {
     "data": {
      "image/png": "[encoded data removed]",
      "text/latex": [
       "$$\\frac{1}{5 h^{2}} f{\\left (- 3 h \\right )} - \\frac{1}{3 h^{2}} f{\\left (- h \\right )} + \\frac{2}{15 h^{2}} f{\\left (2 h \\right )}$$"
      ],
      "text/plain": [
       "f(-3⋅h)   f(-h)   2⋅f(2⋅h)\n",
       "─────── - ───── + ────────\n",
       "     2        2        2  \n",
       "  5⋅h      3⋅h     15⋅h   "
      ]
     },
     "execution_count": 200,
     "metadata": {},
     "output_type": "execute_result"
    }
   ],
   "source": [
    "f = Function('f')\n",
    "d2fdx2 = f(x).diff(x, 2)\n",
    "h = Symbol('h')\n",
    "as_finite_diff(d2fdx2, [-3*h, -h, 2*h])"
   ]
  },
  {
   "cell_type": "markdown",
   "metadata": {},
   "source": [
    "If you are just interested in evaluating the weights, you can do so manually:"
   ]
  },
  {
   "cell_type": "code",
   "execution_count": 203,
   "metadata": {
    "collapsed": false
   },
   "outputs": [
    {
     "data": {
      "image/png": "[encoded data removed]",
      "text/latex": [
       "$$\\left [ \\frac{1}{5}, \\quad - \\frac{1}{3}, \\quad \\frac{2}{15}\\right ]$$"
      ],
      "text/plain": [
       "[1/5, -1/3, 2/15]"
      ]
     },
     "execution_count": 203,
     "metadata": {},
     "output_type": "execute_result"
    }
   ],
   "source": [
    "finite_diff_weights(2, [-3, -1, 2], 0)[-1][-1]"
   ]
  },
  {
   "cell_type": "markdown",
   "metadata": {},
   "source": [
    "note that we only need the last element in the last sublist returned from finite_diff_weights. The reason for this is that finite_diff_weights also generates weights for lower derivatives and using fewer points (see the documentation of $ finite\\_diff\\_weights $ for more details).\n",
    "\n",
    "if using $ finite\\_diff\\_weights $ directly looks complicated and the $ as\\_finite\\_diff $ function operating on $ Derivative $ instances is not flexible enough, you can use $ apply\\_finite\\_diff $ which takes order, $ x\\_list $, $ y\\_list $ and x0 as parameters:"
   ]
  },
  {
   "cell_type": "code",
   "execution_count": 204,
   "metadata": {
    "collapsed": false
   },
   "outputs": [
    {
     "data": {
      "image/png": "[encoded data removed]",
      "text/latex": [
       "$$- \\frac{3 a}{20} - \\frac{b}{4} + \\frac{2 c}{5}$$"
      ],
      "text/plain": [
       "  3⋅a   b   2⋅c\n",
       "- ─── - ─ + ───\n",
       "   20   4    5 "
      ]
     },
     "execution_count": 204,
     "metadata": {},
     "output_type": "execute_result"
    }
   ],
   "source": [
    "x_list = [-3, 1, 2]\n",
    "y_list = symbols('a b c')\n",
    "apply_finite_diff(1, x_list, y_list, 0)"
   ]
  },
  {
   "cell_type": "markdown",
   "metadata": {},
   "source": [
    "## 8. Solvers"
   ]
  },
  {
   "cell_type": "markdown",
   "metadata": {},
   "source": [
    "See the documentation -> http://docs.sympy.org/dev/tutorial/solvers.html"
   ]
  },
  {
   "cell_type": "markdown",
   "metadata": {},
   "source": [
    "## 9. Matrices"
   ]
  },
  {
   "cell_type": "markdown",
   "metadata": {},
   "source": [
    "See the documentation -> http://docs.sympy.org/dev/tutorial/matrices.html"
   ]
  }
 ],
 "metadata": {
  "kernelspec": {
   "display_name": "Python 3",
   "language": "python",
   "name": "python3"
  },
  "language_info": {
   "codemirror_mode": {
    "name": "ipython",
    "version": 3
   },
   "file_extension": ".py",
   "mimetype": "text/x-python",
   "name": "python",
   "nbconvert_exporter": "python",
   "pygments_lexer": "ipython3",
   "version": "3.4.3"
  }
 },
 "nbformat": 4,
 "nbformat_minor": 0
}
