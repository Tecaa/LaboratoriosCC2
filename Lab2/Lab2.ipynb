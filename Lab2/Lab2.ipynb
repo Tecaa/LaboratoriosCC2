{
 "cells": [
  {
   "cell_type": "markdown",
   "metadata": {},
   "source": [
    "<center>\n",
    "    <h1> ILI-286 - Laboratorio #2 </h1>\n",
    "    <h2> Integración numérica aplicada </h2>\n",
    "</center>\n",
    "\n",
    "\n",
    "| Nombre | Rol | Email |\n",
    "| :----- | :-- | :---- |\n",
    "| Marco Rojas | 201073005-0 | marco.rojaso@alumnos.usm.cl |\n",
    "| Hernán Vargas | 201073009-3 | hernan.vargas@alumnos.usm.cl |"
   ]
  },
  {
   "cell_type": "markdown",
   "metadata": {},
   "source": [
    "## Tabla de contenidos\n",
    "* [Introducción](#intro)\n",
    "* [Desarrollo y analisís de resultados:](#desarrollo)\n",
    "  1. [Integración Impropia](#se1)\n",
    "  2. [The Caputo's Fractional Derivative](#se2)\n",
    "* [Concluciones](#Concluciones)\n",
    "* [Referencias](#Referencias)\n",
    "* [Anexos](#Anexos) $\\leftarrow$ Comenzar ejeciución aquí\n",
    "  * [Implementación de algoritmos de integración](#an1)\n",
    "  * [Implementación de la derivada fraccionaria](#an2)"
   ]
  },
  {
   "cell_type": "markdown",
   "metadata": {},
   "source": [
    "<div id='intro' />\n",
    "## Introducción\n"
   ]
  },
  {
   "cell_type": "markdown",
   "metadata": {},
   "source": [
    "<div id='desarrollo'/>\n",
    "## Desarrollo y analisís de resultados"
   ]
  },
  {
   "cell_type": "markdown",
   "metadata": {},
   "source": [
    "<div id='se1'/>\n",
    "## 1.- Integración Impropia"
   ]
  },
  {
   "cell_type": "markdown",
   "metadata": {},
   "source": [
    "<div id='de1'/>\n",
    "### 1.1) Cambio de variable propuesto\n",
    "Si se quiere llevar la variable $t$ desde el intervalo de integración $[-\\infty,x]$ a el $[a,b]$ se hace un cambio de \n",
    "variable utilizando la nueva variable $u$ definida por\n",
    "\\begin{align}\n",
    "    u = -\\displaystyle \\frac{b-a}{t-x-1} + a \\quad &\\Rightarrow t = \\displaystyle \\frac{b + a \\, x + u (1+x)} {a-u} \\\\\n",
    "    &\\Rightarrow dt = \\displaystyle \\frac{b-a}{(u-a)^2} du\n",
    "\\end{align}\n",
    "\n",
    "Obtenemos el cambio de variables dependiente de $a$, $b$ y $x$. Graficamente:"
   ]
  },
  {
   "cell_type": "code",
   "execution_count": null,
   "metadata": {
    "collapsed": false
   },
   "outputs": [],
   "source": [
    "#La siguiente función grafica el cambio de variables para a,b y x dados.\n",
    "#Pruebe otros valores:\n",
    "plot_sust1_abx(a=-1, b=1, x=3)"
   ]
  },
  {
   "cell_type": "markdown",
   "metadata": {},
   "source": [
    "Aplicando la transformación a la integral dada tenemos:\n",
    "$$ f(x) = \\int_{-\\infty}^x \\displaystyle \\frac {1}{\\sqrt{2 \\pi}} \\, e^{-  \\frac{t^2}{2}} \\, dt $$\n",
    "\n",
    "$$ f(x) = \\int_{a}^b \\displaystyle \\frac {1}{\\sqrt{2 \\pi}} \\, e^{-  \\frac{{(-b-a\\,x + u(1+x)})^2}{2(u-a)^2}} \\, \\frac{b-a}{(u-a)^2} du $$\n",
    "Como podemos ver, ahora la integral depende de $a$, $b$ y $x$. \n",
    "Definamos estas funciones para su posterior utilización:"
   ]
  },
  {
   "cell_type": "code",
   "execution_count": null,
   "metadata": {
    "collapsed": false
   },
   "outputs": [],
   "source": [
    "#Integrales:\n",
    "int_orig = lambda t: (np.e**((-t**2)/2))/ np.sqrt(2*np.pi)\n",
    "def get_int_abx(a, b, x):\n",
    "    return lambda u: (np.e**(-(( (-b-a*x + u*(1+x)) / (u-a)  )**2 )/2)  * ((b-a)/(u-a)**2)  )/ np.sqrt(2*np.pi)"
   ]
  },
  {
   "cell_type": "markdown",
   "metadata": {},
   "source": [
    "<div id='de2'/>\n",
    "### 1.2) Complejidad algoritmica de los métodos  de integración\n",
    "La implementación de los mismos puede analizarse en el [primer anexo](#an1).\n",
    "Para cada una de las siguiente complejidades se asume una cantidad de intervalos $n$ y un costo de \n",
    "evaluación de la función de $o(f)$"
   ]
  },
  {
   "cell_type": "markdown",
   "metadata": {},
   "source": [
    "##### 1.2.1) Midpoint Rule\n",
    " * Linspace: $1$ resta, $1$ división y $(n+1)$ multiplicaciones.\n",
    " * Diferencial: $1$ resta.\n",
    " * Puntos medios: $n$ multiplicaciones.\n",
    " * Evaluación: $n$ evaluaciones de la función.\n",
    " * Suma final: $n$ sumas y $1$ multiplicación.\n",
    " * **Total:** $1 + 1 + (n+1) + 1 + n + no(f) + n + 1 = 5 + 3n + no(f) = O(3n + no(f))$ "
   ]
  },
  {
   "cell_type": "markdown",
   "metadata": {},
   "source": [
    "##### 1.2.2) Trapezoid Method\n",
    " * Linspace + diferencial: $n + 4$ operaciones.\n",
    " * Calculo de la integral: $(n+1)$ evaluaciones de la función, $(n-1)$ multiplicaciones, $n+1$ \n",
    " sumas y $2$ multiplicaciones.\n",
    " * **Total:** $n + 4 + (n+1)o(f) + (n-1) + (n+1) + 2 = 6 + 3n + (n+1)o(f) = O(3n + (n+1)o(f))$"
   ]
  },
  {
   "cell_type": "markdown",
   "metadata": {},
   "source": [
    "##### 1.2.3) Simpson's Rule\n",
    " * Linspace + Diferencial:  $n+4$ operaciones.\n",
    " * Calculo de la integral: \n",
    "     * (n/2) evaluaciones en cada lado (derecha, centro y izquierda): 3(n/2) evaluaciones de $f$.\n",
    "     * (n/2) multiplicaciones (del centro).\n",
    "     * (n/2) multiplicaciones y una divición.\n",
    "     * (n/2) sumas.\n",
    " * **Total:** $n+4 + \\frac{3n}{2}o(f) +\\frac{n}{2} + \\frac{n}{2} +1 + \\frac{n}{2} \n",
    " = 5 + \\frac{5n}{2} + \\frac{3n}{2}o(f) = O(\\frac{5n}{2} + \\frac{3n}{2}o(f))$"
   ]
  },
  {
   "cell_type": "markdown",
   "metadata": {},
   "source": [
    "##### 1.2.4) Gaussian Quadrature\n",
    " * Calculo de la integral: $n$ evaluaciones $n$ multiplicaciones y $n$ sumas: $no(f) + 2n$\n",
    " * La complejidad de la función que encuentra los puntos y sus pesos está determinada por el\n",
    " uso de `numpy.linalg.eigh` para una matriz de $n\\times n$. Según la documentación[[1]](#ref1) \n",
    " `eigh` utiliza las rutinas *LAPACK* `_syevd` y `_heevd` por lo que su complejidad debe ser \n",
    " $O(n^3)$[[2]](#ref2).\n",
    " * **Total:** $2n + no(f) + n^3 = O(no(f) + n^3)$"
   ]
  },
  {
   "cell_type": "markdown",
   "metadata": {},
   "source": [
    "<div id='de3'/>\n",
    "### 1.3) Análisis de los métodos de integración\n",
    "Para poder comparar los diferentes metodos de integración es necesario primero obtener la data:"
   ]
  },
  {
   "cell_type": "code",
   "execution_count": null,
   "metadata": {
    "collapsed": false,
    "scrolled": true
   },
   "outputs": [],
   "source": [
    "a = -1\n",
    "b =  1\n",
    "Ns = [10, 30, 100, 250] #, 500, 1000, 2000]\n",
    "\n",
    "#Inicializa la forma de almacenar la data: data[metodo][h] 0: alpha, 1: tiempo, 2: resultados.\n",
    "data = {}\n",
    "for name in method:\n",
    "    data[name] = {}\n",
    "    for n in Ns:\n",
    "        data[name][n] = [[], [], []]\n",
    "\n",
    "#Función para guardar los resultados obtenidos\n",
    "def save_result(name, f, n, a, b):\n",
    "    data[name][n][2][-1] = method[name](f, n, a,b)\n",
    "\n",
    "#Bucle de recolección de data.\n",
    "for name in method:\n",
    "    for alpha in range(0,50):\n",
    "        func = get_int_abx(a,b, 10**alpha)\n",
    "        #No se puede hacer timeit -q -o (Bug#8864) solucionado en Iphyton 4.1 :(\n",
    "        for n in Ns:\n",
    "            data[name][n][2].append( None ) # Para evitar que timeit genere más de lo necesario\n",
    "            t = %timeit -n 1 -r 1 -o save_result(name, func, n, a+delta, b-delta)\n",
    "            data[name][n][0].append( alpha )\n",
    "            data[name][n][1].append( t.best )\n",
    "        #Borrando el output innecesario.\n",
    "        clear_output()"
   ]
  },
  {
   "cell_type": "code",
   "execution_count": null,
   "metadata": {
    "collapsed": false
   },
   "outputs": [],
   "source": [
    "#Gráficas de los tiempos para cada metodo.\n",
    "plot_time_h(data, Ns)"
   ]
  },
  {
   "cell_type": "markdown",
   "metadata": {},
   "source": [
    "Como podemos notar el tiempo solo depende de los valores de $h$ escogidos, por lo tanto,\n",
    "para comparar los métodos calcularemos la media del tiempo para cada $h$ obteniendo el siguiente\n",
    "gráfico:"
   ]
  },
  {
   "cell_type": "code",
   "execution_count": null,
   "metadata": {
    "collapsed": false
   },
   "outputs": [],
   "source": [
    "#Gráfico que compara los tiempos de ejecución media de los metodos dependiendo de h\n",
    "plot_comp_methods(data, Ns)"
   ]
  },
  {
   "cell_type": "markdown",
   "metadata": {},
   "source": [
    "Podemos notar claramente como el método de la cuadratura Gaussiana es el más lento, esto \n",
    "se debe a que obtiene soluciones de mayor calidad por medio de procesos más costosos \n",
    "(operaciones matriciales), y por ello su tiempo de ejecución\n",
    "crece exponencialmente a $h$.\n",
    "\n",
    "Por otro lado, los demás métodos se comportan con un crecimiento más bien lineal y con\n",
    "tiempos de ejecución más cercanos entre si."
   ]
  },
  {
   "cell_type": "code",
   "execution_count": null,
   "metadata": {
    "collapsed": false
   },
   "outputs": [],
   "source": [
    "#Gráficos de los resultados dependiendo de alpha.\n",
    "plot_result_h(data, Ns)"
   ]
  },
  {
   "cell_type": "markdown",
   "metadata": {},
   "source": [
    "<div id='de4'/>\n",
    "### 1.4) Caso $x = 0$\n",
    "Sabemos que en $x=0$ deberíamos obtener $0.5$ pues estamos integrando la mitad de una función de probabilidad\n",
    "simetrica."
   ]
  },
  {
   "cell_type": "code",
   "execution_count": null,
   "metadata": {
    "collapsed": false,
    "scrolled": false
   },
   "outputs": [],
   "source": [
    "a = -1\n",
    "b =  1\n",
    "N =  500\n",
    "func3 = get_int_abx(a, b, x=0)\n",
    "for name in method:\n",
    "    try:     print(name, \"obtuvo:\", method[name](func3, N, a,b))\n",
    "    except:  print(name, \"falló!\")"
   ]
  },
  {
   "cell_type": "markdown",
   "metadata": {},
   "source": [
    "Podemos observar como los métodos de Simpson y del trapecio fallaron debido a que en este caso\n",
    "no podemos calcular los extremos. Aún así obtenemos el resultado correcto con el método del \n",
    "punto medio y la cuadratura Gaussiana, esta última sin error.\n",
    "\n",
    "Para los métodos que fallarón estimaremos la integral restado un número muy pequeño\n",
    "($\\delta = 10^{-15}$) en los extremos:"
   ]
  },
  {
   "cell_type": "code",
   "execution_count": null,
   "metadata": {
    "collapsed": false
   },
   "outputs": [],
   "source": [
    "print(simpsons( func3, N, a-delta, b-delta))\n",
    "print(trapezoid(func3, N, a-delta, b-delta))"
   ]
  },
  {
   "cell_type": "markdown",
   "metadata": {},
   "source": [
    "<div id='de5'/>\n",
    "### 1.5) Caso $ x = +\\infty$\n",
    "Si se quiere llevar la variable $t$ desde el intervalo de integración $[-\\infty,\\infty]$ a el $[a,b]$ \n",
    "se hace un cambio de variable utilizando la nueva variable $u$ definida por:\n",
    "\\begin{align}\n",
    "   u = \\displaystyle \\frac{b-a}{\\pi} \\, \\tan^{-1} (t) + \\displaystyle \\frac{b-a}{2} +a \\quad \n",
    "   & \\Rightarrow  t = \\displaystyle \\cot ( \\frac {\\pi (u-b)}{a-b}) \\\\\n",
    "   & \\Rightarrow dt = - \\displaystyle \\frac {\\pi \\csc^2 ( \\displaystyle \\frac {\\pi (u-b)}{a-b} )} {a-b} \\, du\n",
    "\\end{align}\n",
    "Obtenemos el cambio de variables dependiente de $a$ y $b$, gráficamente:"
   ]
  },
  {
   "cell_type": "code",
   "execution_count": null,
   "metadata": {
    "collapsed": false
   },
   "outputs": [],
   "source": [
    "#La siguiente función grafica el cambio de variables para a y b dados.\n",
    "#Puede probar otros valores:\n",
    "plot_sust2_ab(a=-1, b=1)"
   ]
  },
  {
   "cell_type": "markdown",
   "metadata": {},
   "source": [
    "Reemplazando en la integral nos queda:\n",
    "$$ \\lim_{x\\rightarrow \\infty}f(x) = \\int_{-\\infty}^\\infty \\displaystyle \\frac {1}{\\sqrt{2 \\pi}} \\, e^{-  \\frac{t^2}{2}} \\, dt $$\n",
    "\n",
    "$$ = \\int_a^b \\displaystyle \\frac {1}{\\sqrt{2 \\pi}} \\, e^{- \\displaystyle \\frac{1}{2} \\, \\displaystyle \\cot^2 ( \\frac {\\pi (u-b)}{a-b})}  \\displaystyle \\frac {-\\pi \\csc^2 ( \\displaystyle \\frac {\\pi (u-b)}{a-b} )} {a-b} \\, du  $$"
   ]
  },
  {
   "cell_type": "markdown",
   "metadata": {},
   "source": [
    "Utilizando este cambio de variables para calcular la integral tenemos:"
   ]
  },
  {
   "cell_type": "code",
   "execution_count": null,
   "metadata": {
    "collapsed": false
   },
   "outputs": [],
   "source": [
    "N = 50\n",
    "a = -1\n",
    "b =  1\n",
    "\n",
    "func_inf_inf = lambda u: np.e**(-((  np.tan(np.pi * (u-b)/(a-b)  )**-2 )/2)) * (  (-np.pi *(np.sin(np.pi * (u-b)/(a-b)))**-2)/(a-b)  )/ np.sqrt(2*np.pi)\n",
    "\n",
    "print(    midpoint(func_inf_inf, N, a,       b))\n",
    "print(   trapezoid(func_inf_inf, N, a+delta, b-delta))\n",
    "print(    simpsons(func_inf_inf, N, a+delta, b-delta))\n",
    "print(gaussianquad(func_inf_inf, N, a,       b))"
   ]
  },
  {
   "cell_type": "markdown",
   "metadata": {},
   "source": [
    "Podemos ver que todos los métodos dan resultados muy cercanos a $1$ que debería ser la \n",
    "respuesta de integrar una función de densidad de probabilidad en todo su dominio. \n",
    "El método de punto medio y la cuadratura Gaussiana no necesitaron ninguna modificación \n",
    "y tienen errores pequeños. Por otro lado en el método de Simpson y en el del trapecio se \n",
    "integró en un intervalo ligeramente más pequeño para evitar los errores que daría integrar\n",
    "en los extremos."
   ]
  },
  {
   "cell_type": "markdown",
   "metadata": {},
   "source": [
    "<div id='se2'/>\n",
    "## 2.- Derivación fraccionaria"
   ]
  },
  {
   "cell_type": "markdown",
   "metadata": {},
   "source": [
    "<div id='de6'/>\n",
    "### 2.1- Cambio de variable\n",
    "Si se quiere llevar la variable $\\tau$ desde el intervalo de integración $[a,t]$ a el $[-1,1]$ se hace un cambio de \n",
    "variable utilizando la nueva variable $u$ definida por\n",
    "\\begin{align}\n",
    "    u = \\displaystyle \\frac{a+t-2 \\, \\tau}{a-t}\n",
    "    & \\Rightarrow   \\tau = \\displaystyle \\frac{a \\, (1-u) + t \\, (1+u)} {2} \\\\\n",
    "    & \\Rightarrow d \\tau = \\displaystyle \\frac{t-a}{2} du\n",
    "\\end{align}\n",
    "Obtenemos un cambio de variables dependiente de $a$ y $\\tau$. Graficamente:"
   ]
  },
  {
   "cell_type": "code",
   "execution_count": null,
   "metadata": {
    "collapsed": false,
    "scrolled": true
   },
   "outputs": [],
   "source": [
    "#La siguiente función grafica el cambio de variables para a y t (tau) dados.\n",
    "#Puede probar otros valores:\n",
    "plot_sust3_at(a=0, t=2)"
   ]
  },
  {
   "cell_type": "markdown",
   "metadata": {},
   "source": [
    "Aplicando la transformación a la integral dada tenemos:\n",
    "$$ \\int_{a}^t \\displaystyle \\frac {f'(\\tau)}{(t-\\tau)^\\alpha} \\, d\\tau $$\n",
    "\n",
    "$$ = \\int_{-1}^1 \\displaystyle \\frac {f'(\\displaystyle \\frac{a \\, (1-u) + t \\, (1+u)} {2})}{(t-\\displaystyle \\frac{a \\, (1-u) + t \\, (1+u)} {2})^\\alpha} \\, \\displaystyle \\frac{t-a}{2} du $$\n",
    "Como podemos ver, ahora la integral depende de $a$, $\\tau$ y $\\alpha$. \n",
    "Definamos estas funciones para su posterior utilización:"
   ]
  },
  {
   "cell_type": "code",
   "execution_count": null,
   "metadata": {
    "collapsed": false,
    "scrolled": true
   },
   "outputs": [],
   "source": [
    "#Cálculo de la integral de la derivada fraccionaria, devuelve una función que depende te de t.\n",
    "t = sp.Symbol('t', real=True, positive=True, imaginary=False)\n",
    "u = sp.Symbol('u', real=True, positive=True, imaginary=False)\n",
    "#establecemos la cantidad de intervalos a utilizar en cuadratura gaussiana\n",
    "N = 50\n",
    "def get_int_df(fun, a, alpha):\n",
    "    #diferenciamos una vez la funcion recibida\n",
    "    g = sp.diff(fun, t);\n",
    "    #calcularemos lo que esta dentro de la integral\n",
    "    #evaluamos la funcion diferenciada en el cambio de variable que correspondia a Tau,\n",
    "    #luego lo dividimos por el denominador de dentro de la integral y lo multiplicamos\n",
    "    #por el factor que acompaña a du.\n",
    "    g_eval = (g.subs(t, ((a*(1-u)+t*(1+u))/sp.Integer(2))) / (t- (a*(1-u)+t*(1+u))/sp.Integer(2)  )**alpha) * (t-a)/sp.Integer(2)\n",
    "    \n",
    "    #una vez tenemos nuestra funcion dentro de la integral que depende de u la integramos entre -1 y 1 gracias a cambio\n",
    "    #de variable utilizando cuadratura gaussiana con funciones simbolicas de simpy\n",
    "    f_int = gaussianquad_sympy(g_eval, N, -1, 1)\n",
    "    \n",
    "    #tomamos el resultado real, con la raíz positiva\n",
    "    f_int = f_int.subs(sp.zoo, 2)\n",
    "    return f_int"
   ]
  },
  {
   "cell_type": "markdown",
   "metadata": {},
   "source": [
    "<div id='de7'/>\n",
    "### 2.2- Implementación de fraction_diff\n",
    "#TODO: Faltan comentarios de la implementación, debería poner el código en anexos."
   ]
  },
  {
   "cell_type": "code",
   "execution_count": null,
   "metadata": {
    "collapsed": false
   },
   "outputs": [],
   "source": [
    "t = sp.Symbol('t', positive=True, real=True, imaginary=False)\n",
    "def fraction_diff(f, t0, alpha, a=0):\n",
    "    tau = sp.Symbol('Tau', positive = True, real=True, imaginary=False)\n",
    "    #calculamos el valor de n como el piso de alpha\n",
    "    n = sp.Integer(sp.floor(alpha))\n",
    "    #calculamos el valor del nuevo alpha restandole n y lo almacenamos en frac\n",
    "    frac = sp.Rational(alpha - n,1)\n",
    "    \n",
    "    fr_diff = f\n",
    "    \n",
    "    #si n es dinstinto de cero entonces derivamos la función n veces\n",
    "    if (n != 0):\n",
    "        fr_diff = sp.diff(f, t, n)\n",
    "        \n",
    "    #una vez derivada n veces la función procedemos a realizar la derivada fraccionaria siempre que frac\n",
    "    #no sea 0\n",
    "    if (frac != 0):\n",
    "        fr_diff = get_int_df(fr_diff, a, frac)\n",
    "    \n",
    "    #dividimos la derivada fraccionaria por la función gamma\n",
    "    fr_diff = fr_diff/sp.gamma(1-frac)\n",
    "    #evaluamos en t0\n",
    "    return fr_diff.subs(t, t0)"
   ]
  },
  {
   "cell_type": "markdown",
   "metadata": {},
   "source": [
    "<div id='de8'/>\n",
    "### 2.3- Cálculos"
   ]
  },
  {
   "cell_type": "code",
   "execution_count": null,
   "metadata": {
    "collapsed": false
   },
   "outputs": [],
   "source": [
    "t = sp.Symbol('t', positive=True, real=True, imaginary=False) #t ahora es una variable simbolica.\n",
    "r = sp.Rational #r(a,b) retornará: a/b simbolico, no calcula en número.\n",
    "functions_and_data = [\n",
    "#   |   f(t)    |     t     |   alpha     |\n",
    "    ( 20        , r( 3, 10) , r(  2, 10) ),\n",
    "    ( sp.sin(t) , r( 2,  1) , r( 15, 10) ),\n",
    "    ( sp.exp(t) , r(50,  1) , r(464, 10) ),\n",
    "    ( t         , r( 8, 10) , r(  7, 10) ),\n",
    "    ( sp.log(t) , r( 4, 10) , r(  3, 10) ),\n",
    "    ( t**2      , r( 3,  1) , r(  5, 10 )),\n",
    "    (sp.tanh(t) , r( 3,  1) , r(  5, 10) )\n",
    "] \n",
    "\n",
    "for f in functions_and_data:\n",
    "    style_math(*f, res=fraction_diff(*f, a=0).evalf() )"
   ]
  },
  {
   "cell_type": "markdown",
   "metadata": {},
   "source": [
    "<div id='de9'/>\n",
    "### 2.3- Análisis de comportamiento:"
   ]
  },
  {
   "cell_type": "code",
   "execution_count": null,
   "metadata": {
    "collapsed": false
   },
   "outputs": [],
   "source": [
    "func_min_max = [(f, int(a), int(a)+1) for f, _, a in functions_and_data]\n",
    "\n",
    "#Cuidado! no siempre se cumple que alpha < t, ojo con el log\n",
    "for data in func_min_max:\n",
    "    #if (str(data[0]) == \"t\"): #TODO: Error con el logaritmo. \"t\"): #TODO: Error con el logaritmo.\n",
    "    print(\"Para f(t)=\", str(data[0]))\n",
    "    plot_0_2pi(*data, evals=8, points=200)"
   ]
  },
  {
   "cell_type": "markdown",
   "metadata": {},
   "source": [
    "En los gráficos podemos ver como las derivadas fracionarias son *pasos intermedios* entre dos derivadas enteras.\n",
    "Los mejores ejemplos de esto son los gráficos de $f(t) = t$, $f(t) = t^2$ y $f(t) = \\tanh{(t)}$ donde se puede notar\n",
    "como cada aproximación hace que la curva se asemeje más a la derivada entera más cercana."
   ]
  },
  {
   "cell_type": "markdown",
   "metadata": {},
   "source": [
    "## Conclusiones"
   ]
  },
  {
   "cell_type": "markdown",
   "metadata": {},
   "source": [
    "## Referencias\n",
    "<div id='ref1'\\> [1] [NumPy v1.10 Manual](http://docs.scipy.org/doc/numpy-1.10.1/reference/generated/numpy.linalg.eigh.html) numpy.linalg.eigh. *The eigenvalues/eigenvectors are computed using LAPACK routines _syevd, _heevd*. Revisado 22/10/2015\n",
    "\n",
    "<div id='ref2'\\> [2] [LAPACK Benchmark](http://www.netlib.org/lapack/lug/node71.html). Ver tabla 3.13. Revisado el 22/10/2015"
   ]
  },
  {
   "cell_type": "markdown",
   "metadata": {
    "collapsed": false
   },
   "source": [
    "## Anexos\n",
    "Comenzamos cargando los modulos necesarios:"
   ]
  },
  {
   "cell_type": "code",
   "execution_count": null,
   "metadata": {
    "collapsed": false
   },
   "outputs": [],
   "source": [
    "import matplotlib\n",
    "%matplotlib inline\n",
    "import numpy as np\n",
    "import sympy as sp\n",
    "import scipy as sy\n",
    "import matplotlib.pyplot as plt\n",
    "#Para retornas formulas matemáticas\n",
    "from IPython.display import display, Math, Latex\n",
    "#Para transformar las funciones sympy a lambdas\n",
    "from sympy.utilities.lambdify import lambdify\n",
    "#Para borrar el output de timeit, quitar en ipython 4.1 y ejecutar timeit con -q.\n",
    "from IPython.display import clear_output\n",
    "#Tamaño de los graficos\n",
    "FIGSIZE = (12, 6)\n",
    "#Número muy pequeño:\n",
    "delta = 10**-15\n",
    "#IGNORAR WARNINGS\n",
    "import warnings\n",
    "warnings.filterwarnings('ignore')"
   ]
  },
  {
   "cell_type": "markdown",
   "metadata": {},
   "source": [
    "<div id='an1'\\> \n",
    "### Implementación de algoritmos de integración:\n",
    "Las siguientes funciones reciben como parámetros de entrada una función $f(x)$ en la variable `func`, un número de intervalos `N` y los números `a` y `b` que serán el rango de integración.\n",
    "\n",
    "Retornan la estimación numerica de $\\int_a^b f(x)\\,dx$ mediante el método seleccionado.\n",
    "#### Midpoint Rule"
   ]
  },
  {
   "cell_type": "code",
   "execution_count": null,
   "metadata": {
    "collapsed": false
   },
   "outputs": [],
   "source": [
    "def midpoint(fun, N, a, b):\n",
    "    #Vectorizamos la funcion para poder llamarla con muchos puntos a la vez.\n",
    "    f_vec = np.vectorize(fun)\n",
    "    #Obtenemos N intervalos y N+1 puntos equidistantes entre a y b.\n",
    "    x = np.linspace(a, b, N+1)\n",
    "    #Obtenemos el diferencial de distancia entre los puntos.\n",
    "    dx = x[1]-x[0]\n",
    "    #Obtenemos los puntos medios del intervalo.\n",
    "    midpoints = x[:-1] + 0.5*dx\n",
    "    #Evaluamos en los puntos\n",
    "    midpoint_values = f_vec(midpoints)\n",
    "    #Calculamos y retornamos el resultado final\n",
    "    return sum(midpoint_values*dx)"
   ]
  },
  {
   "cell_type": "markdown",
   "metadata": {},
   "source": [
    "#### Trapezoid Method"
   ]
  },
  {
   "cell_type": "code",
   "execution_count": null,
   "metadata": {
    "collapsed": true
   },
   "outputs": [],
   "source": [
    "def trapezoid(fun, N, a, b):\n",
    "    f_vec = np.vectorize(fun)\n",
    "    x     = np.linspace(a, b, N+1)\n",
    "    dx    = x[1]-x[0]\n",
    "    xmiddle = x[1:-1] #Los puntos que no estan a los extremos del intervalo.\n",
    "    return 0.5*dx*(f_vec(x[0])+2*sum(f_vec(xmiddle))+f_vec(x[-1]))"
   ]
  },
  {
   "cell_type": "markdown",
   "metadata": {},
   "source": [
    "#### Simpson's Rule"
   ]
  },
  {
   "cell_type": "code",
   "execution_count": null,
   "metadata": {
    "collapsed": false
   },
   "outputs": [],
   "source": [
    "def simpsons(fun, N, a, b):\n",
    "    f_vec = np.vectorize(fun)\n",
    "    x     = np.linspace(a, b, N+1)\n",
    "    if N%2==1:\n",
    "        print(\"Simpsons solo aplica con una cantidad de intervalos pares.\")\n",
    "        return\n",
    "    dx = x[1]-x[0]\n",
    "    #Obtenemos elementos de la izquierda partiendo desde el primero de dos en dos hasta el antepenultimo.\n",
    "    xleft   = x[:-2:2]\n",
    "    #Obtenemos elementos centrales partiendo desde el segundo de dos en dos.\n",
    "    xmiddle = x[1::2]\n",
    "    #Obtenemos elementos de la derecha partiendo desde el tercero de dos en dos.\n",
    "    xright  = x[2::2]\n",
    "    #Los sumamos y multiplicamos. La multiplicación por 2 es implicita pues xleft y xright contienen los \n",
    "    # mismos elementos menos el primero y el último.\n",
    "    return sum((f_vec(xleft)+4*f_vec(xmiddle)+f_vec(xright))*(dx/3))"
   ]
  },
  {
   "cell_type": "markdown",
   "metadata": {},
   "source": [
    "#### Gaussian Quadrature"
   ]
  },
  {
   "cell_type": "code",
   "execution_count": null,
   "metadata": {
    "collapsed": false
   },
   "outputs": [],
   "source": [
    "def gaussianquad(fun, N, a, b):\n",
    "    f_vec = np.vectorize(fun)\n",
    "    #Calculamos los pesos y los nodos por el método visto en el ipython 'U2_QuadWorld.ipynb'\n",
    "    x, w = gaussian_nodes_and_weights(N, a, b)\n",
    "    return sum( w * f_vec(x) )\n",
    "\n",
    "# Función gaussiana idéntica a gaussianquad solo que utiliza sintaxis de sympy para utilizarse \n",
    "# con funciones de sympy en vez de funciones lambda\n",
    "def gaussianquad_sympy(fun, N, a, b):\n",
    "    x, w = gaussian_nodes_and_weights(N, a, b)\n",
    "    val = 0;\n",
    "    for i in range(0, x.size):\n",
    "        val = val + w[i]*fun.subs(u, x[i])\n",
    "    return val\n",
    "\n",
    "def gaussian_nodes_and_weights(N, a, b):\n",
    "    if N==1: \n",
    "        return np.array([1]), np.array([2])\n",
    "    beta = .5 / np.sqrt(1.-(2.*np.arange(1.,N))**(-2))\n",
    "    T = np.diag(beta,1) + np.diag(beta,-1)\n",
    "    D, V = np.linalg.eigh(T)\n",
    "    x = D\n",
    "    #Reescalamiento -1, 1\n",
    "    x = .5 * ( (b-a)*x + b + a)\n",
    "    w = 2*V[0,:]**2\n",
    "    w = .5*(b-a)*w\n",
    "    return x, w"
   ]
  },
  {
   "cell_type": "markdown",
   "metadata": {},
   "source": [
    "<div id='an2'\\> \n",
    "### Implementación de la derivada fraccionaria"
   ]
  },
  {
   "cell_type": "code",
   "execution_count": null,
   "metadata": {
    "collapsed": false
   },
   "outputs": [],
   "source": []
  },
  {
   "cell_type": "markdown",
   "metadata": {},
   "source": [
    "### Utilidades"
   ]
  },
  {
   "cell_type": "code",
   "execution_count": null,
   "metadata": {
    "collapsed": false
   },
   "outputs": [],
   "source": [
    "method = {\n",
    "    \"Punto Medio\": midpoint,\n",
    "    \"Trapecio\": trapezoid,\n",
    "    \"Simpson\": simpsons,\n",
    "    \"Cuadratura Gaussiana\": gaussianquad\n",
    "}"
   ]
  },
  {
   "cell_type": "markdown",
   "metadata": {},
   "source": [
    "#### Gráficas:\n",
    "Para el [cambio de variables 1](#de1):"
   ]
  },
  {
   "cell_type": "code",
   "execution_count": null,
   "metadata": {
    "collapsed": true
   },
   "outputs": [],
   "source": [
    "def plot_sust1_abx(a, b, x):\n",
    "    plt.figure(figsize=FIGSIZE)\n",
    "    t = np.linspace(-16*x, x, 300)\n",
    "    plt.plot(t, -(b-a)/(t-x-1)+a)\n",
    "    plt.title('Cambio de variable asumiendo a='+str(a) + \" b=\" + str(b) + \" x=\" + str(x))\n",
    "    plt.xlabel(\"variable t\")\n",
    "    plt.ylabel(\"variable u\")\n",
    "    plt.show()"
   ]
  },
  {
   "cell_type": "markdown",
   "metadata": {},
   "source": [
    "Para el [cambio de variables 2](#de5):"
   ]
  },
  {
   "cell_type": "code",
   "execution_count": null,
   "metadata": {
    "collapsed": true
   },
   "outputs": [],
   "source": [
    "def plot_sust2_ab(a, b):\n",
    "    plt.figure(figsize=FIGSIZE)\n",
    "    x = np.inf;\n",
    "    t = np.linspace(-10, 10, 200)\n",
    "    plt.plot(t, ((b-a)*np.arctan(t))/np.pi + (b-a)/2 + a)\n",
    "    plt.title('Cambio de variable asumiendo a='+str(a) + \" b=\" + str(b) + \" x=\" + str(x))\n",
    "    plt.xlabel(\"variable t\")\n",
    "    plt.ylabel(\"variable u\")\n",
    "    plt.show()"
   ]
  },
  {
   "cell_type": "markdown",
   "metadata": {},
   "source": [
    "Para el [cambio de variables 3](#de6):"
   ]
  },
  {
   "cell_type": "code",
   "execution_count": null,
   "metadata": {
    "collapsed": true
   },
   "outputs": [],
   "source": [
    "def plot_sust3_at(a, t):\n",
    "    plt.figure(figsize=FIGSIZE)\n",
    "    T = np.linspace(a, t, 200)\n",
    "    plt.plot(T, (a+t-2*T)/(a-t))\n",
    "    plt.title('Cambio de variable asumiendo a='+str(a) + \" t=\" + str(t))\n",
    "    plt.xlabel(\"variable Tau\")\n",
    "    plt.ylabel(\"variable u\")\n",
    "    plt.show()"
   ]
  },
  {
   "cell_type": "markdown",
   "metadata": {},
   "source": [
    "Graficas [comparativas de los métodos de integración](#de3):"
   ]
  },
  {
   "cell_type": "code",
   "execution_count": null,
   "metadata": {
    "collapsed": false
   },
   "outputs": [],
   "source": [
    "#Muestra un gráfico de alpha vs tiempo para cada metodo comparando el h.\n",
    "def plot_time_h(data, Hs):\n",
    "    for name in data:\n",
    "        plt.figure(figsize=FIGSIZE)\n",
    "        for h in Hs:\n",
    "            plt.plot(data[name][h][0], data[name][h][1], label=\"h = \" + str(h))\n",
    "            plt.title('Tiempos de ejecución de ' + name)\n",
    "            plt.ylabel(\"Tiempo de ejecución [s]\")\n",
    "            plt.xlabel(r\"valor de $\\alpha$\")\n",
    "            plt.legend(bbox_to_anchor=(1.01, 1), loc=2, borderaxespad=0.)\n",
    "        plt.show()"
   ]
  },
  {
   "cell_type": "code",
   "execution_count": null,
   "metadata": {
    "collapsed": false
   },
   "outputs": [],
   "source": [
    "#Muestra un gráfico de h vs tiempo medio, comparando los metodos.\n",
    "def plot_comp_methods(data, Hs):\n",
    "    plt.figure(figsize=FIGSIZE)\n",
    "    for name in data:\n",
    "        m_time = []\n",
    "        for h in Hs:\n",
    "            m_time.append( sum(data[name][h][1])/len(data[name][h][1]) )\n",
    "        plt.plot(Hs, m_time, label=name)\n",
    "        plt.title(\"Comparación de tiempos de ejecución\")\n",
    "        plt.ylabel(\"Tiempo de ejecución [s]\")\n",
    "        plt.xlabel(r\"valor de h$\")\n",
    "        plt.legend(bbox_to_anchor=(1.01, 1), loc=2, borderaxespad=0.)\n",
    "    plt.show()"
   ]
  },
  {
   "cell_type": "code",
   "execution_count": null,
   "metadata": {
    "collapsed": false
   },
   "outputs": [],
   "source": [
    "#Muestra un gráfico de alpha vs resultado para cada metodo comparando el h.\n",
    "def plot_result_h(data, Hs):\n",
    "    for name in data:\n",
    "        plt.figure(figsize=FIGSIZE)\n",
    "        for h in Hs:\n",
    "            plt.plot(data[name][h][0], data[name][h][2], label=\"h = \" + str(h))\n",
    "            plt.title('Resultados de ' + name)\n",
    "            plt.ylabel(\"resultado\")\n",
    "            plt.xlabel(r\"valor de $\\alpha$\")\n",
    "            plt.legend(bbox_to_anchor=(1.01, 1), loc=2, borderaxespad=0.)\n",
    "        plt.show()"
   ]
  },
  {
   "cell_type": "markdown",
   "metadata": {},
   "source": [
    "Para el retorno de datos en los [calculos de derivadas fracionarias](#de8):"
   ]
  },
  {
   "cell_type": "code",
   "execution_count": null,
   "metadata": {
    "collapsed": true
   },
   "outputs": [],
   "source": [
    "#Muestra los resultados con estilo matematico:\n",
    "def style_math(func, t, alpha, res):\n",
    "    if \"**\" in str(func): func = str(func).replace(\"**\", \"^\") #fix pow\n",
    "    latex_code = r'\\frac{\\partial^{%s} %s}{\\partial t^{%s}} \\Big|_{t=%s} = %s' % (alpha, func, alpha, t, res)\n",
    "    display(Math(latex_code))"
   ]
  },
  {
   "cell_type": "markdown",
   "metadata": {},
   "source": [
    "Para los gráficos del [analisis de derivación fracional](#de9) en $[0, 2\\pi]$"
   ]
  },
  {
   "cell_type": "code",
   "execution_count": null,
   "metadata": {
    "collapsed": false
   },
   "outputs": [],
   "source": [
    "def plot_0_2pi(func, alph_min, alph_max, evals, points=20):\n",
    "    #graficamos desde 10^-10 hasta 2*Pi, no usamos 0 ya que la derivada \n",
    "    #fraccionaria de logaritmo entrega número complejos que nos dan problemas al graficar\n",
    "    interval_0_2pi = np.linspace(10**-10, 2*np.pi, points)\n",
    "    plt.figure(figsize=FIGSIZE)\n",
    "    plt.tick_params(axis='x', which='major', labelsize=20)\n",
    "    t  = sp.Symbol('t', positive=True, real=True, imaginary=False)\n",
    "    alphs = np.linspace(alph_min, alph_max, evals)\n",
    "    for alph in alphs:\n",
    "        label = r'$\\frac{\\partial^{%.3f} %s}{\\partial t^{%.3f}}$' % (alph, func, alph)\n",
    "        if type(func) == type(1): #No calcular cuando la derivada es 0\n",
    "            eval_func = lambda x: 0*x\n",
    "        elif(alph == 0.0): #No calcular cuando no se debe derivar\n",
    "            #Para log da una linea en 0 o.o?\n",
    "            eval_func = lambdify(t, func, modules=['numpy','sympy'])\n",
    "        else:\n",
    "            frac_func = fraction_diff(func, t, alph)\n",
    "            eval_func = np.vectorize(lambdify(t, frac_func, modules=['numpy','sympy']))\n",
    "        try:\n",
    "            plt.plot(interval_0_2pi, eval_func(interval_0_2pi), label=label)\n",
    "        except ValueError:\n",
    "            #Pasa cuando deriva una constante o una variable por si misma, no da 1 para dx/dx\n",
    "            print(\"Algo paso cuando alpha=%.3f\" % alph )\n",
    "\n",
    "    plt.xticks([0, np.pi/2, np.pi, 3*np.pi/2, 2*np.pi],\n",
    "               ['$0$', r'$\\frac{\\pi}{2}$', r'$\\pi$', r'$\\frac{3\\pi}{2}$', r'$2\\pi$'])\n",
    "    plt.legend(bbox_to_anchor=(1.01, 1), loc=2, borderaxespad=0., prop={'size':20})\n",
    "    plt.show()"
   ]
  },
  {
   "cell_type": "code",
   "execution_count": null,
   "metadata": {
    "collapsed": false
   },
   "outputs": [],
   "source": []
  },
  {
   "cell_type": "code",
   "execution_count": null,
   "metadata": {
    "collapsed": true
   },
   "outputs": [],
   "source": []
  }
 ],
 "metadata": {
  "git": {
   "suppress_outputs": true
  },
  "kernelspec": {
   "display_name": "Python 3",
   "language": "python",
   "name": "python3"
  },
  "language_info": {
   "codemirror_mode": {
    "name": "ipython",
    "version": 3
   },
   "file_extension": ".py",
   "mimetype": "text/x-python",
   "name": "python",
   "nbconvert_exporter": "python",
   "pygments_lexer": "ipython3",
   "version": "3.4.3"
  }
 },
 "nbformat": 4,
 "nbformat_minor": 0
}
