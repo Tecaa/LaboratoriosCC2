{
 "cells": [
  {
   "cell_type": "markdown",
   "metadata": {},
   "source": [
    "<center>\n",
    "    <h1> ILI-286 - Laboratorio #2 </h1>\n",
    "    <h2> Integración numérica aplicada </h2>\n",
    "</center>\n",
    "\n",
    "\n",
    "| Nombre | Rol | Email |\n",
    "| :----- | :-- | :---- |\n",
    "| Marco Rojas | 201073005-0 | marco.rojaso@alumnos.usm.cl |\n",
    "| Hernán Vargas | 201073009-3 | hernan.vargas@alumnos.usm.cl |"
   ]
  },
  {
   "cell_type": "markdown",
   "metadata": {},
   "source": [
    "## Tabla de contenidos\n",
    "* [Introducción](#intro)\n",
    "* [Desarrollo y analisís de resultados:](#desarrollo)\n",
    "  1. [Integración Impropia](#se1)\n",
    "* [Concluciones](#Concluciones)\n",
    "* [Referencias](#Referencias)"
   ]
  },
  {
   "cell_type": "markdown",
   "metadata": {},
   "source": [
    "<div id='intro' />\n",
    "## Introducción\n"
   ]
  },
  {
   "cell_type": "markdown",
   "metadata": {},
   "source": [
    "<div id='desarrollo'/>\n",
    "## Desarrollo y analisís de resultados\n",
    "\n",
    "Debemos comenzar cargando las bibliotecas y datos necesarios. Además se definirán algunas variables que se usarán más adelante."
   ]
  },
  {
   "cell_type": "code",
   "execution_count": null,
   "metadata": {
    "collapsed": false
   },
   "outputs": [],
   "source": [
    "import numpy as np"
   ]
  },
  {
   "cell_type": "markdown",
   "metadata": {},
   "source": [
    "<div id='se1'/>\n",
    "### 1.- Integración Impropia\n",
    "\n"
   ]
  },
  {
   "cell_type": "code",
   "execution_count": null,
   "metadata": {
    "collapsed": false,
    "scrolled": true
   },
   "outputs": [],
   "source": []
  },
  {
   "cell_type": "markdown",
   "metadata": {},
   "source": [
    "<div id='de1'/>\n",
    "#### 1.1) Cambio de variable propuesto\n",
    "Si se quiere llevar la variable t desde el intervalo de integración [-inf,x] a el [a,b] se hace un cambio de \n",
    "variable utilizando la nueva variable u definida por\n",
    "$$ u = -\\displaystyle \\frac{b-a}{t-x-1} + a $$ "
   ]
  },
  {
   "cell_type": "code",
   "execution_count": null,
   "metadata": {
    "collapsed": false
   },
   "outputs": [],
   "source": []
  },
  {
   "cell_type": "markdown",
   "metadata": {},
   "source": [
    "<div id='de2'/>\n",
    "#### 1.2) Implementaciones de algoritmos de integración\n"
   ]
  },
  {
   "cell_type": "code",
   "execution_count": null,
   "metadata": {
    "collapsed": false
   },
   "outputs": [],
   "source": [
    "def midpoint(fun, N, a, b):\n",
    "    #vectorizamos la funcion para poder llamarla con muchos puntos a la vez\n",
    "    f_vec = np.vectorize(fun)\n",
    "    #obtenemos N intervalos y N+1 puntos equidistantes entre a y b\n",
    "    x = np.linspace(a, b, N+1)\n",
    "    #obtenemos el diferencial\n",
    "    dx = x[1]-x[0]\n",
    "    # a todos los puntos menos el final le sumamos 0.5 por el diferencial\n",
    "    midpoints = x[:-1] + 0.5*dx\n",
    "    #obtenemos las evaluaciones de los puntos\n",
    "    midpoint_values = f_vec(midpoints)\n",
    "    #obtenemos el resultado final\n",
    "    int_val = sum(midpoint_values*dx)\n",
    "    return int_val\n",
    "\n",
    "def trapezoid(fun, N, a, b):\n",
    "    f_vec = np.vectorize(fun) \n",
    "    x = np.linspace(a, b, N+1)\n",
    "    dx = x[1]-x[0]\n",
    "    xmiddle = x[1:-1]\n",
    "    int_val = 0.5*dx*(f_vec(x[0])+2*sum(f_vec(xmiddle))+f_vec(x[-1]))\n",
    "    return int_val\n",
    "\n",
    "def simpsons(fun, N, a, b):\n",
    "    f_vec = np.vectorize(fun)\n",
    "    x = np.linspace(a, b, N+1)\n",
    "    if N%2==1:\n",
    "        print(\"Simpsons solo aplica con catntidad de intervalos pares.\")\n",
    "        return\n",
    "    dx = x[1]-x[0]\n",
    "    #obtenemos elementos de la izquierda partiendo desde el primero de dos en dos hasta el antepenultimo\n",
    "    xleft   = x[:-2:2]\n",
    "    #obtenemos elementos centrales partiendo desde el segundo de dos en dos\n",
    "    xmiddle = x[1::2]\n",
    "    #obtenemos elementos de la derecha partiendo desde el tercero de dos en dos\n",
    "    xright  = x[2::2]\n",
    "    #los sumamos y multiplicamos, xleft contiene casi todos los elementos presentes \n",
    "    #en xright menos el último por lo que no lo multiplicamos por 2\n",
    "    int_val = sum((f_vec(xleft)+4*f_vec(xmiddle)+f_vec(xright))*dx/3)\n",
    "    return int_val\n",
    "\n",
    "def gaussianquad(fun, N, a, b):\n",
    "    f_vec = np.vectorize(fun)\n",
    "    x, w = gaussian_nodes_and_weights(N, a, b)\n",
    "    int_val = sum( w * f_vec(x) )\n",
    "    return int_val\n",
    "\n",
    "def gaussian_nodes_and_weights(N, a, b):\n",
    "    if N==1: \n",
    "        return np.array([1]), np.array([2])\n",
    "    beta = .5 / np.sqrt(1.-(2.*np.arange(1.,N))**(-2))\n",
    "    T = np.diag(beta,1) + np.diag(beta,-1)\n",
    "    D, V = np.linalg.eigh(T)\n",
    "    x = D\n",
    "    #Reescalamiento\n",
    "    x = .5 * ( (b-a)*x + b + a)\n",
    "    w = 2*V[0,:]**2\n",
    "    w = .5*(b-a)*w\n",
    "    return x, w\n",
    "\n",
    "N = 10\n",
    "a = 1\n",
    "b= 4\n",
    "fun = lambda x : x**2 + x**1+5\n",
    "print(midpoint(fun, N, a, b))\n",
    "print(trapezoid(fun, N, a, b))\n",
    "print(simpsons(fun, N, a, b))\n",
    "print(gaussianquad(fun, N, a, b))"
   ]
  },
  {
   "cell_type": "code",
   "execution_count": null,
   "metadata": {
    "collapsed": false,
    "scrolled": true
   },
   "outputs": [],
   "source": [
    "N = 50\n",
    "a = 1\n",
    "b= 4\n",
    "fun = lambda t: (np.e**((-t**2)/2))/ np.sqrt(2*np.pi)\n",
    "print(midpoint(fun, N, a, b))\n",
    "print(trapezoid(fun, N, a, b))\n",
    "print(simpsons(fun, N, a, b))\n",
    "print(gaussianquad(fun, N, a, b))"
   ]
  },
  {
   "cell_type": "markdown",
   "metadata": {},
   "source": []
  },
  {
   "cell_type": "code",
   "execution_count": null,
   "metadata": {
    "collapsed": false,
    "scrolled": false
   },
   "outputs": [],
   "source": []
  },
  {
   "cell_type": "markdown",
   "metadata": {},
   "source": []
  },
  {
   "cell_type": "code",
   "execution_count": null,
   "metadata": {
    "collapsed": false
   },
   "outputs": [],
   "source": []
  },
  {
   "cell_type": "markdown",
   "metadata": {},
   "source": []
  },
  {
   "cell_type": "code",
   "execution_count": null,
   "metadata": {
    "collapsed": false
   },
   "outputs": [],
   "source": []
  },
  {
   "cell_type": "markdown",
   "metadata": {},
   "source": []
  },
  {
   "cell_type": "code",
   "execution_count": null,
   "metadata": {
    "collapsed": false
   },
   "outputs": [],
   "source": []
  },
  {
   "cell_type": "markdown",
   "metadata": {},
   "source": []
  },
  {
   "cell_type": "markdown",
   "metadata": {},
   "source": [
    "## Conclusiones\n",
    "\n"
   ]
  },
  {
   "cell_type": "markdown",
   "metadata": {},
   "source": [
    "## Referencias\n",
    "<div id='ref1'\\> [1] [NumPy v1.10 Manual](http://docs.scipy.org/doc/numpy/reference/generated/numpy.linalg.solve.html) numpy.linalg.solve. *The solutions are computed using LAPACK routine _gesv*. Revisado 30/10/2015\n",
    "\n",
    "<div id='ref2'\\> [2] [LAPACK Benchmark](http://www.netlib.org/lapack/lug/node71.html). Ver tabla 3.13. Revisado el 30/10/2015"
   ]
  },
  {
   "cell_type": "code",
   "execution_count": null,
   "metadata": {
    "collapsed": false
   },
   "outputs": [],
   "source": []
  }
 ],
 "metadata": {
  "git": {
   "suppress_outputs": true
  },
  "kernelspec": {
   "display_name": "Python 3",
   "language": "python",
   "name": "python3"
  },
  "language_info": {
   "codemirror_mode": {
    "name": "ipython",
    "version": 3
   },
   "file_extension": ".py",
   "mimetype": "text/x-python",
   "name": "python",
   "nbconvert_exporter": "python",
   "pygments_lexer": "ipython3",
   "version": "3.4.3"
  }
 },
 "nbformat": 4,
 "nbformat_minor": 0
}
