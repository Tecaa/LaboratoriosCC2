{
 "cells": [
  {
   "cell_type": "markdown",
   "metadata": {},
   "source": [
    "<center>\n",
    "    <h1> ILI-286 - Laboratorio #2 </h1>\n",
    "    <h2> Integración numérica aplicada </h2>\n",
    "</center>\n",
    "\n",
    "\n",
    "| Nombre | Rol | Email |\n",
    "| :----- | :-- | :---- |\n",
    "| Marco Rojas | 201073005-0 | marco.rojaso@alumnos.usm.cl |\n",
    "| Hernán Vargas | 201073009-3 | hernan.vargas@alumnos.usm.cl |"
   ]
  },
  {
   "cell_type": "markdown",
   "metadata": {},
   "source": [
    "## Tabla de contenidos\n",
    "* [Introducción](#intro)\n",
    "* [Desarrollo y analisís de resultados:](#desarrollo)\n",
    "  1. [Integración Impropia](#se1)\n",
    "  2. [The Caputo's Fractional Derivative](#se2)\n",
    "* [Concluciones](#Concluciones)\n",
    "* [Referencias](#Referencias)\n",
    "* [Anexos](#Anexos) $\\leftarrow$ Comenzar ejeciución aquí\n",
    "  * [Implementación de algoritmos de integración](#an1)\n",
    "  * [Implementación de la derivada fraccionaria](#an2)"
   ]
  },
  {
   "cell_type": "markdown",
   "metadata": {},
   "source": [
    "<div id='intro' />\n",
    "## Introducción\n"
   ]
  },
  {
   "cell_type": "markdown",
   "metadata": {},
   "source": [
    "<div id='desarrollo'/>\n",
    "## Desarrollo y analisís de resultados"
   ]
  },
  {
   "cell_type": "markdown",
   "metadata": {},
   "source": [
    "<div id='se1'/>\n",
    "## 1.- Integración Impropia"
   ]
  },
  {
   "cell_type": "markdown",
   "metadata": {},
   "source": [
    "<div id='de1'/>\n",
    "### 1.1) Cambio de variable propuesto\n",
    "Si se quiere llevar la variable $t$ desde el intervalo de integración $[-\\infty,x]$ a el $[a,b]$ se hace un cambio de \n",
    "variable utilizando la nueva variable $u$ definida por\n",
    "$$ u = -\\displaystyle \\frac{b-a}{t-x-1} + a $$ \n",
    "$$ \\Rightarrow t = \\displaystyle \\frac{b + a \\, x + u (1+x)} {a-u} $$\n",
    "$$ dt = \\displaystyle \\frac{b-a}{(u-a)^2} du$$\n",
    "Graficamente:"
   ]
  },
  {
   "cell_type": "code",
   "execution_count": null,
   "metadata": {
    "collapsed": false
   },
   "outputs": [],
   "source": [
    "plt.figure(figsize=(12,6))\n",
    "a = -1\n",
    "b =  1\n",
    "x =  3\n",
    "t = np.linspace(-2*x, x, 200)\n",
    "plt.plot(t, -(b-a)/(t-x-1)+a)\n",
    "plt.title('Cambio de variable asumiendo a='+str(a) + \" b=\" + str(b) + \" x=\" + str(x))\n",
    "plt.xlabel(\"variable t\")\n",
    "plt.ylabel(\"variable u\")\n",
    "plt.show()"
   ]
  },
  {
   "cell_type": "markdown",
   "metadata": {},
   "source": [
    "Aplicando la transformación a la integral dada tenemos:\n",
    "$$ f(x) = \\int_{-\\infty}^x \\displaystyle \\frac {1}{\\sqrt{2 \\pi}} \\, e^{-  \\frac{t^2}{2}} \\, dt $$\n",
    "\n",
    "$$ f(x) = \\int_{a}^b \\displaystyle \\frac {1}{\\sqrt{2 \\pi}} \\, e^{-  \\frac{{(-b-a\\,x + u(1+x)})^2}{2(u-a)^2}} \\, \\frac{b-a}{(u-a)^2} du $$\n",
    "Como podemos ver, ahora la integral depende de $a$, $b$ y $x$. \n",
    "Definamos estas funciones para su posterior utilización:"
   ]
  },
  {
   "cell_type": "code",
   "execution_count": null,
   "metadata": {
    "collapsed": false
   },
   "outputs": [],
   "source": [
    "#Integrales:\n",
    "int_orig = lambda t: (np.e**((-t**2)/2))/ np.sqrt(2*np.pi)\n",
    "def get_int_abx(a, b, x):\n",
    "    return lambda u: (np.e**(-(( (-b-a*x + u*(1+x)) / (u-a)  )**2 )/2)  * ((b-a)/(u-a)**2)  )/ np.sqrt(2*np.pi)"
   ]
  },
  {
   "cell_type": "markdown",
   "metadata": {},
   "source": [
    "<div id='de2'/>\n",
    "### 1.2) Complejidad algoritmica de los métodos  de integración\n",
    "La implementación de los mismos puede analizarse en el [primer anexo](#an1).\n",
    "Para cada una de las siguiente complejidades se asume una cantidad de intervalos $n$ y un costo de \n",
    "evaluación de la función de $o(f)$"
   ]
  },
  {
   "cell_type": "markdown",
   "metadata": {},
   "source": [
    "##### 1.2.1) Midpoint Rule\n",
    " * Linspace: $1$ resta, $1$ división y $(n+1)$ multiplicaciones.\n",
    " * Diferencial: $1$ resta.\n",
    " * Puntos medios: $n$ multiplicaciones.\n",
    " * Evaluación: $n$ evaluaciones de la función.\n",
    " * Suma final: $n$ sumas y $1$ multiplicación.\n",
    " * **Total:** $1 + 1 + (n+1) + 1 + n + no(f) + n + 1 = 5 + 3n + no(f) = O(3n + no(f))$ "
   ]
  },
  {
   "cell_type": "markdown",
   "metadata": {},
   "source": [
    "##### 1.2.2) Trapezoid Method\n",
    " * Linspace + diferencial: $n + 4$ operaciones.\n",
    " * Calculo de la integral: $(n+1)$ evaluaciones de la función, $(n-1)$ multiplicaciones, $n+1$ \n",
    " sumas y $2$ multiplicaciones.\n",
    " * **Total:** $n + 4 + (n+1)o(f) + (n-1) + (n+1) + 2 = 6 + 3n + (n+1)o(f) = O(3n + (n+1)o(f))$"
   ]
  },
  {
   "cell_type": "markdown",
   "metadata": {},
   "source": [
    "##### 1.2.3) Simpson's Rule\n",
    " * Linspace + Diferencial:  $n+4$ operaciones.\n",
    " * Calculo de la integral: \n",
    "     * (n/2) evaluaciones en cada lado (derecha, centro y izquierda): 3(n/2) evaluaciones de $f$.\n",
    "     * (n/2) multiplicaciones (del centro).\n",
    "     * (n/2) multiplicaciones y una divición.\n",
    "     * (n/2) sumas.\n",
    " * **Total:** $n+4 + \\frac{3n}{2}o(f) +\\frac{n}{2} + \\frac{n}{2} +1 + \\frac{n}{2} \n",
    " = 5 + \\frac{5n}{2} + \\frac{3n}{2}o(f) = O(\\frac{5n}{2} + \\frac{3n}{2}o(f))$"
   ]
  },
  {
   "cell_type": "markdown",
   "metadata": {},
   "source": [
    "##### 1.2.4) Gaussian Quadrature\n",
    " * Calculo de la integral: $n$ evaluaciones $n$ multiplicaciones y $n$ sumas: $no(f) + 2n$\n",
    " * La complejidad de la función que encuentra los puntos y sus pesos está determinada por el\n",
    " uso de `numpy.linalg.eigh` para una matriz de $n\\times n$. Según la documentación[[1]](#ref1) \n",
    " `eigh` utiliza las rutinas *LAPACK* `_syevd` y `_heevd` por lo que su complejidad debe ser \n",
    " $O(n^3)$[[2]](#ref2).\n",
    " * **Total:** $2n + no(f) + n^3 = O(no(f) + n^3)$"
   ]
  },
  {
   "cell_type": "markdown",
   "metadata": {},
   "source": [
    "<div id='de3'/>\n",
    "### 1.3) Análisis de los métodos de integración"
   ]
  },
  {
   "cell_type": "code",
   "execution_count": null,
   "metadata": {
    "collapsed": false
   },
   "outputs": [],
   "source": [
    "#LEEME: Se supone que es una integral de una función de probabilidad así que no puede dar más de 1.\n",
    "# quizás podamos hacer que si da más de 1 el metodo pare por que ya hay errores...\n",
    "# Supongo que con esta pregunta lo que se busca es que respodamos por que da mal el número (no converge)\n",
    "# y es debido a que los puntos están equiespaciados, por extrañas razones cuando incremento x\n",
    "# al principio se pasa, pero luego se va a 0, supongo que pasa un error en algún momento. Este tambien\n",
    "# podría ser un criterio de parada, así cuando se nota un comportamiento de-creciente se termina de ejcutar \n",
    "# dicho método... Puedes dejarme esto a mi.\n",
    "N = 500\n",
    "a = -1\n",
    "b= 1\n",
    "x = 100\n",
    "\n",
    "#fun2 = lambda u: (np.e**(-(( (-b-a*x + u*(1+x)) / (u-a)  )**2 )/2)  * ((b-a)/(u-a)**2)  )/ np.sqrt(2*np.pi)\n",
    "fun2 = get_int_abx(a,b,x)\n",
    "\n",
    "print(midpoint(fun2, N, a,b))\n",
    "print(gaussianquad(fun2, N, a, b))\n",
    "#print(gaussianquad(fun2, N, -1, 1))"
   ]
  },
  {
   "cell_type": "code",
   "execution_count": null,
   "metadata": {
    "collapsed": false,
    "scrolled": true
   },
   "outputs": [],
   "source": [
    "## Acá hacer graficos mejor.\n",
    "#matriz de 50 (alphas), 4 (métodos) y 5 h distintos\n",
    "#res = np.zeros([50, 4, 5])\n",
    "#delta = 10**-10\n",
    "#for entre 0 y 49\n",
    "#for i in range(0,50):\n",
    "#    m =0;\n",
    "#    for n in [10, 50, 100, 500, 1000]:\n",
    "#        res[i, 0, m] = midpoint(fun2, n, a, b)\n",
    "#        res[i, 1, m] = trapezoid(fun2, n, a+delta, b-delta)\n",
    "#        res[i, 2, m] = simpsons(fun2, n, a+delta, b-delta)\n",
    "#        res[i, 3, m] = gaussianquad(fun2, n, a, b)\n",
    "#        m = m+1;\n",
    "#\n",
    "#print(res)"
   ]
  },
  {
   "cell_type": "markdown",
   "metadata": {},
   "source": [
    "<div id='de4'/>\n",
    "### 1.4) Caso $x = 0$\n",
    "Sabemos que en $0$ deberíamos obtener $0.5$ pues estamos integrando la mitad de una función de probabilidad\n",
    "simetrica."
   ]
  },
  {
   "cell_type": "code",
   "execution_count": null,
   "metadata": {
    "collapsed": false,
    "scrolled": false
   },
   "outputs": [],
   "source": [
    "# TODO: aplicar truco del delta más abajo a las que fallan \n",
    "a = -1\n",
    "b =  1\n",
    "N =  500\n",
    "func3 = get_int_abx(a, b, x=0)\n",
    "for key in metodo:\n",
    "    try:     print(key, \"obtuvo:\",metodo[key](func3, N, a,b))\n",
    "    except:  print(key, \"falló!\")"
   ]
  },
  {
   "cell_type": "markdown",
   "metadata": {},
   "source": [
    "Podemos observar como los metodos de Simpson y del trapecio fallaron devido a que en este caso\n",
    "no podemos calcular los extremos. Aún así obtenemos el resultado correcto con el metodo del \n",
    "punto medio y la cuadratura Gaussiana, esta última sin error."
   ]
  },
  {
   "cell_type": "markdown",
   "metadata": {},
   "source": [
    "<div id='de5'/>\n",
    "### 1.5) Caso $ x = +\\infty$"
   ]
  },
  {
   "cell_type": "markdown",
   "metadata": {},
   "source": [
    "Si se quiere llevar la variable $t$ desde el intervalo de integración $[-\\infty,\\infty]$ a el $[a,b]$ \n",
    "se hace un cambio de variable utilizando la nueva variable $u$ definida por:\n",
    "$$ u = \\displaystyle \\frac{b-a}{\\pi} \\, \\tan^{-1} (t) + \\displaystyle \\frac{b-a}{2} +a $$ \n",
    "$$ \\Rightarrow  t = \\displaystyle \\cot ( \\frac {\\pi (u-b)}{a-b}) $$\n",
    "$$ dt = - \\displaystyle \\frac {\\pi \\csc^2 ( \\displaystyle \\frac {\\pi (u-b)}{a-b} )} {a-b} \\, du $$"
   ]
  },
  {
   "cell_type": "code",
   "execution_count": null,
   "metadata": {
    "collapsed": false
   },
   "outputs": [],
   "source": [
    "plt.figure(figsize=(12,6))\n",
    "a = -1\n",
    "b =  1\n",
    "x = np.inf;\n",
    "t = np.linspace(-10, 10, 200)\n",
    "plt.plot(t, ((b-a)*np.arctan(t))/np.pi + (b-a)/2 + a)\n",
    "plt.title('Cambio de variable asumiendo a='+str(a) + \" b=\" + str(b) + \" x=\" + str(x))\n",
    "plt.xlabel(\"variable t\")\n",
    "plt.ylabel(\"variable u\")\n",
    "plt.show()"
   ]
  },
  {
   "cell_type": "markdown",
   "metadata": {},
   "source": [
    "Reemplazando en la integral nos queda:\n",
    "$$ \\lim_{x\\rightarrow \\infty}f(x) = \\int_{-\\infty}^\\infty \\displaystyle \\frac {1}{\\sqrt{2 \\pi}} \\, e^{-  \\frac{t^2}{2}} \\, dt $$\n",
    "\n",
    "$$ = \\int_a^b \\displaystyle \\frac {1}{\\sqrt{2 \\pi}} \\, e^{- \\displaystyle \\frac{1}{2} \\, \\displaystyle \\cot^2 ( \\frac {\\pi (u-b)}{a-b})}  \\displaystyle \\frac {-\\pi \\csc^2 ( \\displaystyle \\frac {\\pi (u-b)}{a-b} )} {a-b} \\, du  $$"
   ]
  },
  {
   "cell_type": "markdown",
   "metadata": {},
   "source": [
    "Utilizando este cambio de variables para calcular la integral tenemos:"
   ]
  },
  {
   "cell_type": "code",
   "execution_count": null,
   "metadata": {
    "collapsed": false
   },
   "outputs": [],
   "source": [
    "N = 50\n",
    "a = -1\n",
    "b =  1\n",
    "delta = 10**-15\n",
    "\n",
    "func_inf_inf = lambda u: np.e**(-((  np.tan(np.pi * (u-b)/(a-b)  )**-2 )/2)) * (  (-np.pi *(np.sin(np.pi * (u-b)/(a-b)))**-2)/(a-b)  )/ np.sqrt(2*np.pi)\n",
    "\n",
    "print(    midpoint(func_inf_inf, N, a,       b))\n",
    "print(   trapezoid(func_inf_inf, N, a+delta, b-delta))\n",
    "print(    simpsons(func_inf_inf, N, a+delta, b-delta))\n",
    "print(gaussianquad(func_inf_inf, N, a,       b))"
   ]
  },
  {
   "cell_type": "markdown",
   "metadata": {},
   "source": [
    "Podemos ver que todos los métodos dan resultados muy cercanos a $1$ que debería ser la \n",
    "respuesta de integrar una función de densidad de probabilidad en todo su dominio. \n",
    "El método de punto medio y la cuadratura Gaussiana no necesitaron ninguna modificación \n",
    "y tienen errores pequeños. Por otro lado en el método de Simpson y en el del trapecio se \n",
    "integró en un intervalo ligeramente más pequeño para evitar los errores que daría integrar\n",
    "en los extremos."
   ]
  },
  {
   "cell_type": "markdown",
   "metadata": {},
   "source": [
    "<div id='se2'/>\n",
    "## 2.- Derivación fraccionaria"
   ]
  },
  {
   "cell_type": "markdown",
   "metadata": {},
   "source": [
    "<div id='de6'/>\n",
    "### 2.1- Cambio de variable\n",
    "Si se quiere llevar la variable $\\tau$ desde el intervalo de integración $[a,t]$ a el $[-1,1]$ se hace un cambio de \n",
    "variable utilizando la nueva variable $u$ definida por\n",
    "$$ u = \\displaystyle \\frac{a+t-2 \\, \\tau}{a-t}$$ \n",
    "$$ \\Rightarrow \\tau = \\displaystyle \\frac{a \\, (1-u) + t \\, (1+u)} {2} $$\n",
    "$$ d \\tau = \\displaystyle \\frac{t-a}{2} du$$\n",
    "Graficamente:"
   ]
  },
  {
   "cell_type": "code",
   "execution_count": null,
   "metadata": {
    "collapsed": false
   },
   "outputs": [],
   "source": [
    "plt.figure(figsize=(12,6))\n",
    "a = -2\n",
    "t =  2\n",
    "T = np.linspace(a, t, 200)\n",
    "plt.plot(T, (a+t-2*T)/(a-t))\n",
    "plt.title('Cambio de variable asumiendo a='+str(a) + \" t=\" + str(t))\n",
    "plt.xlabel(\"variable Tau\")\n",
    "plt.ylabel(\"variable u\")\n",
    "plt.show()"
   ]
  },
  {
   "cell_type": "markdown",
   "metadata": {},
   "source": [
    "Aplicando la transformación a la integral dada tenemos:\n",
    "$$ \\int_{a}^t \\displaystyle \\frac {f'(\\tau)}{(t-\\tau)^\\alpha} \\, d\\tau $$\n",
    "\n",
    "$$ = \\int_{-1}^1 \\displaystyle \\frac {f'(\\displaystyle \\frac{a \\, (1-u) + t \\, (1+u)} {2})}{(t-\\displaystyle \\frac{a \\, (1-u) + t \\, (1+u)} {2})^\\alpha} \\, \\displaystyle \\frac{t-a}{2} du $$\n",
    "Como podemos ver, ahora la integral depende de $a$, $t$ y $\\alpha$. \n",
    "Definamos estas funciones para su posterior utilización:"
   ]
  },
  {
   "cell_type": "code",
   "execution_count": null,
   "metadata": {
    "collapsed": false,
    "scrolled": true
   },
   "outputs": [],
   "source": [
    "#Cálculo de la integral de la derivada fraccionaria, devuelve una función que depende te de t.\n",
    "t= sp.Symbol('t', real=True, positive=True, imaginary=False)\n",
    "u= sp.Symbol('u', real=True, positive=True, imaginary=False)\n",
    "N = 50\n",
    "def get_int_df(fun, a, alpha):\n",
    "    g = sp.diff(fun, t);\n",
    "    #g_eval = (g.subs(t, t-((a*(1-u)+t*(1+u))/sp.Integer(2))) / ((a*(1-u)+t*(1+u))/sp.Integer(2) -a )**alpha) * (t-a)/sp.Integer(2)\n",
    "    g_eval = (g.subs(t, ((a*(1-u)+t*(1+u))/sp.Integer(2))) / (t- (a*(1-u)+t*(1+u))/sp.Integer(2)  )**alpha) * (t-a)/sp.Integer(2)\n",
    "    \n",
    "    f_int = gaussianquad_sympy(g_eval, N, -1, 1)\n",
    "    \n",
    "    #tomamos el resultado real, con la raíz positiva\n",
    "    f_int = f_int.subs(sp.zoo, 2)\n",
    "    return f_int\n"
   ]
  },
  {
   "cell_type": "markdown",
   "metadata": {},
   "source": [
    "<div id='de7'/>\n",
    "### 2.2- Implementación de fraction_diff"
   ]
  },
  {
   "cell_type": "code",
   "execution_count": null,
   "metadata": {
    "collapsed": false
   },
   "outputs": [],
   "source": [
    "t= sp.Symbol('t', positive=True, real=True, imaginary=False)\n",
    "f = t**4 \n",
    "def fraction_diff(f, t0, alpha, a):\n",
    "    tau = sp.Symbol('Tau', positive = True, real=True, imaginary=False)\n",
    "    #calculamos el valor de n como el piso de alpha\n",
    "    n = sp.Integer(sp.floor(alpha))\n",
    "    #calculamos el valor del nuevo alpha restandole n\n",
    "    frac = sp.Rational(alpha - n,1)\n",
    "    \n",
    "    fr_diff = f\n",
    "    #si n es dinstinto de cero entonces derivamos la función n veces\n",
    "    if (n != 0):\n",
    "        fr_diff = sp.diff(f, t, n)\n",
    "    \n",
    "    #una vez derivada n veces la función procedemos a realizar la derivada fraccionaria\n",
    "    F_tau = get_int_df(fr_diff, a, frac)\n",
    "    \n",
    "    #dividimos la derivada fraccionaria por la función gamma\n",
    "    fr_diff = F_tau/sp.gamma(1-frac)\n",
    "    \n",
    "    #evaluamos en t0\n",
    "    return fr_diff.subs(t, t0)\n",
    "  \n",
    "print(sp.simplify(fraction_diff(f, 0.9, 1.5, 0)).evalf())"
   ]
  },
  {
   "cell_type": "markdown",
   "metadata": {},
   "source": [
    ".<div id='de8'/>\n",
    "### 2.3- Cálculos"
   ]
  },
  {
   "cell_type": "code",
   "execution_count": null,
   "metadata": {
    "collapsed": false
   },
   "outputs": [],
   "source": [
    "t= sp.Symbol('t', positive=True, real=True, imaginary=False)\n",
    "# Estas funciones se quedna pegadas algunas\n",
    "f = 20;\n",
    "print(fraction_diff(f, sp.Rational(3,10), sp.Rational(2,10), 0).evalf())\n",
    "\n",
    "f = sp.sin(t);\n",
    "print(fraction_diff(f, sp.Rational(2,1), sp.Rational(15,10), 0).evalf())\n",
    "\n",
    "f = sp.exp(t);\n",
    "print(fraction_diff(f, sp.Rational(60,1), sp.Rational(464,10), 0).evalf())\n",
    "\n",
    "f = t;\n",
    "print(fraction_diff(f, sp.Rational(8,10), sp.Rational(7,10), 0).evalf())\n",
    "\n",
    "f = sp.log(t);\n",
    "print(fraction_diff(f, sp.Rational(4,10), sp.Rational(3,10), 0).evalf())\n",
    "\n",
    "f = t**2;\n",
    "print(fraction_diff(f, sp.Rational(3, 1), sp.Rational(5,10), 0).evalf())\n",
    "\n",
    "f = sp.tanh(t);\n",
    "print(fraction_diff(f, sp.Rational(3,1), sp.Rational(5,10), 0).evalf())"
   ]
  },
  {
   "cell_type": "markdown",
   "metadata": {},
   "source": [
    "## Conclusiones"
   ]
  },
  {
   "cell_type": "markdown",
   "metadata": {},
   "source": [
    "## Referencias\n",
    "<div id='ref1'\\> [1] [NumPy v1.10 Manual](http://docs.scipy.org/doc/numpy-1.10.1/reference/generated/numpy.linalg.eigh.html) numpy.linalg.eigh. *The eigenvalues/eigenvectors are computed using LAPACK routines _syevd, _heevd*. Revisado 22/10/2015\n",
    "\n",
    "<div id='ref2'\\> [2] [LAPACK Benchmark](http://www.netlib.org/lapack/lug/node71.html). Ver tabla 3.13. Revisado el 22/10/2015"
   ]
  },
  {
   "cell_type": "markdown",
   "metadata": {
    "collapsed": false
   },
   "source": [
    "## Anexos\n",
    "Comenzamos cargando los modulos necesarios:"
   ]
  },
  {
   "cell_type": "code",
   "execution_count": null,
   "metadata": {
    "collapsed": false
   },
   "outputs": [],
   "source": [
    "import matplotlib\n",
    "%matplotlib inline\n",
    "import numpy as np\n",
    "import sympy as sp\n",
    "import scipy as sy\n",
    "import matplotlib.pyplot as plt"
   ]
  },
  {
   "cell_type": "markdown",
   "metadata": {},
   "source": [
    "<div id='an1'\\> \n",
    "### Implementación de algoritmos de integración:\n",
    "Las siguientes funciones reciben como parámetros de entrada una función $f(x)$ en la variable `func`, un número de intervalos `N` y los números `a` y `b` que serán el rango de integración.\n",
    "\n",
    "Retornan la estimación numerica de $\\int_a^b f(x)\\,dx$ mediante el método seleccionado.\n",
    "#### Midpoint Rule"
   ]
  },
  {
   "cell_type": "code",
   "execution_count": null,
   "metadata": {
    "collapsed": false
   },
   "outputs": [],
   "source": [
    "def midpoint(fun, N, a, b):\n",
    "    #Vectorizamos la funcion para poder llamarla con muchos puntos a la vez.\n",
    "    f_vec = np.vectorize(fun)\n",
    "    #Obtenemos N intervalos y N+1 puntos equidistantes entre a y b.\n",
    "    x = np.linspace(a, b, N+1)\n",
    "    #Obtenemos el diferencial de distancia entre los puntos.\n",
    "    dx = x[1]-x[0]\n",
    "    #Obtenemos los puntos medios del intervalo.\n",
    "    midpoints = x[:-1] + 0.5*dx\n",
    "    #Evaluamos en los puntos\n",
    "    midpoint_values = f_vec(midpoints)\n",
    "    #Calculamos y retornamos el resultado final\n",
    "    return sum(midpoint_values*dx)"
   ]
  },
  {
   "cell_type": "markdown",
   "metadata": {},
   "source": [
    "#### Trapezoid Method"
   ]
  },
  {
   "cell_type": "code",
   "execution_count": null,
   "metadata": {
    "collapsed": true
   },
   "outputs": [],
   "source": [
    "def trapezoid(fun, N, a, b):\n",
    "    f_vec = np.vectorize(fun)\n",
    "    x     = np.linspace(a, b, N+1)\n",
    "    dx    = x[1]-x[0]\n",
    "    xmiddle = x[1:-1] #Los puntos que no estan a los extremos del intervalo.\n",
    "    return 0.5*dx*(f_vec(x[0])+2*sum(f_vec(xmiddle))+f_vec(x[-1]))"
   ]
  },
  {
   "cell_type": "markdown",
   "metadata": {},
   "source": [
    "#### Simpson's Rule"
   ]
  },
  {
   "cell_type": "code",
   "execution_count": null,
   "metadata": {
    "collapsed": false
   },
   "outputs": [],
   "source": [
    "def simpsons(fun, N, a, b):\n",
    "    f_vec = np.vectorize(fun)\n",
    "    x     = np.linspace(a, b, N+1)\n",
    "    if N%2==1:\n",
    "        print(\"Simpsons solo aplica con una cantidad de intervalos pares.\")\n",
    "        return\n",
    "    dx = x[1]-x[0]\n",
    "    #Obtenemos elementos de la izquierda partiendo desde el primero de dos en dos hasta el antepenultimo.\n",
    "    xleft   = x[:-2:2]\n",
    "    #Obtenemos elementos centrales partiendo desde el segundo de dos en dos.\n",
    "    xmiddle = x[1::2]\n",
    "    #Obtenemos elementos de la derecha partiendo desde el tercero de dos en dos.\n",
    "    xright  = x[2::2]\n",
    "    #Los sumamos y multiplicamos. La multiplicación por 2 es implicita pues xleft y xright contienen los \n",
    "    # mismos elementos menos el primero y el último.\n",
    "    return sum((f_vec(xleft)+4*f_vec(xmiddle)+f_vec(xright))*(dx/3))"
   ]
  },
  {
   "cell_type": "markdown",
   "metadata": {},
   "source": [
    "#### Gaussian Quadrature"
   ]
  },
  {
   "cell_type": "code",
   "execution_count": null,
   "metadata": {
    "collapsed": false
   },
   "outputs": [],
   "source": [
    "def gaussianquad(fun, N, a, b):\n",
    "    print(fun)\n",
    "    f_vec = np.vectorize(fun)\n",
    "    print(f_vec)\n",
    "    #Calculamos los pesos y los nodos por el metodo visto en el ipython 'U2_QuadWorld.ipynb'\n",
    "    x, w = gaussian_nodes_and_weights(N, a, b)\n",
    "    print(f_vec(x))\n",
    "    return sum( w * f_vec(x) )\n",
    "\n",
    "# Función gaussiana idéntica a gaussianquad solo que utiliza sintaxis de sympy para utilizarse con funciones de \n",
    "# sympy en vez de funciones lambda\n",
    "def gaussianquad_sympy(fun, N, a, b):\n",
    "    #Calculamos los pesos y los nodos por el metodo visto en el ipython 'U2_QuadWorld.ipynb'\n",
    "    x, w = gaussian_nodes_and_weights(N, a, b)\n",
    "    val = 0;\n",
    "    for i in range(0, x.size):\n",
    "        val = val + w[i]*fun.subs(u, x[i])\n",
    "    return val\n",
    "\n",
    "def gaussian_nodes_and_weights(N, a, b):\n",
    "    if N==1: \n",
    "        return np.array([1]), np.array([2])\n",
    "    beta = .5 / np.sqrt(1.-(2.*np.arange(1.,N))**(-2))\n",
    "    T = np.diag(beta,1) + np.diag(beta,-1)\n",
    "    D, V = np.linalg.eigh(T)\n",
    "    x = D\n",
    "    #Reescalamiento -1, 1\n",
    "    x = .5 * ( (b-a)*x + b + a)\n",
    "    w = 2*V[0,:]**2\n",
    "    w = .5*(b-a)*w\n",
    "    return x, w"
   ]
  },
  {
   "cell_type": "markdown",
   "metadata": {},
   "source": [
    "<div id='an2'\\> \n",
    "### Implementación de la derivada fraccionaria"
   ]
  },
  {
   "cell_type": "code",
   "execution_count": null,
   "metadata": {
    "collapsed": false
   },
   "outputs": [],
   "source": []
  },
  {
   "cell_type": "markdown",
   "metadata": {},
   "source": [
    "### Utilidades"
   ]
  },
  {
   "cell_type": "code",
   "execution_count": null,
   "metadata": {
    "collapsed": false
   },
   "outputs": [],
   "source": [
    "metodo = {\n",
    "    \"Punto Medio\": midpoint,\n",
    "    \"Trapecio\": trapezoid,\n",
    "    \"Simpson\": simpsons,\n",
    "    \"Cuadratura Gaussiana\": gaussianquad\n",
    "}"
   ]
  },
  {
   "cell_type": "code",
   "execution_count": null,
   "metadata": {
    "collapsed": true
   },
   "outputs": [],
   "source": []
  }
 ],
 "metadata": {
  "git": {
   "suppress_outputs": true
  },
  "kernelspec": {
   "display_name": "Python 3",
   "language": "python",
   "name": "python3"
  },
  "language_info": {
   "codemirror_mode": {
    "name": "ipython",
    "version": 3
   },
   "file_extension": ".py",
   "mimetype": "text/x-python",
   "name": "python",
   "nbconvert_exporter": "python",
   "pygments_lexer": "ipython3",
   "version": "3.4.3"
  }
 },
 "nbformat": 4,
 "nbformat_minor": 0
}
