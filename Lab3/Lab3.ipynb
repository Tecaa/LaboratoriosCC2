{
 "cells": [
  {
   "cell_type": "markdown",
   "metadata": {},
   "source": [
    "<center>\n",
    "    <h1> ILI-286 - Laboratorio #3 </h1>\n",
    "    <h2> Simulando númericamente sistemas dinámicos </h2>\n",
    "</center>\n",
    "\n",
    "\n",
    "| Nombre | Rol | Email |\n",
    "| :----- | :-- | :---- |\n",
    "| Marco Rojas | 201073005-0 | marco.rojaso@alumnos.usm.cl |\n",
    "| Hernán Vargas | 201073009-3 | hernan.vargas@alumnos.usm.cl |"
   ]
  },
  {
   "cell_type": "markdown",
   "metadata": {},
   "source": [
    "## Tabla de contenidos\n",
    "* [Introducción](#intro)\n",
    "* [Desarrollo y analisís de resultados:](#desarrollo)\n",
    "  1. [Simulando Sistemas Caóticos](#se1)\n",
    "  2. [BVP de orden superior](#se2)\n",
    "* [Concluciones](#Concluciones)\n",
    "* [Referencias](#Referencias)\n",
    "* [Anexos](#Anexos) $\\leftarrow$ Comenzar ejecución aquí\n",
    "  * [Métodos implementados](#an1)\n",
    "  * [Métodos paralelos](#an2)\n",
    "  * [Visualización de resultados](#an3)\n",
    "  * [Implementación de diferencias finitas](#an4)\n",
    "  * [Utilidades](#an5)"
   ]
  },
  {
   "cell_type": "markdown",
   "metadata": {},
   "source": [
    "<div id='intro' />\n",
    "## Introducción\n",
    "Write something"
   ]
  },
  {
   "cell_type": "markdown",
   "metadata": {},
   "source": [
    "<div id='desarrollo'/>\n",
    "## Desarrollo y analisís de resultados"
   ]
  },
  {
   "cell_type": "markdown",
   "metadata": {},
   "source": [
    "<div id='se1'/>\n",
    "## 1.- Simulando Sistemas Caóticos"
   ]
  },
  {
   "cell_type": "markdown",
   "metadata": {},
   "source": [
    "### a) Implementación\n",
    "Ver [anexo 1](#an1)"
   ]
  },
  {
   "cell_type": "markdown",
   "metadata": {},
   "source": [
    "### b) Ejecución\n"
   ]
  },
  {
   "cell_type": "code",
   "execution_count": null,
   "metadata": {
    "collapsed": false
   },
   "outputs": [],
   "source": [
    "condicion_inicial = \"algo\"\n",
    "t_f = 100\n",
    "h   = \"maximo permitido\"\n",
    "\n",
    "#animate_lorenz()"
   ]
  },
  {
   "cell_type": "markdown",
   "metadata": {},
   "source": [
    "### c) Profiling"
   ]
  },
  {
   "cell_type": "code",
   "execution_count": null,
   "metadata": {
    "collapsed": true
   },
   "outputs": [],
   "source": [
    "t_f = 1000\n",
    "#timeit"
   ]
  },
  {
   "cell_type": "code",
   "execution_count": null,
   "metadata": {
    "collapsed": true
   },
   "outputs": [],
   "source": [
    "#memit"
   ]
  },
  {
   "cell_type": "markdown",
   "metadata": {},
   "source": [
    "### d) Análisis de estabilidad"
   ]
  },
  {
   "cell_type": "code",
   "execution_count": null,
   "metadata": {
    "collapsed": true
   },
   "outputs": [],
   "source": [
    "hs = [0,1,2,3]"
   ]
  },
  {
   "cell_type": "markdown",
   "metadata": {},
   "source": [
    "### e) Implementación paralela\n",
    "Ver [anexo 2](#an2)"
   ]
  },
  {
   "cell_type": "markdown",
   "metadata": {},
   "source": [
    "### f) Simulación de dos trayetorias"
   ]
  },
  {
   "cell_type": "markdown",
   "metadata": {},
   "source": [
    "### g) Simulación de veinte trayetorias con RK4"
   ]
  },
  {
   "cell_type": "markdown",
   "metadata": {},
   "source": [
    "<div id='se2'/>\n",
    "## 2.- BVP de orden superior"
   ]
  },
  {
   "cell_type": "markdown",
   "metadata": {},
   "source": [
    "### a) Transformación a IVP acoplado"
   ]
  },
  {
   "cell_type": "markdown",
   "metadata": {},
   "source": [
    "### b) Propuesta de cuarta derivada y discretización"
   ]
  },
  {
   "cell_type": "markdown",
   "metadata": {},
   "source": [
    "### c) Implementación de diferencias finitas\n",
    "Ver [Anexo 4](#an4)"
   ]
  },
  {
   "cell_type": "markdown",
   "metadata": {},
   "source": [
    "### d) Ejecución del algoritmo"
   ]
  },
  {
   "cell_type": "markdown",
   "metadata": {},
   "source": [
    "## Conclusiones"
   ]
  },
  {
   "cell_type": "markdown",
   "metadata": {},
   "source": [
    "## Referencias\n",
    "<div id='ref1'\\> [1] [Título](www.google.com) Títulos sec. *desc*. Revisado xx/xx/xxxx"
   ]
  },
  {
   "cell_type": "markdown",
   "metadata": {
    "collapsed": false
   },
   "source": [
    "## Anexos\n",
    "Comenzamos cargando los modulos necesarios:"
   ]
  },
  {
   "cell_type": "code",
   "execution_count": null,
   "metadata": {
    "collapsed": false
   },
   "outputs": [],
   "source": [
    "import numpy as np\n",
    "from scipy import integrate\n",
    "from matplotlib import pyplot as plt\n",
    "from mpl_toolkits.mplot3d import Axes3D\n",
    "from matplotlib.colors import cnames\n",
    "from matplotlib import animation\n",
    "\n",
    "#import matplotlib\n",
    "%matplotlib notebook\n",
    "#%matplotlib nbagg\n",
    "#import sympy as sp\n",
    "#import scipy as sy\n",
    "#Para retornas formulas matemáticas     from IPython.display import display, Math, Latex\n",
    "#Para transformar las funciones sympy a lambdas     from sympy.utilities.lambdify import lambdify\n",
    "#Para borrar el output de timeit, quitar en ipython 4.1 y ejecutar timeit con -q.   from IPython.display import clear_output\n",
    "\n",
    "#Tamaño de los graficos\n",
    "FIGSIZE = (12, 6)\n",
    "#Número muy pequeño:\n",
    "delta = 10**-15\n",
    "#IGNORAR WARNINGS    import warnings    warnings.filterwarnings('ignore')"
   ]
  },
  {
   "cell_type": "markdown",
   "metadata": {},
   "source": [
    "<div id='an1'\\> \n",
    "### Métodos implementados:"
   ]
  },
  {
   "cell_type": "code",
   "execution_count": null,
   "metadata": {
    "collapsed": false
   },
   "outputs": [],
   "source": [
    "def euler_int(func, y0, t, h):\n",
    "    ys = np.zeros([y0.shape[0],t.shape[0]])\n",
    "    ys[:,0] = y0\n",
    "    for i in range(t.shape[0]-1):\n",
    "        ys[:,[i+1]] = ys[:,[i]] + h*func(t[i], ys[:,[i]])\n",
    "    return ys"
   ]
  },
  {
   "cell_type": "code",
   "execution_count": null,
   "metadata": {
    "collapsed": false
   },
   "outputs": [],
   "source": [
    "def mp_int(func, y0, t, h):\n",
    "    h2 = h/2\n",
    "    ys = np.zeros([y0.shape[0],t.shape[0]])\n",
    "    ys[:,0] = y0\n",
    "    for i in range(t.shape[0]-1):\n",
    "        k1 = ys[:,[i]] + h2*func(t[i], ys[:,[i]])\n",
    "        ys[:,[i+1]] = ys[:,[i]] + h*func(t[i] + h2 , k1)\n",
    "    return ys"
   ]
  },
  {
   "cell_type": "code",
   "execution_count": null,
   "metadata": {
    "collapsed": true
   },
   "outputs": [],
   "source": [
    "def RK4_int(func, y0, t, h):\n",
    "    h2 = h/2\n",
    "    ys = np.zeros([y0.shape[0],t.shape[0]])\n",
    "    ys[:,0] = y0\n",
    "    for i in range(t.shape[0]-1):\n",
    "        k1 = func(t[i], ys[:,[i]])\n",
    "        k2 = func(t[i] + h2, ys[:,[i]] + h2*k1)\n",
    "        k3 = func(t[i] + h2, ys[:,[i]] + h2*k2)\n",
    "        k4 = func(t[i] + h,  ys[:,[i]] + h*k3)\n",
    "        ys[:,[i+1]] = ys[:,[i]] + (h/6)*(k1 + 2*(k2 + k3) + k4)\n",
    "    return ys"
   ]
  },
  {
   "cell_type": "code",
   "execution_count": null,
   "metadata": {
    "collapsed": false,
    "scrolled": true
   },
   "outputs": [],
   "source": [
    "#test 1-D\n",
    "y0 = np.array([1])\n",
    "yf = 4\n",
    "h  = 1\n",
    "t  = np.linspace(0, yf, yf/h+1)\n",
    "f  = lambda t,y: np.e**t\n",
    "\n",
    "\n",
    "print(euler_int(f, y0, t, h))\n",
    "print(mp_int(f, y0, t, h))\n",
    "print(RK4_int(f, y0, t, h))\n",
    "print(f(4,0))\n",
    "\n",
    "print(\"\\n\")\n",
    "\n",
    "y02 = np.array([1,2])\n",
    "yf = 4\n",
    "h  = 1\n",
    "t  = np.linspace(0, yf, yf/h+1)\n",
    "\n",
    "f2 = lambda t,y: np.array([y[0]+t, y[1]+y[0]])\n",
    "\n",
    "print(\"Euler\")\n",
    "print(euler_int(f2, y02, t, h))\n",
    "print(\"MP\")\n",
    "print(mp_int(f2, y02, t, h))\n",
    "print(\"RK4\")\n",
    "print(RK4_int(f2, y02, t, h))\n",
    "print(f2(4,[0,1]))"
   ]
  },
  {
   "cell_type": "markdown",
   "metadata": {},
   "source": [
    "<div id='an2'\\> \n",
    "### Métodos paralelos:"
   ]
  },
  {
   "cell_type": "code",
   "execution_count": null,
   "metadata": {
    "collapsed": true
   },
   "outputs": [],
   "source": [
    "def parallel_euler_int(func, y0, t, h):\n",
    "    pass"
   ]
  },
  {
   "cell_type": "code",
   "execution_count": null,
   "metadata": {
    "collapsed": true
   },
   "outputs": [],
   "source": [
    "def parallel_mp_int(func, y0, t, h):\n",
    "    pass"
   ]
  },
  {
   "cell_type": "code",
   "execution_count": null,
   "metadata": {
    "collapsed": true
   },
   "outputs": [],
   "source": [
    "def parallel_RK4_int(func, y0, t, h):\n",
    "    pass"
   ]
  },
  {
   "cell_type": "markdown",
   "metadata": {},
   "source": [
    "<div id='an3'\\> \n",
    "### Visualización de resultados"
   ]
  },
  {
   "cell_type": "code",
   "execution_count": null,
   "metadata": {
    "collapsed": true
   },
   "outputs": [],
   "source": [
    "\"\"\"\n",
    "-> x_t\n",
    "   arreglo con las posiciones (x,y,z) de las trayectorias. Este puede ser\n",
    "   de dos dimensiones (len(t), 3) para una sola trayectoria, o puede ser \n",
    "   de tres dimensiones (len(t), 3, N_trajectories) para mas de una trayectoria\n",
    "-> N_trajectories\n",
    "   numero de trayectorias a visualizar\n",
    "-> xlim,ylim,zlim\n",
    "   limites en los ejes x,y,z de la animacion\n",
    "-> rotate\n",
    "   rotar mientras anima para mejores perspectivas\n",
    "\"\"\"\n",
    "def animate_lorenz(x_t, N_trajectories, xlim=(-20,70), ylim=(-35,35), zlim=(-35,35), rotate=False):\n",
    "    #setting it to correct format\n",
    "    if x_t.ndim==2:\n",
    "        x_t = np.array([x_t])\n",
    "    elif x_t.ndim==3: \n",
    "        x_t = np.rot90(x_t).T\n",
    "    else:\n",
    "        return -1\n",
    "    #setting the number of frames\n",
    "    frames = max(x_t.shape)\n",
    "    frames /= 2\n",
    "    #set up figure & 3D axis for animation\n",
    "    fig = plt.figure()\n",
    "    ax = fig.add_axes([0, 0, 1, 1], projection='3d')\n",
    "    #ax.axis('off')\n",
    "\n",
    "    #choose a different color for each trajectory\n",
    "    colors = plt.cm.jet(np.linspace(0, 1, N_trajectories))\n",
    "\n",
    "    #set up lines and points\n",
    "    lines = sum([ax.plot([], [], [], '-', c=c)\n",
    "                 for c in colors], [])\n",
    "    pts = sum([ax.plot([], [], [], 'o', c=c)\n",
    "               for c in colors], [])\n",
    "\n",
    "    #prepare the axes limits\n",
    "    ax.set_xlim(xlim)\n",
    "    ax.set_ylim(ylim)\n",
    "    ax.set_zlim(zlim)\n",
    "\n",
    "    #set point-of-view: specified by (altitude degrees, azimuth degrees)\n",
    "    ax.view_init(30, 0)\n",
    "\n",
    "    #initialization function: plot the background of each frame\n",
    "    def init():\n",
    "        for line, pt in zip(lines, pts):\n",
    "            line.set_data([], [])\n",
    "            line.set_3d_properties([])\n",
    "\n",
    "            pt.set_data([], [])\n",
    "            pt.set_3d_properties([])\n",
    "        return lines + pts\n",
    "\n",
    "    #animation function.  This will be called sequentially with the frame number\n",
    "    def animate(i):\n",
    "        # we'll step two time-steps per frame.  This leads to nice results.\n",
    "        i = (2 * i) % x_t.shape[1]\n",
    "\n",
    "        for line, pt, xi in zip(lines, pts, x_t):\n",
    "            x, y, z = xi[:i].T\n",
    "            line.set_data(x, y)\n",
    "            line.set_3d_properties(z)\n",
    "\n",
    "            pt.set_data(x[-1:], y[-1:])\n",
    "            pt.set_3d_properties(z[-1:])\n",
    "\n",
    "        if rotate: ax.view_init(30, 0.3 * i)\n",
    "        fig.canvas.draw()\n",
    "        return lines + pts\n",
    "\n",
    "    #instantiate the animator.\n",
    "    anim = animation.FuncAnimation(fig, animate, init_func=init,\n",
    "                                   frames=frames, interval=30, blit=True, repeat=False)\n",
    "    #show it\n",
    "    ax.set_title('Lorenz Simulation')\n",
    "    ax.set_xlabel('x(t)')\n",
    "    ax.set_ylabel('y(t)')\n",
    "    ax.set_zlabel('z(t)')\n",
    "    plt.show()"
   ]
  },
  {
   "cell_type": "markdown",
   "metadata": {},
   "source": [
    "<div id='an4'\\> \n",
    "### Implementación de diferencias finitas"
   ]
  },
  {
   "cell_type": "code",
   "execution_count": null,
   "metadata": {
    "collapsed": true
   },
   "outputs": [],
   "source": []
  },
  {
   "cell_type": "markdown",
   "metadata": {},
   "source": [
    "<div id='an5'\\> \n",
    "### Utilidades"
   ]
  },
  {
   "cell_type": "code",
   "execution_count": null,
   "metadata": {
    "collapsed": true
   },
   "outputs": [],
   "source": []
  }
 ],
 "metadata": {
  "git": {
   "suppress_outputs": true
  },
  "kernelspec": {
   "display_name": "Python 3",
   "language": "python",
   "name": "python3"
  },
  "language_info": {
   "codemirror_mode": {
    "name": "ipython",
    "version": 3
   },
   "file_extension": ".py",
   "mimetype": "text/x-python",
   "name": "python",
   "nbconvert_exporter": "python",
   "pygments_lexer": "ipython3",
   "version": "3.4.3"
  }
 },
 "nbformat": 4,
 "nbformat_minor": 0
}
