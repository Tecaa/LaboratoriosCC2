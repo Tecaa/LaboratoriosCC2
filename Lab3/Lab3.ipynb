{
 "cells": [
  {
   "cell_type": "markdown",
   "metadata": {},
   "source": [
    "<center>\n",
    "    <h1> ILI-286 - Laboratorio #3 </h1>\n",
    "    <h2> Simulando númericamente sistemas dinámicos </h2>\n",
    "</center>\n",
    "\n",
    "\n",
    "| Nombre | Rol | Email |\n",
    "| :----- | :-- | :---- |\n",
    "| Marco Rojas | 201073005-0 | marco.rojaso@alumnos.usm.cl |\n",
    "| Hernán Vargas | 201073009-3 | hernan.vargas@alumnos.usm.cl |"
   ]
  },
  {
   "cell_type": "markdown",
   "metadata": {},
   "source": [
    "## Tabla de contenidos\n",
    "* [Introducción](#intro)\n",
    "* [Desarrollo y analisís de resultados:](#desarrollo)\n",
    "  1. [Simulando Sistemas Caóticos](#se1)\n",
    "  2. [BVP de orden superior](#se2)\n",
    "* [Concluciones](#Concluciones)\n",
    "* [Referencias](#Referencias)\n",
    "* [Anexos](#Anexos) $\\leftarrow$ Comenzar ejecución aquí\n",
    "  * [Métodos implementados](#an1)\n",
    "  * [Métodos paralelos](#an2)\n",
    "  * [Visualización de resultados](#an3)\n",
    "  * [Implementación de diferencias finitas](#an4)\n",
    "  * [Utilidades](#an5)"
   ]
  },
  {
   "cell_type": "markdown",
   "metadata": {},
   "source": [
    "<div id='intro' />\n",
    "## Introducción\n",
    "TODO: write something"
   ]
  },
  {
   "cell_type": "markdown",
   "metadata": {},
   "source": [
    "<div id='desarrollo'/>\n",
    "## Desarrollo y analisís de resultados"
   ]
  },
  {
   "cell_type": "markdown",
   "metadata": {},
   "source": [
    "<div id='se1'/>\n",
    "## 1.- Simulando Sistemas Caóticos\n",
    "En este laboratorio trabajamos con el Atractor de Lorenz, definido como sigue: \n",
    "\\begin{align} \n",
    "    \\frac{dx}{dt} &= \\sigma (y-x) \\\\\n",
    "    \\frac{dy}{dt} &= x(\\rho-z) -y \\\\\n",
    "    \\frac{dz}{dt} &= xy - \\beta z \n",
    "\\end{align}\n",
    "Además en esta experiencia utilizaremos la configuración $\\sigma=10, \\rho=28, \\beta=\\frac{8}{3}$ donde \n",
    "las trayectorias se vuelven caóticas. Luego podemos escribir nuestra función en python:"
   ]
  },
  {
   "cell_type": "code",
   "execution_count": null,
   "metadata": {
    "collapsed": false
   },
   "outputs": [],
   "source": [
    "def lorenz(t, Y):\n",
    "    return np.array([10*(Y[1] - Y[0]),\n",
    "                    Y[0]*(28 - Y[2]) - Y[1],\n",
    "                    Y[0]*Y[1] - (8/3)*Y[2]])"
   ]
  },
  {
   "cell_type": "markdown",
   "metadata": {},
   "source": [
    "### a) Implementación\n",
    "Ver [anexo 1](#an1)"
   ]
  },
  {
   "cell_type": "markdown",
   "metadata": {},
   "source": [
    "### b) Ejecución\n",
    "Para determinar el maximo $h$ posible debemos tener en cuenta que la región de estabilidad más pequeña\n",
    "es la del método de euler, además, al estar contenida por las demás, basta con satisfacer solo su condición.\n",
    "\n",
    "Primero calculamos el Jacobiano de la función de lorenz (caótica) y obtenemos:\n",
    "$$\n",
    "\\begin{bmatrix}\n",
    "    -10 & 10 & 0 \\\\\n",
    "    28-z_0 & -1 & -x_0 \\\\\n",
    "    y_0 & x_0 & -\\frac{8}{3}\n",
    "\\end{bmatrix}\n",
    "$$\n",
    "Debemos obtener los valores propios de dicha matriz, para determinar el $h$ inicial primero debemos evaluarla\n",
    "en $Y_0 = [x_0, y_0, z_0]$, luego:"
   ]
  },
  {
   "cell_type": "code",
   "execution_count": null,
   "metadata": {
    "collapsed": false
   },
   "outputs": [],
   "source": [
    "Y_0 = np.array([1,1,1]) # o cualquiera\n",
    "A = np.array([\n",
    "        [-10, 10, 0],\n",
    "        [28-Y_0[2], -1, -Y_0[0]],\n",
    "        [Y_0[1], Y_0[0], -8/3]\n",
    "    ])\n",
    "ev_A = np.linalg.eigvals(A)\n",
    "print(ev_A) # que hago con los positivos?!"
   ]
  },
  {
   "cell_type": "markdown",
   "metadata": {},
   "source": [
    "Para cada uno de los valores propios y un $h$ se debe cumplir que $|1+\\lambda h| < 1$, sabemos\n",
    "$h>0$ por lo que nos queda $h>\\frac{-2}{\\lambda}$"
   ]
  },
  {
   "cell_type": "code",
   "execution_count": null,
   "metadata": {
    "collapsed": false
   },
   "outputs": [],
   "source": [
    "max(-2/(ev_A)) # Obtenemos el valor mínimo de h que podemos tomar como el mayor de ésta división."
   ]
  },
  {
   "cell_type": "code",
   "execution_count": null,
   "metadata": {
    "collapsed": false,
    "scrolled": false
   },
   "outputs": [],
   "source": [
    "t_f = 100\n",
    "h   = 0.01\n",
    "t   =  np.linspace(0, t_f, (t_f/h)+1)\n",
    "\n",
    "dataRK4   = RK4_int(lorenz, Y_0, t, h)\n",
    "dataMP    = mp_int(lorenz, Y_0, t, h)\n",
    "dataEuler = euler_int(lorenz, Y_0, t, h)\n"
   ]
  },
  {
   "cell_type": "code",
   "execution_count": null,
   "metadata": {
    "collapsed": false,
    "scrolled": true
   },
   "outputs": [],
   "source": [
    "# No resultan los animate D: intenté con la transpuesta tmn.\n",
    "# OJO que cambie el número de frames del código original porque no era int.\n",
    "\n",
    "#animate_lorenz(dataMP, 1)\n",
    "animate_lorenz(dataRK4, 1)\n",
    "#animate_lorenz(dataEuler, 1)\n",
    "\n",
    "#Un plot rápido para comprobar que está bien\n",
    "#plt.figure(figsize=(10,6))\n",
    "#plt.scatter(dataRK4[:,0], dataRK4[:,1])\n",
    "#plt.show()"
   ]
  },
  {
   "cell_type": "markdown",
   "metadata": {},
   "source": [
    "### c) Profiling"
   ]
  },
  {
   "cell_type": "code",
   "execution_count": null,
   "metadata": {
    "collapsed": false
   },
   "outputs": [],
   "source": [
    "t_f = 1000\n",
    "h   = 0.01\n",
    "t   = np.linspace(0, t_f, (t_f/h)+1)\n",
    "#timeit\n",
    "for name in methods:\n",
    "    print(name + \":\")\n",
    "    %timeit methods[name](lorenz, Y_0, t, h)"
   ]
  },
  {
   "cell_type": "code",
   "execution_count": null,
   "metadata": {
    "collapsed": false
   },
   "outputs": [],
   "source": [
    "for name in methods:\n",
    "    print(name + \":\")\n",
    "    %memit methods[name](lorenz, Y_0, t, h)"
   ]
  },
  {
   "cell_type": "markdown",
   "metadata": {},
   "source": [
    "### d) Análisis de estabilidad"
   ]
  },
  {
   "cell_type": "code",
   "execution_count": null,
   "metadata": {
    "collapsed": true
   },
   "outputs": [],
   "source": [
    "hs = [0.1, 0.01, 0.005, 0.001]"
   ]
  },
  {
   "cell_type": "markdown",
   "metadata": {},
   "source": [
    "### e) Implementación paralela\n",
    "Ver [anexo 2](#an2)"
   ]
  },
  {
   "cell_type": "markdown",
   "metadata": {},
   "source": [
    "### f) Simulación de dos trayetorias"
   ]
  },
  {
   "cell_type": "markdown",
   "metadata": {},
   "source": [
    "### g) Simulación de veinte trayetorias con RK4"
   ]
  },
  {
   "cell_type": "markdown",
   "metadata": {},
   "source": [
    "<div id='se2'/>\n",
    "## 2.- BVP de orden superior"
   ]
  },
  {
   "cell_type": "markdown",
   "metadata": {},
   "source": [
    "### a) Transformación a IVP acoplado\n",
    "$$ y^{(4)}(x) = -y(x) $$\n",
    "$$ BC: \\{ y(0)= 0, y(2) =1, y'(2)=-1, y''(2)=1 \\} $$\n",
    "\n",
    "Se hace un cambio de variable:\n",
    "$$\n",
    "\\begin{matrix}\n",
    "y_1 & = & y \\\\\n",
    "y_2 & = & y' \\\\\n",
    "y_3 & = & y''\\\\\n",
    "y_4 & = & y^{(3)}\n",
    "\\end{matrix} \\quad \\Longrightarrow \\quad\n",
    "\\begin{matrix}\n",
    "y_1' & = & y' \\\\\n",
    "y_2' & = & y'' \\\\\n",
    "y_3' & = & y^{(3)}\\\\\n",
    "y_4' & = & y^{(4)}\n",
    "\\end{matrix} \\quad \\Longrightarrow \\quad\n",
    "\\begin{matrix}\n",
    "y_1' & = & y_2 \\\\\n",
    "y_2' & = & y_3 \\\\\n",
    "y_3' & = & y_4 \\\\\n",
    "y_4' & = & -y_1\n",
    "\\end{matrix}\n",
    "$$\n",
    "\n",
    "Luego: $ y_1(0)=0, y_2(0) = \\alpha , y_3(0) = \\beta, y_4(0) = \\gamma $\n",
    "\n",
    "Donde $\\alpha$, $\\beta$ y $\\gamma$ son valores tales que permiten que $y_1(2) = 1$, $y_2(2)=-1$ y $y_3(2)=1$ con algún algoritmo."
   ]
  },
  {
   "cell_type": "markdown",
   "metadata": {},
   "source": [
    "### b) Propuesta de cuarta derivada y discretización\n",
    "Para discretizar la ecuación anterior se debe recurrir a Backward Difference (BD), Forward Difference (FD) y Central Difference (CD). Para aproximar la cuarta derivada se van a necesitar 5 puntos como mínimo para la discretización. \n",
    "\n",
    "Lo primero es aproximar las primeras derivadas en los 5 puntos con BD y FD. Luego se aproximarán las segundas derivadas en los puntos intermedios de los 5 puntos (los 3 puntos intermedios). \n",
    "\n",
    "Para calcular las segundas derivadas se hará un CD entre la primera derivada del punto anterior calculada con BD y la primera derivada del punto siguiente calculada con FD, así logramos tener las segundas derivadas para los 3 puntos centrales. Tomando como punto central $x$ y intervalos $h$ las derivadas quedan como sigue:\n",
    "\n",
    "$$ f''(x-h) = \\displaystyle \\frac{f(x-2h) - 2f(x-h) + f(x)}{h^2} $$\n",
    "$$ f''(x) = \\displaystyle \\frac{f(x-h) - 2f(x) + f(x+h)}{h^2} $$\n",
    "$$ f''(x+h) = \\displaystyle \\frac{f(x) - 2f(x+h) + f(x+2h)}{h^2} $$"
   ]
  },
  {
   "cell_type": "markdown",
   "metadata": {},
   "source": [
    "Una vez aproximadas las segundas derivadas, aproximaremos las terceras derivadas. Para ello se utilizará un FD y BW.\n",
    "\n",
    "$$ f^{(3)}(x-h) = \\displaystyle \\frac{f''(x) - f''(x-h)}{h} = \\displaystyle \\frac{f(x+h)-3f(x)+3f(x-h)-f(x-2h)}{h^3} $$\n",
    "$$ f^{(3)}(x+h) = \\displaystyle \\frac{f''(x+h) - f''(x)}{h} = \\displaystyle \\frac{f(x+2h)-3f(x+h)+3f(x)-f(x-h)}{h^3} $$"
   ]
  },
  {
   "cell_type": "markdown",
   "metadata": {},
   "source": [
    "Finalmente, aproximamos la cuarta derivada en $x$ con CD sobre estas dos derivadas.\n",
    "\n",
    "$$ f^{(4)}(x) = \\displaystyle \\frac{f^{(3)}(x+h) - f^{(3)}(x-h)}{2h} = \\displaystyle \\frac{f(x+2h)-4f(x+h)+6f(x)-4f(x-h)+f(x-2h)}{2h^4} $$"
   ]
  },
  {
   "cell_type": "markdown",
   "metadata": {},
   "source": [
    "Además, debemos aproximar la segunda derivada en el punto final. Para ello tendremos problemas si usamos CD ya que no tendremos los puntos que vienen más a la derecha, para ellos tendremos que usar 2 veces BD para sacar 2 primeras derivadas y aplicar BD sobre ellas, considerando $N$ intervalos obtendremos:\n",
    "\n",
    "$$ f''(x_{N}) = \\displaystyle \\frac{y_N-2y_{N-1}+y_{N-2}}{h^2} $$"
   ]
  },
  {
   "cell_type": "markdown",
   "metadata": {},
   "source": [
    "Ahora, discretizando nuestro problema con la aproximación conseguida y tomando $N+1$ puntos $(x_0,y_0),(x_1,y_1),\\cdots ,(x_{N-1},y_{N-1}),(x_{N},y_{N})$ con $h$ como intervalo obtenemos las siguientes ecuaciones:\n",
    "\n",
    "\\begin{align}\n",
    "y_0   &= 0 \\\\\n",
    "y_{i} &= \\displaystyle \\frac{6y_{i}-4y_{i+1}+y_{i+2}-4y_{i-1}+y_{i-2}}{2h^4} \\\\\n",
    "y_{N} &= 1\n",
    "\\end{align}\n",
    "Además:\n",
    "$$ \\displaystyle \\frac{y_{N}-y_{N-1}}{h} = -1 $$\n",
    "$$ \\displaystyle \\frac{y_{N}-2y_{N-1}+y_{N-2}}{h^2} = 1 $$"
   ]
  },
  {
   "cell_type": "markdown",
   "metadata": {},
   "source": [
    "Reemplazando lo conocido y utilizando $ N + 1$ puntos y $N$ intervalos:\n",
    "\n",
    "$$ y_i = \\displaystyle \\frac{6y_i-4y_{i+1}+1-4y_{i-1}}{2h^4} $$\n",
    "$$ \\displaystyle \\frac{1-y_{N-1}}{h} = -1 $$\n",
    "$$ \\displaystyle \\frac{1-2y_{N-1}+y_{N-2}}{h^2} = 1 $$\n",
    "\n",
    "Finalmente tenemos 3 ecuaciones y 3 incógnitas resolvibles con algún algoritmo de resolución de sistemas de ecuaciones lineales."
   ]
  },
  {
   "cell_type": "markdown",
   "metadata": {},
   "source": [
    "### c) Implementación de diferencias finitas\n",
    "Ver [Anexo 4](#an4)"
   ]
  },
  {
   "cell_type": "markdown",
   "metadata": {},
   "source": [
    "Lo primero que se hace para calcular la discretización por medio de diferencias finitas es obtener los valores de $y$ que son fácilmente calculables $y_0, y_N, y_{N-1}, y_{N-2}$ estos valores se obtienen con 4 de las  5 ecuaciones indicadas. En las demás ecuaciones se reemplazan estos valores obtenidos para que dejen de ser incógnitas y pasen a ser valores conocidos y se forma la matriz con las incógnitas restantes. \n",
    "\n",
    "Considerando todas las incógnitas y las condiciones $ y(0)=\\alpha_1, y'(2)=\\alpha_2, y''(2)=\\alpha_3, y(2)=\\alpha_4 $ la matriz queda así:\n",
    "\n",
    "$$\n",
    "\\begin{bmatrix} \n",
    "    1 & 0 & 0 & 0 & 0 & 0 & 0 & 0 & \\cdots & 0 \\\\\n",
    "    -1 & 4 & 2h^4-6 & 4 & -1 & 0 & 0 & 0 &  & 0 \\\\\n",
    "    0 & -1 & 4 & 2h^4-6 & 4 & -1 & 0 & 0 &  & 0 \\\\\n",
    "    0 & 0 & -1 & 4 & 2h^4-6 & 4 & -1 & 0 &  & 0 \\\\\n",
    "    \\vdots & & & & & \\vdots & & & & \\vdots \\\\\n",
    "    0 & \\cdots & 0 & 0 & 0 &  -1 & 4 & 2h^4-6 & 4 & -1 \\\\\n",
    "    0 & \\cdots & 0 & 0 & 0 & 0 & 0 & 0 & -1 & 1 \\\\\n",
    "    0 & \\cdots & 0 & 0 & 0 & 0 & 0 & 1 & -2 & 1 \\\\\n",
    "    0 & \\cdots & 0 & 0 & 0 & 0 & 0 & 0 & 0 & 1\n",
    "\\end{bmatrix}\n",
    "\\left[ \n",
    "\\begin{array}{c} \n",
    "y_0 \\\\ \n",
    "y_1 \\\\\n",
    "y_2 \\\\\n",
    "y_3 \\\\\n",
    "\\vdots \\\\\n",
    "y_{N-3} \\\\\n",
    "y_{N-2} \\\\\n",
    "y_{N-1} \\\\\n",
    "y_N \\\\\n",
    "\\end{array} \\right] \n",
    "=\n",
    "\\left[ \\begin{array}{c}\n",
    "\\alpha_1 \\\\ \n",
    "0 \\\\\n",
    "0 \\\\\n",
    "0 \\\\\n",
    "\\vdots \\\\\n",
    "0 \\\\\n",
    "\\alpha_2 \\, h \\\\\n",
    "\\alpha_3 \\, h^2 \\\\\n",
    "\\alpha_4 \\\\\n",
    "\\end{array} \\right]\n",
    "$$"
   ]
  },
  {
   "cell_type": "markdown",
   "metadata": {},
   "source": [
    "Luego se calculan los valores de 4 incógnitas como:\n",
    "\\begin{align}\n",
    "y_0     &= \\alpha_1 \\\\\n",
    "y_{N-2} &= \\alpha_3 \\, h^4 + \\alpha_4 -2\\alpha_2 \\, h \\\\\n",
    "y_{N-1} &= \\alpha_4 - \\alpha_2 \\, h \\\\\n",
    "y_N     &= \\alpha_4\n",
    "\\end{align}"
   ]
  },
  {
   "cell_type": "markdown",
   "metadata": {},
   "source": [
    "La matriz eliminando las 4 incógnitas fácilmente calculables queda así:\n",
    "$$\n",
    "\\begin{bmatrix} \n",
    "    4 & 2h^4-6 & 4 & -1 & 0 & 0 & 0 & 0 & \\cdots & 0 \\\\\n",
    "    -1 & 4 & 2h^4-6 & 4 & -1 & 0 & 0 & 0 &  & 0 \\\\\n",
    "    0 & -1 & 4 & 2h^4-6 & 4 & -1 & 0 & 0 &  & 0 \\\\\n",
    "    0 & 0 & -1 & 4 & 2h^4-6 & 4 & -1 & 0 &  & 0 \\\\\n",
    "    \\vdots & & & & & \\vdots & & & & \\vdots \\\\\n",
    "    0 & \\cdots & 0 & 0 & 0 &  -1 & 4 & 2h^4-6 & 4 & -1 \\\\\n",
    "    0 & \\cdots & 0 & 0 & 0 & 0 & -1 & 4 & 2h^4-6 & 4 \\\\\n",
    "    0 & \\cdots & 0 & 0 & 0 & 0 & 0 & -1 & 4 & 2h^4-6 \\\\\n",
    "    0 & \\cdots & 0 & 0 & 0 & 0 & 0 & 0 & -1 & 4\n",
    "\\end{bmatrix}\n",
    "\\left[ \n",
    "\\begin{array}{c} \n",
    "y_1 \\\\\n",
    "y_2 \\\\\n",
    "y_3 \\\\\n",
    "y_4 \\\\\n",
    "\\vdots \\\\\n",
    "y_{N-6} \\\\\n",
    "y_{N-5} \\\\\n",
    "y_{N-4} \\\\\n",
    "y_{N-3} \\\\\n",
    "\\end{array} \\right] \n",
    "=\n",
    "\\left[ \\begin{array}{c}\n",
    "\\alpha_1 \\\\ \n",
    "0 \\\\\n",
    "0 \\\\\n",
    "0 \\\\\n",
    "\\vdots \\\\\n",
    "0 \\\\\n",
    "y_{N-2}\\\\\n",
    "y_{N-1}-4y_{N-2}\\\\\n",
    "y_N-4y_{N-1}-(2h^4-6)y_{N-2}\\\\\n",
    "\\end{array} \\right]\n",
    "$$"
   ]
  },
  {
   "cell_type": "markdown",
   "metadata": {},
   "source": [
    "Al observar la matriz se puede notar que es casi una matriz triangular superior por lo que es fácilmente convertible en una. Entonces, con el fin de aprovechar las ventajas de una matriz triangular superior convertimos la matriz $A$ en una de ellas por operaciones filas, el vector $b$ obviamente también se ve afectado.\n",
    "\n",
    "Una vez tenemos nuestro sistema de ecuaciones lineales con una matriz triangular superior lo resolvemos con Backward Substitution obteniendo la solución final."
   ]
  },
  {
   "cell_type": "markdown",
   "metadata": {},
   "source": [
    "### d) Ejecución del algoritmo"
   ]
  },
  {
   "cell_type": "code",
   "execution_count": null,
   "metadata": {
    "collapsed": false
   },
   "outputs": [],
   "source": [
    "#Límite izquierdo de x\n",
    "x0 = 0\n",
    "#Límite derecho de x\n",
    "xN = 2\n",
    "#Valor de y en el límite izquierdo\n",
    "y0 = 0\n",
    "#Valor de y en el límite derecho\n",
    "yN = 1\n",
    "#Valor de la derivada en el límite derecho\n",
    "ydN = -1\n",
    "#Valor de la segunda derivada en el límite derecho\n",
    "yddN = 1\n",
    "\n",
    "for N in [4, 8, 15, 100, 10000]:\n",
    "    f = fin_dif(N, x0, xN, y0, yN, ydN, yddN)\n",
    "    plot_2_D(f)"
   ]
  },
  {
   "cell_type": "markdown",
   "metadata": {},
   "source": [
    "Se puede apreciar claramente como al aumentar la cantidad de intervalos $N$ la presición de la función a aproximar aumenta.\n",
    "\n",
    "En la primera figura ($N=4$) se puede ver una gráfica muy discretizada donde las líneas no se ven suaves.\n",
    "\n",
    "En la segunda figura ($N=8$) ya se puede observar mejor la forma de la función, quizás esta discretización ya baste para algunas aplicaciones obteniendo un valor de y bastante cercano al real a pesar de que en la gráfica aún se pueden observar los límites de cada intervalo.\n",
    "\n",
    "En la tercera figura ($N=15$) con mucho detalle se pueden observar aún los intervalos de discretización pero ya tenemos una función que se puede apreciar correctamente.\n",
    "\n",
    "En la cuarta ($N=100$) y quinta ($N=10000$) figura ya no se pueden apreciar a simple vista donde comienza y termina un intervalo de discretización, la precisión de las aproximación es bastante alta en estos gráficos."
   ]
  },
  {
   "cell_type": "markdown",
   "metadata": {},
   "source": [
    "## Conclusiones"
   ]
  },
  {
   "cell_type": "markdown",
   "metadata": {},
   "source": [
    "## Referencias\n",
    "<div id='ref1'\\> [1] [Título](www.google.com) Títulos sec. *desc*. Revisado xx/xx/xxxx"
   ]
  },
  {
   "cell_type": "markdown",
   "metadata": {
    "collapsed": false
   },
   "source": [
    "## Anexos\n",
    "Comenzamos cargando los modulos necesarios:"
   ]
  },
  {
   "cell_type": "code",
   "execution_count": null,
   "metadata": {
    "collapsed": false
   },
   "outputs": [],
   "source": [
    "import numpy as np\n",
    "from scipy import integrate\n",
    "from matplotlib import pyplot as plt\n",
    "from mpl_toolkits.mplot3d import Axes3D\n",
    "from matplotlib.colors import cnames\n",
    "from matplotlib import animation\n",
    "#%matplotlib notebook \n",
    "%matplotlib nbagg\n",
    "#%load_ext memory_profiler\n",
    "#plt.close('all')\n",
    "#IGNORAR WARNINGS    import warnings    warnings.filterwarnings('ignore')"
   ]
  },
  {
   "cell_type": "code",
   "execution_count": null,
   "metadata": {
    "collapsed": false
   },
   "outputs": [],
   "source": [
    "#método que permite dibujar gráficos para la pregunda 2.d\n",
    "def plot_2_D(f):\n",
    "    #Tamaño de los graficos\n",
    "    FIGSIZE = (12, 6)\n",
    "    plt.figure(figsize=FIGSIZE)\n",
    "    plt.plot(f[:,0], f[:,1])\n",
    "    plt.title('Gráfico de y(x) ')\n",
    "    plt.xlabel(\"x\")\n",
    "    plt.ylabel(\"y\")\n",
    "    plt.show()\n"
   ]
  },
  {
   "cell_type": "markdown",
   "metadata": {},
   "source": [
    "<div id='an1'\\> \n",
    "### Métodos implementados:"
   ]
  },
  {
   "cell_type": "code",
   "execution_count": null,
   "metadata": {
    "collapsed": false
   },
   "outputs": [],
   "source": [
    "def euler_int(func, y0, t, h):\n",
    "    ys = np.zeros([t.shape[0],y0.shape[0]])\n",
    "    ys = np.float64(ys)\n",
    "    ys[0,:] = y0\n",
    "    for i in range(t.shape[0]-1):\n",
    "        ys[i+1,:] = ys[i,:] + h*func(t[i], ys[i,:])\n",
    "    return ys"
   ]
  },
  {
   "cell_type": "code",
   "execution_count": null,
   "metadata": {
    "collapsed": false
   },
   "outputs": [],
   "source": [
    "def mp_int(func, y0, t, h):\n",
    "    h2 = h/2\n",
    "    ys = np.zeros([t.shape[0],y0.shape[0]])\n",
    "    ys = np.float64(ys)\n",
    "    ys[0,:] = y0\n",
    "    for i in range(t.shape[0]-1):\n",
    "        k1 = ys[i,:] + h2*func(t[i], ys[i,:])\n",
    "        ys[i+1,:] = ys[i,:] + h*func(t[i] + h2 , k1)\n",
    "    return ys"
   ]
  },
  {
   "cell_type": "code",
   "execution_count": null,
   "metadata": {
    "collapsed": true
   },
   "outputs": [],
   "source": [
    "def RK4_int(func, y0, t, h):\n",
    "    h2 = h/2\n",
    "    ys = np.zeros([t.shape[0],y0.shape[0]])\n",
    "    ys = np.float64(ys)\n",
    "    ys[0,:] = y0\n",
    "    for i in range(t.shape[0]-1):\n",
    "        k1 = func(t[i], ys[i,:])\n",
    "        k2 = func(t[i] + h2, ys[i,:] + h2*k1)\n",
    "        k3 = func(t[i] + h2, ys[i,:] + h2*k2)\n",
    "        k4 = func(t[i] + h,  ys[i,:] + h*k3)\n",
    "        ys[i+1,:] = ys[i,:] + (h/6)*(k1 + 2*(k2 + k3) + k4)\n",
    "    return ys"
   ]
  },
  {
   "cell_type": "code",
   "execution_count": null,
   "metadata": {
    "collapsed": true
   },
   "outputs": [],
   "source": [
    "methods = {\"Euler\": euler_int, \"MidPoint\": mp_int, \"RK4\": RK4_int}"
   ]
  },
  {
   "cell_type": "code",
   "execution_count": null,
   "metadata": {
    "collapsed": false,
    "scrolled": true
   },
   "outputs": [],
   "source": [
    "#test 1-D\n",
    "y0 = np.array([1])\n",
    "tf = 4\n",
    "h  = 1\n",
    "t  = np.linspace(0, tf, (tf/h)+1)\n",
    "f  = lambda t,y: np.e**t\n",
    "\n",
    "#print(euler_int(f, y0, t, h)[-1,:])\n",
    "#print(mp_int(f, y0, t, h)[-1,:])\n",
    "#print(RK4_int(f, y0, t, h)[-1,:])\n",
    "#print(f(4,0))\n",
    "\n",
    "#test N-D\n",
    "y02 = np.array([1,2])\n",
    "tf = 4\n",
    "h  = 1\n",
    "t  = np.linspace(0, tf, (tf/h)+1)\n",
    "f2 = lambda t,y: np.array([t+y[0], y[1]+y[0]])\n",
    "\n",
    "#print(\"Euler\")\n",
    "#print(euler_int(f2, y02, t, h)[-1,:])\n",
    "#print(\"MP\")\n",
    "#print(mp_int(f2, y02, t, h)[-1,:])\n",
    "#print(\"RK4\")\n",
    "#print(RK4_int(f2, y02, t, h)[-1,:])"
   ]
  },
  {
   "cell_type": "markdown",
   "metadata": {},
   "source": [
    "<div id='an2'\\> \n",
    "### Métodos paralelos:"
   ]
  },
  {
   "cell_type": "code",
   "execution_count": null,
   "metadata": {
    "collapsed": true
   },
   "outputs": [],
   "source": [
    "#Retorna una función que ejecuta la función original en una matriz\n",
    "def mk_parallel_func(func):\n",
    "    def new_func(t, f, r): #r es un array ya creado, con las dimensiones correctas.\n",
    "        for i in range(r.shape[1]):\n",
    "            r[:,i] = func(t, f[:,i])\n",
    "        return r\n",
    "    return new_func"
   ]
  },
  {
   "cell_type": "code",
   "execution_count": null,
   "metadata": {
    "collapsed": false
   },
   "outputs": [],
   "source": [
    "def parallel_euler_int(func, y0, t, h):\n",
    "    ys = np.float64(np.zeros([t.shape[0], y0.shape[1], y0.shape[0]]))\n",
    "    rf = np.float64(np.zeros([y0.shape[1], y0.shape[0]]))\n",
    "    ys[0,:,:] = y0.T\n",
    "    vf = mk_parallel_func(func)\n",
    "    for i in range(t.shape[0]-1):\n",
    "        #for j in range(y0.shape[0]):\n",
    "        #    rf[:,j] = func(t[i], ys[i,:,j])\n",
    "        ys[i+1,:,:] = ys[i,:,:] + h * vf(t[0], ys[i,:,:], rf)#rf\n",
    "    return ys"
   ]
  },
  {
   "cell_type": "code",
   "execution_count": null,
   "metadata": {
    "collapsed": false
   },
   "outputs": [],
   "source": [
    "def parallel_mp_int(func, y0, t, h):\n",
    "    h2 = h/2\n",
    "    ys = np.float64(np.zeros([t.shape[0], y0.shape[1], y0.shape[0]]))\n",
    "    rf = np.float64(np.zeros([y0.shape[1], y0.shape[0]]))\n",
    "    ys[0,:,:] = y0.T\n",
    "    vf = mk_parallel_func(func)\n",
    "    for i in range(t.shape[0]-1):\n",
    "        k1 = ys[i,:,:] + h2*vf(t[i], ys[i,:,:], rf)\n",
    "        ys[i+1,:,:] = ys[i,:,:] + h*vf(t[i] + h2 , k1, rf)\n",
    "    return ys"
   ]
  },
  {
   "cell_type": "code",
   "execution_count": null,
   "metadata": {
    "collapsed": true
   },
   "outputs": [],
   "source": [
    "def parallel_RK4_int(func, y0, t, h):\n",
    "    h2 = h/2\n",
    "    ys = np.float64(np.zeros([t.shape[0], y0.shape[1], y0.shape[0]]))\n",
    "    rf = np.float64(np.zeros([y0.shape[1], y0.shape[0]]))\n",
    "    ys[0,:,:] = y0.T\n",
    "    vf = mk_parallel_func(func)\n",
    "    for i in range(t.shape[0]-1):\n",
    "        k1 = np.copy( vf(t[i], ys[i,:,:], rf) )\n",
    "        k2 = np.copy( vf(t[i] + h2, ys[i,:,:] + h2*k1, rf) )\n",
    "        k3 = np.copy( vf(t[i] + h2, ys[i,:,:] + h2*k2, rf) )\n",
    "        k4 = np.copy( vf(t[i] + h,  ys[i,:,:] + h*k3,  rf) )\n",
    "        ys[i+1,:,:] = ys[i,:,:] + (h/6)*(k1 + 2*(k2 + k3) + k4)\n",
    "    return ys"
   ]
  },
  {
   "cell_type": "code",
   "execution_count": null,
   "metadata": {
    "collapsed": false
   },
   "outputs": [],
   "source": [
    "#Test parallel\n",
    "\n",
    "lns = np.linspace(0, 1, 5)\n",
    "c1  = np.array([1,1,1])\n",
    "c2  = np.array([2,2,2])\n",
    "c3  = np.array([[1,1,1],[2,2,2]])\n",
    "#print(RK4_int(lorenz, c1, lns, .25)[1,:])\n",
    "print(RK4_int(lorenz, c2, lns, .25))\n",
    "print(parallel_RK4_int(lorenz, c3, lns, .25)[:,:,1])"
   ]
  },
  {
   "cell_type": "markdown",
   "metadata": {},
   "source": [
    "<div id='an3'\\> \n",
    "### Visualización de resultados"
   ]
  },
  {
   "cell_type": "code",
   "execution_count": null,
   "metadata": {
    "collapsed": false
   },
   "outputs": [],
   "source": [
    "\"\"\"\n",
    "-> x_t\n",
    "   arreglo con las posiciones (x,y,z) de las trayectorias. Este puede ser\n",
    "   de dos dimensiones (len(t), 3) para una sola trayectoria, o puede ser \n",
    "   de tres dimensiones (len(t), 3, N_trajectories) para mas de una trayectoria\n",
    "-> N_trajectories\n",
    "   numero de trayectorias a visualizar\n",
    "-> xlim,ylim,zlim\n",
    "   limites en los ejes x,y,z de la animacion\n",
    "-> rotate\n",
    "   rotar mientras anima para mejores perspectivas\n",
    "\"\"\"\n",
    "def animate_lorenz(x_t, N_trajectories, xlim=(-20,70), ylim=(-35,35), zlim=(-35,35), rotate=False):\n",
    "    #setting it to correct format\n",
    "    if x_t.ndim==2:\n",
    "        x_t = np.array([x_t])\n",
    "    elif x_t.ndim==3: \n",
    "        x_t = np.rot90(x_t).T\n",
    "    else:\n",
    "        return -1\n",
    "    #setting the number of frames\n",
    "    frames = max(x_t.shape)\n",
    "    frames /= 2\n",
    "    frames = int(frames)\n",
    "    #set up figure & 3D axis for animation\n",
    "    fig = plt.figure()\n",
    "    ax = fig.add_axes([0, 0, 1, 1], projection='3d')\n",
    "    #ax.axis('off')\n",
    "\n",
    "    #choose a different color for each trajectory\n",
    "    colors = plt.cm.jet(np.linspace(0, 1, N_trajectories))\n",
    "\n",
    "    #set up lines and points\n",
    "    lines = sum([ax.plot([], [], [], '-', c=c)\n",
    "                 for c in colors], [])\n",
    "    pts = sum([ax.plot([], [], [], 'o', c=c)\n",
    "               for c in colors], [])\n",
    "\n",
    "    #prepare the axes limits\n",
    "    ax.set_xlim(xlim)\n",
    "    ax.set_ylim(ylim)\n",
    "    ax.set_zlim(zlim)\n",
    "\n",
    "    #set point-of-view: specified by (altitude degrees, azimuth degrees)\n",
    "    ax.view_init(30, 0)\n",
    "\n",
    "    #initialization function: plot the background of each frame\n",
    "    def init():\n",
    "        for line, pt in zip(lines, pts):\n",
    "            line.set_data([], [])\n",
    "            line.set_3d_properties([])\n",
    "\n",
    "            pt.set_data([], [])\n",
    "            pt.set_3d_properties([])\n",
    "        return lines + pts\n",
    "\n",
    "    #animation function.  This will be called sequentially with the frame number\n",
    "    def animate(i):\n",
    "        # we'll step two time-steps per frame.  This leads to nice results.\n",
    "        i = (2 * i) % x_t.shape[1]\n",
    "\n",
    "        for line, pt, xi in zip(lines, pts, x_t):\n",
    "            x, y, z = xi[:i].T\n",
    "            line.set_data(x, y)\n",
    "            line.set_3d_properties(z)\n",
    "\n",
    "            pt.set_data(x[-1:], y[-1:])\n",
    "            pt.set_3d_properties(z[-1:])\n",
    "\n",
    "        if rotate: ax.view_init(30, 0.3 * i)\n",
    "        fig.canvas.draw()\n",
    "        return lines + pts\n",
    "\n",
    "    #instantiate the animator.\n",
    "    anim = animation.FuncAnimation(fig, animate, init_func=init,\n",
    "                                   frames=frames, interval=30, blit=True, repeat=False)\n",
    "    #show it\n",
    "    ax.set_title('Lorenz Simulation')\n",
    "    ax.set_xlabel('x(t)')\n",
    "    ax.set_ylabel('y(t)')\n",
    "    ax.set_zlabel('z(t)')\n",
    "    plt.show()"
   ]
  },
  {
   "cell_type": "markdown",
   "metadata": {},
   "source": [
    "<div id='an4'\\> \n",
    "### Implementación de diferencias finitas"
   ]
  },
  {
   "cell_type": "code",
   "execution_count": null,
   "metadata": {
    "collapsed": false,
    "scrolled": true
   },
   "outputs": [],
   "source": [
    "def fin_dif(N, x0, xN, y0, yN, ydN, yddN):\n",
    "    if (N<4):\n",
    "        print('Error: Se necesita al menos 4 intervalos (5 puntos).');\n",
    "        return;\n",
    "    #inicializando vector de y con ceros.\n",
    "    y = np.zeros([N+1,1])\n",
    "    #tamaño del intervalo\n",
    "    h = (xN-x0)/N;\n",
    "    x = np.linspace(x0, xN, N+1);\n",
    "    \n",
    "    #estableciendo valores conocidos\n",
    "    y[0] = y0;\n",
    "    y[N] = yN;\n",
    "    y[N-1] = y[N]-ydN*h\n",
    "    y[N-2] = yddN*h**4+yN-2*ydN*h;\n",
    "    \n",
    "    M = (N+1)-4;\n",
    "    A = np.zeros([M, M]);\n",
    "    b = np.zeros([M, 1]);\n",
    "    \n",
    "    #creando matriz A\n",
    "    for i in range(M):\n",
    "        if (i >= 1):\n",
    "            A[i,i-1] = -1;\n",
    "        A[i,i] = 4;\n",
    "        if (i <= M-2):\n",
    "            A[i,i+1] = 2*h**4-6;\n",
    "        if (i <= M-3):\n",
    "            A[i,i+2] = 4;\n",
    "        if (i <= M-4):\n",
    "            A[i,i+3] = -1;\n",
    "            \n",
    "    #creando vector b\n",
    "    b[0] = y[0];\n",
    "    if (M >= 3):\n",
    "        b[M-3] = b[M-3] + y[N-2];\n",
    "    if (M >= 2):\n",
    "        b[M-2] = b[M-2] + y[N-1] - 4*y[N-2];\n",
    "    b[M-1] = b[M-1] + y[N] - 4*y[N-1] - (2*h**4-6)*y[N-2];\n",
    "    \n",
    "    #convirtiendo la matriz A en triangular superior\n",
    "    for i in range(M-1):\n",
    "        A[i+1, :] = A[i+1, :]+A[i, :]/A[i,i];\n",
    "        b[i+1] = b[i+1]+b[i]/A[i,i];\n",
    "    \n",
    "    # Resolviendo el sistema de ecuaciones lineales con backward substitution\n",
    "    for i in range(M-1,-1,-1):\n",
    "        j = i+1;\n",
    "        if (i== M-1):\n",
    "            y[j] = b[i]/A[i,i]\n",
    "        elif (i== M-2):\n",
    "            y[j] = (b[i]-A[i,i+1]*y[j+1])/A[i,i];\n",
    "        elif (i== M-3):\n",
    "            y[j] = (b[i]-A[i,i+1]*y[j+1]-A[i,i+2]*y[j+2])/A[i,i];\n",
    "        else:\n",
    "            y[j] = (b[i]-A[i,i+1]*y[j+1]-A[i,i+2]*y[j+2]-A[i,i+3]*y[j+3])/A[i,i];\n",
    "            \n",
    "    #formateando output\n",
    "    f = np.zeros([N+1, 2]);\n",
    "    f[:,0] = x;\n",
    "    f[:,1] = y[:,0];\n",
    "    return f;"
   ]
  },
  {
   "cell_type": "markdown",
   "metadata": {},
   "source": [
    "<div id='an5'\\> \n",
    "### Utilidades"
   ]
  }
 ],
 "metadata": {
  "git": {
   "suppress_outputs": true
  },
  "kernelspec": {
   "display_name": "Python 3",
   "language": "python",
   "name": "python3"
  },
  "language_info": {
   "codemirror_mode": {
    "name": "ipython",
    "version": 3
   },
   "file_extension": ".py",
   "mimetype": "text/x-python",
   "name": "python",
   "nbconvert_exporter": "python",
   "pygments_lexer": "ipython3",
   "version": "3.4.3"
  }
 },
 "nbformat": 4,
 "nbformat_minor": 0
}
