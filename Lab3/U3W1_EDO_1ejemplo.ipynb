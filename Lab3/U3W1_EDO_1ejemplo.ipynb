{
 "cells": [
  {
   "cell_type": "markdown",
   "metadata": {},
   "source": [
    "***\n",
    "### DISCLAIMER ###\n",
    "\n",
    "El presente ipython notebook ha sido creado para el curso **ILI286 - Computación Científica 2**, del [Departamento de Informática](http://www.inf.utfsm.cl/), [Universidad Técnica Federico Santa María](http://www.utfsm.cl/). \n",
    "\n",
    "El material ha sido creado por Claudio Torres <ctorres@inf.utfsm.cl> y Sebastian Flores <sebastian.flores@usm.cl>, y es distribuido sin restricciones. En caso de encontrar un error, por favor no dude en contactarnos.\n",
    "\n",
    "[Update 2015] Se ha actualizado los notebooks a Python 3 e includio el \"magic\" \"%matplotlib inline\" antes de cargar matplotlib para que los gráficos se generen en el notebook. \n",
    "***"
   ]
  },
  {
   "cell_type": "markdown",
   "metadata": {},
   "source": [
    "## Algunos códigos utilizados en este notebook han sido obtenidos del libro \"Lloyd N. Trefethen, Spectral Methods in MATLAB, SIAM, Philadelphia, 2000\" y traducidos a python."
   ]
  },
  {
   "cell_type": "markdown",
   "metadata": {},
   "source": [
    "# Regiones de Convergencia, EDOs numéricas #"
   ]
  },
  {
   "cell_type": "code",
   "execution_count": null,
   "metadata": {
    "collapsed": false
   },
   "outputs": [],
   "source": [
    "%matplotlib inline\n",
    "import matplotlib as plt\n",
    "from matplotlib import pyplot\n",
    "import numpy as np\n",
    "L = 6\n",
    "\n",
    "def zplot(z, ax=pyplot.gca(), lw=1.5):\n",
    "  ax.plot(np.real(z), np.imag(z), 'k', lw=lw)"
   ]
  },
  {
   "cell_type": "markdown",
   "metadata": {},
   "source": [
    "## Adams - Bashforth ##"
   ]
  },
  {
   "cell_type": "code",
   "execution_count": null,
   "metadata": {
    "collapsed": false
   },
   "outputs": [],
   "source": [
    "def adams_bashforth(ax):\n",
    "  z = np.exp(1j * np.pi * np.arange(201)/100.)\n",
    "  r = z-1\n",
    "  s1 = 1\n",
    "  s2 = (3.-1./z)/2.\n",
    "  s3 = (23.-16./z+5./z**2)/12.\n",
    "  zplot(r/s1, ax)\n",
    "  zplot(r/s2, ax)\n",
    "  zplot(r/s3, ax)\n",
    "  ax.axis(\"equal\")\n",
    "  ax.axis([-2.5, 0.5, -1.5, 1.5])\n",
    "  ax.grid(\"on\")\n",
    "  ax.set_title(\"Adams-Bashforth\")\n",
    "  return ax\n",
    "\n",
    "fig = pyplot.figure(figsize=(L,L))\n",
    "adams_bashforth(fig.gca())"
   ]
  },
  {
   "cell_type": "markdown",
   "metadata": {},
   "source": [
    "## Adams - Moulton ##"
   ]
  },
  {
   "cell_type": "code",
   "execution_count": null,
   "metadata": {
    "collapsed": false
   },
   "outputs": [],
   "source": [
    "def adams_moulton(ax):\n",
    "  z = np.exp(1j * np.pi * np.arange(201)/100.)\n",
    "  r = z-1\n",
    "  d = 1-1./z;\n",
    "  s3 = (5*z+8-1./z)/12.\n",
    "  s4 = (9*z+19.-5./z+1./z**2)/24.\n",
    "  s5 = (251*z+646-264./z+106./z**2-19./z**3)/720.\n",
    "  s6 = 1-d/2-d**2/12-d**3/24-19*d**4/720-3*d**5/160.\n",
    "  zplot(r/s3, ax)\n",
    "  zplot(r/s4, ax)\n",
    "  zplot(r/s5, ax)\n",
    "  zplot(d/s6, ax)\n",
    "  ax.axis(\"equal\")\n",
    "  ax.axis([-7, 1, -4, 4])\n",
    "  ax.grid(\"on\")\n",
    "  ax.set_title(\"Adams-Moulton\")\n",
    "  return ax\n",
    "\n",
    "fig = pyplot.figure(figsize=(L,L))\n",
    "adams_moulton(fig.gca())\n"
   ]
  },
  {
   "cell_type": "markdown",
   "metadata": {},
   "source": [
    "## Backward Differentiation ##"
   ]
  },
  {
   "cell_type": "code",
   "execution_count": null,
   "metadata": {
    "collapsed": false
   },
   "outputs": [],
   "source": [
    "# Subplot 3 : Backward differentiation:\n",
    "def backward_differentiation(ax):\n",
    "  z = np.exp(1j * np.pi * np.arange(201)/100.)\n",
    "  r = z-1\n",
    "  d = 1-1./z;\n",
    "  r = 0\n",
    "  for i in np.arange(1.,7.):\n",
    "    r = r+np.power(d,i)/i\n",
    "    zplot(r, ax)\n",
    "  ax.axis(\"equal\")\n",
    "  ax.axis([-15, 35, -25, 25])\n",
    "  ax.grid(\"on\")\n",
    "  ax.set_title('Backward Differentiation')\n",
    "  return ax\n",
    "\n",
    "fig = pyplot.figure(figsize=(L,L))\n",
    "backward_differentiation(fig.gca())\n"
   ]
  },
  {
   "cell_type": "markdown",
   "metadata": {},
   "source": [
    "## Runge Kutta ##"
   ]
  },
  {
   "cell_type": "code",
   "execution_count": null,
   "metadata": {
    "collapsed": false
   },
   "outputs": [],
   "source": [
    "def runge_kutta(ax):\n",
    "  z = np.exp(1j * np.pi * np.arange(201)/100.)\n",
    "  r = z-1\n",
    "  d = 1-1./z;\n",
    "  # Order 1\n",
    "  W1, W2, W3, W4 = [0], [0], [0], [0]\n",
    "  for zi in z[1:]:\n",
    "    W1.append( W1[-1]-(1.+W1[-1]-zi) )\n",
    "  for zi in z[1:]:\n",
    "    W2.append( W2[-1]-(1+W2[-1]+.5*W2[-1]**2-zi**2)/(1+W2[-1]) )\n",
    "  for zi in z[1:]:\n",
    "    num = (1+W3[-1]+.5*W3[-1]**2+W3[-1]**3/6.-zi**3)\n",
    "    den = (1+W3[-1]+W3[-1]**2/2.)\n",
    "    W3.append( W3[-1] - num/den )\n",
    "  for zi in z[1:]:\n",
    "    num = (1+W4[-1]+.5*W4[-1]**2+W4[-1]**3/6+W4[-1]**4/24-zi**4)\n",
    "    den = (1+W4[-1]+W4[-1]**2/2+W4[-1]**3/6.)\n",
    "    W4.append( W4[-1] - num/den )\n",
    "  zplot(W1, ax)\n",
    "  zplot(W2, ax)\n",
    "  zplot(W3, ax)\n",
    "  zplot(W4, ax)\n",
    "  ax.axis(\"equal\")\n",
    "  ax.axis([-5, 2, -3.5, 3.5])\n",
    "  ax.grid(\"on\")\n",
    "  ax.set_title(\"Runge-Kutta\")\n",
    "  return ax\n",
    "\n",
    "fig = pyplot.figure(figsize=(L,L))\n",
    "runge_kutta(fig.gca())"
   ]
  },
  {
   "cell_type": "markdown",
   "metadata": {},
   "source": [
    "## Comparación de todos los métodos ##"
   ]
  },
  {
   "cell_type": "code",
   "execution_count": null,
   "metadata": {
    "collapsed": false
   },
   "outputs": [],
   "source": [
    "fig, axs = pyplot.subplots(2, 2, figsize=(L,L))\n",
    "adams_bashforth(axs[0,0])\n",
    "adams_moulton(axs[0,1])\n",
    "backward_differentiation(axs[1,0])\n",
    "runge_kutta(axs[1,1])\n",
    "fig.subplots_adjust(hspace=0.3, wspace=0.2)\n",
    "pyplot.show()"
   ]
  },
  {
   "cell_type": "markdown",
   "metadata": {},
   "source": [
    "# Un ejemplo práctico"
   ]
  },
  {
   "cell_type": "markdown",
   "metadata": {},
   "source": [
    "Se presenta un ejemplo simple de un IVP"
   ]
  },
  {
   "cell_type": "code",
   "execution_count": null,
   "metadata": {
    "collapsed": false
   },
   "outputs": [],
   "source": [
    "from scipy.integrate import odeint\n",
    "from pylab import *\n",
    "\n",
    "def my_f(t,y):\n",
    "    return np.array(y*(1-y))\n",
    "\n",
    "def euler_ode(y,t,f,h):\n",
    "    return y+h*f(t,y)\n",
    "\n",
    "def RK2_ode(y,t,f,h):\n",
    "    k1=y+h/2.0*f(t,y) #or euler_ode(y,t,f,h)\n",
    "    return y+h*f(t+h/2.0,k1)\n",
    "\n",
    "def RK4_ode(y,t,f,h):\n",
    "    k1=f(t,y)\n",
    "    k2=f(t+h/2.0,y+(h/2.0)*k1)\n",
    "    k3=f(t+h/2.0,y+(h/2.0)*k2)\n",
    "    k4=f(t+h,y+h*k3)\n",
    "    return y+(h/6.0)*(k1+2*k2+2*k3+k4)\n"
   ]
  },
  {
   "cell_type": "code",
   "execution_count": null,
   "metadata": {
    "collapsed": false
   },
   "outputs": [],
   "source": [
    "y0=-0.2\n",
    "\n",
    "h=0.1\n",
    "\n",
    "t_times = np.arange(0, 4, h)\n",
    "y_output = np.zeros(t_times.size)\n",
    "y_output[0] = y0\n",
    "for i in range(1,t_times.size):\n",
    "    #y_output[i]=euler_ode(y_output[i-1],t_times[i-1],my_f,h)\n",
    "    #y_output[i]=RK2_ode(y_output[i-1],t_times[i-1],my_f,h)\n",
    "    y_output[i]=RK4_ode(y_output[i-1],t_times[i-1],my_f,h)\n",
    "    \n",
    "fig = pyplot.figure(figsize=(5,5))\n",
    "ax = fig.gca()\n",
    "ax.axis(\"equal\")\n",
    "ax.grid(True)\n",
    "ax.set_title(\"Numerical Approximation\")\n",
    "ax.axis([0, 4, -2, 2])\n",
    "\n",
    "plot(t_times,y_output,'-')\n",
    "plot(t_times,y_output,'.k')\n"
   ]
  },
  {
   "cell_type": "markdown",
   "metadata": {},
   "source": [
    "Ahora con muchas condiciones iniciales"
   ]
  },
  {
   "cell_type": "code",
   "execution_count": null,
   "metadata": {
    "collapsed": false
   },
   "outputs": [],
   "source": [
    "h=0.1\n",
    "t_times = np.arange(0, 4, h)\n",
    "fig = pyplot.figure(figsize=(5,5))\n",
    "fig.clf()\n",
    "ax = fig.gca()\n",
    "ax.axis(\"equal\")\n",
    "ax.grid(True)\n",
    "ax.set_title(\"Numerical Approximation\")\n",
    "ax.axis([0, 4, -2, 2])\n",
    "\n",
    "for y0 in np.arange(-1,5,0.1): \n",
    "    y_output = np.zeros(t_times.size)\n",
    "    y_output[0] = y0\n",
    "    for i in range(1,t_times.size):\n",
    "        #y_output[i]=euler_ode(y_output[i-1],t_times[i-1],my_f,h)\n",
    "        #y_output[i]=RK2_ode(y_output[i-1],t_times[i-1],my_f,h)\n",
    "        y_output[i]=RK4_ode(y_output[i-1],t_times[i-1],my_f,h)\n",
    "    plot(t_times,y_output,'-')"
   ]
  },
  {
   "cell_type": "markdown",
   "metadata": {},
   "source": [
    "## What about a second order problem?"
   ]
  },
  {
   "cell_type": "markdown",
   "metadata": {},
   "source": [
    "$$\\ddot{y}-\\mu\\,(1-y^2)\\,\\dot{y}+y=0$$ with $y(0)=2$ and $\\dot{y}(0)=0$."
   ]
  },
  {
   "cell_type": "code",
   "execution_count": null,
   "metadata": {
    "collapsed": false
   },
   "outputs": [],
   "source": [
    "def my_vdp(t,y):\n",
    "    mu=10\n",
    "    y1=y[0]\n",
    "    y2=y[1]\n",
    "    return np.array([y2, mu*(1-y1**2)*y2-y1])"
   ]
  },
  {
   "cell_type": "code",
   "execution_count": null,
   "metadata": {
    "collapsed": false
   },
   "outputs": [],
   "source": [
    "y0=[2, 0]\n",
    "\n",
    "h=0.0001\n",
    "\n",
    "T=40\n",
    "\n",
    "t_times = np.arange(0, T, h)\n",
    "y_output = np.zeros([t_times.size,2])\n",
    "y_output[0,:] = y0\n",
    "for i in range(1,t_times.size):\n",
    "    y_output[i,:]=euler_ode(y_output[i-1,:],t_times[i-1],my_vdp,h)\n",
    "    \n",
    "fig = pyplot.figure(figsize=(5,5))\n",
    "ax = fig.gca()\n",
    "#ax.axis(\"equal\")\n",
    "plt.xlabel(\"t\")\n",
    "plt.ylabel(\"y(t)\")\n",
    "ax.grid(True)\n",
    "ax.set_title(\"Numerical Approximation\")\n",
    "#ax.axis([0, 4, -2, 2])\n",
    "\n",
    "plot(t_times,y_output[:,0],'-')\n",
    "#plot(t_times,y_output[:,1],'r-')\n",
    "#plot(t_times,y_output[:,0],'.k')"
   ]
  },
  {
   "cell_type": "code",
   "execution_count": null,
   "metadata": {
    "collapsed": false
   },
   "outputs": [],
   "source": [
    "y_output[0,:]=RK4_ode(y_output[0,:],t_times[0],my_vdp,h)\n",
    "print(y_output[0,:])"
   ]
  },
  {
   "cell_type": "markdown",
   "metadata": {},
   "source": [
    "Now looking at the phase portrait"
   ]
  },
  {
   "cell_type": "code",
   "execution_count": null,
   "metadata": {
    "collapsed": false
   },
   "outputs": [],
   "source": [
    "fig = pyplot.figure(figsize=(5,5))\n",
    "ax = fig.gca()\n",
    "#ax.axis(\"equal\")\n",
    "ax.grid(True)\n",
    "ax.set_title(\"Phase Portrait\")\n",
    "plt.xlabel(\"y1(t)\")\n",
    "plt.ylabel(\"y2(t)\")\n",
    "plot(y_output[:,0],y_output[:,1],'-')"
   ]
  },
  {
   "cell_type": "code",
   "execution_count": null,
   "metadata": {
    "collapsed": false
   },
   "outputs": [],
   "source": []
  },
  {
   "cell_type": "code",
   "execution_count": null,
   "metadata": {
    "collapsed": false
   },
   "outputs": [],
   "source": []
  }
 ],
 "metadata": {
  "kernelspec": {
   "display_name": "Python 3",
   "language": "python",
   "name": "python3"
  },
  "language_info": {
   "codemirror_mode": {
    "name": "ipython",
    "version": 3
   },
   "file_extension": ".py",
   "mimetype": "text/x-python",
   "name": "python",
   "nbconvert_exporter": "python",
   "pygments_lexer": "ipython3",
   "version": "3.4.3"
  }
 },
 "nbformat": 4,
 "nbformat_minor": 0
}
